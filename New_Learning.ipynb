{
 "cells": [
  {
   "cell_type": "markdown",
   "id": "e612f6e6",
   "metadata": {
    "ExecuteTime": {
     "end_time": "2023-03-05T17:51:06.776310Z",
     "start_time": "2023-03-05T17:51:06.766096Z"
    }
   },
   "source": [
    "### Welcome to Data Science Sundays"
   ]
  },
  {
   "cell_type": "markdown",
   "id": "1cf021c7",
   "metadata": {},
   "source": [
    "### Data Science Roadmap \n",
    "\n",
    "1. Learn Python from Scratch \n",
    "\n",
    "2. Learn Statistics from Scratch using Python \n",
    "\n",
    "3. Data Analysis - Python & Statistics on Data "
   ]
  },
  {
   "cell_type": "code",
   "execution_count": 1,
   "id": "2fef16de",
   "metadata": {
    "ExecuteTime": {
     "end_time": "2023-07-10T07:24:57.077643Z",
     "start_time": "2023-07-10T07:24:57.072408Z"
    }
   },
   "outputs": [],
   "source": [
    "my_list = [1,2,3,4,5]"
   ]
  },
  {
   "cell_type": "code",
   "execution_count": 2,
   "id": "8240b04b",
   "metadata": {
    "ExecuteTime": {
     "end_time": "2023-07-10T07:25:05.057426Z",
     "start_time": "2023-07-10T07:25:05.049262Z"
    }
   },
   "outputs": [
    {
     "data": {
      "text/plain": [
       "[1, 2, 3, 4, 5]"
      ]
     },
     "execution_count": 2,
     "metadata": {},
     "output_type": "execute_result"
    }
   ],
   "source": [
    "my_list"
   ]
  },
  {
   "cell_type": "code",
   "execution_count": 3,
   "id": "41246355",
   "metadata": {
    "ExecuteTime": {
     "end_time": "2023-07-10T07:25:23.721200Z",
     "start_time": "2023-07-10T07:25:23.716972Z"
    }
   },
   "outputs": [],
   "source": [
    "new_list = my_list[1:4]"
   ]
  },
  {
   "cell_type": "code",
   "execution_count": 4,
   "id": "13bed270",
   "metadata": {
    "ExecuteTime": {
     "end_time": "2023-07-10T07:25:29.308986Z",
     "start_time": "2023-07-10T07:25:29.302897Z"
    }
   },
   "outputs": [
    {
     "data": {
      "text/plain": [
       "[2, 3, 4]"
      ]
     },
     "execution_count": 4,
     "metadata": {},
     "output_type": "execute_result"
    }
   ],
   "source": [
    "new_list"
   ]
  },
  {
   "cell_type": "code",
   "execution_count": 5,
   "id": "c1a0de8d",
   "metadata": {
    "ExecuteTime": {
     "end_time": "2023-07-10T07:25:47.517516Z",
     "start_time": "2023-07-10T07:25:47.513505Z"
    }
   },
   "outputs": [],
   "source": [
    "new_list.append(6)"
   ]
  },
  {
   "cell_type": "code",
   "execution_count": 6,
   "id": "67002957",
   "metadata": {
    "ExecuteTime": {
     "end_time": "2023-07-10T07:25:53.490027Z",
     "start_time": "2023-07-10T07:25:53.467375Z"
    }
   },
   "outputs": [
    {
     "data": {
      "text/plain": [
       "[2, 3, 4, 6]"
      ]
     },
     "execution_count": 6,
     "metadata": {},
     "output_type": "execute_result"
    }
   ],
   "source": [
    "new_list"
   ]
  },
  {
   "cell_type": "code",
   "execution_count": null,
   "id": "2b400f80",
   "metadata": {},
   "outputs": [],
   "source": []
  },
  {
   "cell_type": "code",
   "execution_count": 1,
   "id": "eb16b161",
   "metadata": {
    "ExecuteTime": {
     "end_time": "2023-05-28T16:31:00.705126Z",
     "start_time": "2023-05-28T16:31:00.687981Z"
    }
   },
   "outputs": [],
   "source": [
    "message_students = \"Welcome to Data Science Sundays\" # 2023-03-05 18:55:29 "
   ]
  },
  {
   "cell_type": "markdown",
   "id": "8533b395",
   "metadata": {},
   "source": [
    "### Learn Python from Scratch"
   ]
  },
  {
   "cell_type": "code",
   "execution_count": 2,
   "id": "07ea0838",
   "metadata": {
    "ExecuteTime": {
     "end_time": "2023-05-28T16:31:01.098859Z",
     "start_time": "2023-05-28T16:31:01.095760Z"
    }
   },
   "outputs": [],
   "source": [
    "# Documentation \n",
    "# Comments\n",
    "message = \"Hello World\" # My first Python Code "
   ]
  },
  {
   "cell_type": "code",
   "execution_count": 3,
   "id": "a21fdea5",
   "metadata": {
    "ExecuteTime": {
     "end_time": "2023-05-28T16:31:01.297087Z",
     "start_time": "2023-05-28T16:31:01.290028Z"
    }
   },
   "outputs": [
    {
     "name": "stdout",
     "output_type": "stream",
     "text": [
      "Hello World\n"
     ]
    }
   ],
   "source": [
    "print(message) # Commenting out "
   ]
  },
  {
   "cell_type": "code",
   "execution_count": 4,
   "id": "309063f9",
   "metadata": {
    "ExecuteTime": {
     "end_time": "2023-05-28T16:31:01.963143Z",
     "start_time": "2023-05-28T16:31:01.959939Z"
    }
   },
   "outputs": [],
   "source": [
    "# PEP8 \n",
    "# Best Practices for writing code\n",
    "# Coding layout that are consistent"
   ]
  },
  {
   "cell_type": "markdown",
   "id": "7bde75ee",
   "metadata": {},
   "source": [
    "## Reading documentations \n",
    "\n",
    "### Python documentation\n",
    "\n",
    "https://docs.python.org/3/"
   ]
  },
  {
   "cell_type": "code",
   "execution_count": 5,
   "id": "9c66cd96",
   "metadata": {
    "ExecuteTime": {
     "end_time": "2023-05-28T16:31:02.344328Z",
     "start_time": "2023-05-28T16:31:02.339493Z"
    }
   },
   "outputs": [],
   "source": [
    "first_code = \"Hello World\" # first line of code "
   ]
  },
  {
   "cell_type": "code",
   "execution_count": 6,
   "id": "e31eaa6b",
   "metadata": {
    "ExecuteTime": {
     "end_time": "2023-05-28T16:31:03.112155Z",
     "start_time": "2023-05-28T16:31:02.539792Z"
    }
   },
   "outputs": [
    {
     "ename": "NameError",
     "evalue": "name 'firt_code' is not defined",
     "output_type": "error",
     "traceback": [
      "\u001b[0;31m---------------------------------------------------------------------------\u001b[0m",
      "\u001b[0;31mNameError\u001b[0m                                 Traceback (most recent call last)",
      "Cell \u001b[0;32mIn[6], line 1\u001b[0m\n\u001b[0;32m----> 1\u001b[0m \u001b[38;5;28mprint\u001b[39m(\u001b[43mfirt_code\u001b[49m)\n",
      "\u001b[0;31mNameError\u001b[0m: name 'firt_code' is not defined"
     ]
    }
   ],
   "source": [
    "print(firt_code)"
   ]
  },
  {
   "cell_type": "markdown",
   "id": "eef8a58a",
   "metadata": {},
   "source": [
    "## Variables & Data Types"
   ]
  },
  {
   "cell_type": "code",
   "execution_count": 7,
   "id": "ba926c99",
   "metadata": {
    "ExecuteTime": {
     "end_time": "2023-05-28T17:15:04.720649Z",
     "start_time": "2023-05-28T17:15:04.716524Z"
    }
   },
   "outputs": [],
   "source": [
    "my_pen = 'ballpoint pen' # a variable assigned a value ballpoint pen"
   ]
  },
  {
   "cell_type": "code",
   "execution_count": 8,
   "id": "478e99d7",
   "metadata": {
    "ExecuteTime": {
     "end_time": "2023-05-28T17:15:05.291838Z",
     "start_time": "2023-05-28T17:15:05.288291Z"
    }
   },
   "outputs": [],
   "source": [
    "#print(b_19)"
   ]
  },
  {
   "cell_type": "code",
   "execution_count": 9,
   "id": "0ff9aeda",
   "metadata": {
    "ExecuteTime": {
     "end_time": "2023-05-28T17:15:05.635531Z",
     "start_time": "2023-05-28T17:15:05.628800Z"
    }
   },
   "outputs": [
    {
     "name": "stdout",
     "output_type": "stream",
     "text": [
      "ballpoint pen\n"
     ]
    }
   ],
   "source": [
    "print(my_pen)"
   ]
  },
  {
   "cell_type": "code",
   "execution_count": 10,
   "id": "dcde941f",
   "metadata": {
    "ExecuteTime": {
     "end_time": "2023-05-28T17:15:06.030401Z",
     "start_time": "2023-05-28T17:15:06.026974Z"
    }
   },
   "outputs": [],
   "source": [
    "# Rules to creating variables \n",
    "# 1. You Shouldn’t create a label using a number \n",
    "# 2. Can have letters, numbers & underscores"
   ]
  },
  {
   "cell_type": "code",
   "execution_count": 11,
   "id": "9782acf6",
   "metadata": {
    "ExecuteTime": {
     "end_time": "2023-05-28T17:15:06.244597Z",
     "start_time": "2023-05-28T17:15:06.232750Z"
    }
   },
   "outputs": [
    {
     "ename": "SyntaxError",
     "evalue": "invalid syntax (2532914378.py, line 1)",
     "output_type": "error",
     "traceback": [
      "\u001b[0;36m  Cell \u001b[0;32mIn[11], line 1\u001b[0;36m\u001b[0m\n\u001b[0;31m    2pens = 'ballpoint pen'\u001b[0m\n\u001b[0m     ^\u001b[0m\n\u001b[0;31mSyntaxError\u001b[0m\u001b[0;31m:\u001b[0m invalid syntax\n"
     ]
    }
   ],
   "source": [
    "2pens = 'ballpoint pen'"
   ]
  },
  {
   "cell_type": "code",
   "execution_count": 12,
   "id": "0a92c394",
   "metadata": {
    "ExecuteTime": {
     "end_time": "2023-05-28T17:15:06.421550Z",
     "start_time": "2023-05-28T17:15:06.414471Z"
    }
   },
   "outputs": [],
   "source": [
    "ball_2pen = 'Pen'"
   ]
  },
  {
   "cell_type": "code",
   "execution_count": 13,
   "id": "1b30aea6",
   "metadata": {
    "ExecuteTime": {
     "end_time": "2023-05-28T17:15:06.593567Z",
     "start_time": "2023-05-28T17:15:06.581114Z"
    }
   },
   "outputs": [],
   "source": [
    "# 2. Do not use Python reserved names \n",
    "# An example of this is a function called sum"
   ]
  },
  {
   "cell_type": "code",
   "execution_count": 14,
   "id": "abf66589",
   "metadata": {
    "ExecuteTime": {
     "end_time": "2023-05-28T17:15:06.735393Z",
     "start_time": "2023-05-28T17:15:06.728481Z"
    }
   },
   "outputs": [
    {
     "ename": "SyntaxError",
     "evalue": "invalid syntax (610051976.py, line 4)",
     "output_type": "error",
     "traceback": [
      "\u001b[0;36m  Cell \u001b[0;32mIn[14], line 4\u001b[0;36m\u001b[0m\n\u001b[0;31m    or\u001b[0m\n\u001b[0m    ^\u001b[0m\n\u001b[0;31mSyntaxError\u001b[0m\u001b[0;31m:\u001b[0m invalid syntax\n"
     ]
    }
   ],
   "source": [
    "sum \n",
    "abs \n",
    "print \n",
    "or \n",
    "and \n",
    "True \n",
    "False \n",
    "import \n",
    "is \n",
    "else \n",
    "if \n",
    "list "
   ]
  },
  {
   "cell_type": "code",
   "execution_count": 15,
   "id": "ad5c35a1",
   "metadata": {
    "ExecuteTime": {
     "end_time": "2023-05-28T17:15:07.015602Z",
     "start_time": "2023-05-28T17:15:07.011449Z"
    }
   },
   "outputs": [],
   "source": [
    "list_number = [23, 45, 56, 67]"
   ]
  },
  {
   "cell_type": "code",
   "execution_count": 16,
   "id": "8eccc7d9",
   "metadata": {
    "ExecuteTime": {
     "end_time": "2023-05-28T17:15:07.201536Z",
     "start_time": "2023-05-28T17:15:07.190805Z"
    }
   },
   "outputs": [
    {
     "data": {
      "text/plain": [
       "191"
      ]
     },
     "execution_count": 16,
     "metadata": {},
     "output_type": "execute_result"
    }
   ],
   "source": [
    "sum(list_number) # Python function that adds numbers "
   ]
  },
  {
   "cell_type": "code",
   "execution_count": 17,
   "id": "652a4479",
   "metadata": {
    "ExecuteTime": {
     "end_time": "2023-05-28T17:15:07.399345Z",
     "start_time": "2023-05-28T17:15:07.388985Z"
    }
   },
   "outputs": [],
   "source": [
    "# sum = \"Pablo\" # Assigned a value to sum "
   ]
  },
  {
   "cell_type": "code",
   "execution_count": 18,
   "id": "9674666e",
   "metadata": {
    "ExecuteTime": {
     "end_time": "2023-05-28T17:15:07.636016Z",
     "start_time": "2023-05-28T17:15:07.623982Z"
    }
   },
   "outputs": [],
   "source": [
    "# 3. Avoid spaces "
   ]
  },
  {
   "cell_type": "code",
   "execution_count": 19,
   "id": "c0600fab",
   "metadata": {
    "ExecuteTime": {
     "end_time": "2023-05-28T17:15:08.387329Z",
     "start_time": "2023-05-28T17:15:08.381433Z"
    }
   },
   "outputs": [
    {
     "ename": "SyntaxError",
     "evalue": "invalid syntax (2162563610.py, line 1)",
     "output_type": "error",
     "traceback": [
      "\u001b[0;36m  Cell \u001b[0;32mIn[19], line 1\u001b[0;36m\u001b[0m\n\u001b[0;31m    my pen = \"ballpoint pen\" # Python doesn't allow for spaces\u001b[0m\n\u001b[0m       ^\u001b[0m\n\u001b[0;31mSyntaxError\u001b[0m\u001b[0;31m:\u001b[0m invalid syntax\n"
     ]
    }
   ],
   "source": [
    "my pen = \"ballpoint pen\" # Python doesn't allow for spaces"
   ]
  },
  {
   "cell_type": "code",
   "execution_count": 20,
   "id": "8d352a87",
   "metadata": {
    "ExecuteTime": {
     "end_time": "2023-05-28T17:15:08.587856Z",
     "start_time": "2023-05-28T17:15:08.584587Z"
    }
   },
   "outputs": [],
   "source": [
    "hale_end = 'football'"
   ]
  },
  {
   "cell_type": "code",
   "execution_count": 21,
   "id": "76d42b88",
   "metadata": {
    "ExecuteTime": {
     "end_time": "2023-05-28T17:15:08.772695Z",
     "start_time": "2023-05-28T17:15:08.769352Z"
    }
   },
   "outputs": [],
   "source": [
    "my_book = \"Deep Work\""
   ]
  },
  {
   "cell_type": "code",
   "execution_count": 22,
   "id": "e904b0d6",
   "metadata": {
    "ExecuteTime": {
     "end_time": "2023-05-28T17:15:09.125630Z",
     "start_time": "2023-05-28T17:15:09.090874Z"
    }
   },
   "outputs": [
    {
     "data": {
      "text/plain": [
       "str"
      ]
     },
     "execution_count": 22,
     "metadata": {},
     "output_type": "execute_result"
    }
   ],
   "source": [
    "type(my_book)"
   ]
  },
  {
   "cell_type": "code",
   "execution_count": 23,
   "id": "8a45a36b",
   "metadata": {
    "ExecuteTime": {
     "end_time": "2023-05-28T17:15:09.292505Z",
     "start_time": "2023-05-28T17:15:09.284596Z"
    }
   },
   "outputs": [],
   "source": [
    "# 4. Your variable names should be intuitive "
   ]
  },
  {
   "cell_type": "code",
   "execution_count": 24,
   "id": "814ed3f5",
   "metadata": {
    "ExecuteTime": {
     "end_time": "2023-05-28T17:15:09.511500Z",
     "start_time": "2023-05-28T17:15:09.507196Z"
    }
   },
   "outputs": [],
   "source": [
    "name_student = 'Maria' # Descriptive"
   ]
  },
  {
   "cell_type": "code",
   "execution_count": 25,
   "id": "7c3f4f35",
   "metadata": {
    "ExecuteTime": {
     "end_time": "2023-05-28T17:15:09.938422Z",
     "start_time": "2023-05-28T17:15:09.934799Z"
    }
   },
   "outputs": [],
   "source": [
    "n_s = \"Olayemi\" # Not descriptive "
   ]
  },
  {
   "cell_type": "code",
   "execution_count": 26,
   "id": "b6714aff",
   "metadata": {
    "ExecuteTime": {
     "end_time": "2023-05-28T17:15:10.153624Z",
     "start_time": "2023-05-28T17:15:10.131127Z"
    }
   },
   "outputs": [],
   "source": [
    "# 5. Do not mixup letters & Numbers \n",
    "# Letters and numbers that look alike \n",
    "# 0 O, 1 l "
   ]
  },
  {
   "cell_type": "code",
   "execution_count": 27,
   "id": "8f0cb6ab",
   "metadata": {
    "ExecuteTime": {
     "end_time": "2023-05-28T17:15:11.945858Z",
     "start_time": "2023-05-28T17:15:10.282147Z"
    }
   },
   "outputs": [],
   "source": [
    "# import packages\n",
    "import pandas as pd "
   ]
  },
  {
   "cell_type": "code",
   "execution_count": 28,
   "id": "0cd30361",
   "metadata": {
    "ExecuteTime": {
     "end_time": "2023-05-28T17:15:11.996817Z",
     "start_time": "2023-05-28T17:15:11.962336Z"
    }
   },
   "outputs": [
    {
     "data": {
      "text/html": [
       "<div>\n",
       "<style scoped>\n",
       "    .dataframe tbody tr th:only-of-type {\n",
       "        vertical-align: middle;\n",
       "    }\n",
       "\n",
       "    .dataframe tbody tr th {\n",
       "        vertical-align: top;\n",
       "    }\n",
       "\n",
       "    .dataframe thead th {\n",
       "        text-align: right;\n",
       "    }\n",
       "</style>\n",
       "<table border=\"1\" class=\"dataframe\">\n",
       "  <thead>\n",
       "    <tr style=\"text-align: right;\">\n",
       "      <th></th>\n",
       "      <th>Year</th>\n",
       "      <th>Player</th>\n",
       "      <th>Selling club</th>\n",
       "      <th>Buying club</th>\n",
       "      <th>Fee (£)</th>\n",
       "    </tr>\n",
       "  </thead>\n",
       "  <tbody>\n",
       "    <tr>\n",
       "      <th>0</th>\n",
       "      <td>1893</td>\n",
       "      <td>Willie Groves</td>\n",
       "      <td>West Bromwich Albion</td>\n",
       "      <td>Aston Villa</td>\n",
       "      <td>100[2]</td>\n",
       "    </tr>\n",
       "    <tr>\n",
       "      <th>1</th>\n",
       "      <td>1903</td>\n",
       "      <td>Ben Green</td>\n",
       "      <td>Barnsley</td>\n",
       "      <td>Small Heath</td>\n",
       "      <td>500[77]</td>\n",
       "    </tr>\n",
       "    <tr>\n",
       "      <th>2</th>\n",
       "      <td>1904</td>\n",
       "      <td>Alf Common (1)</td>\n",
       "      <td>Sheffield United</td>\n",
       "      <td>Sunderland</td>\n",
       "      <td>520[78]</td>\n",
       "    </tr>\n",
       "    <tr>\n",
       "      <th>3</th>\n",
       "      <td>1904</td>\n",
       "      <td>Andy McCombie</td>\n",
       "      <td>Sunderland</td>\n",
       "      <td>Newcastle United</td>\n",
       "      <td>700[79]</td>\n",
       "    </tr>\n",
       "    <tr>\n",
       "      <th>4</th>\n",
       "      <td>1905</td>\n",
       "      <td>Alf Common (2)</td>\n",
       "      <td>Sunderland</td>\n",
       "      <td>Middlesbrough</td>\n",
       "      <td>1,000[80]</td>\n",
       "    </tr>\n",
       "  </tbody>\n",
       "</table>\n",
       "</div>"
      ],
      "text/plain": [
       "   Year           Player           Selling club        Buying club    Fee (£)\n",
       "0  1893    Willie Groves   West Bromwich Albion        Aston Villa     100[2]\n",
       "1  1903        Ben Green               Barnsley        Small Heath    500[77]\n",
       "2  1904   Alf Common (1)       Sheffield United         Sunderland    520[78]\n",
       "3  1904    Andy McCombie             Sunderland   Newcastle United    700[79]\n",
       "4  1905   Alf Common (2)             Sunderland      Middlesbrough  1,000[80]"
      ]
     },
     "execution_count": 28,
     "metadata": {},
     "output_type": "execute_result"
    }
   ],
   "source": [
    "# Read data\n",
    "football_data = pd.read_csv('Kitap3.csv')\n",
    "football_data.head() "
   ]
  },
  {
   "cell_type": "markdown",
   "id": "40fa64c2",
   "metadata": {},
   "source": [
    "## Data Types in Python"
   ]
  },
  {
   "cell_type": "code",
   "execution_count": 29,
   "id": "d0c1aa61",
   "metadata": {
    "ExecuteTime": {
     "end_time": "2023-05-28T17:15:12.013644Z",
     "start_time": "2023-05-28T17:15:12.008621Z"
    }
   },
   "outputs": [],
   "source": [
    "# If we create a variable, we assign values into these variables \n",
    "# The values are called data types "
   ]
  },
  {
   "cell_type": "markdown",
   "id": "778490f9",
   "metadata": {},
   "source": [
    "### Strings"
   ]
  },
  {
   "cell_type": "code",
   "execution_count": 30,
   "id": "36471610",
   "metadata": {
    "ExecuteTime": {
     "end_time": "2023-05-28T17:15:12.025475Z",
     "start_time": "2023-05-28T17:15:12.020828Z"
    }
   },
   "outputs": [],
   "source": [
    "# A single letter\n",
    "single_letter = 'a' "
   ]
  },
  {
   "cell_type": "code",
   "execution_count": 31,
   "id": "eec291b7",
   "metadata": {
    "ExecuteTime": {
     "end_time": "2023-05-28T17:15:12.033560Z",
     "start_time": "2023-05-28T17:15:12.030056Z"
    }
   },
   "outputs": [],
   "source": [
    "# A group of characters \n",
    "group_char = \"A group of characters\" "
   ]
  },
  {
   "cell_type": "code",
   "execution_count": 32,
   "id": "98b4a46a",
   "metadata": {
    "ExecuteTime": {
     "end_time": "2023-05-28T17:15:12.812478Z",
     "start_time": "2023-05-28T17:15:12.796779Z"
    }
   },
   "outputs": [],
   "source": [
    "# A word \n",
    "word_string = \"Sunday\""
   ]
  },
  {
   "cell_type": "code",
   "execution_count": 33,
   "id": "908bc856",
   "metadata": {
    "ExecuteTime": {
     "end_time": "2023-05-28T17:15:13.429083Z",
     "start_time": "2023-05-28T17:15:13.424216Z"
    }
   },
   "outputs": [],
   "source": [
    "# Triple quotes\n",
    "three_quotes = \"\"\" Triple quote indicator \"\"\""
   ]
  },
  {
   "cell_type": "code",
   "execution_count": 34,
   "id": "ae52873c",
   "metadata": {
    "ExecuteTime": {
     "end_time": "2023-05-28T17:15:14.030981Z",
     "start_time": "2023-05-28T17:15:14.025467Z"
    }
   },
   "outputs": [
    {
     "data": {
      "text/plain": [
       "str"
      ]
     },
     "execution_count": 34,
     "metadata": {},
     "output_type": "execute_result"
    }
   ],
   "source": [
    "# To figure out the data type \n",
    "type(single_letter)"
   ]
  },
  {
   "cell_type": "code",
   "execution_count": 35,
   "id": "1e86d88f",
   "metadata": {
    "ExecuteTime": {
     "end_time": "2023-05-28T17:15:14.272716Z",
     "start_time": "2023-05-28T17:15:14.265666Z"
    }
   },
   "outputs": [
    {
     "data": {
      "text/plain": [
       "str"
      ]
     },
     "execution_count": 35,
     "metadata": {},
     "output_type": "execute_result"
    }
   ],
   "source": [
    "type(group_char)"
   ]
  },
  {
   "cell_type": "code",
   "execution_count": 36,
   "id": "cb24e5a2",
   "metadata": {
    "ExecuteTime": {
     "end_time": "2023-05-28T17:15:15.214251Z",
     "start_time": "2023-05-28T17:15:15.208472Z"
    }
   },
   "outputs": [
    {
     "data": {
      "text/plain": [
       "str"
      ]
     },
     "execution_count": 36,
     "metadata": {},
     "output_type": "execute_result"
    }
   ],
   "source": [
    "type(three_quotes)"
   ]
  },
  {
   "cell_type": "code",
   "execution_count": 37,
   "id": "7acfabf8",
   "metadata": {
    "ExecuteTime": {
     "end_time": "2023-05-28T17:15:15.532629Z",
     "start_time": "2023-05-28T17:15:15.528212Z"
    }
   },
   "outputs": [],
   "source": [
    "group_char = \"A group of characters\""
   ]
  },
  {
   "cell_type": "code",
   "execution_count": 38,
   "id": "d57f90f7",
   "metadata": {
    "ExecuteTime": {
     "end_time": "2023-05-28T17:15:15.716494Z",
     "start_time": "2023-05-28T17:15:15.711156Z"
    }
   },
   "outputs": [
    {
     "name": "stdout",
     "output_type": "stream",
     "text": [
      "A group of characters\n"
     ]
    }
   ],
   "source": [
    "print(group_char)"
   ]
  },
  {
   "cell_type": "code",
   "execution_count": 39,
   "id": "75fdf6c6",
   "metadata": {
    "ExecuteTime": {
     "end_time": "2023-05-28T17:15:15.924953Z",
     "start_time": "2023-05-28T17:15:15.920247Z"
    }
   },
   "outputs": [],
   "source": [
    "# Is there a difference between a single and double quotes?"
   ]
  },
  {
   "cell_type": "code",
   "execution_count": 40,
   "id": "2d2cf19a",
   "metadata": {
    "ExecuteTime": {
     "end_time": "2023-05-28T17:15:16.410471Z",
     "start_time": "2023-05-28T17:15:16.345928Z"
    }
   },
   "outputs": [
    {
     "ename": "SyntaxError",
     "evalue": "invalid syntax (2849886330.py, line 1)",
     "output_type": "error",
     "traceback": [
      "\u001b[0;36m  Cell \u001b[0;32mIn[40], line 1\u001b[0;36m\u001b[0m\n\u001b[0;31m    maria_learner = 'This is Maria's first time'\u001b[0m\n\u001b[0m                                   ^\u001b[0m\n\u001b[0;31mSyntaxError\u001b[0m\u001b[0;31m:\u001b[0m invalid syntax\n"
     ]
    }
   ],
   "source": [
    "maria_learner = 'This is Maria's first time' "
   ]
  },
  {
   "cell_type": "code",
   "execution_count": 41,
   "id": "6b28d2f3",
   "metadata": {
    "ExecuteTime": {
     "end_time": "2023-05-28T17:15:16.566575Z",
     "start_time": "2023-05-28T17:15:16.539918Z"
    }
   },
   "outputs": [],
   "source": [
    "# Double quotes help for apostrophes \n",
    "maria_learner = \"This is Maria's first time\" "
   ]
  },
  {
   "cell_type": "code",
   "execution_count": 42,
   "id": "b952e917",
   "metadata": {
    "ExecuteTime": {
     "end_time": "2023-05-28T17:15:16.740866Z",
     "start_time": "2023-05-28T17:15:16.736053Z"
    }
   },
   "outputs": [],
   "source": [
    "# Back slash \n",
    "maria_learner = 'This is Maria\\'s first time'"
   ]
  },
  {
   "cell_type": "code",
   "execution_count": 43,
   "id": "6a130172",
   "metadata": {
    "ExecuteTime": {
     "end_time": "2023-05-28T17:15:16.933763Z",
     "start_time": "2023-05-28T17:15:16.924619Z"
    }
   },
   "outputs": [
    {
     "name": "stdout",
     "output_type": "stream",
     "text": [
      "This is Maria's first time\n"
     ]
    }
   ],
   "source": [
    "print(maria_learner)"
   ]
  },
  {
   "cell_type": "markdown",
   "id": "3fa8cc9f",
   "metadata": {},
   "source": [
    "## String Methods"
   ]
  },
  {
   "cell_type": "code",
   "execution_count": 44,
   "id": "0a0b5203",
   "metadata": {
    "ExecuteTime": {
     "end_time": "2023-05-28T17:15:18.191184Z",
     "start_time": "2023-05-28T17:15:18.181632Z"
    },
    "scrolled": true
   },
   "outputs": [
    {
     "data": {
      "text/plain": [
       "['__add__',\n",
       " '__class__',\n",
       " '__contains__',\n",
       " '__delattr__',\n",
       " '__dir__',\n",
       " '__doc__',\n",
       " '__eq__',\n",
       " '__format__',\n",
       " '__ge__',\n",
       " '__getattribute__',\n",
       " '__getitem__',\n",
       " '__getnewargs__',\n",
       " '__gt__',\n",
       " '__hash__',\n",
       " '__init__',\n",
       " '__init_subclass__',\n",
       " '__iter__',\n",
       " '__le__',\n",
       " '__len__',\n",
       " '__lt__',\n",
       " '__mod__',\n",
       " '__mul__',\n",
       " '__ne__',\n",
       " '__new__',\n",
       " '__reduce__',\n",
       " '__reduce_ex__',\n",
       " '__repr__',\n",
       " '__rmod__',\n",
       " '__rmul__',\n",
       " '__setattr__',\n",
       " '__sizeof__',\n",
       " '__str__',\n",
       " '__subclasshook__',\n",
       " 'capitalize',\n",
       " 'casefold',\n",
       " 'center',\n",
       " 'count',\n",
       " 'encode',\n",
       " 'endswith',\n",
       " 'expandtabs',\n",
       " 'find',\n",
       " 'format',\n",
       " 'format_map',\n",
       " 'index',\n",
       " 'isalnum',\n",
       " 'isalpha',\n",
       " 'isascii',\n",
       " 'isdecimal',\n",
       " 'isdigit',\n",
       " 'isidentifier',\n",
       " 'islower',\n",
       " 'isnumeric',\n",
       " 'isprintable',\n",
       " 'isspace',\n",
       " 'istitle',\n",
       " 'isupper',\n",
       " 'join',\n",
       " 'ljust',\n",
       " 'lower',\n",
       " 'lstrip',\n",
       " 'maketrans',\n",
       " 'partition',\n",
       " 'removeprefix',\n",
       " 'removesuffix',\n",
       " 'replace',\n",
       " 'rfind',\n",
       " 'rindex',\n",
       " 'rjust',\n",
       " 'rpartition',\n",
       " 'rsplit',\n",
       " 'rstrip',\n",
       " 'split',\n",
       " 'splitlines',\n",
       " 'startswith',\n",
       " 'strip',\n",
       " 'swapcase',\n",
       " 'title',\n",
       " 'translate',\n",
       " 'upper',\n",
       " 'zfill']"
      ]
     },
     "execution_count": 44,
     "metadata": {},
     "output_type": "execute_result"
    }
   ],
   "source": [
    "dir(group_char)"
   ]
  },
  {
   "cell_type": "markdown",
   "id": "73bd8ae0",
   "metadata": {},
   "source": [
    "### String Methods:\n",
    "\n",
    "\n",
    "'capitalize',\n",
    " 'casefold',\n",
    " 'center',\n",
    " 'count',\n",
    " 'encode',\n",
    " 'endswith',\n",
    " 'expandtabs',\n",
    " 'find',\n",
    " 'format',\n",
    " 'format_map',\n",
    " 'index',\n",
    " 'isalnum',\n",
    " 'isalpha',\n",
    " 'isascii',\n",
    " 'isdecimal',\n",
    " 'isdigit',\n",
    " 'isidentifier',\n",
    " 'islower',\n",
    " 'isnumeric',\n",
    " 'isprintable',\n",
    " 'isspace',\n",
    " 'istitle',\n",
    " 'isupper',\n",
    " 'join',\n",
    " 'ljust',\n",
    " 'lower',\n",
    " 'lstrip',\n",
    " 'maketrans',\n",
    " 'partition',\n",
    " 'removeprefix',\n",
    " 'removesuffix',\n",
    " 'replace',\n",
    " 'rfind',\n",
    " 'rindex',\n",
    " 'rjust',\n",
    " 'rpartition',\n",
    " 'rsplit',\n",
    " 'rstrip',\n",
    " 'split',\n",
    " 'splitlines',\n",
    " 'startswith',\n",
    " 'strip',\n",
    " 'swapcase',\n",
    " 'title',\n",
    " 'translate',\n",
    " 'upper',\n",
    " 'zfill'"
   ]
  },
  {
   "cell_type": "code",
   "execution_count": 45,
   "id": "dbe09634",
   "metadata": {
    "ExecuteTime": {
     "end_time": "2023-05-28T17:15:18.618849Z",
     "start_time": "2023-05-28T17:15:18.615082Z"
    }
   },
   "outputs": [],
   "source": [
    "# Will our code execute if - used instead of an _\n",
    "caritas_contrive = \"Jewelry\""
   ]
  },
  {
   "cell_type": "code",
   "execution_count": 46,
   "id": "84222b16",
   "metadata": {
    "ExecuteTime": {
     "end_time": "2023-05-28T17:15:18.938608Z",
     "start_time": "2023-05-28T17:15:18.932523Z"
    }
   },
   "outputs": [
    {
     "ename": "SyntaxError",
     "evalue": "cannot assign to operator (2409801960.py, line 1)",
     "output_type": "error",
     "traceback": [
      "\u001b[0;36m  Cell \u001b[0;32mIn[46], line 1\u001b[0;36m\u001b[0m\n\u001b[0;31m    caritas-contrive = \"Jewelry Maker\"\u001b[0m\n\u001b[0m    ^\u001b[0m\n\u001b[0;31mSyntaxError\u001b[0m\u001b[0;31m:\u001b[0m cannot assign to operator\n"
     ]
    }
   ],
   "source": [
    "caritas-contrive = \"Jewelry Maker\" "
   ]
  },
  {
   "cell_type": "code",
   "execution_count": 47,
   "id": "010beede",
   "metadata": {
    "ExecuteTime": {
     "end_time": "2023-05-28T17:15:19.164230Z",
     "start_time": "2023-05-28T17:15:19.160879Z"
    }
   },
   "outputs": [
    {
     "name": "stdout",
     "output_type": "stream",
     "text": [
      "A group of characters\n"
     ]
    }
   ],
   "source": [
    "print(group_char) "
   ]
  },
  {
   "cell_type": "code",
   "execution_count": 48,
   "id": "18706593",
   "metadata": {
    "ExecuteTime": {
     "end_time": "2023-05-28T17:15:19.392983Z",
     "start_time": "2023-05-28T17:15:19.389122Z"
    }
   },
   "outputs": [
    {
     "name": "stdout",
     "output_type": "stream",
     "text": [
      "A GROUP OF CHARACTERS\n"
     ]
    }
   ],
   "source": [
    "print(group_char.upper())"
   ]
  },
  {
   "cell_type": "code",
   "execution_count": 49,
   "id": "0b7ed6d8",
   "metadata": {
    "ExecuteTime": {
     "end_time": "2023-05-28T17:15:19.676719Z",
     "start_time": "2023-05-28T17:15:19.660098Z"
    }
   },
   "outputs": [
    {
     "name": "stdout",
     "output_type": "stream",
     "text": [
      "a group of characters\n"
     ]
    }
   ],
   "source": [
    "print(group_char.lower())"
   ]
  },
  {
   "cell_type": "code",
   "execution_count": 50,
   "id": "06edb822",
   "metadata": {
    "ExecuteTime": {
     "end_time": "2023-05-28T17:15:19.938567Z",
     "start_time": "2023-05-28T17:15:19.933083Z"
    }
   },
   "outputs": [],
   "source": [
    "space_var = \"                I love Kaduna.          \" "
   ]
  },
  {
   "cell_type": "code",
   "execution_count": 51,
   "id": "42c81a9e",
   "metadata": {
    "ExecuteTime": {
     "end_time": "2023-05-28T17:15:20.118213Z",
     "start_time": "2023-05-28T17:15:20.109256Z"
    }
   },
   "outputs": [
    {
     "name": "stdout",
     "output_type": "stream",
     "text": [
      "                I love Kaduna.          \n"
     ]
    }
   ],
   "source": [
    "print(space_var)"
   ]
  },
  {
   "cell_type": "code",
   "execution_count": 52,
   "id": "13a3466f",
   "metadata": {
    "ExecuteTime": {
     "end_time": "2023-05-28T17:15:20.367678Z",
     "start_time": "2023-05-28T17:15:20.353198Z"
    }
   },
   "outputs": [
    {
     "data": {
      "text/plain": [
       "28"
      ]
     },
     "execution_count": 52,
     "metadata": {},
     "output_type": "execute_result"
    }
   ],
   "source": [
    "space_var.count(\" \") "
   ]
  },
  {
   "cell_type": "code",
   "execution_count": 53,
   "id": "2cb4dffb",
   "metadata": {
    "ExecuteTime": {
     "end_time": "2023-05-28T17:15:20.569625Z",
     "start_time": "2023-05-28T17:15:20.563492Z"
    }
   },
   "outputs": [
    {
     "data": {
      "text/plain": [
       "'I love Kaduna.          '"
      ]
     },
     "execution_count": 53,
     "metadata": {},
     "output_type": "execute_result"
    }
   ],
   "source": [
    "space_var.lstrip() "
   ]
  },
  {
   "cell_type": "code",
   "execution_count": 54,
   "id": "c10f7b59",
   "metadata": {
    "ExecuteTime": {
     "end_time": "2023-05-28T17:15:20.784575Z",
     "start_time": "2023-05-28T17:15:20.771768Z"
    }
   },
   "outputs": [
    {
     "data": {
      "text/plain": [
       "'                I love Kaduna.'"
      ]
     },
     "execution_count": 54,
     "metadata": {},
     "output_type": "execute_result"
    }
   ],
   "source": [
    "space_var.rstrip() "
   ]
  },
  {
   "cell_type": "code",
   "execution_count": 55,
   "id": "af06c539",
   "metadata": {
    "ExecuteTime": {
     "end_time": "2023-05-28T17:15:21.006022Z",
     "start_time": "2023-05-28T17:15:20.998657Z"
    }
   },
   "outputs": [
    {
     "data": {
      "text/plain": [
       "'I love Kaduna.'"
      ]
     },
     "execution_count": 55,
     "metadata": {},
     "output_type": "execute_result"
    }
   ],
   "source": [
    "space_var.strip() "
   ]
  },
  {
   "cell_type": "code",
   "execution_count": 56,
   "id": "b71524a2",
   "metadata": {
    "ExecuteTime": {
     "end_time": "2023-05-28T17:15:21.223637Z",
     "start_time": "2023-05-28T17:15:21.198234Z"
    }
   },
   "outputs": [
    {
     "ename": "TypeError",
     "evalue": "center expected at least 1 argument, got 0",
     "output_type": "error",
     "traceback": [
      "\u001b[0;31m---------------------------------------------------------------------------\u001b[0m",
      "\u001b[0;31mTypeError\u001b[0m                                 Traceback (most recent call last)",
      "Cell \u001b[0;32mIn[56], line 2\u001b[0m\n\u001b[1;32m      1\u001b[0m \u001b[38;5;66;03m# if you want to know what a method does \u001b[39;00m\n\u001b[0;32m----> 2\u001b[0m \u001b[43mspace_var\u001b[49m\u001b[38;5;241;43m.\u001b[39;49m\u001b[43mcenter\u001b[49m\u001b[43m(\u001b[49m\u001b[43m)\u001b[49m\n",
      "\u001b[0;31mTypeError\u001b[0m: center expected at least 1 argument, got 0"
     ]
    }
   ],
   "source": [
    "# if you want to know what a method does \n",
    "space_var.center()"
   ]
  },
  {
   "cell_type": "markdown",
   "id": "104077b1",
   "metadata": {},
   "source": [
    "### String formating\n",
    "\n",
    "1. % Method\n",
    "\n",
    "2. .format() \n",
    "\n",
    "3. f-strings "
   ]
  },
  {
   "cell_type": "code",
   "execution_count": 57,
   "id": "9d39253b",
   "metadata": {
    "ExecuteTime": {
     "end_time": "2023-05-28T17:15:22.656064Z",
     "start_time": "2023-05-28T17:15:22.649409Z"
    }
   },
   "outputs": [
    {
     "data": {
      "text/plain": [
       "'Sunday'"
      ]
     },
     "execution_count": 57,
     "metadata": {},
     "output_type": "execute_result"
    }
   ],
   "source": [
    "word_string"
   ]
  },
  {
   "cell_type": "code",
   "execution_count": 58,
   "id": "9cf32dbc",
   "metadata": {
    "ExecuteTime": {
     "end_time": "2023-05-28T17:15:22.910646Z",
     "start_time": "2023-05-28T17:15:22.892420Z"
    }
   },
   "outputs": [
    {
     "name": "stdout",
     "output_type": "stream",
     "text": [
      "Sunday\n"
     ]
    }
   ],
   "source": [
    "print(word_string)"
   ]
  },
  {
   "cell_type": "code",
   "execution_count": 59,
   "id": "56528480",
   "metadata": {
    "ExecuteTime": {
     "end_time": "2023-05-28T17:15:23.093813Z",
     "start_time": "2023-05-28T17:15:23.088906Z"
    }
   },
   "outputs": [
    {
     "name": "stdout",
     "output_type": "stream",
     "text": [
      "The loveliest day of the week is SUNDAY\n"
     ]
    }
   ],
   "source": [
    "print(f\"The loveliest day of the week is {word_string.upper()}\")"
   ]
  },
  {
   "cell_type": "code",
   "execution_count": 60,
   "id": "e195270e",
   "metadata": {
    "ExecuteTime": {
     "end_time": "2023-05-28T17:15:23.296924Z",
     "start_time": "2023-05-28T17:15:23.291592Z"
    }
   },
   "outputs": [],
   "source": [
    "age = 45 "
   ]
  },
  {
   "cell_type": "code",
   "execution_count": 61,
   "id": "292a38da",
   "metadata": {
    "ExecuteTime": {
     "end_time": "2023-05-28T17:15:23.471479Z",
     "start_time": "2023-05-28T17:15:23.466428Z"
    }
   },
   "outputs": [
    {
     "name": "stdout",
     "output_type": "stream",
     "text": [
      "I am 45 years old\n"
     ]
    }
   ],
   "source": [
    "print(f\"I am {age} years old\")"
   ]
  },
  {
   "cell_type": "code",
   "execution_count": 62,
   "id": "54ed856a",
   "metadata": {
    "ExecuteTime": {
     "end_time": "2023-05-28T17:15:23.670701Z",
     "start_time": "2023-05-28T17:15:23.658490Z"
    }
   },
   "outputs": [
    {
     "name": "stdout",
     "output_type": "stream",
     "text": [
      "55\n"
     ]
    }
   ],
   "source": [
    "print(f\"{age + 10}\")"
   ]
  },
  {
   "cell_type": "markdown",
   "id": "26c5ded2",
   "metadata": {},
   "source": [
    "### String Formatting with .format()"
   ]
  },
  {
   "cell_type": "code",
   "execution_count": 63,
   "id": "b9901f61",
   "metadata": {
    "ExecuteTime": {
     "end_time": "2023-05-28T17:15:23.975268Z",
     "start_time": "2023-05-28T17:15:23.924816Z"
    }
   },
   "outputs": [
    {
     "name": "stdout",
     "output_type": "stream",
     "text": [
      "Sunday\n"
     ]
    }
   ],
   "source": [
    "print(word_string)"
   ]
  },
  {
   "cell_type": "code",
   "execution_count": 64,
   "id": "fb92f8b9",
   "metadata": {
    "ExecuteTime": {
     "end_time": "2023-05-28T17:15:24.145570Z",
     "start_time": "2023-05-28T17:15:24.139932Z"
    }
   },
   "outputs": [
    {
     "name": "stdout",
     "output_type": "stream",
     "text": [
      "45\n"
     ]
    }
   ],
   "source": [
    "print(age)"
   ]
  },
  {
   "cell_type": "code",
   "execution_count": 65,
   "id": "f06e355d",
   "metadata": {
    "ExecuteTime": {
     "end_time": "2023-05-28T17:15:25.062324Z",
     "start_time": "2023-05-28T17:15:25.056102Z"
    }
   },
   "outputs": [
    {
     "name": "stdout",
     "output_type": "stream",
     "text": [
      "The loveliest day of the week is Sunday, and I eat 45 pieces of meat\n"
     ]
    }
   ],
   "source": [
    "print(\"The loveliest day of the week is {}, and I eat {} pieces of meat\".format(\n",
    "    word_string, age))"
   ]
  },
  {
   "cell_type": "markdown",
   "id": "1ccdecb4",
   "metadata": {},
   "source": [
    "### String Concatenation "
   ]
  },
  {
   "cell_type": "code",
   "execution_count": 66,
   "id": "0edf1c6a",
   "metadata": {
    "ExecuteTime": {
     "end_time": "2023-05-28T17:15:25.560873Z",
     "start_time": "2023-05-28T17:15:25.554736Z"
    }
   },
   "outputs": [],
   "source": [
    "word_string = 'Sunday'"
   ]
  },
  {
   "cell_type": "code",
   "execution_count": 67,
   "id": "1f89913b",
   "metadata": {
    "ExecuteTime": {
     "end_time": "2023-05-28T17:15:25.770617Z",
     "start_time": "2023-05-28T17:15:25.761898Z"
    }
   },
   "outputs": [],
   "source": [
    "word_string_1 = 'School'"
   ]
  },
  {
   "cell_type": "code",
   "execution_count": 68,
   "id": "1f40d0de",
   "metadata": {
    "ExecuteTime": {
     "end_time": "2023-05-28T17:15:26.065312Z",
     "start_time": "2023-05-28T17:15:26.056799Z"
    }
   },
   "outputs": [
    {
     "data": {
      "text/plain": [
       "45"
      ]
     },
     "execution_count": 68,
     "metadata": {},
     "output_type": "execute_result"
    }
   ],
   "source": [
    "age "
   ]
  },
  {
   "cell_type": "code",
   "execution_count": 69,
   "id": "5f736cf7",
   "metadata": {
    "ExecuteTime": {
     "end_time": "2023-05-28T17:15:26.280829Z",
     "start_time": "2023-05-28T17:15:26.263751Z"
    }
   },
   "outputs": [
    {
     "data": {
      "text/plain": [
       "'Sunday School'"
      ]
     },
     "execution_count": 69,
     "metadata": {},
     "output_type": "execute_result"
    }
   ],
   "source": [
    "word_string + ' ' + word_string_1"
   ]
  },
  {
   "cell_type": "code",
   "execution_count": 70,
   "id": "44654aeb",
   "metadata": {
    "ExecuteTime": {
     "end_time": "2023-05-28T17:15:26.498199Z",
     "start_time": "2023-05-28T17:15:26.460790Z"
    }
   },
   "outputs": [
    {
     "data": {
      "text/plain": [
       "'SundaySchool'"
      ]
     },
     "execution_count": 70,
     "metadata": {},
     "output_type": "execute_result"
    }
   ],
   "source": [
    "# Using Join\n",
    "''.join([word_string, word_string_1])"
   ]
  },
  {
   "cell_type": "code",
   "execution_count": 71,
   "id": "dada5915",
   "metadata": {
    "ExecuteTime": {
     "end_time": "2023-05-28T17:15:26.812475Z",
     "start_time": "2023-05-28T17:15:26.786498Z"
    }
   },
   "outputs": [
    {
     "data": {
      "text/plain": [
       "'Sunday School'"
      ]
     },
     "execution_count": 71,
     "metadata": {},
     "output_type": "execute_result"
    }
   ],
   "source": [
    "\" \".join([word_string, word_string_1])"
   ]
  },
  {
   "cell_type": "markdown",
   "id": "7877cb27",
   "metadata": {
    "ExecuteTime": {
     "end_time": "2023-04-02T18:03:44.665396Z",
     "start_time": "2023-04-02T18:03:44.660274Z"
    }
   },
   "source": [
    "### String Slicing "
   ]
  },
  {
   "cell_type": "code",
   "execution_count": 72,
   "id": "3291c085",
   "metadata": {
    "ExecuteTime": {
     "end_time": "2023-05-28T17:15:27.183097Z",
     "start_time": "2023-05-28T17:15:27.173472Z"
    }
   },
   "outputs": [
    {
     "data": {
      "text/plain": [
       "'A group'"
      ]
     },
     "execution_count": 72,
     "metadata": {},
     "output_type": "execute_result"
    }
   ],
   "source": [
    "group_char[0:7]"
   ]
  },
  {
   "cell_type": "code",
   "execution_count": 73,
   "id": "8e7eae5f",
   "metadata": {
    "ExecuteTime": {
     "end_time": "2023-05-28T17:15:27.682707Z",
     "start_time": "2023-05-28T17:15:27.675432Z"
    }
   },
   "outputs": [
    {
     "data": {
      "text/plain": [
       "'A group of characters'"
      ]
     },
     "execution_count": 73,
     "metadata": {},
     "output_type": "execute_result"
    }
   ],
   "source": [
    "group_char"
   ]
  },
  {
   "cell_type": "code",
   "execution_count": 74,
   "id": "9f8e0854",
   "metadata": {
    "ExecuteTime": {
     "end_time": "2023-05-28T17:15:27.911033Z",
     "start_time": "2023-05-28T17:15:27.904345Z"
    }
   },
   "outputs": [
    {
     "data": {
      "text/plain": [
       "'character'"
      ]
     },
     "execution_count": 74,
     "metadata": {},
     "output_type": "execute_result"
    }
   ],
   "source": [
    "group_char[11:-1]"
   ]
  },
  {
   "cell_type": "code",
   "execution_count": 75,
   "id": "217c3357",
   "metadata": {
    "ExecuteTime": {
     "end_time": "2023-05-28T17:15:28.226973Z",
     "start_time": "2023-05-28T17:15:28.220574Z"
    }
   },
   "outputs": [
    {
     "data": {
      "text/plain": [
       "'f characters'"
      ]
     },
     "execution_count": 75,
     "metadata": {},
     "output_type": "execute_result"
    }
   ],
   "source": [
    "group_char[9:]"
   ]
  },
  {
   "cell_type": "markdown",
   "id": "534b8928",
   "metadata": {},
   "source": [
    "### Numbers"
   ]
  },
  {
   "cell_type": "code",
   "execution_count": 76,
   "id": "2d1c8ac1",
   "metadata": {
    "ExecuteTime": {
     "end_time": "2023-05-28T17:15:30.640936Z",
     "start_time": "2023-05-28T17:15:30.636999Z"
    }
   },
   "outputs": [],
   "source": [
    "# Integers (int) - Whole Number = 12\n",
    "# Floats (float) - Decimals = 12.5 "
   ]
  },
  {
   "cell_type": "code",
   "execution_count": 77,
   "id": "f5e6b2fd",
   "metadata": {
    "ExecuteTime": {
     "end_time": "2023-05-28T17:15:31.338726Z",
     "start_time": "2023-05-28T17:15:31.333634Z"
    }
   },
   "outputs": [],
   "source": [
    "my_number = 40 "
   ]
  },
  {
   "cell_type": "code",
   "execution_count": 78,
   "id": "34b4a18b",
   "metadata": {
    "ExecuteTime": {
     "end_time": "2023-05-28T17:15:31.615284Z",
     "start_time": "2023-05-28T17:15:31.607927Z"
    }
   },
   "outputs": [
    {
     "data": {
      "text/plain": [
       "int"
      ]
     },
     "execution_count": 78,
     "metadata": {},
     "output_type": "execute_result"
    }
   ],
   "source": [
    "type(my_number)"
   ]
  },
  {
   "cell_type": "code",
   "execution_count": 79,
   "id": "79b5405f",
   "metadata": {
    "ExecuteTime": {
     "end_time": "2023-05-28T17:15:32.047199Z",
     "start_time": "2023-05-28T17:15:32.043810Z"
    }
   },
   "outputs": [],
   "source": [
    "my_number_1 = '10' "
   ]
  },
  {
   "cell_type": "code",
   "execution_count": 80,
   "id": "6490512a",
   "metadata": {
    "ExecuteTime": {
     "end_time": "2023-05-28T17:15:32.555815Z",
     "start_time": "2023-05-28T17:15:32.549241Z"
    }
   },
   "outputs": [
    {
     "data": {
      "text/plain": [
       "str"
      ]
     },
     "execution_count": 80,
     "metadata": {},
     "output_type": "execute_result"
    }
   ],
   "source": [
    "type(my_number_1)"
   ]
  },
  {
   "cell_type": "code",
   "execution_count": 81,
   "id": "f612afd1",
   "metadata": {
    "ExecuteTime": {
     "end_time": "2023-05-28T17:15:33.111042Z",
     "start_time": "2023-05-28T17:15:33.104917Z"
    }
   },
   "outputs": [],
   "source": [
    "my_number_1 = int(my_number_1)"
   ]
  },
  {
   "cell_type": "code",
   "execution_count": 82,
   "id": "809c5d9d",
   "metadata": {
    "ExecuteTime": {
     "end_time": "2023-05-28T17:15:33.387721Z",
     "start_time": "2023-05-28T17:15:33.380374Z"
    }
   },
   "outputs": [
    {
     "data": {
      "text/plain": [
       "int"
      ]
     },
     "execution_count": 82,
     "metadata": {},
     "output_type": "execute_result"
    }
   ],
   "source": [
    "type(my_number_1)"
   ]
  },
  {
   "cell_type": "code",
   "execution_count": 83,
   "id": "e76b0e07",
   "metadata": {
    "ExecuteTime": {
     "end_time": "2023-05-28T17:15:33.877149Z",
     "start_time": "2023-05-28T17:15:33.870736Z"
    }
   },
   "outputs": [
    {
     "data": {
      "text/plain": [
       "10"
      ]
     },
     "execution_count": 83,
     "metadata": {},
     "output_type": "execute_result"
    }
   ],
   "source": [
    "my_number_1"
   ]
  },
  {
   "cell_type": "code",
   "execution_count": 84,
   "id": "c048449f",
   "metadata": {
    "ExecuteTime": {
     "end_time": "2023-05-28T17:15:34.190567Z",
     "start_time": "2023-05-28T17:15:34.186703Z"
    }
   },
   "outputs": [],
   "source": [
    "# Floats \n",
    "my_decimal = 12.5 "
   ]
  },
  {
   "cell_type": "code",
   "execution_count": 85,
   "id": "277e35fd",
   "metadata": {
    "ExecuteTime": {
     "end_time": "2023-05-28T17:15:34.551500Z",
     "start_time": "2023-05-28T17:15:34.544737Z"
    }
   },
   "outputs": [
    {
     "data": {
      "text/plain": [
       "int"
      ]
     },
     "execution_count": 85,
     "metadata": {},
     "output_type": "execute_result"
    }
   ],
   "source": [
    "type(my_number)"
   ]
  },
  {
   "cell_type": "code",
   "execution_count": 86,
   "id": "3309a91f",
   "metadata": {
    "ExecuteTime": {
     "end_time": "2023-05-28T17:15:34.781139Z",
     "start_time": "2023-05-28T17:15:34.778312Z"
    }
   },
   "outputs": [],
   "source": [
    "my_number = float(my_number)"
   ]
  },
  {
   "cell_type": "code",
   "execution_count": 87,
   "id": "db4355d7",
   "metadata": {
    "ExecuteTime": {
     "end_time": "2023-05-28T17:15:35.194317Z",
     "start_time": "2023-05-28T17:15:35.182619Z"
    }
   },
   "outputs": [
    {
     "data": {
      "text/plain": [
       "float"
      ]
     },
     "execution_count": 87,
     "metadata": {},
     "output_type": "execute_result"
    }
   ],
   "source": [
    "type(my_number)"
   ]
  },
  {
   "cell_type": "code",
   "execution_count": 88,
   "id": "e8802a87",
   "metadata": {
    "ExecuteTime": {
     "end_time": "2023-05-28T17:15:35.492180Z",
     "start_time": "2023-05-28T17:15:35.489369Z"
    }
   },
   "outputs": [],
   "source": [
    "# Numeric Operations \n",
    "# Addition, subtraction, Multiplication, Division"
   ]
  },
  {
   "cell_type": "code",
   "execution_count": 89,
   "id": "d83fd30d",
   "metadata": {
    "ExecuteTime": {
     "end_time": "2023-05-28T17:15:35.788996Z",
     "start_time": "2023-05-28T17:15:35.783013Z"
    }
   },
   "outputs": [
    {
     "data": {
      "text/plain": [
       "['__abs__',\n",
       " '__add__',\n",
       " '__bool__',\n",
       " '__ceil__',\n",
       " '__class__',\n",
       " '__delattr__',\n",
       " '__dir__',\n",
       " '__divmod__',\n",
       " '__doc__',\n",
       " '__eq__',\n",
       " '__float__',\n",
       " '__floor__',\n",
       " '__floordiv__',\n",
       " '__format__',\n",
       " '__ge__',\n",
       " '__getattribute__',\n",
       " '__getformat__',\n",
       " '__getnewargs__',\n",
       " '__gt__',\n",
       " '__hash__',\n",
       " '__init__',\n",
       " '__init_subclass__',\n",
       " '__int__',\n",
       " '__le__',\n",
       " '__lt__',\n",
       " '__mod__',\n",
       " '__mul__',\n",
       " '__ne__',\n",
       " '__neg__',\n",
       " '__new__',\n",
       " '__pos__',\n",
       " '__pow__',\n",
       " '__radd__',\n",
       " '__rdivmod__',\n",
       " '__reduce__',\n",
       " '__reduce_ex__',\n",
       " '__repr__',\n",
       " '__rfloordiv__',\n",
       " '__rmod__',\n",
       " '__rmul__',\n",
       " '__round__',\n",
       " '__rpow__',\n",
       " '__rsub__',\n",
       " '__rtruediv__',\n",
       " '__setattr__',\n",
       " '__setformat__',\n",
       " '__sizeof__',\n",
       " '__str__',\n",
       " '__sub__',\n",
       " '__subclasshook__',\n",
       " '__truediv__',\n",
       " '__trunc__',\n",
       " 'as_integer_ratio',\n",
       " 'conjugate',\n",
       " 'fromhex',\n",
       " 'hex',\n",
       " 'imag',\n",
       " 'is_integer',\n",
       " 'real']"
      ]
     },
     "execution_count": 89,
     "metadata": {},
     "output_type": "execute_result"
    }
   ],
   "source": [
    "dir(my_number)"
   ]
  },
  {
   "cell_type": "code",
   "execution_count": 90,
   "id": "6c4c9464",
   "metadata": {
    "ExecuteTime": {
     "end_time": "2023-05-28T17:15:36.060652Z",
     "start_time": "2023-05-28T17:15:36.055214Z"
    }
   },
   "outputs": [],
   "source": [
    "# Numpy\n",
    "# Statistics\n",
    "# Math "
   ]
  },
  {
   "cell_type": "code",
   "execution_count": 91,
   "id": "29a817a2",
   "metadata": {
    "ExecuteTime": {
     "end_time": "2023-05-28T17:15:36.379601Z",
     "start_time": "2023-05-28T17:15:36.360204Z"
    }
   },
   "outputs": [
    {
     "data": {
      "text/plain": [
       "15"
      ]
     },
     "execution_count": 91,
     "metadata": {},
     "output_type": "execute_result"
    }
   ],
   "source": [
    "10 + 5 "
   ]
  },
  {
   "cell_type": "code",
   "execution_count": 92,
   "id": "9017ba95",
   "metadata": {
    "ExecuteTime": {
     "end_time": "2023-05-28T17:15:36.980370Z",
     "start_time": "2023-05-28T17:15:36.941302Z"
    }
   },
   "outputs": [
    {
     "data": {
      "text/plain": [
       "5"
      ]
     },
     "execution_count": 92,
     "metadata": {},
     "output_type": "execute_result"
    }
   ],
   "source": [
    "10 - 5 "
   ]
  },
  {
   "cell_type": "code",
   "execution_count": 93,
   "id": "44b19c38",
   "metadata": {
    "ExecuteTime": {
     "end_time": "2023-05-28T17:15:37.209114Z",
     "start_time": "2023-05-28T17:15:37.203018Z"
    }
   },
   "outputs": [
    {
     "data": {
      "text/plain": [
       "50"
      ]
     },
     "execution_count": 93,
     "metadata": {},
     "output_type": "execute_result"
    }
   ],
   "source": [
    "10 * 5 "
   ]
  },
  {
   "cell_type": "code",
   "execution_count": 94,
   "id": "81759ca7",
   "metadata": {
    "ExecuteTime": {
     "end_time": "2023-05-28T17:15:37.450700Z",
     "start_time": "2023-05-28T17:15:37.441664Z"
    }
   },
   "outputs": [
    {
     "data": {
      "text/plain": [
       "3.3333333333333335"
      ]
     },
     "execution_count": 94,
     "metadata": {},
     "output_type": "execute_result"
    }
   ],
   "source": [
    "10/3 "
   ]
  },
  {
   "cell_type": "code",
   "execution_count": 95,
   "id": "bdccdcab",
   "metadata": {
    "ExecuteTime": {
     "end_time": "2023-05-28T17:15:37.717003Z",
     "start_time": "2023-05-28T17:15:37.701389Z"
    }
   },
   "outputs": [
    {
     "data": {
      "text/plain": [
       "3"
      ]
     },
     "execution_count": 95,
     "metadata": {},
     "output_type": "execute_result"
    }
   ],
   "source": [
    "10//3"
   ]
  },
  {
   "cell_type": "code",
   "execution_count": 96,
   "id": "e5016093",
   "metadata": {
    "ExecuteTime": {
     "end_time": "2023-05-28T17:15:38.099227Z",
     "start_time": "2023-05-28T17:15:38.090784Z"
    }
   },
   "outputs": [
    {
     "data": {
      "text/plain": [
       "0"
      ]
     },
     "execution_count": 96,
     "metadata": {},
     "output_type": "execute_result"
    }
   ],
   "source": [
    "10 % 5"
   ]
  },
  {
   "cell_type": "code",
   "execution_count": 97,
   "id": "5398b820",
   "metadata": {
    "ExecuteTime": {
     "end_time": "2023-05-28T17:15:42.410938Z",
     "start_time": "2023-05-28T17:15:38.317174Z"
    }
   },
   "outputs": [
    {
     "name": "stdout",
     "output_type": "stream",
     "text": [
      "Enter a number, and I'll tell you if it's even or odd: 3\n",
      "\n",
      "The number 3 is odd.\n"
     ]
    }
   ],
   "source": [
    "number = input(\"Enter a number, and I'll tell you if it's even or odd: \")\n",
    "number = int(number)\n",
    "\n",
    "if number % 2 == 0: \n",
    "    print(f\"\\nThe number {number} is even.\")\n",
    "else: \n",
    "    print(f\"\\nThe number {number} is odd.\") "
   ]
  },
  {
   "cell_type": "code",
   "execution_count": 98,
   "id": "0e55241e",
   "metadata": {
    "ExecuteTime": {
     "end_time": "2023-05-28T17:15:42.419328Z",
     "start_time": "2023-05-28T17:15:42.416141Z"
    }
   },
   "outputs": [],
   "source": [
    "# Augmented Assignment \n",
    "number = number + 6 "
   ]
  },
  {
   "cell_type": "code",
   "execution_count": 99,
   "id": "b06fb962",
   "metadata": {
    "ExecuteTime": {
     "end_time": "2023-05-28T17:15:42.431862Z",
     "start_time": "2023-05-28T17:15:42.425130Z"
    }
   },
   "outputs": [
    {
     "data": {
      "text/plain": [
       "9"
      ]
     },
     "execution_count": 99,
     "metadata": {},
     "output_type": "execute_result"
    }
   ],
   "source": [
    "number"
   ]
  },
  {
   "cell_type": "code",
   "execution_count": 100,
   "id": "bfbc70e4",
   "metadata": {
    "ExecuteTime": {
     "end_time": "2023-05-28T17:15:42.447783Z",
     "start_time": "2023-05-28T17:15:42.442220Z"
    }
   },
   "outputs": [],
   "source": [
    "number += 7 "
   ]
  },
  {
   "cell_type": "code",
   "execution_count": 101,
   "id": "76f8a74e",
   "metadata": {
    "ExecuteTime": {
     "end_time": "2023-05-28T17:15:42.460782Z",
     "start_time": "2023-05-28T17:15:42.453995Z"
    }
   },
   "outputs": [
    {
     "data": {
      "text/plain": [
       "16"
      ]
     },
     "execution_count": 101,
     "metadata": {},
     "output_type": "execute_result"
    }
   ],
   "source": [
    "number"
   ]
  },
  {
   "cell_type": "markdown",
   "id": "fdd11050",
   "metadata": {},
   "source": [
    "## Lists"
   ]
  },
  {
   "cell_type": "code",
   "execution_count": 102,
   "id": "1847dbed",
   "metadata": {
    "ExecuteTime": {
     "end_time": "2023-05-28T17:15:45.958916Z",
     "start_time": "2023-05-28T17:15:45.955392Z"
    }
   },
   "outputs": [],
   "source": [
    "# List is a data type \n",
    "# A list is mutable - modified \n",
    "# A list is sequenced \n",
    "# A list is a data structure "
   ]
  },
  {
   "cell_type": "markdown",
   "id": "4d2fe5bc",
   "metadata": {},
   "source": [
    "### Create a list"
   ]
  },
  {
   "cell_type": "code",
   "execution_count": 103,
   "id": "8520eef1",
   "metadata": {
    "ExecuteTime": {
     "end_time": "2023-05-28T17:15:46.555484Z",
     "start_time": "2023-05-28T17:15:46.551557Z"
    }
   },
   "outputs": [],
   "source": [
    "first_list = [] # Created our first list"
   ]
  },
  {
   "cell_type": "code",
   "execution_count": 104,
   "id": "6787deb9",
   "metadata": {
    "ExecuteTime": {
     "end_time": "2023-05-28T17:15:47.102501Z",
     "start_time": "2023-05-28T17:15:47.095413Z"
    }
   },
   "outputs": [
    {
     "data": {
      "text/plain": [
       "list"
      ]
     },
     "execution_count": 104,
     "metadata": {},
     "output_type": "execute_result"
    }
   ],
   "source": [
    "type(first_list)"
   ]
  },
  {
   "cell_type": "code",
   "execution_count": 105,
   "id": "aeb46b1e",
   "metadata": {
    "ExecuteTime": {
     "end_time": "2023-05-28T17:15:47.508554Z",
     "start_time": "2023-05-28T17:15:47.504995Z"
    }
   },
   "outputs": [],
   "source": [
    "second_list = ['Pablo', 41, 'Bolaji', 28] # A list with elements inside "
   ]
  },
  {
   "cell_type": "code",
   "execution_count": 106,
   "id": "edb28433",
   "metadata": {
    "ExecuteTime": {
     "end_time": "2023-05-28T17:15:48.038382Z",
     "start_time": "2023-05-28T17:15:48.032876Z"
    }
   },
   "outputs": [
    {
     "name": "stdout",
     "output_type": "stream",
     "text": [
      "['Pablo', 41, 'Bolaji', 28]\n"
     ]
    }
   ],
   "source": [
    "print(second_list)"
   ]
  },
  {
   "cell_type": "code",
   "execution_count": 107,
   "id": "4d676475",
   "metadata": {
    "ExecuteTime": {
     "end_time": "2023-05-28T17:15:48.381618Z",
     "start_time": "2023-05-28T17:15:48.377587Z"
    }
   },
   "outputs": [],
   "source": [
    "set_char = \"A lot of numbers\""
   ]
  },
  {
   "cell_type": "code",
   "execution_count": 108,
   "id": "2568888e",
   "metadata": {
    "ExecuteTime": {
     "end_time": "2023-05-28T17:15:48.682659Z",
     "start_time": "2023-05-28T17:15:48.679008Z"
    }
   },
   "outputs": [],
   "source": [
    "set_char_list = list(set_char)"
   ]
  },
  {
   "cell_type": "code",
   "execution_count": 109,
   "id": "9aa78e82",
   "metadata": {
    "ExecuteTime": {
     "end_time": "2023-05-28T17:15:49.181966Z",
     "start_time": "2023-05-28T17:15:49.169457Z"
    }
   },
   "outputs": [
    {
     "data": {
      "text/plain": [
       "list"
      ]
     },
     "execution_count": 109,
     "metadata": {},
     "output_type": "execute_result"
    }
   ],
   "source": [
    "type(set_char_list)"
   ]
  },
  {
   "cell_type": "code",
   "execution_count": 110,
   "id": "d2440aba",
   "metadata": {
    "ExecuteTime": {
     "end_time": "2023-05-28T17:15:49.592936Z",
     "start_time": "2023-05-28T17:15:49.585288Z"
    }
   },
   "outputs": [
    {
     "name": "stdout",
     "output_type": "stream",
     "text": [
      "['A', ' ', 'l', 'o', 't', ' ', 'o', 'f', ' ', 'n', 'u', 'm', 'b', 'e', 'r', 's']\n"
     ]
    }
   ],
   "source": [
    "print(set_char_list)"
   ]
  },
  {
   "cell_type": "code",
   "execution_count": 111,
   "id": "f0b1a49d",
   "metadata": {
    "ExecuteTime": {
     "end_time": "2023-05-28T17:15:50.301219Z",
     "start_time": "2023-05-28T17:15:50.296490Z"
    }
   },
   "outputs": [],
   "source": [
    "# Take a column from a dataframe and convert it to a list \n",
    "#football_data.head() "
   ]
  },
  {
   "cell_type": "code",
   "execution_count": 112,
   "id": "48fac8d3",
   "metadata": {
    "ExecuteTime": {
     "end_time": "2023-05-28T17:15:50.676906Z",
     "start_time": "2023-05-28T17:15:50.600708Z"
    }
   },
   "outputs": [
    {
     "data": {
      "text/plain": [
       "pandas.core.frame.DataFrame"
      ]
     },
     "execution_count": 112,
     "metadata": {},
     "output_type": "execute_result"
    }
   ],
   "source": [
    "type(football_data)"
   ]
  },
  {
   "cell_type": "code",
   "execution_count": 113,
   "id": "ccfe593b",
   "metadata": {
    "ExecuteTime": {
     "end_time": "2023-05-28T17:15:50.765233Z",
     "start_time": "2023-05-28T17:15:50.759289Z"
    }
   },
   "outputs": [
    {
     "data": {
      "text/plain": [
       "pandas.core.series.Series"
      ]
     },
     "execution_count": 113,
     "metadata": {},
     "output_type": "execute_result"
    }
   ],
   "source": [
    "type(football_data['Selling club'])"
   ]
  },
  {
   "cell_type": "code",
   "execution_count": 114,
   "id": "d558d6a4",
   "metadata": {
    "ExecuteTime": {
     "end_time": "2023-05-28T17:15:50.984190Z",
     "start_time": "2023-05-28T17:15:50.976339Z"
    }
   },
   "outputs": [],
   "source": [
    "footballData_list = list(football_data['Selling club'])"
   ]
  },
  {
   "cell_type": "code",
   "execution_count": 115,
   "id": "cf673bcf",
   "metadata": {
    "ExecuteTime": {
     "end_time": "2023-05-28T17:15:51.188403Z",
     "start_time": "2023-05-28T17:15:51.179367Z"
    }
   },
   "outputs": [
    {
     "data": {
      "text/plain": [
       "list"
      ]
     },
     "execution_count": 115,
     "metadata": {},
     "output_type": "execute_result"
    }
   ],
   "source": [
    "type(footballData_list)"
   ]
  },
  {
   "cell_type": "code",
   "execution_count": 116,
   "id": "1fbb9b70",
   "metadata": {
    "ExecuteTime": {
     "end_time": "2023-05-28T17:15:51.553111Z",
     "start_time": "2023-05-28T17:15:51.445930Z"
    }
   },
   "outputs": [
    {
     "name": "stdout",
     "output_type": "stream",
     "text": [
      "['\\xa0West Bromwich Albion', '\\xa0Barnsley', '\\xa0Sheffield United', '\\xa0Sunderland', '\\xa0Sunderland', '\\xa0West Ham United', '\\xa0Bolton Wanderers', '\\xa0Heart of Midlothian', '\\xa0Plymouth Argyle', '\\xa0Kilmarnock', '\\xa0West Ham United', '\\xa0South Shields', '\\xa0Burnley', '\\xa0Bolton Wanderers', '\\xa0Tigre', '\\xa0Manchester United', '\\xa0Sheffield Wednesday', '\\xa0Aston Villa', '\\xa0Notts County', '\\xa0Atalanta', '\\xa0Peñarol', '\\xa0River Plate', '\\xa0Barcelona', '\\xa0Mantova', '\\xa0Bologna', '\\xa0Varese', '\\xa0Ajax', '\\xa0Bologna', '\\xa0Vicenza', '\\xa0Boca Juniors', '\\xa0Barcelona', '\\xa0PSV Eindhoven', '\\xa0Fiorentina', '\\xa0Marseille', '\\xa0Sampdoria', '\\xa0Torino', '\\xa0PSV Eindhoven', '\\xa0Blackburn Rovers', '\\xa0Barcelona', '\\xa0São Paulo', '\\xa0Lazio', '\\xa0Parma', '\\xa0Barcelona', '\\xa0Juventus', '\\xa0Milan', '\\xa0Manchester United', '\\xa0Tottenham Hotspur', '\\xa0Juventus', '\\xa0Barcelona']\n"
     ]
    }
   ],
   "source": [
    "print(footballData_list)"
   ]
  },
  {
   "cell_type": "code",
   "execution_count": 117,
   "id": "cf8d5f9f",
   "metadata": {
    "ExecuteTime": {
     "end_time": "2023-05-28T17:15:52.189329Z",
     "start_time": "2023-05-28T17:15:52.165421Z"
    }
   },
   "outputs": [
    {
     "data": {
      "text/plain": [
       "16"
      ]
     },
     "execution_count": 117,
     "metadata": {},
     "output_type": "execute_result"
    }
   ],
   "source": [
    "len(set_char_list)"
   ]
  },
  {
   "cell_type": "code",
   "execution_count": 118,
   "id": "f06f94d1",
   "metadata": {
    "ExecuteTime": {
     "end_time": "2023-05-28T17:15:52.459563Z",
     "start_time": "2023-05-28T17:15:52.452144Z"
    }
   },
   "outputs": [
    {
     "data": {
      "text/plain": [
       "49"
      ]
     },
     "execution_count": 118,
     "metadata": {},
     "output_type": "execute_result"
    }
   ],
   "source": [
    "len(footballData_list)"
   ]
  },
  {
   "cell_type": "code",
   "execution_count": 119,
   "id": "9028203a",
   "metadata": {
    "ExecuteTime": {
     "end_time": "2023-05-28T17:15:52.711864Z",
     "start_time": "2023-05-28T17:15:52.702184Z"
    }
   },
   "outputs": [],
   "source": [
    "sunday_list = ['Pablo', 'Sylvia', 'Samuel', 'Polycap', 'Joyce', 'Ibrahim', 'Heak']"
   ]
  },
  {
   "cell_type": "code",
   "execution_count": 120,
   "id": "1540257d",
   "metadata": {
    "ExecuteTime": {
     "end_time": "2023-05-28T17:15:52.947586Z",
     "start_time": "2023-05-28T17:15:52.933046Z"
    }
   },
   "outputs": [
    {
     "data": {
      "text/plain": [
       "7"
      ]
     },
     "execution_count": 120,
     "metadata": {},
     "output_type": "execute_result"
    }
   ],
   "source": [
    "len(sunday_list)"
   ]
  },
  {
   "cell_type": "code",
   "execution_count": 121,
   "id": "a62591c9",
   "metadata": {
    "ExecuteTime": {
     "end_time": "2023-05-28T17:15:53.210146Z",
     "start_time": "2023-05-28T17:15:53.144278Z"
    }
   },
   "outputs": [
    {
     "data": {
      "text/plain": [
       "['__add__',\n",
       " '__class__',\n",
       " '__class_getitem__',\n",
       " '__contains__',\n",
       " '__delattr__',\n",
       " '__delitem__',\n",
       " '__dir__',\n",
       " '__doc__',\n",
       " '__eq__',\n",
       " '__format__',\n",
       " '__ge__',\n",
       " '__getattribute__',\n",
       " '__getitem__',\n",
       " '__gt__',\n",
       " '__hash__',\n",
       " '__iadd__',\n",
       " '__imul__',\n",
       " '__init__',\n",
       " '__init_subclass__',\n",
       " '__iter__',\n",
       " '__le__',\n",
       " '__len__',\n",
       " '__lt__',\n",
       " '__mul__',\n",
       " '__ne__',\n",
       " '__new__',\n",
       " '__reduce__',\n",
       " '__reduce_ex__',\n",
       " '__repr__',\n",
       " '__reversed__',\n",
       " '__rmul__',\n",
       " '__setattr__',\n",
       " '__setitem__',\n",
       " '__sizeof__',\n",
       " '__str__',\n",
       " '__subclasshook__',\n",
       " 'append',\n",
       " 'clear',\n",
       " 'copy',\n",
       " 'count',\n",
       " 'extend',\n",
       " 'index',\n",
       " 'insert',\n",
       " 'pop',\n",
       " 'remove',\n",
       " 'reverse',\n",
       " 'sort']"
      ]
     },
     "execution_count": 121,
     "metadata": {},
     "output_type": "execute_result"
    }
   ],
   "source": [
    "dir(sunday_list)"
   ]
  },
  {
   "cell_type": "markdown",
   "id": "b717e069",
   "metadata": {},
   "source": [
    "### List Methods\n",
    "\n",
    "'append',\n",
    " 'clear',\n",
    " 'copy',\n",
    " 'count',\n",
    " 'extend',\n",
    " 'index',\n",
    " 'insert',\n",
    " 'pop',\n",
    " 'remove',\n",
    " 'reverse',\n",
    " 'sort'"
   ]
  },
  {
   "cell_type": "code",
   "execution_count": 122,
   "id": "2c4cc669",
   "metadata": {
    "ExecuteTime": {
     "end_time": "2023-05-28T17:15:54.031758Z",
     "start_time": "2023-05-28T17:15:54.024158Z"
    }
   },
   "outputs": [],
   "source": [
    "# Add to a list \n",
    "# append - \n",
    "# extend -\n",
    "# insert"
   ]
  },
  {
   "cell_type": "code",
   "execution_count": 123,
   "id": "f60301ba",
   "metadata": {
    "ExecuteTime": {
     "end_time": "2023-05-28T17:15:54.597729Z",
     "start_time": "2023-05-28T17:15:54.592706Z"
    }
   },
   "outputs": [
    {
     "name": "stdout",
     "output_type": "stream",
     "text": [
      "['Pablo', 'Sylvia', 'Samuel', 'Polycap', 'Joyce', 'Ibrahim', 'Heak']\n"
     ]
    }
   ],
   "source": [
    "print(sunday_list)"
   ]
  },
  {
   "cell_type": "code",
   "execution_count": 124,
   "id": "f1b3ea35",
   "metadata": {
    "ExecuteTime": {
     "end_time": "2023-05-28T17:15:55.140051Z",
     "start_time": "2023-05-28T17:15:55.135332Z"
    }
   },
   "outputs": [],
   "source": [
    "sunday_list.append('Tomi')"
   ]
  },
  {
   "cell_type": "code",
   "execution_count": 125,
   "id": "6bb96710",
   "metadata": {
    "ExecuteTime": {
     "end_time": "2023-05-28T17:15:55.528392Z",
     "start_time": "2023-05-28T17:15:55.522875Z"
    }
   },
   "outputs": [
    {
     "name": "stdout",
     "output_type": "stream",
     "text": [
      "['Pablo', 'Sylvia', 'Samuel', 'Polycap', 'Joyce', 'Ibrahim', 'Heak', 'Tomi']\n"
     ]
    }
   ],
   "source": [
    "print(sunday_list)"
   ]
  },
  {
   "cell_type": "code",
   "execution_count": 126,
   "id": "6311b7b9",
   "metadata": {
    "ExecuteTime": {
     "end_time": "2023-05-28T17:15:55.730103Z",
     "start_time": "2023-05-28T17:15:55.725094Z"
    }
   },
   "outputs": [],
   "source": [
    "sunday_list.append('Ochanya')"
   ]
  },
  {
   "cell_type": "code",
   "execution_count": 127,
   "id": "faab1acf",
   "metadata": {
    "ExecuteTime": {
     "end_time": "2023-05-28T17:15:55.986663Z",
     "start_time": "2023-05-28T17:15:55.963457Z"
    }
   },
   "outputs": [
    {
     "name": "stdout",
     "output_type": "stream",
     "text": [
      "['Pablo', 'Sylvia', 'Samuel', 'Polycap', 'Joyce', 'Ibrahim', 'Heak', 'Tomi', 'Ochanya']\n"
     ]
    }
   ],
   "source": [
    "print(sunday_list)"
   ]
  },
  {
   "cell_type": "code",
   "execution_count": 128,
   "id": "3b3c59a8",
   "metadata": {
    "ExecuteTime": {
     "end_time": "2023-05-28T17:15:56.174412Z",
     "start_time": "2023-05-28T17:15:56.169440Z"
    }
   },
   "outputs": [],
   "source": [
    "# extend a list using another list \n",
    "last_sunday = ['Thomas', 'James', 'Martha', 'Tisse'] "
   ]
  },
  {
   "cell_type": "code",
   "execution_count": 129,
   "id": "18d6bba5",
   "metadata": {
    "ExecuteTime": {
     "end_time": "2023-05-28T17:15:56.379871Z",
     "start_time": "2023-05-28T17:15:56.358565Z"
    }
   },
   "outputs": [
    {
     "name": "stdout",
     "output_type": "stream",
     "text": [
      "['Thomas', 'James', 'Martha', 'Tisse']\n"
     ]
    }
   ],
   "source": [
    "print(last_sunday)"
   ]
  },
  {
   "cell_type": "code",
   "execution_count": 130,
   "id": "e36fb6a7",
   "metadata": {
    "ExecuteTime": {
     "end_time": "2023-05-28T17:15:56.592598Z",
     "start_time": "2023-05-28T17:15:56.587920Z"
    }
   },
   "outputs": [],
   "source": [
    "# Make last sunday and this sunday one list \n",
    "sunday_list.extend(last_sunday)"
   ]
  },
  {
   "cell_type": "code",
   "execution_count": 131,
   "id": "ce57a6c7",
   "metadata": {
    "ExecuteTime": {
     "end_time": "2023-05-28T17:15:56.816032Z",
     "start_time": "2023-05-28T17:15:56.811932Z"
    }
   },
   "outputs": [
    {
     "name": "stdout",
     "output_type": "stream",
     "text": [
      "['Pablo', 'Sylvia', 'Samuel', 'Polycap', 'Joyce', 'Ibrahim', 'Heak', 'Tomi', 'Ochanya', 'Thomas', 'James', 'Martha', 'Tisse']\n"
     ]
    }
   ],
   "source": [
    "print(sunday_list)"
   ]
  },
  {
   "cell_type": "code",
   "execution_count": 132,
   "id": "9cff8fdb",
   "metadata": {
    "ExecuteTime": {
     "end_time": "2023-05-28T17:15:57.080090Z",
     "start_time": "2023-05-28T17:15:57.075262Z"
    }
   },
   "outputs": [],
   "source": [
    "# Insert into a list but to our preferred numerical position "
   ]
  },
  {
   "cell_type": "code",
   "execution_count": 133,
   "id": "7619e027",
   "metadata": {
    "ExecuteTime": {
     "end_time": "2023-05-28T17:15:57.257448Z",
     "start_time": "2023-05-28T17:15:57.252256Z"
    }
   },
   "outputs": [],
   "source": [
    "sunday_list.insert(0, 'Fayrooz') "
   ]
  },
  {
   "cell_type": "code",
   "execution_count": 134,
   "id": "a56a2938",
   "metadata": {
    "ExecuteTime": {
     "end_time": "2023-05-28T17:15:57.447515Z",
     "start_time": "2023-05-28T17:15:57.442179Z"
    }
   },
   "outputs": [
    {
     "name": "stdout",
     "output_type": "stream",
     "text": [
      "['Fayrooz', 'Pablo', 'Sylvia', 'Samuel', 'Polycap', 'Joyce', 'Ibrahim', 'Heak', 'Tomi', 'Ochanya', 'Thomas', 'James', 'Martha', 'Tisse']\n"
     ]
    }
   ],
   "source": [
    "print(sunday_list)"
   ]
  },
  {
   "cell_type": "markdown",
   "id": "7e02a8c4",
   "metadata": {},
   "source": [
    "### Removing from a list"
   ]
  },
  {
   "cell_type": "code",
   "execution_count": 135,
   "id": "556d170d",
   "metadata": {
    "ExecuteTime": {
     "end_time": "2023-05-28T17:15:58.125183Z",
     "start_time": "2023-05-28T17:15:58.104251Z"
    }
   },
   "outputs": [],
   "source": [
    "# clear\n",
    "# pop\n",
    "# remove \n",
    "# del "
   ]
  },
  {
   "cell_type": "code",
   "execution_count": 136,
   "id": "6c65f97c",
   "metadata": {
    "ExecuteTime": {
     "end_time": "2023-05-28T17:15:58.212434Z",
     "start_time": "2023-05-28T17:15:58.205428Z"
    }
   },
   "outputs": [
    {
     "data": {
      "text/plain": [
       "['Thomas', 'James', 'Martha', 'Tisse']"
      ]
     },
     "execution_count": 136,
     "metadata": {},
     "output_type": "execute_result"
    }
   ],
   "source": [
    "# Clear \n",
    "last_sunday"
   ]
  },
  {
   "cell_type": "code",
   "execution_count": 137,
   "id": "5b2d4572",
   "metadata": {
    "ExecuteTime": {
     "end_time": "2023-05-28T17:15:58.538579Z",
     "start_time": "2023-05-28T17:15:58.533855Z"
    }
   },
   "outputs": [],
   "source": [
    "last_sunday.clear() # Removes everything "
   ]
  },
  {
   "cell_type": "code",
   "execution_count": 138,
   "id": "13ae4566",
   "metadata": {
    "ExecuteTime": {
     "end_time": "2023-05-28T17:15:58.795360Z",
     "start_time": "2023-05-28T17:15:58.789436Z"
    }
   },
   "outputs": [
    {
     "data": {
      "text/plain": [
       "[]"
      ]
     },
     "execution_count": 138,
     "metadata": {},
     "output_type": "execute_result"
    }
   ],
   "source": [
    "last_sunday"
   ]
  },
  {
   "cell_type": "code",
   "execution_count": 139,
   "id": "d82321fc",
   "metadata": {
    "ExecuteTime": {
     "end_time": "2023-05-28T17:15:59.002867Z",
     "start_time": "2023-05-28T17:15:58.995514Z"
    }
   },
   "outputs": [],
   "source": [
    "# pop \n",
    "last_name = sunday_list.pop()"
   ]
  },
  {
   "cell_type": "code",
   "execution_count": 140,
   "id": "ed238410",
   "metadata": {
    "ExecuteTime": {
     "end_time": "2023-05-28T17:15:59.194609Z",
     "start_time": "2023-05-28T17:15:59.190014Z"
    }
   },
   "outputs": [
    {
     "name": "stdout",
     "output_type": "stream",
     "text": [
      "Tisse\n"
     ]
    }
   ],
   "source": [
    "print(last_name)"
   ]
  },
  {
   "cell_type": "code",
   "execution_count": 141,
   "id": "364ea26f",
   "metadata": {
    "ExecuteTime": {
     "end_time": "2023-05-28T17:15:59.422630Z",
     "start_time": "2023-05-28T17:15:59.418697Z"
    }
   },
   "outputs": [],
   "source": [
    "any_name = sunday_list.pop(1)"
   ]
  },
  {
   "cell_type": "code",
   "execution_count": 142,
   "id": "27738a5a",
   "metadata": {
    "ExecuteTime": {
     "end_time": "2023-05-28T17:15:59.617454Z",
     "start_time": "2023-05-28T17:15:59.612717Z"
    }
   },
   "outputs": [
    {
     "data": {
      "text/plain": [
       "'Pablo'"
      ]
     },
     "execution_count": 142,
     "metadata": {},
     "output_type": "execute_result"
    }
   ],
   "source": [
    "any_name"
   ]
  },
  {
   "cell_type": "code",
   "execution_count": 143,
   "id": "7400d63d",
   "metadata": {
    "ExecuteTime": {
     "end_time": "2023-05-28T17:15:59.861564Z",
     "start_time": "2023-05-28T17:15:59.852273Z"
    }
   },
   "outputs": [],
   "source": [
    "# remove\n",
    "sunday_list.remove('Samuel') "
   ]
  },
  {
   "cell_type": "code",
   "execution_count": 144,
   "id": "bfebac9f",
   "metadata": {
    "ExecuteTime": {
     "end_time": "2023-05-28T17:16:00.065752Z",
     "start_time": "2023-05-28T17:16:00.060228Z"
    }
   },
   "outputs": [
    {
     "name": "stdout",
     "output_type": "stream",
     "text": [
      "['Fayrooz', 'Sylvia', 'Polycap', 'Joyce', 'Ibrahim', 'Heak', 'Tomi', 'Ochanya', 'Thomas', 'James', 'Martha']\n"
     ]
    }
   ],
   "source": [
    "print(sunday_list)"
   ]
  },
  {
   "cell_type": "code",
   "execution_count": 145,
   "id": "2a529a96",
   "metadata": {
    "ExecuteTime": {
     "end_time": "2023-05-28T17:16:00.292948Z",
     "start_time": "2023-05-28T17:16:00.289423Z"
    }
   },
   "outputs": [],
   "source": [
    "# del\n",
    "del sunday_list[1]"
   ]
  },
  {
   "cell_type": "code",
   "execution_count": 146,
   "id": "698b1a76",
   "metadata": {
    "ExecuteTime": {
     "end_time": "2023-05-28T17:16:00.520385Z",
     "start_time": "2023-05-28T17:16:00.513819Z"
    }
   },
   "outputs": [
    {
     "name": "stdout",
     "output_type": "stream",
     "text": [
      "['Fayrooz', 'Polycap', 'Joyce', 'Ibrahim', 'Heak', 'Tomi', 'Ochanya', 'Thomas', 'James', 'Martha']\n"
     ]
    }
   ],
   "source": [
    "print(sunday_list) "
   ]
  },
  {
   "cell_type": "code",
   "execution_count": 147,
   "id": "2bc8c05f",
   "metadata": {
    "ExecuteTime": {
     "end_time": "2023-05-28T17:16:00.810369Z",
     "start_time": "2023-05-28T17:16:00.737766Z"
    }
   },
   "outputs": [],
   "source": [
    "sunday_list.insert(2, 'Joyce')"
   ]
  },
  {
   "cell_type": "code",
   "execution_count": 148,
   "id": "037e49c6",
   "metadata": {
    "ExecuteTime": {
     "end_time": "2023-05-28T17:16:01.387855Z",
     "start_time": "2023-05-28T17:16:01.381940Z"
    }
   },
   "outputs": [
    {
     "name": "stdout",
     "output_type": "stream",
     "text": [
      "['Fayrooz', 'Polycap', 'Joyce', 'Joyce', 'Ibrahim', 'Heak', 'Tomi', 'Ochanya', 'Thomas', 'James', 'Martha']\n"
     ]
    }
   ],
   "source": [
    "print(sunday_list)"
   ]
  },
  {
   "cell_type": "code",
   "execution_count": 149,
   "id": "b8019706",
   "metadata": {
    "ExecuteTime": {
     "end_time": "2023-05-28T17:16:01.619891Z",
     "start_time": "2023-05-28T17:16:01.616130Z"
    }
   },
   "outputs": [],
   "source": [
    "sunday_list.remove('Joyce') "
   ]
  },
  {
   "cell_type": "code",
   "execution_count": 150,
   "id": "dac83188",
   "metadata": {
    "ExecuteTime": {
     "end_time": "2023-05-28T17:16:01.866927Z",
     "start_time": "2023-05-28T17:16:01.861266Z"
    }
   },
   "outputs": [
    {
     "name": "stdout",
     "output_type": "stream",
     "text": [
      "['Fayrooz', 'Polycap', 'Joyce', 'Ibrahim', 'Heak', 'Tomi', 'Ochanya', 'Thomas', 'James', 'Martha']\n"
     ]
    }
   ],
   "source": [
    "print(sunday_list)"
   ]
  },
  {
   "cell_type": "code",
   "execution_count": 151,
   "id": "823c9054",
   "metadata": {
    "ExecuteTime": {
     "end_time": "2023-05-28T17:16:02.281908Z",
     "start_time": "2023-05-28T17:16:02.275589Z"
    }
   },
   "outputs": [
    {
     "data": {
      "text/plain": [
       "1"
      ]
     },
     "execution_count": 151,
     "metadata": {},
     "output_type": "execute_result"
    }
   ],
   "source": [
    "sunday_list.count('Joyce')"
   ]
  },
  {
   "cell_type": "code",
   "execution_count": 152,
   "id": "f0afb0e1",
   "metadata": {
    "ExecuteTime": {
     "end_time": "2023-05-28T17:16:02.718344Z",
     "start_time": "2023-05-28T17:16:02.714434Z"
    }
   },
   "outputs": [],
   "source": [
    "sunday_list_copy = sunday_list.copy() "
   ]
  },
  {
   "cell_type": "code",
   "execution_count": 153,
   "id": "7231dcc6",
   "metadata": {
    "ExecuteTime": {
     "end_time": "2023-05-28T17:16:03.061693Z",
     "start_time": "2023-05-28T17:16:03.016578Z"
    }
   },
   "outputs": [
    {
     "name": "stdout",
     "output_type": "stream",
     "text": [
      "['Fayrooz', 'Polycap', 'Joyce', 'Ibrahim', 'Heak', 'Tomi', 'Ochanya', 'Thomas', 'James', 'Martha']\n"
     ]
    }
   ],
   "source": [
    "print(sunday_list_copy)"
   ]
  },
  {
   "cell_type": "code",
   "execution_count": 154,
   "id": "1e01de7b",
   "metadata": {
    "ExecuteTime": {
     "end_time": "2023-05-28T17:16:03.129261Z",
     "start_time": "2023-05-28T17:16:03.125728Z"
    }
   },
   "outputs": [],
   "source": [
    "sunday_list_copy.append('Joyce')"
   ]
  },
  {
   "cell_type": "code",
   "execution_count": 155,
   "id": "c1a76434",
   "metadata": {
    "ExecuteTime": {
     "end_time": "2023-05-28T17:16:03.384429Z",
     "start_time": "2023-05-28T17:16:03.321618Z"
    }
   },
   "outputs": [],
   "source": [
    "sunday_list_copy.remove('Joyce')"
   ]
  },
  {
   "cell_type": "code",
   "execution_count": 156,
   "id": "bf0bedec",
   "metadata": {
    "ExecuteTime": {
     "end_time": "2023-05-28T17:16:03.512694Z",
     "start_time": "2023-05-28T17:16:03.508232Z"
    }
   },
   "outputs": [
    {
     "name": "stdout",
     "output_type": "stream",
     "text": [
      "['Fayrooz', 'Polycap', 'Ibrahim', 'Heak', 'Tomi', 'Ochanya', 'Thomas', 'James', 'Martha', 'Joyce']\n"
     ]
    }
   ],
   "source": [
    "print(sunday_list_copy)"
   ]
  },
  {
   "cell_type": "code",
   "execution_count": 157,
   "id": "a6f1c87d",
   "metadata": {
    "ExecuteTime": {
     "end_time": "2023-05-28T17:16:03.769510Z",
     "start_time": "2023-05-28T17:16:03.765624Z"
    }
   },
   "outputs": [],
   "source": [
    "i = sunday_list_copy.index('Fayrooz')"
   ]
  },
  {
   "cell_type": "code",
   "execution_count": 158,
   "id": "a7de5370",
   "metadata": {
    "ExecuteTime": {
     "end_time": "2023-05-28T17:16:04.001083Z",
     "start_time": "2023-05-28T17:16:03.996959Z"
    }
   },
   "outputs": [],
   "source": [
    "j = sunday_list_copy.index('Joyce')"
   ]
  },
  {
   "cell_type": "code",
   "execution_count": 159,
   "id": "dc8458c0",
   "metadata": {
    "ExecuteTime": {
     "end_time": "2023-05-28T17:16:04.316060Z",
     "start_time": "2023-05-28T17:16:04.308786Z"
    }
   },
   "outputs": [],
   "source": [
    "sunday_list_copy[i], sunday_list_copy[j] = sunday_list_copy[j], sunday_list_copy[i]"
   ]
  },
  {
   "cell_type": "code",
   "execution_count": 160,
   "id": "c95a20ad",
   "metadata": {
    "ExecuteTime": {
     "end_time": "2023-05-28T17:16:04.490484Z",
     "start_time": "2023-05-28T17:16:04.458719Z"
    }
   },
   "outputs": [
    {
     "name": "stdout",
     "output_type": "stream",
     "text": [
      "['Joyce', 'Polycap', 'Ibrahim', 'Heak', 'Tomi', 'Ochanya', 'Thomas', 'James', 'Martha', 'Fayrooz']\n"
     ]
    }
   ],
   "source": [
    "print(sunday_list_copy) "
   ]
  },
  {
   "cell_type": "markdown",
   "id": "731f28db",
   "metadata": {},
   "source": [
    "### Sort a list"
   ]
  },
  {
   "cell_type": "code",
   "execution_count": 161,
   "id": "02136b19",
   "metadata": {
    "ExecuteTime": {
     "end_time": "2023-05-28T17:16:04.778119Z",
     "start_time": "2023-05-28T17:16:04.771559Z"
    }
   },
   "outputs": [
    {
     "data": {
      "text/plain": [
       "['Fayrooz',\n",
       " 'Polycap',\n",
       " 'Joyce',\n",
       " 'Ibrahim',\n",
       " 'Heak',\n",
       " 'Tomi',\n",
       " 'Ochanya',\n",
       " 'Thomas',\n",
       " 'James',\n",
       " 'Martha']"
      ]
     },
     "execution_count": 161,
     "metadata": {},
     "output_type": "execute_result"
    }
   ],
   "source": [
    "sunday_list"
   ]
  },
  {
   "cell_type": "code",
   "execution_count": 162,
   "id": "08665dde",
   "metadata": {
    "ExecuteTime": {
     "end_time": "2023-05-28T17:16:05.192889Z",
     "start_time": "2023-05-28T17:16:05.185516Z"
    }
   },
   "outputs": [
    {
     "data": {
      "text/plain": [
       "['Joyce',\n",
       " 'Polycap',\n",
       " 'Ibrahim',\n",
       " 'Heak',\n",
       " 'Tomi',\n",
       " 'Ochanya',\n",
       " 'Thomas',\n",
       " 'James',\n",
       " 'Martha',\n",
       " 'Fayrooz']"
      ]
     },
     "execution_count": 162,
     "metadata": {},
     "output_type": "execute_result"
    }
   ],
   "source": [
    "sunday_list_copy"
   ]
  },
  {
   "cell_type": "code",
   "execution_count": 163,
   "id": "d8450bcc",
   "metadata": {
    "ExecuteTime": {
     "end_time": "2023-05-28T17:16:05.360744Z",
     "start_time": "2023-05-28T17:16:05.350115Z"
    }
   },
   "outputs": [],
   "source": [
    "sunday_list_copy.sort() # Sorting a list"
   ]
  },
  {
   "cell_type": "code",
   "execution_count": 164,
   "id": "3786c264",
   "metadata": {
    "ExecuteTime": {
     "end_time": "2023-05-28T17:16:05.479492Z",
     "start_time": "2023-05-28T17:16:05.465326Z"
    }
   },
   "outputs": [
    {
     "data": {
      "text/plain": [
       "['Fayrooz',\n",
       " 'Heak',\n",
       " 'Ibrahim',\n",
       " 'James',\n",
       " 'Joyce',\n",
       " 'Martha',\n",
       " 'Ochanya',\n",
       " 'Polycap',\n",
       " 'Thomas',\n",
       " 'Tomi']"
      ]
     },
     "execution_count": 164,
     "metadata": {},
     "output_type": "execute_result"
    }
   ],
   "source": [
    "sunday_list_copy"
   ]
  },
  {
   "cell_type": "code",
   "execution_count": 165,
   "id": "b6076c90",
   "metadata": {
    "ExecuteTime": {
     "end_time": "2023-05-28T17:16:05.657377Z",
     "start_time": "2023-05-28T17:16:05.652419Z"
    }
   },
   "outputs": [],
   "source": [
    "list_numbers = [23,86, 54, 12, 9, 99, 76, 45] "
   ]
  },
  {
   "cell_type": "code",
   "execution_count": 166,
   "id": "a480ebb5",
   "metadata": {
    "ExecuteTime": {
     "end_time": "2023-05-28T17:16:05.895312Z",
     "start_time": "2023-05-28T17:16:05.891764Z"
    }
   },
   "outputs": [],
   "source": [
    "list_numbers_1 = list_numbers.copy()"
   ]
  },
  {
   "cell_type": "code",
   "execution_count": 167,
   "id": "ababa7a0",
   "metadata": {
    "ExecuteTime": {
     "end_time": "2023-05-28T17:16:06.216618Z",
     "start_time": "2023-05-28T17:16:06.209480Z"
    }
   },
   "outputs": [
    {
     "data": {
      "text/plain": [
       "[23, 86, 54, 12, 9, 99, 76, 45]"
      ]
     },
     "execution_count": 167,
     "metadata": {},
     "output_type": "execute_result"
    }
   ],
   "source": [
    "list_numbers_1"
   ]
  },
  {
   "cell_type": "code",
   "execution_count": 168,
   "id": "8c081fc4",
   "metadata": {
    "ExecuteTime": {
     "end_time": "2023-05-28T17:16:06.655071Z",
     "start_time": "2023-05-28T17:16:06.649634Z"
    }
   },
   "outputs": [],
   "source": [
    "list_numbers_1.sort() "
   ]
  },
  {
   "cell_type": "code",
   "execution_count": 169,
   "id": "1c3dddf0",
   "metadata": {
    "ExecuteTime": {
     "end_time": "2023-05-28T17:16:06.849302Z",
     "start_time": "2023-05-28T17:16:06.843733Z"
    }
   },
   "outputs": [
    {
     "data": {
      "text/plain": [
       "[9, 12, 23, 45, 54, 76, 86, 99]"
      ]
     },
     "execution_count": 169,
     "metadata": {},
     "output_type": "execute_result"
    }
   ],
   "source": [
    "list_numbers_1"
   ]
  },
  {
   "cell_type": "markdown",
   "id": "3fb08f6f",
   "metadata": {},
   "source": [
    "### Sorted() to sort a list"
   ]
  },
  {
   "cell_type": "code",
   "execution_count": 170,
   "id": "c0c85919",
   "metadata": {
    "ExecuteTime": {
     "end_time": "2023-05-28T17:16:07.231279Z",
     "start_time": "2023-05-28T17:16:07.215141Z"
    }
   },
   "outputs": [
    {
     "name": "stdout",
     "output_type": "stream",
     "text": [
      "[9, 12, 23, 45, 54, 76, 86, 99]\n"
     ]
    }
   ],
   "source": [
    "print(sorted(list_numbers))"
   ]
  },
  {
   "cell_type": "code",
   "execution_count": 171,
   "id": "453025c9",
   "metadata": {
    "ExecuteTime": {
     "end_time": "2023-05-28T17:16:07.429305Z",
     "start_time": "2023-05-28T17:16:07.414866Z"
    }
   },
   "outputs": [
    {
     "data": {
      "text/plain": [
       "[23, 86, 54, 12, 9, 99, 76, 45]"
      ]
     },
     "execution_count": 171,
     "metadata": {},
     "output_type": "execute_result"
    }
   ],
   "source": [
    "list_numbers"
   ]
  },
  {
   "cell_type": "markdown",
   "id": "60a318e7",
   "metadata": {},
   "source": [
    "### Slicing a list"
   ]
  },
  {
   "cell_type": "code",
   "execution_count": 172,
   "id": "938c0d98",
   "metadata": {
    "ExecuteTime": {
     "end_time": "2023-05-28T17:16:07.858374Z",
     "start_time": "2023-05-28T17:16:07.849381Z"
    }
   },
   "outputs": [
    {
     "data": {
      "text/plain": [
       "[23, 86, 54, 12, 9]"
      ]
     },
     "execution_count": 172,
     "metadata": {},
     "output_type": "execute_result"
    }
   ],
   "source": [
    "list_numbers[0:5]"
   ]
  },
  {
   "cell_type": "code",
   "execution_count": 173,
   "id": "803385d1",
   "metadata": {
    "ExecuteTime": {
     "end_time": "2023-05-28T17:16:08.394091Z",
     "start_time": "2023-05-28T17:16:08.367269Z"
    }
   },
   "outputs": [
    {
     "data": {
      "text/plain": [
       "[86, 54, 12, 9]"
      ]
     },
     "execution_count": 173,
     "metadata": {},
     "output_type": "execute_result"
    }
   ],
   "source": [
    "list_numbers[1:5]"
   ]
  },
  {
   "cell_type": "code",
   "execution_count": 174,
   "id": "6a23d054",
   "metadata": {
    "ExecuteTime": {
     "end_time": "2023-05-28T17:16:08.586100Z",
     "start_time": "2023-05-28T17:16:08.576209Z"
    }
   },
   "outputs": [
    {
     "data": {
      "text/plain": [
       "[23, 86, 54, 12, 9]"
      ]
     },
     "execution_count": 174,
     "metadata": {},
     "output_type": "execute_result"
    }
   ],
   "source": [
    "list_numbers[:5]"
   ]
  },
  {
   "cell_type": "code",
   "execution_count": 175,
   "id": "d87fb1cd",
   "metadata": {
    "ExecuteTime": {
     "end_time": "2023-05-28T17:16:08.747753Z",
     "start_time": "2023-05-28T17:16:08.738430Z"
    }
   },
   "outputs": [
    {
     "data": {
      "text/plain": [
       "[23, 86, 54, 12, 9]"
      ]
     },
     "execution_count": 175,
     "metadata": {},
     "output_type": "execute_result"
    }
   ],
   "source": [
    "list_numbers[:-3]"
   ]
  },
  {
   "cell_type": "code",
   "execution_count": 176,
   "id": "430ca467",
   "metadata": {
    "ExecuteTime": {
     "end_time": "2023-05-28T17:16:09.001494Z",
     "start_time": "2023-05-28T17:16:08.992177Z"
    }
   },
   "outputs": [
    {
     "data": {
      "text/plain": [
       "['Fayrooz',\n",
       " 'Polycap',\n",
       " 'Joyce',\n",
       " 'Ibrahim',\n",
       " 'Heak',\n",
       " 'Tomi',\n",
       " 'Ochanya',\n",
       " 'Thomas',\n",
       " 'James',\n",
       " 'Martha']"
      ]
     },
     "execution_count": 176,
     "metadata": {},
     "output_type": "execute_result"
    }
   ],
   "source": [
    "sunday_list"
   ]
  },
  {
   "cell_type": "code",
   "execution_count": 177,
   "id": "d20402a8",
   "metadata": {
    "ExecuteTime": {
     "end_time": "2023-05-28T17:16:09.167330Z",
     "start_time": "2023-05-28T17:16:09.146017Z"
    }
   },
   "outputs": [
    {
     "data": {
      "text/plain": [
       "['Fayrooz', 'Polycap', 'Joyce', 'Ibrahim', 'Heak', 'Tomi', 'Ochanya']"
      ]
     },
     "execution_count": 177,
     "metadata": {},
     "output_type": "execute_result"
    }
   ],
   "source": [
    "sunday_list[:-3]"
   ]
  },
  {
   "cell_type": "code",
   "execution_count": 178,
   "id": "a995cf26",
   "metadata": {
    "ExecuteTime": {
     "end_time": "2023-05-28T17:16:09.339833Z",
     "start_time": "2023-05-28T17:16:09.310928Z"
    }
   },
   "outputs": [],
   "source": [
    "# dawood.taoheed94@gmail.com - Share notebook"
   ]
  },
  {
   "cell_type": "code",
   "execution_count": 179,
   "id": "18542e99",
   "metadata": {
    "ExecuteTime": {
     "end_time": "2023-05-28T17:16:09.491046Z",
     "start_time": "2023-05-28T17:16:09.482991Z"
    }
   },
   "outputs": [
    {
     "data": {
      "text/plain": [
       "['Joyce', 'Ibrahim', 'Heak', 'Tomi', 'Ochanya']"
      ]
     },
     "execution_count": 179,
     "metadata": {},
     "output_type": "execute_result"
    }
   ],
   "source": [
    "sunday_list[2:-3]"
   ]
  },
  {
   "cell_type": "markdown",
   "id": "60f21e2e",
   "metadata": {},
   "source": [
    "### Copying a list"
   ]
  },
  {
   "cell_type": "code",
   "execution_count": 180,
   "id": "b3d8a671",
   "metadata": {
    "ExecuteTime": {
     "end_time": "2023-05-28T17:16:12.032204Z",
     "start_time": "2023-05-28T17:16:12.024192Z"
    }
   },
   "outputs": [],
   "source": [
    "sunday_list_1 = sunday_list[:]"
   ]
  },
  {
   "cell_type": "code",
   "execution_count": 181,
   "id": "b3d16e35",
   "metadata": {
    "ExecuteTime": {
     "end_time": "2023-05-28T17:16:12.217138Z",
     "start_time": "2023-05-28T17:16:12.196264Z"
    }
   },
   "outputs": [
    {
     "data": {
      "text/plain": [
       "['Fayrooz',\n",
       " 'Polycap',\n",
       " 'Joyce',\n",
       " 'Ibrahim',\n",
       " 'Heak',\n",
       " 'Tomi',\n",
       " 'Ochanya',\n",
       " 'Thomas',\n",
       " 'James',\n",
       " 'Martha']"
      ]
     },
     "execution_count": 181,
     "metadata": {},
     "output_type": "execute_result"
    }
   ],
   "source": [
    "sunday_list_1"
   ]
  },
  {
   "cell_type": "markdown",
   "id": "88bde1d9",
   "metadata": {
    "ExecuteTime": {
     "end_time": "2023-04-16T18:35:22.128902Z",
     "start_time": "2023-04-16T18:35:22.111906Z"
    }
   },
   "source": [
    "### List Comprehension "
   ]
  },
  {
   "cell_type": "code",
   "execution_count": 182,
   "id": "1d3e31b6",
   "metadata": {
    "ExecuteTime": {
     "end_time": "2023-05-28T17:16:12.589876Z",
     "start_time": "2023-05-28T17:16:12.584599Z"
    }
   },
   "outputs": [],
   "source": [
    "even_numbers = list(range(0, 11, 2))"
   ]
  },
  {
   "cell_type": "code",
   "execution_count": 183,
   "id": "922bd6da",
   "metadata": {
    "ExecuteTime": {
     "end_time": "2023-05-28T17:16:12.832487Z",
     "start_time": "2023-05-28T17:16:12.821599Z"
    }
   },
   "outputs": [
    {
     "name": "stdout",
     "output_type": "stream",
     "text": [
      "[0, 2, 4, 6, 8, 10]\n"
     ]
    }
   ],
   "source": [
    "print(even_numbers)"
   ]
  },
  {
   "cell_type": "markdown",
   "id": "b91aa9cf",
   "metadata": {},
   "source": [
    "### Writing a for loop"
   ]
  },
  {
   "cell_type": "code",
   "execution_count": 184,
   "id": "0a72e84d",
   "metadata": {
    "ExecuteTime": {
     "end_time": "2023-05-28T17:16:13.261827Z",
     "start_time": "2023-05-28T17:16:13.232853Z"
    }
   },
   "outputs": [
    {
     "name": "stdout",
     "output_type": "stream",
     "text": [
      "0\n",
      "4\n",
      "16\n",
      "36\n",
      "64\n",
      "100\n"
     ]
    }
   ],
   "source": [
    "for num in even_numbers: \n",
    "    print(num ** 2)"
   ]
  },
  {
   "cell_type": "code",
   "execution_count": 185,
   "id": "18400fab",
   "metadata": {
    "ExecuteTime": {
     "end_time": "2023-05-28T17:16:13.405613Z",
     "start_time": "2023-05-28T17:16:13.388236Z"
    }
   },
   "outputs": [
    {
     "name": "stdout",
     "output_type": "stream",
     "text": [
      "fayrooz\n",
      "polycap\n",
      "joyce\n",
      "ibrahim\n",
      "heak\n",
      "tomi\n",
      "ochanya\n",
      "thomas\n",
      "james\n",
      "martha\n"
     ]
    }
   ],
   "source": [
    "for names in sunday_list:\n",
    "    print(names.lower())"
   ]
  },
  {
   "cell_type": "code",
   "execution_count": 186,
   "id": "6ab8ef28",
   "metadata": {
    "ExecuteTime": {
     "end_time": "2023-05-28T17:16:13.594152Z",
     "start_time": "2023-05-28T17:16:13.579452Z"
    }
   },
   "outputs": [
    {
     "name": "stdout",
     "output_type": "stream",
     "text": [
      "[1, 4, 9, 16, 25, 36, 49, 64, 81, 100, 121, 144, 169, 196, 225, 256, 289, 324, 361, 400]\n"
     ]
    }
   ],
   "source": [
    "squares = []\n",
    "for value in range(1, 21):\n",
    "    square = value ** 2 \n",
    "    squares.append(square)\n",
    "print(squares)"
   ]
  },
  {
   "cell_type": "code",
   "execution_count": 187,
   "id": "ebc21690",
   "metadata": {
    "ExecuteTime": {
     "end_time": "2023-05-28T17:16:13.746378Z",
     "start_time": "2023-05-28T17:16:13.740446Z"
    }
   },
   "outputs": [],
   "source": [
    "squares = [value ** 2 for value in range(1,21)] # List comprehension "
   ]
  },
  {
   "cell_type": "code",
   "execution_count": 188,
   "id": "9841e361",
   "metadata": {
    "ExecuteTime": {
     "end_time": "2023-05-28T17:16:14.157449Z",
     "start_time": "2023-05-28T17:16:14.151881Z"
    }
   },
   "outputs": [
    {
     "name": "stdout",
     "output_type": "stream",
     "text": [
      "[1, 4, 9, 16, 25, 36, 49, 64, 81, 100, 121, 144, 169, 196, 225, 256, 289, 324, 361, 400]\n"
     ]
    }
   ],
   "source": [
    "print(squares)"
   ]
  },
  {
   "cell_type": "markdown",
   "id": "3d6ae6a5",
   "metadata": {},
   "source": [
    "### Errors when working with lists"
   ]
  },
  {
   "cell_type": "code",
   "execution_count": 189,
   "id": "7acb345a",
   "metadata": {
    "ExecuteTime": {
     "end_time": "2023-05-28T17:16:14.629684Z",
     "start_time": "2023-05-28T17:16:14.585954Z"
    }
   },
   "outputs": [
    {
     "name": "stdout",
     "output_type": "stream",
     "text": [
      "[1, 4, 9, 16, 25, 36, 49, 64, 81, 100, 121, 144, 169, 196, 225, 256, 289, 324, 361, 400]\n"
     ]
    }
   ],
   "source": [
    "print(squares)"
   ]
  },
  {
   "cell_type": "code",
   "execution_count": 190,
   "id": "c81a4e99",
   "metadata": {
    "ExecuteTime": {
     "end_time": "2023-05-28T17:16:14.803738Z",
     "start_time": "2023-05-28T17:16:14.784048Z"
    }
   },
   "outputs": [
    {
     "ename": "IndexError",
     "evalue": "list index out of range",
     "output_type": "error",
     "traceback": [
      "\u001b[0;31m---------------------------------------------------------------------------\u001b[0m",
      "\u001b[0;31mIndexError\u001b[0m                                Traceback (most recent call last)",
      "Cell \u001b[0;32mIn[190], line 1\u001b[0m\n\u001b[0;32m----> 1\u001b[0m \u001b[38;5;28mprint\u001b[39m(\u001b[43msquares\u001b[49m\u001b[43m[\u001b[49m\u001b[38;5;241;43m24\u001b[39;49m\u001b[43m]\u001b[49m)\n",
      "\u001b[0;31mIndexError\u001b[0m: list index out of range"
     ]
    }
   ],
   "source": [
    "print(squares[24])"
   ]
  },
  {
   "cell_type": "code",
   "execution_count": 191,
   "id": "8f30faba",
   "metadata": {
    "ExecuteTime": {
     "end_time": "2023-05-28T17:16:15.200714Z",
     "start_time": "2023-05-28T17:16:15.178827Z"
    }
   },
   "outputs": [
    {
     "data": {
      "text/plain": [
       "20"
      ]
     },
     "execution_count": 191,
     "metadata": {},
     "output_type": "execute_result"
    }
   ],
   "source": [
    "len(squares)"
   ]
  },
  {
   "cell_type": "markdown",
   "id": "d835960c",
   "metadata": {},
   "source": [
    "## Tuple"
   ]
  },
  {
   "cell_type": "code",
   "execution_count": 192,
   "id": "1a55727c",
   "metadata": {
    "ExecuteTime": {
     "end_time": "2023-05-28T17:16:15.452333Z",
     "start_time": "2023-05-28T17:16:15.447035Z"
    }
   },
   "outputs": [],
   "source": [
    "# A Tuple is immutable - Elements in a tuple can't be modified \n",
    "# It is created using ()\n",
    "# Elements in tuple are sequenced\n",
    "# A use case for storing data in a tuple - Integrity"
   ]
  },
  {
   "cell_type": "code",
   "execution_count": 193,
   "id": "e3e26e32",
   "metadata": {
    "ExecuteTime": {
     "end_time": "2023-05-28T17:16:15.714974Z",
     "start_time": "2023-05-28T17:16:15.683602Z"
    }
   },
   "outputs": [],
   "source": [
    "# Lists\n",
    "# Tuples\n",
    "# Sets\n",
    "# Dictionaries "
   ]
  },
  {
   "cell_type": "markdown",
   "id": "5467a502",
   "metadata": {},
   "source": [
    "### Create a tuple"
   ]
  },
  {
   "cell_type": "code",
   "execution_count": 194,
   "id": "fe3d7a61",
   "metadata": {
    "ExecuteTime": {
     "end_time": "2023-05-28T17:16:15.984316Z",
     "start_time": "2023-05-28T17:16:15.979757Z"
    }
   },
   "outputs": [],
   "source": [
    "# Using a tuple function\n",
    "squares_t = tuple(squares)"
   ]
  },
  {
   "cell_type": "code",
   "execution_count": 195,
   "id": "000ccca8",
   "metadata": {
    "ExecuteTime": {
     "end_time": "2023-05-28T17:16:16.338217Z",
     "start_time": "2023-05-28T17:16:16.328099Z"
    }
   },
   "outputs": [
    {
     "data": {
      "text/plain": [
       "list"
      ]
     },
     "execution_count": 195,
     "metadata": {},
     "output_type": "execute_result"
    }
   ],
   "source": [
    "type(squares)"
   ]
  },
  {
   "cell_type": "code",
   "execution_count": 196,
   "id": "21d030af",
   "metadata": {
    "ExecuteTime": {
     "end_time": "2023-05-28T17:16:16.772924Z",
     "start_time": "2023-05-28T17:16:16.764232Z"
    }
   },
   "outputs": [
    {
     "name": "stdout",
     "output_type": "stream",
     "text": [
      "[1, 4, 9, 16, 25, 36, 49, 64, 81, 100, 121, 144, 169, 196, 225, 256, 289, 324, 361, 400]\n"
     ]
    }
   ],
   "source": [
    "print(squares)"
   ]
  },
  {
   "cell_type": "code",
   "execution_count": 197,
   "id": "5c8af5dc",
   "metadata": {
    "ExecuteTime": {
     "end_time": "2023-05-28T17:16:17.191469Z",
     "start_time": "2023-05-28T17:16:17.180048Z"
    }
   },
   "outputs": [
    {
     "data": {
      "text/plain": [
       "tuple"
      ]
     },
     "execution_count": 197,
     "metadata": {},
     "output_type": "execute_result"
    }
   ],
   "source": [
    "type(squares_t)"
   ]
  },
  {
   "cell_type": "code",
   "execution_count": 198,
   "id": "01973025",
   "metadata": {
    "ExecuteTime": {
     "end_time": "2023-05-28T17:16:17.551570Z",
     "start_time": "2023-05-28T17:16:17.546619Z"
    }
   },
   "outputs": [
    {
     "name": "stdout",
     "output_type": "stream",
     "text": [
      "(1, 4, 9, 16, 25, 36, 49, 64, 81, 100, 121, 144, 169, 196, 225, 256, 289, 324, 361, 400)\n"
     ]
    }
   ],
   "source": [
    "print(squares_t)"
   ]
  },
  {
   "cell_type": "code",
   "execution_count": 199,
   "id": "a0760a24",
   "metadata": {
    "ExecuteTime": {
     "end_time": "2023-05-28T17:16:18.093139Z",
     "start_time": "2023-05-28T17:16:18.089483Z"
    }
   },
   "outputs": [],
   "source": [
    "tuple_numbers = (2,3,4,5,6,7,8,9)"
   ]
  },
  {
   "cell_type": "code",
   "execution_count": 200,
   "id": "4a292601",
   "metadata": {
    "ExecuteTime": {
     "end_time": "2023-05-28T17:16:18.298254Z",
     "start_time": "2023-05-28T17:16:18.291466Z"
    }
   },
   "outputs": [
    {
     "data": {
      "text/plain": [
       "(2, 3, 4, 5, 6, 7, 8, 9)"
      ]
     },
     "execution_count": 200,
     "metadata": {},
     "output_type": "execute_result"
    }
   ],
   "source": [
    "tuple_numbers"
   ]
  },
  {
   "cell_type": "code",
   "execution_count": 201,
   "id": "3aed6fde",
   "metadata": {
    "ExecuteTime": {
     "end_time": "2023-05-28T17:16:18.579587Z",
     "start_time": "2023-05-28T17:16:18.573841Z"
    }
   },
   "outputs": [
    {
     "data": {
      "text/plain": [
       "16"
      ]
     },
     "execution_count": 201,
     "metadata": {},
     "output_type": "execute_result"
    }
   ],
   "source": [
    "squares[3]"
   ]
  },
  {
   "cell_type": "code",
   "execution_count": 202,
   "id": "2d4e52a3",
   "metadata": {
    "ExecuteTime": {
     "end_time": "2023-05-28T17:16:18.880722Z",
     "start_time": "2023-05-28T17:16:18.874397Z"
    }
   },
   "outputs": [
    {
     "data": {
      "text/plain": [
       "16"
      ]
     },
     "execution_count": 202,
     "metadata": {},
     "output_type": "execute_result"
    }
   ],
   "source": [
    "squares_t[3]"
   ]
  },
  {
   "cell_type": "markdown",
   "id": "4d5ef663",
   "metadata": {},
   "source": [
    "### Methods for tuples"
   ]
  },
  {
   "cell_type": "code",
   "execution_count": 203,
   "id": "74f7a0d2",
   "metadata": {
    "ExecuteTime": {
     "end_time": "2023-05-28T17:16:20.115482Z",
     "start_time": "2023-05-28T17:16:20.108094Z"
    }
   },
   "outputs": [
    {
     "data": {
      "text/plain": [
       "['__add__',\n",
       " '__class__',\n",
       " '__class_getitem__',\n",
       " '__contains__',\n",
       " '__delattr__',\n",
       " '__dir__',\n",
       " '__doc__',\n",
       " '__eq__',\n",
       " '__format__',\n",
       " '__ge__',\n",
       " '__getattribute__',\n",
       " '__getitem__',\n",
       " '__getnewargs__',\n",
       " '__gt__',\n",
       " '__hash__',\n",
       " '__init__',\n",
       " '__init_subclass__',\n",
       " '__iter__',\n",
       " '__le__',\n",
       " '__len__',\n",
       " '__lt__',\n",
       " '__mul__',\n",
       " '__ne__',\n",
       " '__new__',\n",
       " '__reduce__',\n",
       " '__reduce_ex__',\n",
       " '__repr__',\n",
       " '__rmul__',\n",
       " '__setattr__',\n",
       " '__sizeof__',\n",
       " '__str__',\n",
       " '__subclasshook__',\n",
       " 'count',\n",
       " 'index']"
      ]
     },
     "execution_count": 203,
     "metadata": {},
     "output_type": "execute_result"
    }
   ],
   "source": [
    "dir(squares_t)"
   ]
  },
  {
   "cell_type": "code",
   "execution_count": 204,
   "id": "ac51227a",
   "metadata": {
    "ExecuteTime": {
     "end_time": "2023-05-28T17:16:20.523480Z",
     "start_time": "2023-05-28T17:16:20.516646Z"
    }
   },
   "outputs": [
    {
     "data": {
      "text/plain": [
       "8"
      ]
     },
     "execution_count": 204,
     "metadata": {},
     "output_type": "execute_result"
    }
   ],
   "source": [
    "3 + 5 "
   ]
  },
  {
   "cell_type": "code",
   "execution_count": 205,
   "id": "2bc93ba7",
   "metadata": {
    "ExecuteTime": {
     "end_time": "2023-05-28T17:16:20.964894Z",
     "start_time": "2023-05-28T17:16:20.959516Z"
    }
   },
   "outputs": [
    {
     "data": {
      "text/plain": [
       "8"
      ]
     },
     "execution_count": 205,
     "metadata": {},
     "output_type": "execute_result"
    }
   ],
   "source": [
    "(3) .__add__ (5)"
   ]
  },
  {
   "cell_type": "markdown",
   "id": "09d352e8",
   "metadata": {},
   "source": [
    "### Tuple Methods\n",
    "\n",
    "'count',\n",
    " 'index'"
   ]
  },
  {
   "cell_type": "code",
   "execution_count": 206,
   "id": "30843145",
   "metadata": {
    "ExecuteTime": {
     "end_time": "2023-05-28T17:16:21.701530Z",
     "start_time": "2023-05-28T17:16:21.676967Z"
    }
   },
   "outputs": [
    {
     "data": {
      "text/plain": [
       "1"
      ]
     },
     "execution_count": 206,
     "metadata": {},
     "output_type": "execute_result"
    }
   ],
   "source": [
    "squares_t.count(64)"
   ]
  },
  {
   "cell_type": "code",
   "execution_count": 207,
   "id": "65728c23",
   "metadata": {
    "ExecuteTime": {
     "end_time": "2023-05-28T17:16:21.925359Z",
     "start_time": "2023-05-28T17:16:21.918730Z"
    }
   },
   "outputs": [
    {
     "data": {
      "text/plain": [
       "7"
      ]
     },
     "execution_count": 207,
     "metadata": {},
     "output_type": "execute_result"
    }
   ],
   "source": [
    "squares_t.index(64)"
   ]
  },
  {
   "cell_type": "code",
   "execution_count": 208,
   "id": "7b587ef8",
   "metadata": {
    "ExecuteTime": {
     "end_time": "2023-05-28T17:16:22.702321Z",
     "start_time": "2023-05-28T17:16:22.695600Z"
    }
   },
   "outputs": [
    {
     "data": {
      "text/plain": [
       "(2, 3, 4, 5, 6, 7, 8, 9)"
      ]
     },
     "execution_count": 208,
     "metadata": {},
     "output_type": "execute_result"
    }
   ],
   "source": [
    "# Try to modify \n",
    "tuple_numbers"
   ]
  },
  {
   "cell_type": "code",
   "execution_count": 209,
   "id": "02cfa2ba",
   "metadata": {
    "ExecuteTime": {
     "end_time": "2023-05-28T17:16:23.091713Z",
     "start_time": "2023-05-28T17:16:23.069619Z"
    }
   },
   "outputs": [
    {
     "ename": "TypeError",
     "evalue": "'tuple' object does not support item assignment",
     "output_type": "error",
     "traceback": [
      "\u001b[0;31m---------------------------------------------------------------------------\u001b[0m",
      "\u001b[0;31mTypeError\u001b[0m                                 Traceback (most recent call last)",
      "Cell \u001b[0;32mIn[209], line 1\u001b[0m\n\u001b[0;32m----> 1\u001b[0m tuple_numbers[\u001b[38;5;241m7\u001b[39m] \u001b[38;5;241m=\u001b[39m \u001b[38;5;241m10\u001b[39m\n",
      "\u001b[0;31mTypeError\u001b[0m: 'tuple' object does not support item assignment"
     ]
    }
   ],
   "source": [
    "tuple_numbers[7] = 10 "
   ]
  },
  {
   "cell_type": "code",
   "execution_count": 210,
   "id": "0ba4414e",
   "metadata": {
    "ExecuteTime": {
     "end_time": "2023-05-28T17:16:23.360003Z",
     "start_time": "2023-05-28T17:16:23.355634Z"
    }
   },
   "outputs": [],
   "source": [
    "tuple_numbers_list = list(tuple_numbers)"
   ]
  },
  {
   "cell_type": "code",
   "execution_count": 211,
   "id": "9245e7c2",
   "metadata": {
    "ExecuteTime": {
     "end_time": "2023-05-28T17:16:23.578373Z",
     "start_time": "2023-05-28T17:16:23.521172Z"
    }
   },
   "outputs": [
    {
     "data": {
      "text/plain": [
       "[2, 3, 4, 5, 6, 7, 8, 9]"
      ]
     },
     "execution_count": 211,
     "metadata": {},
     "output_type": "execute_result"
    }
   ],
   "source": [
    "tuple_numbers_list"
   ]
  },
  {
   "cell_type": "code",
   "execution_count": 212,
   "id": "d8ce509d",
   "metadata": {
    "ExecuteTime": {
     "end_time": "2023-05-28T17:16:23.691345Z",
     "start_time": "2023-05-28T17:16:23.686651Z"
    }
   },
   "outputs": [],
   "source": [
    "tuple_numbers_list[7] = 10"
   ]
  },
  {
   "cell_type": "code",
   "execution_count": 213,
   "id": "49c3277e",
   "metadata": {
    "ExecuteTime": {
     "end_time": "2023-05-28T17:16:23.916534Z",
     "start_time": "2023-05-28T17:16:23.910386Z"
    }
   },
   "outputs": [
    {
     "data": {
      "text/plain": [
       "[2, 3, 4, 5, 6, 7, 8, 10]"
      ]
     },
     "execution_count": 213,
     "metadata": {},
     "output_type": "execute_result"
    }
   ],
   "source": [
    "tuple_numbers_list"
   ]
  },
  {
   "cell_type": "code",
   "execution_count": 214,
   "id": "52febc52",
   "metadata": {
    "ExecuteTime": {
     "end_time": "2023-05-28T17:16:24.744760Z",
     "start_time": "2023-05-28T17:16:24.740504Z"
    }
   },
   "outputs": [],
   "source": [
    "# Concatenate tuples\n",
    "squares_t += tuple_numbers"
   ]
  },
  {
   "cell_type": "code",
   "execution_count": 215,
   "id": "c7968348",
   "metadata": {
    "ExecuteTime": {
     "end_time": "2023-05-28T17:16:24.960961Z",
     "start_time": "2023-05-28T17:16:24.956761Z"
    }
   },
   "outputs": [
    {
     "name": "stdout",
     "output_type": "stream",
     "text": [
      "(1, 4, 9, 16, 25, 36, 49, 64, 81, 100, 121, 144, 169, 196, 225, 256, 289, 324, 361, 400, 2, 3, 4, 5, 6, 7, 8, 9)\n"
     ]
    }
   ],
   "source": [
    "print(squares_t)"
   ]
  },
  {
   "cell_type": "code",
   "execution_count": 216,
   "id": "a00f3267",
   "metadata": {
    "ExecuteTime": {
     "end_time": "2023-05-28T17:16:25.306522Z",
     "start_time": "2023-05-28T17:16:25.300196Z"
    }
   },
   "outputs": [
    {
     "data": {
      "text/plain": [
       "140437623871680"
      ]
     },
     "execution_count": 216,
     "metadata": {},
     "output_type": "execute_result"
    }
   ],
   "source": [
    "id(squares_t)"
   ]
  },
  {
   "cell_type": "code",
   "execution_count": 217,
   "id": "0e781325",
   "metadata": {
    "ExecuteTime": {
     "end_time": "2023-05-28T17:16:25.540887Z",
     "start_time": "2023-05-28T17:16:25.521647Z"
    }
   },
   "outputs": [
    {
     "data": {
      "text/plain": [
       "(2, 3, 4, 5, 6, 7, 8, 9)"
      ]
     },
     "execution_count": 217,
     "metadata": {},
     "output_type": "execute_result"
    }
   ],
   "source": [
    "tuple_numbers"
   ]
  },
  {
   "cell_type": "code",
   "execution_count": 218,
   "id": "77c5bffc",
   "metadata": {
    "ExecuteTime": {
     "end_time": "2023-05-28T17:16:25.678694Z",
     "start_time": "2023-05-28T17:16:25.668741Z"
    }
   },
   "outputs": [
    {
     "data": {
      "text/plain": [
       "140437625440576"
      ]
     },
     "execution_count": 218,
     "metadata": {},
     "output_type": "execute_result"
    }
   ],
   "source": [
    "id(tuple_numbers)"
   ]
  },
  {
   "cell_type": "code",
   "execution_count": 219,
   "id": "a3b09e7e",
   "metadata": {
    "ExecuteTime": {
     "end_time": "2023-05-28T17:16:25.887579Z",
     "start_time": "2023-05-28T17:16:25.879418Z"
    }
   },
   "outputs": [],
   "source": [
    "tuple_numbers = (2, 3, 4, 5, 6, 7, 8, 9, 10)"
   ]
  },
  {
   "cell_type": "code",
   "execution_count": 220,
   "id": "a0730558",
   "metadata": {
    "ExecuteTime": {
     "end_time": "2023-05-28T17:16:26.081918Z",
     "start_time": "2023-05-28T17:16:26.059011Z"
    }
   },
   "outputs": [
    {
     "data": {
      "text/plain": [
       "140437625661120"
      ]
     },
     "execution_count": 220,
     "metadata": {},
     "output_type": "execute_result"
    }
   ],
   "source": [
    "id(tuple_numbers)"
   ]
  },
  {
   "cell_type": "code",
   "execution_count": null,
   "id": "99d1aa2f",
   "metadata": {},
   "outputs": [],
   "source": []
  },
  {
   "cell_type": "markdown",
   "id": "8523b445",
   "metadata": {},
   "source": [
    "## Dictionary"
   ]
  },
  {
   "cell_type": "code",
   "execution_count": 221,
   "id": "2572a531",
   "metadata": {
    "ExecuteTime": {
     "end_time": "2023-05-28T17:16:26.639923Z",
     "start_time": "2023-05-28T17:16:26.622157Z"
    }
   },
   "outputs": [],
   "source": [
    "# Ordered \n",
    "# Can be modified == It is mutable\n",
    "# Use {} to create a dict\n",
    "# They have key value pairs"
   ]
  },
  {
   "cell_type": "code",
   "execution_count": 222,
   "id": "9987fb19",
   "metadata": {
    "ExecuteTime": {
     "end_time": "2023-05-28T17:16:26.901049Z",
     "start_time": "2023-05-28T17:16:26.898137Z"
    }
   },
   "outputs": [],
   "source": [
    "# Different data structures \n",
    "# [] - list, Tuple - ()"
   ]
  },
  {
   "cell_type": "code",
   "execution_count": 223,
   "id": "682f67f0",
   "metadata": {
    "ExecuteTime": {
     "end_time": "2023-05-28T17:16:27.137397Z",
     "start_time": "2023-05-28T17:16:27.113763Z"
    }
   },
   "outputs": [],
   "source": [
    "my_profile = {'name': 'Pablo', 'fav_color': 'blue', 'location': 'Kaduna'}"
   ]
  },
  {
   "cell_type": "code",
   "execution_count": 224,
   "id": "a1f62c7f",
   "metadata": {
    "ExecuteTime": {
     "end_time": "2023-05-28T17:16:27.363842Z",
     "start_time": "2023-05-28T17:16:27.344858Z"
    }
   },
   "outputs": [
    {
     "name": "stdout",
     "output_type": "stream",
     "text": [
      "{'name': 'Pablo', 'fav_color': 'blue', 'location': 'Kaduna'}\n"
     ]
    }
   ],
   "source": [
    "print(my_profile)"
   ]
  },
  {
   "cell_type": "code",
   "execution_count": 225,
   "id": "402f7f21",
   "metadata": {
    "ExecuteTime": {
     "end_time": "2023-05-28T17:16:27.531870Z",
     "start_time": "2023-05-28T17:16:27.524454Z"
    }
   },
   "outputs": [],
   "source": [
    "profile_1 = dict(profile1 = '@pablo', profile2 = '@joyce', profile= '@slim')"
   ]
  },
  {
   "cell_type": "code",
   "execution_count": 226,
   "id": "32e7c59c",
   "metadata": {
    "ExecuteTime": {
     "end_time": "2023-05-28T17:16:27.726201Z",
     "start_time": "2023-05-28T17:16:27.719154Z"
    }
   },
   "outputs": [
    {
     "name": "stdout",
     "output_type": "stream",
     "text": [
      "{'profile1': '@pablo', 'profile2': '@joyce', 'profile': '@slim'}\n"
     ]
    }
   ],
   "source": [
    "print(profile_1)"
   ]
  },
  {
   "cell_type": "code",
   "execution_count": 227,
   "id": "f379c4a0",
   "metadata": {
    "ExecuteTime": {
     "end_time": "2023-05-28T17:16:27.971912Z",
     "start_time": "2023-05-28T17:16:27.962249Z"
    }
   },
   "outputs": [],
   "source": [
    "# Nested dictionary, nested list \n",
    "instagram_profile = {'@p_26': {'first_name': 'Pablo',\n",
    "                             'location': 'Kaduna', \n",
    "                             'Gender': 'Male',\n",
    "                             'number of followers': 345},\n",
    "                    '@slim_shehu': {'first_name': 'Slim',\n",
    "                             'location': 'Kaduna', \n",
    "                             'Gender': 'Male',\n",
    "                             'number of followers': 10000}}"
   ]
  },
  {
   "cell_type": "code",
   "execution_count": 228,
   "id": "032e3a2f",
   "metadata": {
    "ExecuteTime": {
     "end_time": "2023-05-28T17:16:28.153849Z",
     "start_time": "2023-05-28T17:16:28.147223Z"
    }
   },
   "outputs": [
    {
     "name": "stdout",
     "output_type": "stream",
     "text": [
      "{'@p_26': {'first_name': 'Pablo', 'location': 'Kaduna', 'Gender': 'Male', 'number of followers': 345}, '@slim_shehu': {'first_name': 'Slim', 'location': 'Kaduna', 'Gender': 'Male', 'number of followers': 10000}}\n"
     ]
    }
   ],
   "source": [
    "print(instagram_profile)"
   ]
  },
  {
   "cell_type": "code",
   "execution_count": 229,
   "id": "8f9834ba",
   "metadata": {
    "ExecuteTime": {
     "end_time": "2023-05-28T17:16:28.383516Z",
     "start_time": "2023-05-28T17:16:28.379765Z"
    }
   },
   "outputs": [],
   "source": [
    "# Dictionary with a nested list\n",
    "student_data = {\n",
    "    'name': ['Jack', 'Riti', 'Aadi'],\n",
    "    'age': [34, 30, 16],\n",
    "    'city': ['Sydney', 'Delhi', 'New york']\n",
    "}"
   ]
  },
  {
   "cell_type": "code",
   "execution_count": 230,
   "id": "5394774f",
   "metadata": {
    "ExecuteTime": {
     "end_time": "2023-05-28T17:16:28.647932Z",
     "start_time": "2023-05-28T17:16:28.639427Z"
    }
   },
   "outputs": [
    {
     "name": "stdout",
     "output_type": "stream",
     "text": [
      "{'name': ['Jack', 'Riti', 'Aadi'], 'age': [34, 30, 16], 'city': ['Sydney', 'Delhi', 'New york']}\n"
     ]
    }
   ],
   "source": [
    "print(student_data)"
   ]
  },
  {
   "cell_type": "code",
   "execution_count": 231,
   "id": "f5aa377a",
   "metadata": {
    "ExecuteTime": {
     "end_time": "2023-05-28T17:16:28.892020Z",
     "start_time": "2023-05-28T17:16:28.852761Z"
    }
   },
   "outputs": [
    {
     "data": {
      "text/plain": [
       "['Jack', 'Riti', 'Aadi']"
      ]
     },
     "execution_count": 231,
     "metadata": {},
     "output_type": "execute_result"
    }
   ],
   "source": [
    "student_data['name'] # Accessed the value using it's key"
   ]
  },
  {
   "cell_type": "code",
   "execution_count": 232,
   "id": "294437fd",
   "metadata": {
    "ExecuteTime": {
     "end_time": "2023-05-28T17:16:29.266594Z",
     "start_time": "2023-05-28T17:16:29.262408Z"
    }
   },
   "outputs": [],
   "source": [
    "student_data['course'] = ['Data Science', 'Software Engineering', 'Product Design']"
   ]
  },
  {
   "cell_type": "code",
   "execution_count": 233,
   "id": "6f5a5456",
   "metadata": {
    "ExecuteTime": {
     "end_time": "2023-05-28T17:16:29.443921Z",
     "start_time": "2023-05-28T17:16:29.435827Z"
    }
   },
   "outputs": [
    {
     "data": {
      "text/plain": [
       "{'name': ['Jack', 'Riti', 'Aadi'],\n",
       " 'age': [34, 30, 16],\n",
       " 'city': ['Sydney', 'Delhi', 'New york'],\n",
       " 'course': ['Data Science', 'Software Engineering', 'Product Design']}"
      ]
     },
     "execution_count": 233,
     "metadata": {},
     "output_type": "execute_result"
    }
   ],
   "source": [
    "student_data # Added a value"
   ]
  },
  {
   "cell_type": "code",
   "execution_count": 234,
   "id": "d4e51f96",
   "metadata": {
    "ExecuteTime": {
     "end_time": "2023-05-28T17:16:29.647966Z",
     "start_time": "2023-05-28T17:16:29.627351Z"
    }
   },
   "outputs": [],
   "source": [
    "student_data['course'] = ['Data Science', 'Data Engineering', 'Product Design']# Modify the values"
   ]
  },
  {
   "cell_type": "code",
   "execution_count": 235,
   "id": "cc354b4d",
   "metadata": {
    "ExecuteTime": {
     "end_time": "2023-05-28T17:16:29.775794Z",
     "start_time": "2023-05-28T17:16:29.755859Z"
    }
   },
   "outputs": [],
   "source": [
    "del student_data['city'] # Remove values from a dict "
   ]
  },
  {
   "cell_type": "code",
   "execution_count": 236,
   "id": "3a2d6acb",
   "metadata": {
    "ExecuteTime": {
     "end_time": "2023-05-28T17:16:29.952599Z",
     "start_time": "2023-05-28T17:16:29.946975Z"
    }
   },
   "outputs": [
    {
     "data": {
      "text/plain": [
       "{'name': ['Jack', 'Riti', 'Aadi'],\n",
       " 'age': [34, 30, 16],\n",
       " 'course': ['Data Science', 'Data Engineering', 'Product Design']}"
      ]
     },
     "execution_count": 236,
     "metadata": {},
     "output_type": "execute_result"
    }
   ],
   "source": [
    "student_data"
   ]
  },
  {
   "cell_type": "code",
   "execution_count": null,
   "id": "806353f0",
   "metadata": {},
   "outputs": [],
   "source": []
  },
  {
   "cell_type": "code",
   "execution_count": 237,
   "id": "87d7cedd",
   "metadata": {
    "ExecuteTime": {
     "end_time": "2023-05-28T17:16:30.529598Z",
     "start_time": "2023-05-28T17:16:30.524661Z"
    }
   },
   "outputs": [],
   "source": [
    "import pandas as pd "
   ]
  },
  {
   "cell_type": "code",
   "execution_count": 238,
   "id": "0aeaf565",
   "metadata": {
    "ExecuteTime": {
     "end_time": "2023-05-28T17:16:30.771304Z",
     "start_time": "2023-05-28T17:16:30.760029Z"
    }
   },
   "outputs": [],
   "source": [
    "student_data = pd.DataFrame(student_data)"
   ]
  },
  {
   "cell_type": "code",
   "execution_count": 239,
   "id": "1e6bd0cc",
   "metadata": {
    "ExecuteTime": {
     "end_time": "2023-05-28T17:16:31.004703Z",
     "start_time": "2023-05-28T17:16:30.994364Z"
    }
   },
   "outputs": [
    {
     "data": {
      "text/html": [
       "<div>\n",
       "<style scoped>\n",
       "    .dataframe tbody tr th:only-of-type {\n",
       "        vertical-align: middle;\n",
       "    }\n",
       "\n",
       "    .dataframe tbody tr th {\n",
       "        vertical-align: top;\n",
       "    }\n",
       "\n",
       "    .dataframe thead th {\n",
       "        text-align: right;\n",
       "    }\n",
       "</style>\n",
       "<table border=\"1\" class=\"dataframe\">\n",
       "  <thead>\n",
       "    <tr style=\"text-align: right;\">\n",
       "      <th></th>\n",
       "      <th>name</th>\n",
       "      <th>age</th>\n",
       "      <th>course</th>\n",
       "    </tr>\n",
       "  </thead>\n",
       "  <tbody>\n",
       "    <tr>\n",
       "      <th>0</th>\n",
       "      <td>Jack</td>\n",
       "      <td>34</td>\n",
       "      <td>Data Science</td>\n",
       "    </tr>\n",
       "    <tr>\n",
       "      <th>1</th>\n",
       "      <td>Riti</td>\n",
       "      <td>30</td>\n",
       "      <td>Data Engineering</td>\n",
       "    </tr>\n",
       "    <tr>\n",
       "      <th>2</th>\n",
       "      <td>Aadi</td>\n",
       "      <td>16</td>\n",
       "      <td>Product Design</td>\n",
       "    </tr>\n",
       "  </tbody>\n",
       "</table>\n",
       "</div>"
      ],
      "text/plain": [
       "   name  age            course\n",
       "0  Jack   34      Data Science\n",
       "1  Riti   30  Data Engineering\n",
       "2  Aadi   16    Product Design"
      ]
     },
     "execution_count": 239,
     "metadata": {},
     "output_type": "execute_result"
    }
   ],
   "source": [
    "student_data"
   ]
  },
  {
   "cell_type": "code",
   "execution_count": 240,
   "id": "d7ad33ce",
   "metadata": {
    "ExecuteTime": {
     "end_time": "2023-05-28T17:16:31.210528Z",
     "start_time": "2023-05-28T17:16:31.190811Z"
    }
   },
   "outputs": [
    {
     "data": {
      "text/plain": [
       "[2, 3, 4, 5, 6, 7, 8, 10]"
      ]
     },
     "execution_count": 240,
     "metadata": {},
     "output_type": "execute_result"
    }
   ],
   "source": [
    "tuple_numbers_list"
   ]
  },
  {
   "cell_type": "code",
   "execution_count": 241,
   "id": "209cdef2",
   "metadata": {
    "ExecuteTime": {
     "end_time": "2023-05-28T17:16:31.450771Z",
     "start_time": "2023-05-28T17:16:31.444574Z"
    }
   },
   "outputs": [],
   "source": [
    "list_table = pd.DataFrame(tuple_numbers_list)"
   ]
  },
  {
   "cell_type": "code",
   "execution_count": 242,
   "id": "c5d817fe",
   "metadata": {
    "ExecuteTime": {
     "end_time": "2023-05-28T17:16:41.288899Z",
     "start_time": "2023-05-28T17:16:31.676077Z"
    }
   },
   "outputs": [
    {
     "name": "stdout",
     "output_type": "stream",
     "text": [
      "112 ns ± 20.8 ns per loop (mean ± std. dev. of 7 runs, 10,000,000 loops each)\n"
     ]
    }
   ],
   "source": [
    "%%timeit \n",
    "tuple_numbers_list[3]"
   ]
  },
  {
   "cell_type": "code",
   "execution_count": 243,
   "id": "a24cca38",
   "metadata": {
    "ExecuteTime": {
     "end_time": "2023-05-28T17:16:41.370896Z",
     "start_time": "2023-05-28T17:16:41.356694Z"
    }
   },
   "outputs": [],
   "source": [
    "student_data = {\n",
    "    'name': ['Jack', 'Riti', 'Aadi'],\n",
    "    'age': [34, 30, 16],\n",
    "    'city': ['Sydney', 'Delhi', 'New york']\n",
    "}"
   ]
  },
  {
   "cell_type": "code",
   "execution_count": 244,
   "id": "c2c2bfde",
   "metadata": {
    "ExecuteTime": {
     "end_time": "2023-05-28T17:16:41.414562Z",
     "start_time": "2023-05-28T17:16:41.397944Z"
    }
   },
   "outputs": [
    {
     "data": {
      "text/plain": [
       "['Jack', 'Riti', 'Aadi']"
      ]
     },
     "execution_count": 244,
     "metadata": {},
     "output_type": "execute_result"
    }
   ],
   "source": [
    "student_data['name']"
   ]
  },
  {
   "cell_type": "code",
   "execution_count": 245,
   "id": "910ef4a6",
   "metadata": {
    "ExecuteTime": {
     "end_time": "2023-05-28T17:16:41.440218Z",
     "start_time": "2023-05-28T17:16:41.427171Z"
    }
   },
   "outputs": [
    {
     "data": {
      "text/plain": [
       "['__class__',\n",
       " '__class_getitem__',\n",
       " '__contains__',\n",
       " '__delattr__',\n",
       " '__delitem__',\n",
       " '__dir__',\n",
       " '__doc__',\n",
       " '__eq__',\n",
       " '__format__',\n",
       " '__ge__',\n",
       " '__getattribute__',\n",
       " '__getitem__',\n",
       " '__gt__',\n",
       " '__hash__',\n",
       " '__init__',\n",
       " '__init_subclass__',\n",
       " '__ior__',\n",
       " '__iter__',\n",
       " '__le__',\n",
       " '__len__',\n",
       " '__lt__',\n",
       " '__ne__',\n",
       " '__new__',\n",
       " '__or__',\n",
       " '__reduce__',\n",
       " '__reduce_ex__',\n",
       " '__repr__',\n",
       " '__reversed__',\n",
       " '__ror__',\n",
       " '__setattr__',\n",
       " '__setitem__',\n",
       " '__sizeof__',\n",
       " '__str__',\n",
       " '__subclasshook__',\n",
       " 'clear',\n",
       " 'copy',\n",
       " 'fromkeys',\n",
       " 'get',\n",
       " 'items',\n",
       " 'keys',\n",
       " 'pop',\n",
       " 'popitem',\n",
       " 'setdefault',\n",
       " 'update',\n",
       " 'values']"
      ]
     },
     "execution_count": 245,
     "metadata": {},
     "output_type": "execute_result"
    }
   ],
   "source": [
    "dir(student_data)"
   ]
  },
  {
   "cell_type": "markdown",
   "id": "ef4e4b06",
   "metadata": {},
   "source": [
    "### Dictionary Methods\n",
    "\n",
    "'clear',\n",
    " 'copy',\n",
    " 'fromkeys',\n",
    " 'get',\n",
    " 'items',\n",
    " 'keys',\n",
    " 'pop',\n",
    " 'popitem',\n",
    " 'setdefault',\n",
    " 'update',\n",
    " 'values'"
   ]
  },
  {
   "cell_type": "code",
   "execution_count": 249,
   "id": "0d1ef94f",
   "metadata": {
    "ExecuteTime": {
     "end_time": "2023-05-28T17:20:55.672870Z",
     "start_time": "2023-05-28T17:20:55.666170Z"
    }
   },
   "outputs": [],
   "source": [
    "#dir(student_data)"
   ]
  },
  {
   "cell_type": "code",
   "execution_count": 250,
   "id": "b9d58b37",
   "metadata": {
    "ExecuteTime": {
     "end_time": "2023-05-28T17:20:56.308687Z",
     "start_time": "2023-05-28T17:20:56.290136Z"
    }
   },
   "outputs": [
    {
     "ename": "KeyError",
     "evalue": "'location'",
     "output_type": "error",
     "traceback": [
      "\u001b[0;31m---------------------------------------------------------------------------\u001b[0m",
      "\u001b[0;31mKeyError\u001b[0m                                  Traceback (most recent call last)",
      "Cell \u001b[0;32mIn[250], line 1\u001b[0m\n\u001b[0;32m----> 1\u001b[0m \u001b[43mstudent_data\u001b[49m\u001b[43m[\u001b[49m\u001b[38;5;124;43m'\u001b[39;49m\u001b[38;5;124;43mlocation\u001b[39;49m\u001b[38;5;124;43m'\u001b[39;49m\u001b[43m]\u001b[49m\n",
      "\u001b[0;31mKeyError\u001b[0m: 'location'"
     ]
    }
   ],
   "source": [
    "student_data['location']"
   ]
  },
  {
   "cell_type": "code",
   "execution_count": 251,
   "id": "9addec4b",
   "metadata": {
    "ExecuteTime": {
     "end_time": "2023-05-28T17:21:00.665407Z",
     "start_time": "2023-05-28T17:21:00.652209Z"
    }
   },
   "outputs": [
    {
     "data": {
      "text/plain": [
       "'Not inside'"
      ]
     },
     "execution_count": 251,
     "metadata": {},
     "output_type": "execute_result"
    }
   ],
   "source": [
    "student_data.get('location', 'Not inside') # get method "
   ]
  },
  {
   "cell_type": "code",
   "execution_count": 252,
   "id": "8e70e597",
   "metadata": {
    "ExecuteTime": {
     "end_time": "2023-05-28T17:21:01.456198Z",
     "start_time": "2023-05-28T17:21:01.451027Z"
    }
   },
   "outputs": [],
   "source": [
    "student = {}"
   ]
  },
  {
   "cell_type": "code",
   "execution_count": 253,
   "id": "ad5afe93",
   "metadata": {
    "ExecuteTime": {
     "end_time": "2023-05-28T17:21:02.054748Z",
     "start_time": "2023-05-28T17:21:02.044424Z"
    }
   },
   "outputs": [
    {
     "data": {
      "text/plain": [
       "dict"
      ]
     },
     "execution_count": 253,
     "metadata": {},
     "output_type": "execute_result"
    }
   ],
   "source": [
    "type(student)"
   ]
  },
  {
   "cell_type": "code",
   "execution_count": 254,
   "id": "b16e164e",
   "metadata": {
    "ExecuteTime": {
     "end_time": "2023-05-28T17:21:02.544216Z",
     "start_time": "2023-05-28T17:21:02.539984Z"
    }
   },
   "outputs": [],
   "source": [
    "student_data_1 = {'Pablo': [True, 41, 'Kaduna', 'Data Science']}"
   ]
  },
  {
   "cell_type": "code",
   "execution_count": 255,
   "id": "56ed432a",
   "metadata": {
    "ExecuteTime": {
     "end_time": "2023-05-28T17:21:02.995560Z",
     "start_time": "2023-05-28T17:21:02.990914Z"
    }
   },
   "outputs": [],
   "source": [
    "student_data_1.clear() # Clear method"
   ]
  },
  {
   "cell_type": "code",
   "execution_count": 256,
   "id": "3607b2a3",
   "metadata": {
    "ExecuteTime": {
     "end_time": "2023-05-28T17:21:03.532916Z",
     "start_time": "2023-05-28T17:21:03.527967Z"
    }
   },
   "outputs": [
    {
     "data": {
      "text/plain": [
       "{}"
      ]
     },
     "execution_count": 256,
     "metadata": {},
     "output_type": "execute_result"
    }
   ],
   "source": [
    "student_data_1"
   ]
  },
  {
   "cell_type": "code",
   "execution_count": 257,
   "id": "6f466871",
   "metadata": {
    "ExecuteTime": {
     "end_time": "2023-05-28T17:21:04.280557Z",
     "start_time": "2023-05-28T17:21:04.266406Z"
    }
   },
   "outputs": [],
   "source": [
    "student_data_copy = student_data.copy() # Copy method"
   ]
  },
  {
   "cell_type": "code",
   "execution_count": 258,
   "id": "6e66fe08",
   "metadata": {
    "ExecuteTime": {
     "end_time": "2023-05-28T17:21:05.268791Z",
     "start_time": "2023-05-28T17:21:05.264089Z"
    }
   },
   "outputs": [
    {
     "data": {
      "text/plain": [
       "{'name': ['Jack', 'Riti', 'Aadi'],\n",
       " 'age': [34, 30, 16],\n",
       " 'city': ['Sydney', 'Delhi', 'New york']}"
      ]
     },
     "execution_count": 258,
     "metadata": {},
     "output_type": "execute_result"
    }
   ],
   "source": [
    "student_data_copy"
   ]
  },
  {
   "cell_type": "code",
   "execution_count": 259,
   "id": "8ddeca92",
   "metadata": {
    "ExecuteTime": {
     "end_time": "2023-05-28T17:21:06.188959Z",
     "start_time": "2023-05-28T17:21:06.184921Z"
    }
   },
   "outputs": [],
   "source": [
    "# Looping through a list\n",
    "list_persons = ['Jessy', 'Pablo', 'Moses']"
   ]
  },
  {
   "cell_type": "markdown",
   "id": "c833eb6c",
   "metadata": {},
   "source": [
    "### Working with Dictionaries "
   ]
  },
  {
   "cell_type": "code",
   "execution_count": 262,
   "id": "7afa652d",
   "metadata": {
    "ExecuteTime": {
     "end_time": "2023-05-28T17:22:18.543887Z",
     "start_time": "2023-05-28T17:22:18.534559Z"
    }
   },
   "outputs": [
    {
     "name": "stdout",
     "output_type": "stream",
     "text": [
      "jessy\n",
      "pablo\n",
      "moses\n"
     ]
    }
   ],
   "source": [
    "for names in list_persons: # Looping a through a list\n",
    "    print(names.lower())"
   ]
  },
  {
   "cell_type": "code",
   "execution_count": 261,
   "id": "1eba3c52",
   "metadata": {
    "ExecuteTime": {
     "end_time": "2023-05-28T17:21:10.881112Z",
     "start_time": "2023-05-28T17:21:10.875478Z"
    }
   },
   "outputs": [
    {
     "name": "stdout",
     "output_type": "stream",
     "text": [
      "\n",
      "Key: name\n",
      "Value: ['Jack', 'Riti', 'Aadi']\n",
      "\n",
      "Key: age\n",
      "Value: [34, 30, 16]\n",
      "\n",
      "Key: city\n",
      "Value: ['Sydney', 'Delhi', 'New york']\n"
     ]
    }
   ],
   "source": [
    "# Looping through a dictionary \n",
    "for data, data_value in student_data.items(): # Looped through key and value pairs\n",
    "    print(f\"\\nKey: {data}\")\n",
    "    print(f\"Value: {data_value}\")"
   ]
  },
  {
   "cell_type": "code",
   "execution_count": 263,
   "id": "a09e394c",
   "metadata": {
    "ExecuteTime": {
     "end_time": "2023-05-28T17:24:09.901235Z",
     "start_time": "2023-05-28T17:24:09.898071Z"
    }
   },
   "outputs": [
    {
     "name": "stdout",
     "output_type": "stream",
     "text": [
      "Name\n",
      "Age\n",
      "City\n"
     ]
    }
   ],
   "source": [
    "for data in student_data.keys(): # Loop through just keys\n",
    "    print(data.title())"
   ]
  },
  {
   "cell_type": "code",
   "execution_count": 264,
   "id": "da2a8d22",
   "metadata": {
    "ExecuteTime": {
     "end_time": "2023-05-28T17:25:33.019361Z",
     "start_time": "2023-05-28T17:25:33.014897Z"
    }
   },
   "outputs": [
    {
     "name": "stdout",
     "output_type": "stream",
     "text": [
      "['Jack', 'Riti', 'Aadi']\n",
      "[34, 30, 16]\n",
      "['Sydney', 'Delhi', 'New york']\n"
     ]
    }
   ],
   "source": [
    "for data_value in student_data.values():\n",
    "    print(data_value)"
   ]
  },
  {
   "cell_type": "code",
   "execution_count": 265,
   "id": "8e8fa03b",
   "metadata": {
    "ExecuteTime": {
     "end_time": "2023-05-28T17:29:22.411567Z",
     "start_time": "2023-05-28T17:29:22.345476Z"
    }
   },
   "outputs": [],
   "source": [
    "program_lang = {'Pablo': 'Python',\n",
    "               'Angelica': 'C#',\n",
    "               'Jamal': 'Java',\n",
    "               'Maria': 'JavaScript'}"
   ]
  },
  {
   "cell_type": "code",
   "execution_count": 268,
   "id": "f4ab22a6",
   "metadata": {
    "ExecuteTime": {
     "end_time": "2023-05-28T17:32:31.197458Z",
     "start_time": "2023-05-28T17:32:31.190993Z"
    }
   },
   "outputs": [
    {
     "name": "stdout",
     "output_type": "stream",
     "text": [
      "Angelica, thank you for sharing your favorite language\n",
      "Jamal, thank you for sharing your favorite language\n",
      "Maria, thank you for sharing your favorite language\n",
      "Pablo, thank you for sharing your favorite language\n"
     ]
    }
   ],
   "source": [
    "for lang in sorted(program_lang.keys()):\n",
    "    print(f\"{lang.title()}, thank you for sharing your favorite language\")\n",
    "    "
   ]
  },
  {
   "cell_type": "markdown",
   "id": "a0f66078",
   "metadata": {},
   "source": [
    "### Nesting"
   ]
  },
  {
   "cell_type": "code",
   "execution_count": 269,
   "id": "db8e15d7",
   "metadata": {
    "ExecuteTime": {
     "end_time": "2023-05-28T17:33:37.520089Z",
     "start_time": "2023-05-28T17:33:37.506856Z"
    }
   },
   "outputs": [
    {
     "data": {
      "text/plain": [
       "{'name': ['Jack', 'Riti', 'Aadi'],\n",
       " 'age': [34, 30, 16],\n",
       " 'city': ['Sydney', 'Delhi', 'New york']}"
      ]
     },
     "execution_count": 269,
     "metadata": {},
     "output_type": "execute_result"
    }
   ],
   "source": [
    "student_data"
   ]
  },
  {
   "cell_type": "code",
   "execution_count": 272,
   "id": "aae88433",
   "metadata": {
    "ExecuteTime": {
     "end_time": "2023-05-28T17:37:35.536286Z",
     "start_time": "2023-05-28T17:37:35.531122Z"
    }
   },
   "outputs": [],
   "source": [
    "first_list = {'name': 'Pablo', 'fave color': 'blue'}\n",
    "second_list = {'name': 'Maria', 'fave color': 'Purple'}\n",
    "third_list = {'name': 'Angelica', 'fave color': 'White'}"
   ]
  },
  {
   "cell_type": "code",
   "execution_count": 273,
   "id": "0997acd0",
   "metadata": {
    "ExecuteTime": {
     "end_time": "2023-05-28T17:38:06.289357Z",
     "start_time": "2023-05-28T17:38:06.284996Z"
    }
   },
   "outputs": [],
   "source": [
    "all_list = [first_list, second_list, third_list]"
   ]
  },
  {
   "cell_type": "code",
   "execution_count": 274,
   "id": "1ae29af6",
   "metadata": {
    "ExecuteTime": {
     "end_time": "2023-05-28T17:38:11.965228Z",
     "start_time": "2023-05-28T17:38:11.958824Z"
    }
   },
   "outputs": [
    {
     "data": {
      "text/plain": [
       "[{'name': 'Pablo', 'fave color': 'blue'},\n",
       " {'name': 'Maria', 'fave color': 'Purple'},\n",
       " {'name': 'Angelica', 'fave color': 'White'}]"
      ]
     },
     "execution_count": 274,
     "metadata": {},
     "output_type": "execute_result"
    }
   ],
   "source": [
    "all_list"
   ]
  },
  {
   "cell_type": "code",
   "execution_count": 275,
   "id": "30aeb80c",
   "metadata": {
    "ExecuteTime": {
     "end_time": "2023-05-28T17:39:40.467420Z",
     "start_time": "2023-05-28T17:39:40.445011Z"
    }
   },
   "outputs": [
    {
     "data": {
      "text/plain": [
       "list"
      ]
     },
     "execution_count": 275,
     "metadata": {},
     "output_type": "execute_result"
    }
   ],
   "source": [
    "type(all_list)"
   ]
  },
  {
   "cell_type": "code",
   "execution_count": 276,
   "id": "123b4e06",
   "metadata": {
    "ExecuteTime": {
     "end_time": "2023-05-28T17:40:30.847398Z",
     "start_time": "2023-05-28T17:40:30.835799Z"
    }
   },
   "outputs": [
    {
     "data": {
      "text/plain": [
       "{'name': 'Angelica', 'fave color': 'White'}"
      ]
     },
     "execution_count": 276,
     "metadata": {},
     "output_type": "execute_result"
    }
   ],
   "source": [
    "all_list[2]"
   ]
  },
  {
   "cell_type": "code",
   "execution_count": 277,
   "id": "f6d76acd",
   "metadata": {
    "ExecuteTime": {
     "end_time": "2023-05-28T17:42:49.487768Z",
     "start_time": "2023-05-28T17:42:49.480679Z"
    }
   },
   "outputs": [
    {
     "data": {
      "text/plain": [
       "{'name': ['Jack', 'Riti', 'Aadi'],\n",
       " 'age': [34, 30, 16],\n",
       " 'city': ['Sydney', 'Delhi', 'New york']}"
      ]
     },
     "execution_count": 277,
     "metadata": {},
     "output_type": "execute_result"
    }
   ],
   "source": [
    "student_data"
   ]
  },
  {
   "cell_type": "code",
   "execution_count": 278,
   "id": "080a2c89",
   "metadata": {
    "ExecuteTime": {
     "end_time": "2023-05-28T17:46:12.755770Z",
     "start_time": "2023-05-28T17:46:12.742698Z"
    }
   },
   "outputs": [],
   "source": [
    "program_lang_nest = {'Pablo': ['Python', 'C#', 'Rust'],\n",
    "               'Angelica': ['C#', 'Python', 'JavaScript'],\n",
    "               'Jamal': ['Java', 'C++', 'Kotlin'],\n",
    "               'Maria': ['JavaScript', 'Flutter', 'Dart']}"
   ]
  },
  {
   "cell_type": "code",
   "execution_count": 279,
   "id": "5355fc00",
   "metadata": {
    "ExecuteTime": {
     "end_time": "2023-05-28T17:46:19.566847Z",
     "start_time": "2023-05-28T17:46:19.558840Z"
    }
   },
   "outputs": [
    {
     "data": {
      "text/plain": [
       "{'Pablo': ['Python', 'C#', 'Rust'],\n",
       " 'Angelica': ['C#', 'Python', 'JavaScript'],\n",
       " 'Jamal': ['Java', 'C++', 'Kotlin'],\n",
       " 'Maria': ['JavaScript', 'Flutter', 'Dart']}"
      ]
     },
     "execution_count": 279,
     "metadata": {},
     "output_type": "execute_result"
    }
   ],
   "source": [
    "program_lang_nest"
   ]
  },
  {
   "cell_type": "markdown",
   "id": "445cd0c1",
   "metadata": {},
   "source": [
    "# Sets"
   ]
  },
  {
   "cell_type": "code",
   "execution_count": null,
   "id": "2405ccaa",
   "metadata": {},
   "outputs": [],
   "source": [
    "# Unordered \n",
    "# Computing Mathematical Operations [Intersection, Union, Difference, Symmetric Difference]\n",
    "# Removes duplicates\n",
    "# Test for membership of elements \n",
    "# It doesn't supoort indexing, slicing"
   ]
  },
  {
   "cell_type": "markdown",
   "id": "ab40b222",
   "metadata": {},
   "source": [
    "### Create sets"
   ]
  },
  {
   "cell_type": "code",
   "execution_count": 280,
   "id": "09190158",
   "metadata": {
    "ExecuteTime": {
     "end_time": "2023-05-28T17:59:13.422988Z",
     "start_time": "2023-05-28T17:59:13.418904Z"
    }
   },
   "outputs": [],
   "source": [
    "numbers_set = {1,2,2,3,4,4,4,5,6,6,6,7}"
   ]
  },
  {
   "cell_type": "code",
   "execution_count": 281,
   "id": "cda6a230",
   "metadata": {
    "ExecuteTime": {
     "end_time": "2023-05-28T17:59:26.859546Z",
     "start_time": "2023-05-28T17:59:26.852176Z"
    }
   },
   "outputs": [
    {
     "data": {
      "text/plain": [
       "set"
      ]
     },
     "execution_count": 281,
     "metadata": {},
     "output_type": "execute_result"
    }
   ],
   "source": [
    "type(numbers_set)"
   ]
  },
  {
   "cell_type": "code",
   "execution_count": 282,
   "id": "7a14d7ce",
   "metadata": {
    "ExecuteTime": {
     "end_time": "2023-05-28T17:59:35.974602Z",
     "start_time": "2023-05-28T17:59:35.963152Z"
    }
   },
   "outputs": [
    {
     "name": "stdout",
     "output_type": "stream",
     "text": [
      "{1, 2, 3, 4, 5, 6, 7}\n"
     ]
    }
   ],
   "source": [
    "print(numbers_set)"
   ]
  },
  {
   "cell_type": "code",
   "execution_count": 283,
   "id": "1b2b5afe",
   "metadata": {
    "ExecuteTime": {
     "end_time": "2023-05-28T17:59:55.929240Z",
     "start_time": "2023-05-28T17:59:55.920478Z"
    }
   },
   "outputs": [
    {
     "data": {
      "text/plain": [
       "{1, 2, 3, 4, 5, 6, 7}"
      ]
     },
     "execution_count": 283,
     "metadata": {},
     "output_type": "execute_result"
    }
   ],
   "source": [
    "numbers_set"
   ]
  },
  {
   "cell_type": "code",
   "execution_count": 284,
   "id": "fbca4777",
   "metadata": {
    "ExecuteTime": {
     "end_time": "2023-05-28T18:01:06.572032Z",
     "start_time": "2023-05-28T18:01:06.567741Z"
    }
   },
   "outputs": [],
   "source": [
    "names_set = {\"Pablo\", \"Maria\", \"Jamal\", \"Angelica\"}"
   ]
  },
  {
   "cell_type": "code",
   "execution_count": 285,
   "id": "074a12d7",
   "metadata": {
    "ExecuteTime": {
     "end_time": "2023-05-28T18:01:11.617320Z",
     "start_time": "2023-05-28T18:01:11.608668Z"
    }
   },
   "outputs": [
    {
     "data": {
      "text/plain": [
       "{'Angelica', 'Jamal', 'Maria', 'Pablo'}"
      ]
     },
     "execution_count": 285,
     "metadata": {},
     "output_type": "execute_result"
    }
   ],
   "source": [
    "names_set"
   ]
  },
  {
   "cell_type": "code",
   "execution_count": 287,
   "id": "edb9da7c",
   "metadata": {
    "ExecuteTime": {
     "end_time": "2023-05-28T18:02:30.148495Z",
     "start_time": "2023-05-28T18:02:30.141627Z"
    }
   },
   "outputs": [],
   "source": [
    "# Use a set function to convert another data structure into a set\n",
    "list_number_set = set(list_number)"
   ]
  },
  {
   "cell_type": "code",
   "execution_count": 288,
   "id": "4bb8fc3f",
   "metadata": {
    "ExecuteTime": {
     "end_time": "2023-05-28T18:02:37.944794Z",
     "start_time": "2023-05-28T18:02:37.898689Z"
    }
   },
   "outputs": [
    {
     "data": {
      "text/plain": [
       "set"
      ]
     },
     "execution_count": 288,
     "metadata": {},
     "output_type": "execute_result"
    }
   ],
   "source": [
    "type(list_number_set)"
   ]
  },
  {
   "cell_type": "code",
   "execution_count": 291,
   "id": "6a3d77d0",
   "metadata": {
    "ExecuteTime": {
     "end_time": "2023-05-28T18:02:52.928574Z",
     "start_time": "2023-05-28T18:02:52.918652Z"
    }
   },
   "outputs": [
    {
     "data": {
      "text/plain": [
       "{23, 45, 56, 67}"
      ]
     },
     "execution_count": 291,
     "metadata": {},
     "output_type": "execute_result"
    }
   ],
   "source": [
    "list_number_set"
   ]
  },
  {
   "cell_type": "code",
   "execution_count": 292,
   "id": "65972b55",
   "metadata": {
    "ExecuteTime": {
     "end_time": "2023-05-28T18:05:16.940320Z",
     "start_time": "2023-05-28T18:05:16.923708Z"
    }
   },
   "outputs": [
    {
     "data": {
      "text/plain": [
       "False"
      ]
     },
     "execution_count": 292,
     "metadata": {},
     "output_type": "execute_result"
    }
   ],
   "source": [
    "# Elements inside a set is also known as members\n",
    "5 in list_number_set"
   ]
  },
  {
   "cell_type": "code",
   "execution_count": 293,
   "id": "e1093866",
   "metadata": {
    "ExecuteTime": {
     "end_time": "2023-05-28T18:05:54.556537Z",
     "start_time": "2023-05-28T18:05:54.506459Z"
    }
   },
   "outputs": [
    {
     "name": "stdout",
     "output_type": "stream",
     "text": [
      "3136\n",
      "4489\n",
      "2025\n",
      "529\n"
     ]
    }
   ],
   "source": [
    "for nums in list_number_set:\n",
    "    print(nums ** 2)"
   ]
  },
  {
   "cell_type": "code",
   "execution_count": 294,
   "id": "02082321",
   "metadata": {
    "ExecuteTime": {
     "end_time": "2023-05-28T18:07:10.526155Z",
     "start_time": "2023-05-28T18:07:10.509651Z"
    }
   },
   "outputs": [
    {
     "data": {
      "text/plain": [
       "['__and__',\n",
       " '__class__',\n",
       " '__class_getitem__',\n",
       " '__contains__',\n",
       " '__delattr__',\n",
       " '__dir__',\n",
       " '__doc__',\n",
       " '__eq__',\n",
       " '__format__',\n",
       " '__ge__',\n",
       " '__getattribute__',\n",
       " '__gt__',\n",
       " '__hash__',\n",
       " '__iand__',\n",
       " '__init__',\n",
       " '__init_subclass__',\n",
       " '__ior__',\n",
       " '__isub__',\n",
       " '__iter__',\n",
       " '__ixor__',\n",
       " '__le__',\n",
       " '__len__',\n",
       " '__lt__',\n",
       " '__ne__',\n",
       " '__new__',\n",
       " '__or__',\n",
       " '__rand__',\n",
       " '__reduce__',\n",
       " '__reduce_ex__',\n",
       " '__repr__',\n",
       " '__ror__',\n",
       " '__rsub__',\n",
       " '__rxor__',\n",
       " '__setattr__',\n",
       " '__sizeof__',\n",
       " '__str__',\n",
       " '__sub__',\n",
       " '__subclasshook__',\n",
       " '__xor__',\n",
       " 'add',\n",
       " 'clear',\n",
       " 'copy',\n",
       " 'difference',\n",
       " 'difference_update',\n",
       " 'discard',\n",
       " 'intersection',\n",
       " 'intersection_update',\n",
       " 'isdisjoint',\n",
       " 'issubset',\n",
       " 'issuperset',\n",
       " 'pop',\n",
       " 'remove',\n",
       " 'symmetric_difference',\n",
       " 'symmetric_difference_update',\n",
       " 'union',\n",
       " 'update']"
      ]
     },
     "execution_count": 294,
     "metadata": {},
     "output_type": "execute_result"
    }
   ],
   "source": [
    "dir(list_number_set)"
   ]
  },
  {
   "cell_type": "code",
   "execution_count": null,
   "id": "06c95ff1",
   "metadata": {},
   "outputs": [],
   "source": [
    "# Add items to a set\n",
    "# 'add', 'update'"
   ]
  },
  {
   "cell_type": "code",
   "execution_count": 295,
   "id": "68398e89",
   "metadata": {
    "ExecuteTime": {
     "end_time": "2023-05-28T18:08:03.927667Z",
     "start_time": "2023-05-28T18:08:03.919333Z"
    }
   },
   "outputs": [
    {
     "data": {
      "text/plain": [
       "{23, 45, 56, 67}"
      ]
     },
     "execution_count": 295,
     "metadata": {},
     "output_type": "execute_result"
    }
   ],
   "source": [
    "list_number_set"
   ]
  },
  {
   "cell_type": "code",
   "execution_count": 297,
   "id": "5c74842d",
   "metadata": {
    "ExecuteTime": {
     "end_time": "2023-05-28T18:08:33.476329Z",
     "start_time": "2023-05-28T18:08:33.458982Z"
    }
   },
   "outputs": [],
   "source": [
    "list_number_set.add(46)"
   ]
  },
  {
   "cell_type": "code",
   "execution_count": 298,
   "id": "a6082116",
   "metadata": {
    "ExecuteTime": {
     "end_time": "2023-05-28T18:08:38.765202Z",
     "start_time": "2023-05-28T18:08:38.748692Z"
    }
   },
   "outputs": [
    {
     "data": {
      "text/plain": [
       "{23, 45, 46, 56, 67}"
      ]
     },
     "execution_count": 298,
     "metadata": {},
     "output_type": "execute_result"
    }
   ],
   "source": [
    "list_number_set"
   ]
  },
  {
   "cell_type": "code",
   "execution_count": 299,
   "id": "2fddf242",
   "metadata": {
    "ExecuteTime": {
     "end_time": "2023-05-28T18:09:03.451738Z",
     "start_time": "2023-05-28T18:09:03.400059Z"
    }
   },
   "outputs": [
    {
     "ename": "TypeError",
     "evalue": "set.add() takes exactly one argument (3 given)",
     "output_type": "error",
     "traceback": [
      "\u001b[0;31m---------------------------------------------------------------------------\u001b[0m",
      "\u001b[0;31mTypeError\u001b[0m                                 Traceback (most recent call last)",
      "Cell \u001b[0;32mIn[299], line 1\u001b[0m\n\u001b[0;32m----> 1\u001b[0m \u001b[43mlist_number_set\u001b[49m\u001b[38;5;241;43m.\u001b[39;49m\u001b[43madd\u001b[49m\u001b[43m(\u001b[49m\u001b[38;5;241;43m46\u001b[39;49m\u001b[43m,\u001b[49m\u001b[38;5;241;43m78\u001b[39;49m\u001b[43m,\u001b[49m\u001b[38;5;241;43m100\u001b[39;49m\u001b[43m)\u001b[49m\n",
      "\u001b[0;31mTypeError\u001b[0m: set.add() takes exactly one argument (3 given)"
     ]
    }
   ],
   "source": [
    "list_number_set.add(46,78,100)"
   ]
  },
  {
   "cell_type": "code",
   "execution_count": 301,
   "id": "8bfa6f4b",
   "metadata": {
    "ExecuteTime": {
     "end_time": "2023-05-28T18:09:52.684448Z",
     "start_time": "2023-05-28T18:09:52.662712Z"
    }
   },
   "outputs": [],
   "source": [
    "list_number_set.update([46,78,100]) # Add multiple items"
   ]
  },
  {
   "cell_type": "code",
   "execution_count": 303,
   "id": "3a50c880",
   "metadata": {
    "ExecuteTime": {
     "end_time": "2023-05-28T18:10:02.202932Z",
     "start_time": "2023-05-28T18:10:02.190690Z"
    }
   },
   "outputs": [
    {
     "data": {
      "text/plain": [
       "{23, 45, 46, 56, 67, 78, 100}"
      ]
     },
     "execution_count": 303,
     "metadata": {},
     "output_type": "execute_result"
    }
   ],
   "source": [
    "list_number_set"
   ]
  },
  {
   "cell_type": "code",
   "execution_count": null,
   "id": "9e55d1bd",
   "metadata": {},
   "outputs": [],
   "source": [
    "# Remove items \n",
    "# 'discard', 'pop', 'remove'"
   ]
  },
  {
   "cell_type": "code",
   "execution_count": 304,
   "id": "cb956494",
   "metadata": {
    "ExecuteTime": {
     "end_time": "2023-05-28T18:11:31.115154Z",
     "start_time": "2023-05-28T18:11:31.094656Z"
    }
   },
   "outputs": [],
   "source": [
    "list_number_set.remove(100) # Removes items from a set"
   ]
  },
  {
   "cell_type": "code",
   "execution_count": 305,
   "id": "904a2fb1",
   "metadata": {
    "ExecuteTime": {
     "end_time": "2023-05-28T18:11:53.237312Z",
     "start_time": "2023-05-28T18:11:53.229963Z"
    }
   },
   "outputs": [
    {
     "data": {
      "text/plain": [
       "{23, 45, 46, 56, 67, 78}"
      ]
     },
     "execution_count": 305,
     "metadata": {},
     "output_type": "execute_result"
    }
   ],
   "source": [
    "list_number_set"
   ]
  },
  {
   "cell_type": "code",
   "execution_count": 306,
   "id": "dada16a7",
   "metadata": {
    "ExecuteTime": {
     "end_time": "2023-05-28T18:12:18.824613Z",
     "start_time": "2023-05-28T18:12:18.804522Z"
    }
   },
   "outputs": [
    {
     "ename": "KeyError",
     "evalue": "19",
     "output_type": "error",
     "traceback": [
      "\u001b[0;31m---------------------------------------------------------------------------\u001b[0m",
      "\u001b[0;31mKeyError\u001b[0m                                  Traceback (most recent call last)",
      "Cell \u001b[0;32mIn[306], line 1\u001b[0m\n\u001b[0;32m----> 1\u001b[0m \u001b[43mlist_number_set\u001b[49m\u001b[38;5;241;43m.\u001b[39;49m\u001b[43mremove\u001b[49m\u001b[43m(\u001b[49m\u001b[38;5;241;43m19\u001b[39;49m\u001b[43m)\u001b[49m\n",
      "\u001b[0;31mKeyError\u001b[0m: 19"
     ]
    }
   ],
   "source": [
    "list_number_set.remove(19)"
   ]
  },
  {
   "cell_type": "code",
   "execution_count": 308,
   "id": "ccc3790b",
   "metadata": {
    "ExecuteTime": {
     "end_time": "2023-05-28T18:13:14.994488Z",
     "start_time": "2023-05-28T18:13:14.990086Z"
    }
   },
   "outputs": [],
   "source": [
    "list_number_set.discard(78) # Removes elements but doesn't throw up errors if the element doesn't exist"
   ]
  },
  {
   "cell_type": "code",
   "execution_count": 309,
   "id": "2915c004",
   "metadata": {
    "ExecuteTime": {
     "end_time": "2023-05-28T18:13:19.477128Z",
     "start_time": "2023-05-28T18:13:19.466791Z"
    }
   },
   "outputs": [
    {
     "data": {
      "text/plain": [
       "{23, 45, 46, 56, 67}"
      ]
     },
     "execution_count": 309,
     "metadata": {},
     "output_type": "execute_result"
    }
   ],
   "source": [
    "list_number_set"
   ]
  },
  {
   "cell_type": "code",
   "execution_count": 311,
   "id": "44623226",
   "metadata": {
    "ExecuteTime": {
     "end_time": "2023-05-28T18:17:56.485359Z",
     "start_time": "2023-05-28T18:17:56.473704Z"
    }
   },
   "outputs": [
    {
     "data": {
      "text/plain": [
       "67"
      ]
     },
     "execution_count": 311,
     "metadata": {},
     "output_type": "execute_result"
    }
   ],
   "source": [
    "list_number_set.pop()"
   ]
  },
  {
   "cell_type": "code",
   "execution_count": null,
   "id": "6affb21c",
   "metadata": {},
   "outputs": [],
   "source": [
    "# Delete elements from a set\n",
    "# 'clear', "
   ]
  },
  {
   "cell_type": "code",
   "execution_count": 312,
   "id": "164dd2b5",
   "metadata": {
    "ExecuteTime": {
     "end_time": "2023-05-28T18:19:44.894142Z",
     "start_time": "2023-05-28T18:19:44.864328Z"
    }
   },
   "outputs": [],
   "source": [
    "list_number_set.clear() # Clears items from set/ leaves an empty set"
   ]
  },
  {
   "cell_type": "code",
   "execution_count": 313,
   "id": "fcb49d1f",
   "metadata": {
    "ExecuteTime": {
     "end_time": "2023-05-28T18:19:49.691221Z",
     "start_time": "2023-05-28T18:19:49.684098Z"
    }
   },
   "outputs": [
    {
     "data": {
      "text/plain": [
       "set()"
      ]
     },
     "execution_count": 313,
     "metadata": {},
     "output_type": "execute_result"
    }
   ],
   "source": [
    "list_number_set"
   ]
  },
  {
   "cell_type": "code",
   "execution_count": 314,
   "id": "c873d838",
   "metadata": {
    "ExecuteTime": {
     "end_time": "2023-05-28T18:20:25.561034Z",
     "start_time": "2023-05-28T18:20:25.548499Z"
    }
   },
   "outputs": [],
   "source": [
    "del list_number_set # Deletes the data structure from memory"
   ]
  },
  {
   "cell_type": "code",
   "execution_count": 315,
   "id": "21ae73ad",
   "metadata": {
    "ExecuteTime": {
     "end_time": "2023-05-28T18:20:38.140858Z",
     "start_time": "2023-05-28T18:20:38.104468Z"
    }
   },
   "outputs": [
    {
     "ename": "NameError",
     "evalue": "name 'list_numbers_set' is not defined",
     "output_type": "error",
     "traceback": [
      "\u001b[0;31m---------------------------------------------------------------------------\u001b[0m",
      "\u001b[0;31mNameError\u001b[0m                                 Traceback (most recent call last)",
      "Cell \u001b[0;32mIn[315], line 1\u001b[0m\n\u001b[0;32m----> 1\u001b[0m \u001b[43mlist_numbers_set\u001b[49m\n",
      "\u001b[0;31mNameError\u001b[0m: name 'list_numbers_set' is not defined"
     ]
    }
   ],
   "source": [
    "list_numbers_set "
   ]
  },
  {
   "cell_type": "markdown",
   "id": "75cd4dea",
   "metadata": {},
   "source": [
    "### Set Operations "
   ]
  },
  {
   "cell_type": "code",
   "execution_count": 316,
   "id": "c9dce74e",
   "metadata": {
    "ExecuteTime": {
     "end_time": "2023-05-28T18:24:09.481332Z",
     "start_time": "2023-05-28T18:24:09.474467Z"
    }
   },
   "outputs": [],
   "source": [
    "# Union() - Combines two sets and returns a new set\n",
    "# Intersection() - Returns a new set from two sets (Elements they have in common)\n",
    "# Difference() - Returns a new set with elements not existing in the other set"
   ]
  },
  {
   "cell_type": "code",
   "execution_count": 321,
   "id": "90911536",
   "metadata": {
    "ExecuteTime": {
     "end_time": "2023-05-28T18:28:23.888697Z",
     "start_time": "2023-05-28T18:28:23.882956Z"
    }
   },
   "outputs": [],
   "source": [
    "first_list_set = {'Pablo', 'Sam', 'Moses', 'Tisse', 'BK'}\n",
    "second_list_set = {'Festus', 'James', 'Oselu', 'BK'}"
   ]
  },
  {
   "cell_type": "code",
   "execution_count": 319,
   "id": "9565e2f0",
   "metadata": {
    "ExecuteTime": {
     "end_time": "2023-05-28T18:27:26.391984Z",
     "start_time": "2023-05-28T18:27:26.384704Z"
    }
   },
   "outputs": [],
   "source": [
    "united_set = first_list_set.union(second_list_set) # Combines two sets and returns a new set"
   ]
  },
  {
   "cell_type": "code",
   "execution_count": 320,
   "id": "4c0f81e7",
   "metadata": {
    "ExecuteTime": {
     "end_time": "2023-05-28T18:27:30.254320Z",
     "start_time": "2023-05-28T18:27:30.231393Z"
    }
   },
   "outputs": [
    {
     "data": {
      "text/plain": [
       "{'BK', 'Festus', 'James', 'Moses', 'Oselu', 'Pablo', 'Sam', 'Tisse'}"
      ]
     },
     "execution_count": 320,
     "metadata": {},
     "output_type": "execute_result"
    }
   ],
   "source": [
    "united_set"
   ]
  },
  {
   "cell_type": "code",
   "execution_count": 322,
   "id": "fa822a16",
   "metadata": {
    "ExecuteTime": {
     "end_time": "2023-05-28T18:28:46.172062Z",
     "start_time": "2023-05-28T18:28:46.163077Z"
    }
   },
   "outputs": [
    {
     "data": {
      "text/plain": [
       "{'BK'}"
      ]
     },
     "execution_count": 322,
     "metadata": {},
     "output_type": "execute_result"
    }
   ],
   "source": [
    "first_list_set.intersection(second_list_set) # Returns a new set from two sets (Elements they have in common)"
   ]
  },
  {
   "cell_type": "code",
   "execution_count": 323,
   "id": "15915009",
   "metadata": {
    "ExecuteTime": {
     "end_time": "2023-05-28T18:29:58.077068Z",
     "start_time": "2023-05-28T18:29:58.071657Z"
    }
   },
   "outputs": [
    {
     "data": {
      "text/plain": [
       "{'Moses', 'Pablo', 'Sam', 'Tisse'}"
      ]
     },
     "execution_count": 323,
     "metadata": {},
     "output_type": "execute_result"
    }
   ],
   "source": [
    "first_list_set.difference(second_list_set)"
   ]
  },
  {
   "cell_type": "code",
   "execution_count": null,
   "id": "24884358",
   "metadata": {},
   "outputs": [],
   "source": []
  },
  {
   "cell_type": "code",
   "execution_count": null,
   "id": "fb7fb473",
   "metadata": {},
   "outputs": [],
   "source": []
  },
  {
   "cell_type": "code",
   "execution_count": null,
   "id": "f452d207",
   "metadata": {},
   "outputs": [],
   "source": []
  },
  {
   "cell_type": "code",
   "execution_count": null,
   "id": "2279127f",
   "metadata": {},
   "outputs": [],
   "source": []
  },
  {
   "cell_type": "code",
   "execution_count": null,
   "id": "b57ab1d6",
   "metadata": {},
   "outputs": [],
   "source": []
  },
  {
   "cell_type": "code",
   "execution_count": null,
   "id": "fb3d6db1",
   "metadata": {},
   "outputs": [],
   "source": []
  },
  {
   "cell_type": "code",
   "execution_count": null,
   "id": "304927f4",
   "metadata": {},
   "outputs": [],
   "source": []
  },
  {
   "cell_type": "code",
   "execution_count": null,
   "id": "8e2a6eff",
   "metadata": {},
   "outputs": [],
   "source": []
  },
  {
   "cell_type": "markdown",
   "id": "1ee8b5fc",
   "metadata": {},
   "source": [
    "## Living in the Future"
   ]
  },
  {
   "cell_type": "code",
   "execution_count": 289,
   "id": "f967931a",
   "metadata": {
    "ExecuteTime": {
     "end_time": "2023-05-21T16:52:08.317054Z",
     "start_time": "2023-05-21T16:52:08.312542Z"
    }
   },
   "outputs": [],
   "source": [
    "# import libraries \n",
    "import pandas as pd \n",
    "import numpy as np  "
   ]
  },
  {
   "cell_type": "code",
   "execution_count": 290,
   "id": "58c87cd7",
   "metadata": {
    "ExecuteTime": {
     "end_time": "2023-05-21T16:52:08.613650Z",
     "start_time": "2023-05-21T16:52:08.608877Z"
    }
   },
   "outputs": [],
   "source": [
    "var_name = \"Pablo\""
   ]
  },
  {
   "cell_type": "markdown",
   "id": "a4c544d6",
   "metadata": {},
   "source": [
    "### Reading a dataset into a dataframe "
   ]
  },
  {
   "cell_type": "code",
   "execution_count": 291,
   "id": "afe7449a",
   "metadata": {
    "ExecuteTime": {
     "end_time": "2023-05-21T16:52:09.119915Z",
     "start_time": "2023-05-21T16:52:09.116563Z"
    }
   },
   "outputs": [],
   "source": [
    "# Terminologies -->>\n",
    "# Dataset - raw file\n",
    "# Dataframes - 2 Dimensional Tabular Structure\n",
    "# Series - 1 Dimensional \n",
    "# Columns - Features (deterministic and or variability)\n",
    "# Rows - Observations "
   ]
  },
  {
   "cell_type": "code",
   "execution_count": 292,
   "id": "e18a39fa",
   "metadata": {
    "ExecuteTime": {
     "end_time": "2023-05-21T16:52:09.365501Z",
     "start_time": "2023-05-21T16:52:09.341254Z"
    }
   },
   "outputs": [],
   "source": [
    "titanic_data = pd.read_csv('train.csv')"
   ]
  },
  {
   "cell_type": "code",
   "execution_count": 293,
   "id": "41da8d7b",
   "metadata": {
    "ExecuteTime": {
     "end_time": "2023-05-21T16:52:09.566015Z",
     "start_time": "2023-05-21T16:52:09.551954Z"
    }
   },
   "outputs": [
    {
     "data": {
      "text/html": [
       "<div>\n",
       "<style scoped>\n",
       "    .dataframe tbody tr th:only-of-type {\n",
       "        vertical-align: middle;\n",
       "    }\n",
       "\n",
       "    .dataframe tbody tr th {\n",
       "        vertical-align: top;\n",
       "    }\n",
       "\n",
       "    .dataframe thead th {\n",
       "        text-align: right;\n",
       "    }\n",
       "</style>\n",
       "<table border=\"1\" class=\"dataframe\">\n",
       "  <thead>\n",
       "    <tr style=\"text-align: right;\">\n",
       "      <th></th>\n",
       "      <th>PassengerId</th>\n",
       "      <th>Survived</th>\n",
       "      <th>Pclass</th>\n",
       "      <th>Name</th>\n",
       "      <th>Sex</th>\n",
       "      <th>Age</th>\n",
       "      <th>SibSp</th>\n",
       "      <th>Parch</th>\n",
       "      <th>Ticket</th>\n",
       "      <th>Fare</th>\n",
       "      <th>Cabin</th>\n",
       "      <th>Embarked</th>\n",
       "    </tr>\n",
       "  </thead>\n",
       "  <tbody>\n",
       "    <tr>\n",
       "      <th>0</th>\n",
       "      <td>1</td>\n",
       "      <td>0</td>\n",
       "      <td>3</td>\n",
       "      <td>Braund, Mr. Owen Harris</td>\n",
       "      <td>male</td>\n",
       "      <td>22.0</td>\n",
       "      <td>1</td>\n",
       "      <td>0</td>\n",
       "      <td>A/5 21171</td>\n",
       "      <td>7.2500</td>\n",
       "      <td>NaN</td>\n",
       "      <td>S</td>\n",
       "    </tr>\n",
       "    <tr>\n",
       "      <th>1</th>\n",
       "      <td>2</td>\n",
       "      <td>1</td>\n",
       "      <td>1</td>\n",
       "      <td>Cumings, Mrs. John Bradley (Florence Briggs Th...</td>\n",
       "      <td>female</td>\n",
       "      <td>38.0</td>\n",
       "      <td>1</td>\n",
       "      <td>0</td>\n",
       "      <td>PC 17599</td>\n",
       "      <td>71.2833</td>\n",
       "      <td>C85</td>\n",
       "      <td>C</td>\n",
       "    </tr>\n",
       "    <tr>\n",
       "      <th>2</th>\n",
       "      <td>3</td>\n",
       "      <td>1</td>\n",
       "      <td>3</td>\n",
       "      <td>Heikkinen, Miss. Laina</td>\n",
       "      <td>female</td>\n",
       "      <td>26.0</td>\n",
       "      <td>0</td>\n",
       "      <td>0</td>\n",
       "      <td>STON/O2. 3101282</td>\n",
       "      <td>7.9250</td>\n",
       "      <td>NaN</td>\n",
       "      <td>S</td>\n",
       "    </tr>\n",
       "    <tr>\n",
       "      <th>3</th>\n",
       "      <td>4</td>\n",
       "      <td>1</td>\n",
       "      <td>1</td>\n",
       "      <td>Futrelle, Mrs. Jacques Heath (Lily May Peel)</td>\n",
       "      <td>female</td>\n",
       "      <td>35.0</td>\n",
       "      <td>1</td>\n",
       "      <td>0</td>\n",
       "      <td>113803</td>\n",
       "      <td>53.1000</td>\n",
       "      <td>C123</td>\n",
       "      <td>S</td>\n",
       "    </tr>\n",
       "    <tr>\n",
       "      <th>4</th>\n",
       "      <td>5</td>\n",
       "      <td>0</td>\n",
       "      <td>3</td>\n",
       "      <td>Allen, Mr. William Henry</td>\n",
       "      <td>male</td>\n",
       "      <td>35.0</td>\n",
       "      <td>0</td>\n",
       "      <td>0</td>\n",
       "      <td>373450</td>\n",
       "      <td>8.0500</td>\n",
       "      <td>NaN</td>\n",
       "      <td>S</td>\n",
       "    </tr>\n",
       "  </tbody>\n",
       "</table>\n",
       "</div>"
      ],
      "text/plain": [
       "   PassengerId  Survived  Pclass  \\\n",
       "0            1         0       3   \n",
       "1            2         1       1   \n",
       "2            3         1       3   \n",
       "3            4         1       1   \n",
       "4            5         0       3   \n",
       "\n",
       "                                                Name     Sex   Age  SibSp  \\\n",
       "0                            Braund, Mr. Owen Harris    male  22.0      1   \n",
       "1  Cumings, Mrs. John Bradley (Florence Briggs Th...  female  38.0      1   \n",
       "2                             Heikkinen, Miss. Laina  female  26.0      0   \n",
       "3       Futrelle, Mrs. Jacques Heath (Lily May Peel)  female  35.0      1   \n",
       "4                           Allen, Mr. William Henry    male  35.0      0   \n",
       "\n",
       "   Parch            Ticket     Fare Cabin Embarked  \n",
       "0      0         A/5 21171   7.2500   NaN        S  \n",
       "1      0          PC 17599  71.2833   C85        C  \n",
       "2      0  STON/O2. 3101282   7.9250   NaN        S  \n",
       "3      0            113803  53.1000  C123        S  \n",
       "4      0            373450   8.0500   NaN        S  "
      ]
     },
     "execution_count": 293,
     "metadata": {},
     "output_type": "execute_result"
    }
   ],
   "source": [
    "titanic_data.head() # Dataframe"
   ]
  },
  {
   "cell_type": "code",
   "execution_count": 294,
   "id": "affc55f5",
   "metadata": {
    "ExecuteTime": {
     "end_time": "2023-05-21T16:52:09.777675Z",
     "start_time": "2023-05-21T16:52:09.762951Z"
    }
   },
   "outputs": [
    {
     "data": {
      "text/plain": [
       "pandas.core.series.Series"
      ]
     },
     "execution_count": 294,
     "metadata": {},
     "output_type": "execute_result"
    }
   ],
   "source": [
    "type(titanic_data['Pclass'])"
   ]
  },
  {
   "cell_type": "code",
   "execution_count": 295,
   "id": "382b9466",
   "metadata": {
    "ExecuteTime": {
     "end_time": "2023-05-21T16:52:10.012013Z",
     "start_time": "2023-05-21T16:52:09.991717Z"
    }
   },
   "outputs": [
    {
     "data": {
      "text/plain": [
       "count    891.000000\n",
       "mean       2.308642\n",
       "std        0.836071\n",
       "min        1.000000\n",
       "25%        2.000000\n",
       "50%        3.000000\n",
       "75%        3.000000\n",
       "max        3.000000\n",
       "Name: Pclass, dtype: float64"
      ]
     },
     "execution_count": 295,
     "metadata": {},
     "output_type": "execute_result"
    }
   ],
   "source": [
    "titanic_data['Pclass'].describe() "
   ]
  },
  {
   "cell_type": "code",
   "execution_count": 296,
   "id": "1475188d",
   "metadata": {
    "ExecuteTime": {
     "end_time": "2023-05-21T16:52:10.219252Z",
     "start_time": "2023-05-21T16:52:10.197209Z"
    }
   },
   "outputs": [
    {
     "data": {
      "text/plain": [
       "count                         891\n",
       "unique                        891\n",
       "top       Braund, Mr. Owen Harris\n",
       "freq                            1\n",
       "Name: Name, dtype: object"
      ]
     },
     "execution_count": 296,
     "metadata": {},
     "output_type": "execute_result"
    }
   ],
   "source": [
    "titanic_data['Name'].describe()"
   ]
  },
  {
   "cell_type": "code",
   "execution_count": 297,
   "id": "809aa3a2",
   "metadata": {
    "ExecuteTime": {
     "end_time": "2023-05-21T16:52:10.427289Z",
     "start_time": "2023-05-21T16:52:10.421592Z"
    }
   },
   "outputs": [
    {
     "data": {
      "text/plain": [
       "(891, 12)"
      ]
     },
     "execution_count": 297,
     "metadata": {},
     "output_type": "execute_result"
    }
   ],
   "source": [
    "titanic_data.shape "
   ]
  },
  {
   "cell_type": "code",
   "execution_count": null,
   "id": "25c9163f",
   "metadata": {},
   "outputs": [],
   "source": []
  },
  {
   "cell_type": "code",
   "execution_count": null,
   "id": "91309c66",
   "metadata": {},
   "outputs": [],
   "source": []
  },
  {
   "cell_type": "code",
   "execution_count": null,
   "id": "49ef886b",
   "metadata": {},
   "outputs": [],
   "source": []
  },
  {
   "cell_type": "code",
   "execution_count": null,
   "id": "2d328f3e",
   "metadata": {},
   "outputs": [],
   "source": []
  },
  {
   "cell_type": "markdown",
   "id": "ef1b695a",
   "metadata": {},
   "source": [
    "### Explaining Challenges"
   ]
  },
  {
   "cell_type": "code",
   "execution_count": 298,
   "id": "3fd2eefb",
   "metadata": {
    "ExecuteTime": {
     "end_time": "2023-05-21T16:52:12.199048Z",
     "start_time": "2023-05-21T16:52:12.178819Z"
    }
   },
   "outputs": [],
   "source": [
    "# Recreate a list method for Kelechi\n",
    "# Pop,reverse,append  "
   ]
  },
  {
   "cell_type": "code",
   "execution_count": 299,
   "id": "ddee3dbf",
   "metadata": {
    "ExecuteTime": {
     "end_time": "2023-05-21T16:52:12.384251Z",
     "start_time": "2023-05-21T16:52:12.380480Z"
    }
   },
   "outputs": [],
   "source": [
    "# In Python - Storing information and retrieving information\n",
    "# Data Structures - Different forms storing, keeping data, data types\n",
    "# List - Store different data types, creating a list []"
   ]
  },
  {
   "cell_type": "code",
   "execution_count": 300,
   "id": "7ac27d4d",
   "metadata": {
    "ExecuteTime": {
     "end_time": "2023-05-21T16:52:12.591295Z",
     "start_time": "2023-05-21T16:52:12.588127Z"
    }
   },
   "outputs": [],
   "source": [
    "list_numbers = [12, 56, 78]\n",
    "list_names = ['Kelechi', 'Pablo', 'Rofiyat']"
   ]
  },
  {
   "cell_type": "code",
   "execution_count": 301,
   "id": "c135ee4d",
   "metadata": {
    "ExecuteTime": {
     "end_time": "2023-05-21T16:52:12.792354Z",
     "start_time": "2023-05-21T16:52:12.788385Z"
    }
   },
   "outputs": [
    {
     "name": "stdout",
     "output_type": "stream",
     "text": [
      "['Kelechi', 'Pablo', 'Rofiyat']\n"
     ]
    }
   ],
   "source": [
    "print(list_names)"
   ]
  },
  {
   "cell_type": "code",
   "execution_count": 302,
   "id": "0284276b",
   "metadata": {
    "ExecuteTime": {
     "end_time": "2023-05-21T16:52:12.980797Z",
     "start_time": "2023-05-21T16:52:12.977717Z"
    }
   },
   "outputs": [],
   "source": [
    "# Lists have certain characteristics \n",
    "# They are ordered, sequenced, mutable "
   ]
  },
  {
   "cell_type": "code",
   "execution_count": 303,
   "id": "a96f3b2c",
   "metadata": {
    "ExecuteTime": {
     "end_time": "2023-05-21T16:52:13.171274Z",
     "start_time": "2023-05-21T16:52:13.166083Z"
    }
   },
   "outputs": [
    {
     "data": {
      "text/plain": [
       "78"
      ]
     },
     "execution_count": 303,
     "metadata": {},
     "output_type": "execute_result"
    }
   ],
   "source": [
    "list_numbers.pop() # pop"
   ]
  },
  {
   "cell_type": "code",
   "execution_count": 304,
   "id": "ec8f8265",
   "metadata": {
    "ExecuteTime": {
     "end_time": "2023-05-21T16:52:13.372701Z",
     "start_time": "2023-05-21T16:52:13.366732Z"
    }
   },
   "outputs": [
    {
     "data": {
      "text/plain": [
       "[12, 56]"
      ]
     },
     "execution_count": 304,
     "metadata": {},
     "output_type": "execute_result"
    }
   ],
   "source": [
    "list_numbers"
   ]
  },
  {
   "cell_type": "code",
   "execution_count": 305,
   "id": "f1ae318b",
   "metadata": {
    "ExecuteTime": {
     "end_time": "2023-05-21T16:52:13.570472Z",
     "start_time": "2023-05-21T16:52:13.566550Z"
    }
   },
   "outputs": [],
   "source": [
    "list_numbers.append(78) # Append"
   ]
  },
  {
   "cell_type": "code",
   "execution_count": 306,
   "id": "5f1da851",
   "metadata": {
    "ExecuteTime": {
     "end_time": "2023-05-21T16:52:13.763026Z",
     "start_time": "2023-05-21T16:52:13.760599Z"
    }
   },
   "outputs": [],
   "source": [
    "list_numbers.reverse()"
   ]
  },
  {
   "cell_type": "code",
   "execution_count": 307,
   "id": "eb05500d",
   "metadata": {
    "ExecuteTime": {
     "end_time": "2023-05-21T16:52:13.951713Z",
     "start_time": "2023-05-21T16:52:13.948603Z"
    }
   },
   "outputs": [],
   "source": [
    "list_names.reverse()"
   ]
  },
  {
   "cell_type": "code",
   "execution_count": 308,
   "id": "023c6d72",
   "metadata": {
    "ExecuteTime": {
     "end_time": "2023-05-21T16:52:14.141672Z",
     "start_time": "2023-05-21T16:52:14.134303Z"
    }
   },
   "outputs": [
    {
     "data": {
      "text/plain": [
       "[78, 56, 12]"
      ]
     },
     "execution_count": 308,
     "metadata": {},
     "output_type": "execute_result"
    }
   ],
   "source": [
    "list_numbers"
   ]
  },
  {
   "cell_type": "code",
   "execution_count": 309,
   "id": "c50ea2ed",
   "metadata": {
    "ExecuteTime": {
     "end_time": "2023-05-21T16:52:14.345941Z",
     "start_time": "2023-05-21T16:52:14.339602Z"
    }
   },
   "outputs": [
    {
     "data": {
      "text/plain": [
       "['Rofiyat', 'Pablo', 'Kelechi']"
      ]
     },
     "execution_count": 309,
     "metadata": {},
     "output_type": "execute_result"
    }
   ],
   "source": [
    "list_names"
   ]
  },
  {
   "cell_type": "code",
   "execution_count": 310,
   "id": "b1f5ea54",
   "metadata": {
    "ExecuteTime": {
     "end_time": "2023-05-21T16:52:14.530992Z",
     "start_time": "2023-05-21T16:52:14.527571Z"
    }
   },
   "outputs": [],
   "source": [
    "# Python has different data structures: List, Tuple"
   ]
  },
  {
   "cell_type": "code",
   "execution_count": 311,
   "id": "1bac1812",
   "metadata": {
    "ExecuteTime": {
     "end_time": "2023-05-21T16:52:14.733810Z",
     "start_time": "2023-05-21T16:52:14.730176Z"
    }
   },
   "outputs": [],
   "source": [
    "# Dictionary: \n",
    "dict_profile = {'first_name': 'Pablo', 'last_name': 'Okwukogu', 'location': 'Kaduna'}"
   ]
  },
  {
   "cell_type": "code",
   "execution_count": 312,
   "id": "fbc0fb63",
   "metadata": {
    "ExecuteTime": {
     "end_time": "2023-05-21T16:52:15.026922Z",
     "start_time": "2023-05-21T16:52:15.023605Z"
    }
   },
   "outputs": [
    {
     "name": "stdout",
     "output_type": "stream",
     "text": [
      "{'first_name': 'Pablo', 'last_name': 'Okwukogu', 'location': 'Kaduna'}\n"
     ]
    }
   ],
   "source": [
    "print(dict_profile)"
   ]
  },
  {
   "cell_type": "code",
   "execution_count": 313,
   "id": "23355008",
   "metadata": {
    "ExecuteTime": {
     "end_time": "2023-05-21T16:52:15.141833Z",
     "start_time": "2023-05-21T16:52:15.135315Z"
    }
   },
   "outputs": [
    {
     "data": {
      "text/plain": [
       "'Okwukogu'"
      ]
     },
     "execution_count": 313,
     "metadata": {},
     "output_type": "execute_result"
    }
   ],
   "source": [
    "dict_profile['last_name']"
   ]
  },
  {
   "cell_type": "code",
   "execution_count": 314,
   "id": "fa2ece0d",
   "metadata": {
    "ExecuteTime": {
     "end_time": "2023-05-21T16:52:15.320218Z",
     "start_time": "2023-05-21T16:52:15.317595Z"
    }
   },
   "outputs": [],
   "source": [
    "del dict_profile['first_name']"
   ]
  },
  {
   "cell_type": "code",
   "execution_count": 315,
   "id": "4c062900",
   "metadata": {
    "ExecuteTime": {
     "end_time": "2023-05-21T16:52:15.539755Z",
     "start_time": "2023-05-21T16:52:15.534263Z"
    }
   },
   "outputs": [
    {
     "data": {
      "text/plain": [
       "{'last_name': 'Okwukogu', 'location': 'Kaduna'}"
      ]
     },
     "execution_count": 315,
     "metadata": {},
     "output_type": "execute_result"
    }
   ],
   "source": [
    "dict_profile"
   ]
  },
  {
   "cell_type": "code",
   "execution_count": 316,
   "id": "57d12f8f",
   "metadata": {
    "ExecuteTime": {
     "end_time": "2023-05-21T16:52:15.739262Z",
     "start_time": "2023-05-21T16:52:15.735646Z"
    }
   },
   "outputs": [],
   "source": [
    "### Nested Dictionaries "
   ]
  },
  {
   "cell_type": "code",
   "execution_count": 317,
   "id": "1296dd04",
   "metadata": {
    "ExecuteTime": {
     "end_time": "2023-05-21T16:52:15.941824Z",
     "start_time": "2023-05-21T16:52:15.938429Z"
    }
   },
   "outputs": [],
   "source": [
    "twitter_profile = {\n",
    "    \"@iamaliutoheeb\": {\n",
    "        \"first_name\": \"Aliu\",\n",
    "        \"last_name\": \"Olaitan\",\n",
    "        \"location\": \"Zaria\"\n",
    "    }, \n",
    "    \"@ipablo26\": {\"first_name\": \"Pablo\",\n",
    "        \"last_name\": \"OKwukogu\",\n",
    "        \"location\": \"Kaduna South\"}\n",
    "}"
   ]
  },
  {
   "cell_type": "code",
   "execution_count": 318,
   "id": "cef8a3fb",
   "metadata": {
    "ExecuteTime": {
     "end_time": "2023-05-21T16:52:16.166598Z",
     "start_time": "2023-05-21T16:52:16.162728Z"
    }
   },
   "outputs": [
    {
     "name": "stdout",
     "output_type": "stream",
     "text": [
      "{'@iamaliutoheeb': {'first_name': 'Aliu', 'last_name': 'Olaitan', 'location': 'Zaria'}, '@ipablo26': {'first_name': 'Pablo', 'last_name': 'OKwukogu', 'location': 'Kaduna South'}}\n"
     ]
    }
   ],
   "source": [
    "print(twitter_profile)"
   ]
  },
  {
   "cell_type": "code",
   "execution_count": 319,
   "id": "83c72a14",
   "metadata": {
    "ExecuteTime": {
     "end_time": "2023-05-21T16:52:16.387894Z",
     "start_time": "2023-05-21T16:52:16.383295Z"
    }
   },
   "outputs": [
    {
     "name": "stdout",
     "output_type": "stream",
     "text": [
      "@iamaliutoheeb\n",
      "@ipablo26\n"
     ]
    }
   ],
   "source": [
    "for key,value in twitter_profile.items():\n",
    "    print(key)\n",
    "    "
   ]
  },
  {
   "cell_type": "code",
   "execution_count": 320,
   "id": "12d2b0b0",
   "metadata": {
    "ExecuteTime": {
     "end_time": "2023-05-21T16:52:16.607890Z",
     "start_time": "2023-05-21T16:52:16.602739Z"
    }
   },
   "outputs": [
    {
     "ename": "IndentationError",
     "evalue": "expected an indented block (2971708004.py, line 2)",
     "output_type": "error",
     "traceback": [
      "\u001b[0;36m  Cell \u001b[0;32mIn[320], line 2\u001b[0;36m\u001b[0m\n\u001b[0;31m    \u001b[0m\n\u001b[0m    ^\u001b[0m\n\u001b[0;31mIndentationError\u001b[0m\u001b[0;31m:\u001b[0m expected an indented block\n"
     ]
    }
   ],
   "source": [
    "for me in twitter_profile:\n",
    "    "
   ]
  },
  {
   "cell_type": "code",
   "execution_count": 321,
   "id": "604c85e6",
   "metadata": {
    "ExecuteTime": {
     "end_time": "2023-05-21T16:52:16.817468Z",
     "start_time": "2023-05-21T16:52:16.813180Z"
    }
   },
   "outputs": [
    {
     "name": "stdout",
     "output_type": "stream",
     "text": [
      "{'first_name': 'Aliu', 'last_name': 'Olaitan', 'location': 'Zaria'}\n",
      "{'first_name': 'Pablo', 'last_name': 'OKwukogu', 'location': 'Kaduna South'}\n"
     ]
    }
   ],
   "source": [
    "for key,value in twitter_profile.items():\n",
    "    print(value)"
   ]
  },
  {
   "cell_type": "code",
   "execution_count": 322,
   "id": "8530ce25",
   "metadata": {
    "ExecuteTime": {
     "end_time": "2023-05-21T16:52:17.020853Z",
     "start_time": "2023-05-21T16:52:17.015193Z"
    }
   },
   "outputs": [
    {
     "data": {
      "text/plain": [
       "True"
      ]
     },
     "execution_count": 322,
     "metadata": {},
     "output_type": "execute_result"
    }
   ],
   "source": [
    "'Sunday' == word_string"
   ]
  },
  {
   "cell_type": "markdown",
   "id": "399e6943",
   "metadata": {},
   "source": [
    "### While Loops"
   ]
  },
  {
   "cell_type": "code",
   "execution_count": 323,
   "id": "509f9c64",
   "metadata": {
    "ExecuteTime": {
     "end_time": "2023-05-21T16:52:17.450206Z",
     "start_time": "2023-05-21T16:52:17.446384Z"
    }
   },
   "outputs": [],
   "source": [
    "# for loop \n",
    "my_list = [23, 45, 67]"
   ]
  },
  {
   "cell_type": "code",
   "execution_count": 324,
   "id": "eeeb676e",
   "metadata": {
    "ExecuteTime": {
     "end_time": "2023-05-21T16:52:17.667043Z",
     "start_time": "2023-05-21T16:52:17.662384Z"
    }
   },
   "outputs": [
    {
     "name": "stdout",
     "output_type": "stream",
     "text": [
      "69\n",
      "135\n",
      "201\n"
     ]
    }
   ],
   "source": [
    "for num in my_list: \n",
    "    print(num * 3)"
   ]
  },
  {
   "cell_type": "code",
   "execution_count": 325,
   "id": "91fb3e54",
   "metadata": {
    "ExecuteTime": {
     "end_time": "2023-05-21T16:52:18.070197Z",
     "start_time": "2023-05-21T16:52:18.065860Z"
    }
   },
   "outputs": [
    {
     "name": "stdout",
     "output_type": "stream",
     "text": [
      "0\n",
      "1\n",
      "2\n",
      "3\n",
      "4\n",
      "5\n",
      "6\n",
      "7\n",
      "8\n",
      "9\n"
     ]
    }
   ],
   "source": [
    "count = 0 \n",
    "while count < 10: \n",
    "    print(count)\n",
    "    count += 1 "
   ]
  },
  {
   "cell_type": "code",
   "execution_count": 326,
   "id": "7a3fa09a",
   "metadata": {
    "ExecuteTime": {
     "end_time": "2023-05-21T16:52:18.281289Z",
     "start_time": "2023-05-21T16:52:18.277494Z"
    }
   },
   "outputs": [
    {
     "name": "stdout",
     "output_type": "stream",
     "text": [
      "0\n",
      "1\n",
      "2\n",
      "3\n",
      "count=4\n"
     ]
    }
   ],
   "source": [
    "count = 0\n",
    "while count < 10:\n",
    "    if count == 4:\n",
    "        print(f'{count=}')\n",
    "        break\n",
    "    print(count)\n",
    "    count += 1"
   ]
  },
  {
   "cell_type": "code",
   "execution_count": 327,
   "id": "9b037079",
   "metadata": {
    "ExecuteTime": {
     "end_time": "2023-05-21T16:52:24.260152Z",
     "start_time": "2023-05-21T16:52:18.490157Z"
    }
   },
   "outputs": [
    {
     "name": "stdout",
     "output_type": "stream",
     "text": [
      "\n",
      "Tell me something and I will repeat it back to you\n",
      "Enter 'quit' to end the program quit\n"
     ]
    }
   ],
   "source": [
    "# Using a flag\n",
    "prompt = \"\\nTell me something and I will repeat it back to you\"\n",
    "prompt += \"\\nEnter 'quit' to end the program \"\n",
    "active = True \n",
    "\n",
    "while active: \n",
    "    message = input(prompt)\n",
    "    if message == 'quit':\n",
    "        active = False\n",
    "    else:\n",
    "        print(message) "
   ]
  },
  {
   "cell_type": "code",
   "execution_count": 331,
   "id": "ac231591",
   "metadata": {
    "ExecuteTime": {
     "end_time": "2023-05-21T16:52:28.483499Z",
     "start_time": "2023-05-21T16:52:28.479555Z"
    }
   },
   "outputs": [],
   "source": [
    "# Create a dictionary from two lists\n",
    "# Create a dataframe from the resulting dictionary \n",
    "small_list = ['Jamal', 'Sam', 'Mercy', 'Biodun']\n",
    "small_num = [34, 23, 25, 22]"
   ]
  },
  {
   "cell_type": "code",
   "execution_count": 332,
   "id": "ea19874c",
   "metadata": {
    "ExecuteTime": {
     "end_time": "2023-05-21T16:52:28.683666Z",
     "start_time": "2023-05-21T16:52:28.679685Z"
    }
   },
   "outputs": [],
   "source": [
    "total_list_dict = dict(zip(small_list, small_num))"
   ]
  },
  {
   "cell_type": "code",
   "execution_count": 333,
   "id": "9529956d",
   "metadata": {
    "ExecuteTime": {
     "end_time": "2023-05-21T16:52:28.957215Z",
     "start_time": "2023-05-21T16:52:28.953092Z"
    }
   },
   "outputs": [
    {
     "data": {
      "text/plain": [
       "dict"
      ]
     },
     "execution_count": 333,
     "metadata": {},
     "output_type": "execute_result"
    }
   ],
   "source": [
    "type(total_list_dict)"
   ]
  },
  {
   "cell_type": "code",
   "execution_count": 334,
   "id": "767ce784",
   "metadata": {
    "ExecuteTime": {
     "end_time": "2023-05-21T16:52:29.235809Z",
     "start_time": "2023-05-21T16:52:29.215968Z"
    }
   },
   "outputs": [
    {
     "data": {
      "text/plain": [
       "{'Jamal': 34, 'Sam': 23, 'Mercy': 25, 'Biodun': 22}"
      ]
     },
     "execution_count": 334,
     "metadata": {},
     "output_type": "execute_result"
    }
   ],
   "source": [
    "total_list_dict"
   ]
  },
  {
   "cell_type": "code",
   "execution_count": 335,
   "id": "a0721363",
   "metadata": {
    "ExecuteTime": {
     "end_time": "2023-05-21T16:52:29.416791Z",
     "start_time": "2023-05-21T16:52:29.411521Z"
    }
   },
   "outputs": [],
   "source": [
    "list_dict = pd.DataFrame(total_list_dict, index=[0])"
   ]
  },
  {
   "cell_type": "code",
   "execution_count": 336,
   "id": "fa2e0394",
   "metadata": {
    "ExecuteTime": {
     "end_time": "2023-05-21T16:52:29.709662Z",
     "start_time": "2023-05-21T16:52:29.701497Z"
    }
   },
   "outputs": [
    {
     "data": {
      "text/html": [
       "<div>\n",
       "<style scoped>\n",
       "    .dataframe tbody tr th:only-of-type {\n",
       "        vertical-align: middle;\n",
       "    }\n",
       "\n",
       "    .dataframe tbody tr th {\n",
       "        vertical-align: top;\n",
       "    }\n",
       "\n",
       "    .dataframe thead th {\n",
       "        text-align: right;\n",
       "    }\n",
       "</style>\n",
       "<table border=\"1\" class=\"dataframe\">\n",
       "  <thead>\n",
       "    <tr style=\"text-align: right;\">\n",
       "      <th></th>\n",
       "      <th>Jamal</th>\n",
       "      <th>Sam</th>\n",
       "      <th>Mercy</th>\n",
       "      <th>Biodun</th>\n",
       "    </tr>\n",
       "  </thead>\n",
       "  <tbody>\n",
       "    <tr>\n",
       "      <th>0</th>\n",
       "      <td>34</td>\n",
       "      <td>23</td>\n",
       "      <td>25</td>\n",
       "      <td>22</td>\n",
       "    </tr>\n",
       "  </tbody>\n",
       "</table>\n",
       "</div>"
      ],
      "text/plain": [
       "   Jamal  Sam  Mercy  Biodun\n",
       "0     34   23     25      22"
      ]
     },
     "execution_count": 336,
     "metadata": {},
     "output_type": "execute_result"
    }
   ],
   "source": [
    "list_dict"
   ]
  },
  {
   "cell_type": "code",
   "execution_count": 337,
   "id": "3b1f6d96",
   "metadata": {
    "ExecuteTime": {
     "end_time": "2023-05-21T16:52:29.932396Z",
     "start_time": "2023-05-21T16:52:29.928180Z"
    }
   },
   "outputs": [],
   "source": [
    "df = pd.DataFrame({'A': 'a', 'B': 'b', 'C': 'c'}, index=[0])"
   ]
  },
  {
   "cell_type": "code",
   "execution_count": 338,
   "id": "d722a137",
   "metadata": {
    "ExecuteTime": {
     "end_time": "2023-05-21T16:52:30.147160Z",
     "start_time": "2023-05-21T16:52:30.137955Z"
    }
   },
   "outputs": [
    {
     "data": {
      "text/html": [
       "<div>\n",
       "<style scoped>\n",
       "    .dataframe tbody tr th:only-of-type {\n",
       "        vertical-align: middle;\n",
       "    }\n",
       "\n",
       "    .dataframe tbody tr th {\n",
       "        vertical-align: top;\n",
       "    }\n",
       "\n",
       "    .dataframe thead th {\n",
       "        text-align: right;\n",
       "    }\n",
       "</style>\n",
       "<table border=\"1\" class=\"dataframe\">\n",
       "  <thead>\n",
       "    <tr style=\"text-align: right;\">\n",
       "      <th></th>\n",
       "      <th>A</th>\n",
       "      <th>B</th>\n",
       "      <th>C</th>\n",
       "    </tr>\n",
       "  </thead>\n",
       "  <tbody>\n",
       "    <tr>\n",
       "      <th>0</th>\n",
       "      <td>a</td>\n",
       "      <td>b</td>\n",
       "      <td>c</td>\n",
       "    </tr>\n",
       "  </tbody>\n",
       "</table>\n",
       "</div>"
      ],
      "text/plain": [
       "   A  B  C\n",
       "0  a  b  c"
      ]
     },
     "execution_count": 338,
     "metadata": {},
     "output_type": "execute_result"
    }
   ],
   "source": [
    "df"
   ]
  },
  {
   "cell_type": "code",
   "execution_count": 339,
   "id": "0c16dd70",
   "metadata": {
    "ExecuteTime": {
     "end_time": "2023-05-21T16:52:30.355438Z",
     "start_time": "2023-05-21T16:52:30.350837Z"
    }
   },
   "outputs": [],
   "source": [
    "var4 = 10 "
   ]
  },
  {
   "cell_type": "code",
   "execution_count": 340,
   "id": "8bfe2422",
   "metadata": {
    "ExecuteTime": {
     "end_time": "2023-05-21T16:52:30.568000Z",
     "start_time": "2023-05-21T16:52:30.563405Z"
    }
   },
   "outputs": [
    {
     "data": {
      "text/plain": [
       "True"
      ]
     },
     "execution_count": 340,
     "metadata": {},
     "output_type": "execute_result"
    }
   ],
   "source": [
    "10 == var4"
   ]
  },
  {
   "cell_type": "markdown",
   "id": "d146a032",
   "metadata": {},
   "source": [
    "# Learning Through Articles\n",
    "\n",
    "https://towardsdatascience.com/an-end-to-end-project-on-time-series-analysis-and-forecasting-with-python-4835e6bf050b"
   ]
  },
  {
   "cell_type": "code",
   "execution_count": 341,
   "id": "9351f981",
   "metadata": {
    "ExecuteTime": {
     "end_time": "2023-05-21T16:52:34.685815Z",
     "start_time": "2023-05-21T16:52:31.349481Z"
    }
   },
   "outputs": [],
   "source": [
    "# import libraries\n",
    "import warnings\n",
    "import itertools\n",
    "import numpy as np\n",
    "import matplotlib.pyplot as plt\n",
    "warnings.filterwarnings(\"ignore\")\n",
    "plt.style.use('fivethirtyeight')\n",
    "import pandas as pd\n",
    "import statsmodels.api as sm\n",
    "import matplotlib\n",
    "matplotlib.rcParams['axes.labelsize'] = 14\n",
    "matplotlib.rcParams['xtick.labelsize'] = 12\n",
    "matplotlib.rcParams['ytick.labelsize'] = 12\n",
    "matplotlib.rcParams['text.color'] = 'k'"
   ]
  },
  {
   "cell_type": "code",
   "execution_count": 342,
   "id": "a528842b",
   "metadata": {
    "ExecuteTime": {
     "end_time": "2023-05-21T16:52:35.699947Z",
     "start_time": "2023-05-21T16:52:34.761511Z"
    }
   },
   "outputs": [
    {
     "data": {
      "text/html": [
       "<div>\n",
       "<style scoped>\n",
       "    .dataframe tbody tr th:only-of-type {\n",
       "        vertical-align: middle;\n",
       "    }\n",
       "\n",
       "    .dataframe tbody tr th {\n",
       "        vertical-align: top;\n",
       "    }\n",
       "\n",
       "    .dataframe thead th {\n",
       "        text-align: right;\n",
       "    }\n",
       "</style>\n",
       "<table border=\"1\" class=\"dataframe\">\n",
       "  <thead>\n",
       "    <tr style=\"text-align: right;\">\n",
       "      <th></th>\n",
       "      <th>Row ID</th>\n",
       "      <th>Order ID</th>\n",
       "      <th>Order Date</th>\n",
       "      <th>Ship Date</th>\n",
       "      <th>Ship Mode</th>\n",
       "      <th>Customer ID</th>\n",
       "      <th>Customer Name</th>\n",
       "      <th>Segment</th>\n",
       "      <th>Country</th>\n",
       "      <th>City</th>\n",
       "      <th>...</th>\n",
       "      <th>Postal Code</th>\n",
       "      <th>Region</th>\n",
       "      <th>Product ID</th>\n",
       "      <th>Category</th>\n",
       "      <th>Sub-Category</th>\n",
       "      <th>Product Name</th>\n",
       "      <th>Sales</th>\n",
       "      <th>Quantity</th>\n",
       "      <th>Discount</th>\n",
       "      <th>Profit</th>\n",
       "    </tr>\n",
       "  </thead>\n",
       "  <tbody>\n",
       "    <tr>\n",
       "      <th>0</th>\n",
       "      <td>1</td>\n",
       "      <td>CA-2016-152156</td>\n",
       "      <td>2016-11-08</td>\n",
       "      <td>2016-11-11</td>\n",
       "      <td>Second Class</td>\n",
       "      <td>CG-12520</td>\n",
       "      <td>Claire Gute</td>\n",
       "      <td>Consumer</td>\n",
       "      <td>United States</td>\n",
       "      <td>Henderson</td>\n",
       "      <td>...</td>\n",
       "      <td>42420</td>\n",
       "      <td>South</td>\n",
       "      <td>FUR-BO-10001798</td>\n",
       "      <td>Furniture</td>\n",
       "      <td>Bookcases</td>\n",
       "      <td>Bush Somerset Collection Bookcase</td>\n",
       "      <td>261.9600</td>\n",
       "      <td>2</td>\n",
       "      <td>0.00</td>\n",
       "      <td>41.9136</td>\n",
       "    </tr>\n",
       "    <tr>\n",
       "      <th>1</th>\n",
       "      <td>2</td>\n",
       "      <td>CA-2016-152156</td>\n",
       "      <td>2016-11-08</td>\n",
       "      <td>2016-11-11</td>\n",
       "      <td>Second Class</td>\n",
       "      <td>CG-12520</td>\n",
       "      <td>Claire Gute</td>\n",
       "      <td>Consumer</td>\n",
       "      <td>United States</td>\n",
       "      <td>Henderson</td>\n",
       "      <td>...</td>\n",
       "      <td>42420</td>\n",
       "      <td>South</td>\n",
       "      <td>FUR-CH-10000454</td>\n",
       "      <td>Furniture</td>\n",
       "      <td>Chairs</td>\n",
       "      <td>Hon Deluxe Fabric Upholstered Stacking Chairs,...</td>\n",
       "      <td>731.9400</td>\n",
       "      <td>3</td>\n",
       "      <td>0.00</td>\n",
       "      <td>219.5820</td>\n",
       "    </tr>\n",
       "    <tr>\n",
       "      <th>2</th>\n",
       "      <td>3</td>\n",
       "      <td>CA-2016-138688</td>\n",
       "      <td>2016-06-12</td>\n",
       "      <td>2016-06-16</td>\n",
       "      <td>Second Class</td>\n",
       "      <td>DV-13045</td>\n",
       "      <td>Darrin Van Huff</td>\n",
       "      <td>Corporate</td>\n",
       "      <td>United States</td>\n",
       "      <td>Los Angeles</td>\n",
       "      <td>...</td>\n",
       "      <td>90036</td>\n",
       "      <td>West</td>\n",
       "      <td>OFF-LA-10000240</td>\n",
       "      <td>Office Supplies</td>\n",
       "      <td>Labels</td>\n",
       "      <td>Self-Adhesive Address Labels for Typewriters b...</td>\n",
       "      <td>14.6200</td>\n",
       "      <td>2</td>\n",
       "      <td>0.00</td>\n",
       "      <td>6.8714</td>\n",
       "    </tr>\n",
       "    <tr>\n",
       "      <th>3</th>\n",
       "      <td>4</td>\n",
       "      <td>US-2015-108966</td>\n",
       "      <td>2015-10-11</td>\n",
       "      <td>2015-10-18</td>\n",
       "      <td>Standard Class</td>\n",
       "      <td>SO-20335</td>\n",
       "      <td>Sean O'Donnell</td>\n",
       "      <td>Consumer</td>\n",
       "      <td>United States</td>\n",
       "      <td>Fort Lauderdale</td>\n",
       "      <td>...</td>\n",
       "      <td>33311</td>\n",
       "      <td>South</td>\n",
       "      <td>FUR-TA-10000577</td>\n",
       "      <td>Furniture</td>\n",
       "      <td>Tables</td>\n",
       "      <td>Bretford CR4500 Series Slim Rectangular Table</td>\n",
       "      <td>957.5775</td>\n",
       "      <td>5</td>\n",
       "      <td>0.45</td>\n",
       "      <td>-383.0310</td>\n",
       "    </tr>\n",
       "    <tr>\n",
       "      <th>4</th>\n",
       "      <td>5</td>\n",
       "      <td>US-2015-108966</td>\n",
       "      <td>2015-10-11</td>\n",
       "      <td>2015-10-18</td>\n",
       "      <td>Standard Class</td>\n",
       "      <td>SO-20335</td>\n",
       "      <td>Sean O'Donnell</td>\n",
       "      <td>Consumer</td>\n",
       "      <td>United States</td>\n",
       "      <td>Fort Lauderdale</td>\n",
       "      <td>...</td>\n",
       "      <td>33311</td>\n",
       "      <td>South</td>\n",
       "      <td>OFF-ST-10000760</td>\n",
       "      <td>Office Supplies</td>\n",
       "      <td>Storage</td>\n",
       "      <td>Eldon Fold 'N Roll Cart System</td>\n",
       "      <td>22.3680</td>\n",
       "      <td>2</td>\n",
       "      <td>0.20</td>\n",
       "      <td>2.5164</td>\n",
       "    </tr>\n",
       "  </tbody>\n",
       "</table>\n",
       "<p>5 rows × 21 columns</p>\n",
       "</div>"
      ],
      "text/plain": [
       "   Row ID        Order ID Order Date  Ship Date       Ship Mode Customer ID  \\\n",
       "0       1  CA-2016-152156 2016-11-08 2016-11-11    Second Class    CG-12520   \n",
       "1       2  CA-2016-152156 2016-11-08 2016-11-11    Second Class    CG-12520   \n",
       "2       3  CA-2016-138688 2016-06-12 2016-06-16    Second Class    DV-13045   \n",
       "3       4  US-2015-108966 2015-10-11 2015-10-18  Standard Class    SO-20335   \n",
       "4       5  US-2015-108966 2015-10-11 2015-10-18  Standard Class    SO-20335   \n",
       "\n",
       "     Customer Name    Segment        Country             City  ...  \\\n",
       "0      Claire Gute   Consumer  United States        Henderson  ...   \n",
       "1      Claire Gute   Consumer  United States        Henderson  ...   \n",
       "2  Darrin Van Huff  Corporate  United States      Los Angeles  ...   \n",
       "3   Sean O'Donnell   Consumer  United States  Fort Lauderdale  ...   \n",
       "4   Sean O'Donnell   Consumer  United States  Fort Lauderdale  ...   \n",
       "\n",
       "  Postal Code  Region       Product ID         Category Sub-Category  \\\n",
       "0       42420   South  FUR-BO-10001798        Furniture    Bookcases   \n",
       "1       42420   South  FUR-CH-10000454        Furniture       Chairs   \n",
       "2       90036    West  OFF-LA-10000240  Office Supplies       Labels   \n",
       "3       33311   South  FUR-TA-10000577        Furniture       Tables   \n",
       "4       33311   South  OFF-ST-10000760  Office Supplies      Storage   \n",
       "\n",
       "                                        Product Name     Sales  Quantity  \\\n",
       "0                  Bush Somerset Collection Bookcase  261.9600         2   \n",
       "1  Hon Deluxe Fabric Upholstered Stacking Chairs,...  731.9400         3   \n",
       "2  Self-Adhesive Address Labels for Typewriters b...   14.6200         2   \n",
       "3      Bretford CR4500 Series Slim Rectangular Table  957.5775         5   \n",
       "4                     Eldon Fold 'N Roll Cart System   22.3680         2   \n",
       "\n",
       "   Discount    Profit  \n",
       "0      0.00   41.9136  \n",
       "1      0.00  219.5820  \n",
       "2      0.00    6.8714  \n",
       "3      0.45 -383.0310  \n",
       "4      0.20    2.5164  \n",
       "\n",
       "[5 rows x 21 columns]"
      ]
     },
     "execution_count": 342,
     "metadata": {},
     "output_type": "execute_result"
    }
   ],
   "source": [
    "df = pd.read_excel('Superstore.xls') # Loaded the excel data into a dataframe \n",
    "df.head()"
   ]
  },
  {
   "cell_type": "code",
   "execution_count": 343,
   "id": "980e70dc",
   "metadata": {
    "ExecuteTime": {
     "end_time": "2023-05-21T16:52:35.718473Z",
     "start_time": "2023-05-21T16:52:35.712749Z"
    }
   },
   "outputs": [
    {
     "data": {
      "text/plain": [
       "(9994, 21)"
      ]
     },
     "execution_count": 343,
     "metadata": {},
     "output_type": "execute_result"
    }
   ],
   "source": [
    "df.shape"
   ]
  },
  {
   "cell_type": "code",
   "execution_count": 344,
   "id": "3be45871",
   "metadata": {
    "ExecuteTime": {
     "end_time": "2023-05-21T16:52:35.728477Z",
     "start_time": "2023-05-21T16:52:35.723312Z"
    }
   },
   "outputs": [
    {
     "data": {
      "text/plain": [
       "Index(['Row ID', 'Order ID', 'Order Date', 'Ship Date', 'Ship Mode',\n",
       "       'Customer ID', 'Customer Name', 'Segment', 'Country', 'City', 'State',\n",
       "       'Postal Code', 'Region', 'Product ID', 'Category', 'Sub-Category',\n",
       "       'Product Name', 'Sales', 'Quantity', 'Discount', 'Profit'],\n",
       "      dtype='object')"
      ]
     },
     "execution_count": 344,
     "metadata": {},
     "output_type": "execute_result"
    }
   ],
   "source": [
    "df.columns"
   ]
  },
  {
   "cell_type": "code",
   "execution_count": 345,
   "id": "a2942a1f",
   "metadata": {
    "ExecuteTime": {
     "end_time": "2023-05-21T16:52:35.735843Z",
     "start_time": "2023-05-21T16:52:35.732082Z"
    }
   },
   "outputs": [],
   "source": [
    "#furniture = df.loc[df['Category'] == 'Furniture']"
   ]
  },
  {
   "cell_type": "code",
   "execution_count": 346,
   "id": "c8a1acac",
   "metadata": {
    "ExecuteTime": {
     "end_time": "2023-05-21T16:52:35.746103Z",
     "start_time": "2023-05-21T16:52:35.739430Z"
    }
   },
   "outputs": [
    {
     "data": {
      "text/plain": [
       "array(['Furniture', 'Office Supplies', 'Technology'], dtype=object)"
      ]
     },
     "execution_count": 346,
     "metadata": {},
     "output_type": "execute_result"
    }
   ],
   "source": [
    "df['Category'].unique() "
   ]
  },
  {
   "cell_type": "code",
   "execution_count": 347,
   "id": "3438b2d3",
   "metadata": {
    "ExecuteTime": {
     "end_time": "2023-05-21T16:52:35.760337Z",
     "start_time": "2023-05-21T16:52:35.749204Z"
    }
   },
   "outputs": [
    {
     "data": {
      "text/plain": [
       "0        True\n",
       "1        True\n",
       "2       False\n",
       "3        True\n",
       "4       False\n",
       "        ...  \n",
       "9989     True\n",
       "9990     True\n",
       "9991    False\n",
       "9992    False\n",
       "9993    False\n",
       "Name: Category, Length: 9994, dtype: bool"
      ]
     },
     "execution_count": 347,
     "metadata": {},
     "output_type": "execute_result"
    }
   ],
   "source": [
    "df['Category']== \"Furniture\""
   ]
  },
  {
   "cell_type": "code",
   "execution_count": 348,
   "id": "eea398f1",
   "metadata": {
    "ExecuteTime": {
     "end_time": "2023-05-21T16:52:35.780564Z",
     "start_time": "2023-05-21T16:52:35.768573Z"
    }
   },
   "outputs": [
    {
     "data": {
      "text/plain": [
       "9989          Furniture\n",
       "9990          Furniture\n",
       "9991         Technology\n",
       "9992    Office Supplies\n",
       "9993    Office Supplies\n",
       "Name: Category, dtype: object"
      ]
     },
     "execution_count": 348,
     "metadata": {},
     "output_type": "execute_result"
    }
   ],
   "source": [
    "df['Category'].tail()"
   ]
  },
  {
   "cell_type": "code",
   "execution_count": 349,
   "id": "dbc9673c",
   "metadata": {
    "ExecuteTime": {
     "end_time": "2023-05-21T16:52:35.791481Z",
     "start_time": "2023-05-21T16:52:35.784217Z"
    }
   },
   "outputs": [],
   "source": [
    "furniture = df.loc[df['Category'] == 'Furniture'] # Dataframe is being subsetted "
   ]
  },
  {
   "cell_type": "code",
   "execution_count": 350,
   "id": "c793e2ec",
   "metadata": {
    "ExecuteTime": {
     "end_time": "2023-05-21T16:52:35.825189Z",
     "start_time": "2023-05-21T16:52:35.802113Z"
    }
   },
   "outputs": [
    {
     "data": {
      "text/html": [
       "<div>\n",
       "<style scoped>\n",
       "    .dataframe tbody tr th:only-of-type {\n",
       "        vertical-align: middle;\n",
       "    }\n",
       "\n",
       "    .dataframe tbody tr th {\n",
       "        vertical-align: top;\n",
       "    }\n",
       "\n",
       "    .dataframe thead th {\n",
       "        text-align: right;\n",
       "    }\n",
       "</style>\n",
       "<table border=\"1\" class=\"dataframe\">\n",
       "  <thead>\n",
       "    <tr style=\"text-align: right;\">\n",
       "      <th></th>\n",
       "      <th>Row ID</th>\n",
       "      <th>Order ID</th>\n",
       "      <th>Order Date</th>\n",
       "      <th>Ship Date</th>\n",
       "      <th>Ship Mode</th>\n",
       "      <th>Customer ID</th>\n",
       "      <th>Customer Name</th>\n",
       "      <th>Segment</th>\n",
       "      <th>Country</th>\n",
       "      <th>City</th>\n",
       "      <th>...</th>\n",
       "      <th>Postal Code</th>\n",
       "      <th>Region</th>\n",
       "      <th>Product ID</th>\n",
       "      <th>Category</th>\n",
       "      <th>Sub-Category</th>\n",
       "      <th>Product Name</th>\n",
       "      <th>Sales</th>\n",
       "      <th>Quantity</th>\n",
       "      <th>Discount</th>\n",
       "      <th>Profit</th>\n",
       "    </tr>\n",
       "  </thead>\n",
       "  <tbody>\n",
       "    <tr>\n",
       "      <th>0</th>\n",
       "      <td>1</td>\n",
       "      <td>CA-2016-152156</td>\n",
       "      <td>2016-11-08</td>\n",
       "      <td>2016-11-11</td>\n",
       "      <td>Second Class</td>\n",
       "      <td>CG-12520</td>\n",
       "      <td>Claire Gute</td>\n",
       "      <td>Consumer</td>\n",
       "      <td>United States</td>\n",
       "      <td>Henderson</td>\n",
       "      <td>...</td>\n",
       "      <td>42420</td>\n",
       "      <td>South</td>\n",
       "      <td>FUR-BO-10001798</td>\n",
       "      <td>Furniture</td>\n",
       "      <td>Bookcases</td>\n",
       "      <td>Bush Somerset Collection Bookcase</td>\n",
       "      <td>261.9600</td>\n",
       "      <td>2</td>\n",
       "      <td>0.00</td>\n",
       "      <td>41.9136</td>\n",
       "    </tr>\n",
       "    <tr>\n",
       "      <th>1</th>\n",
       "      <td>2</td>\n",
       "      <td>CA-2016-152156</td>\n",
       "      <td>2016-11-08</td>\n",
       "      <td>2016-11-11</td>\n",
       "      <td>Second Class</td>\n",
       "      <td>CG-12520</td>\n",
       "      <td>Claire Gute</td>\n",
       "      <td>Consumer</td>\n",
       "      <td>United States</td>\n",
       "      <td>Henderson</td>\n",
       "      <td>...</td>\n",
       "      <td>42420</td>\n",
       "      <td>South</td>\n",
       "      <td>FUR-CH-10000454</td>\n",
       "      <td>Furniture</td>\n",
       "      <td>Chairs</td>\n",
       "      <td>Hon Deluxe Fabric Upholstered Stacking Chairs,...</td>\n",
       "      <td>731.9400</td>\n",
       "      <td>3</td>\n",
       "      <td>0.00</td>\n",
       "      <td>219.5820</td>\n",
       "    </tr>\n",
       "    <tr>\n",
       "      <th>3</th>\n",
       "      <td>4</td>\n",
       "      <td>US-2015-108966</td>\n",
       "      <td>2015-10-11</td>\n",
       "      <td>2015-10-18</td>\n",
       "      <td>Standard Class</td>\n",
       "      <td>SO-20335</td>\n",
       "      <td>Sean O'Donnell</td>\n",
       "      <td>Consumer</td>\n",
       "      <td>United States</td>\n",
       "      <td>Fort Lauderdale</td>\n",
       "      <td>...</td>\n",
       "      <td>33311</td>\n",
       "      <td>South</td>\n",
       "      <td>FUR-TA-10000577</td>\n",
       "      <td>Furniture</td>\n",
       "      <td>Tables</td>\n",
       "      <td>Bretford CR4500 Series Slim Rectangular Table</td>\n",
       "      <td>957.5775</td>\n",
       "      <td>5</td>\n",
       "      <td>0.45</td>\n",
       "      <td>-383.0310</td>\n",
       "    </tr>\n",
       "    <tr>\n",
       "      <th>5</th>\n",
       "      <td>6</td>\n",
       "      <td>CA-2014-115812</td>\n",
       "      <td>2014-06-09</td>\n",
       "      <td>2014-06-14</td>\n",
       "      <td>Standard Class</td>\n",
       "      <td>BH-11710</td>\n",
       "      <td>Brosina Hoffman</td>\n",
       "      <td>Consumer</td>\n",
       "      <td>United States</td>\n",
       "      <td>Los Angeles</td>\n",
       "      <td>...</td>\n",
       "      <td>90032</td>\n",
       "      <td>West</td>\n",
       "      <td>FUR-FU-10001487</td>\n",
       "      <td>Furniture</td>\n",
       "      <td>Furnishings</td>\n",
       "      <td>Eldon Expressions Wood and Plastic Desk Access...</td>\n",
       "      <td>48.8600</td>\n",
       "      <td>7</td>\n",
       "      <td>0.00</td>\n",
       "      <td>14.1694</td>\n",
       "    </tr>\n",
       "    <tr>\n",
       "      <th>10</th>\n",
       "      <td>11</td>\n",
       "      <td>CA-2014-115812</td>\n",
       "      <td>2014-06-09</td>\n",
       "      <td>2014-06-14</td>\n",
       "      <td>Standard Class</td>\n",
       "      <td>BH-11710</td>\n",
       "      <td>Brosina Hoffman</td>\n",
       "      <td>Consumer</td>\n",
       "      <td>United States</td>\n",
       "      <td>Los Angeles</td>\n",
       "      <td>...</td>\n",
       "      <td>90032</td>\n",
       "      <td>West</td>\n",
       "      <td>FUR-TA-10001539</td>\n",
       "      <td>Furniture</td>\n",
       "      <td>Tables</td>\n",
       "      <td>Chromcraft Rectangular Conference Tables</td>\n",
       "      <td>1706.1840</td>\n",
       "      <td>9</td>\n",
       "      <td>0.20</td>\n",
       "      <td>85.3092</td>\n",
       "    </tr>\n",
       "  </tbody>\n",
       "</table>\n",
       "<p>5 rows × 21 columns</p>\n",
       "</div>"
      ],
      "text/plain": [
       "    Row ID        Order ID Order Date  Ship Date       Ship Mode Customer ID  \\\n",
       "0        1  CA-2016-152156 2016-11-08 2016-11-11    Second Class    CG-12520   \n",
       "1        2  CA-2016-152156 2016-11-08 2016-11-11    Second Class    CG-12520   \n",
       "3        4  US-2015-108966 2015-10-11 2015-10-18  Standard Class    SO-20335   \n",
       "5        6  CA-2014-115812 2014-06-09 2014-06-14  Standard Class    BH-11710   \n",
       "10      11  CA-2014-115812 2014-06-09 2014-06-14  Standard Class    BH-11710   \n",
       "\n",
       "      Customer Name   Segment        Country             City  ...  \\\n",
       "0       Claire Gute  Consumer  United States        Henderson  ...   \n",
       "1       Claire Gute  Consumer  United States        Henderson  ...   \n",
       "3    Sean O'Donnell  Consumer  United States  Fort Lauderdale  ...   \n",
       "5   Brosina Hoffman  Consumer  United States      Los Angeles  ...   \n",
       "10  Brosina Hoffman  Consumer  United States      Los Angeles  ...   \n",
       "\n",
       "   Postal Code  Region       Product ID   Category Sub-Category  \\\n",
       "0        42420   South  FUR-BO-10001798  Furniture    Bookcases   \n",
       "1        42420   South  FUR-CH-10000454  Furniture       Chairs   \n",
       "3        33311   South  FUR-TA-10000577  Furniture       Tables   \n",
       "5        90032    West  FUR-FU-10001487  Furniture  Furnishings   \n",
       "10       90032    West  FUR-TA-10001539  Furniture       Tables   \n",
       "\n",
       "                                         Product Name      Sales  Quantity  \\\n",
       "0                   Bush Somerset Collection Bookcase   261.9600         2   \n",
       "1   Hon Deluxe Fabric Upholstered Stacking Chairs,...   731.9400         3   \n",
       "3       Bretford CR4500 Series Slim Rectangular Table   957.5775         5   \n",
       "5   Eldon Expressions Wood and Plastic Desk Access...    48.8600         7   \n",
       "10           Chromcraft Rectangular Conference Tables  1706.1840         9   \n",
       "\n",
       "    Discount    Profit  \n",
       "0       0.00   41.9136  \n",
       "1       0.00  219.5820  \n",
       "3       0.45 -383.0310  \n",
       "5       0.00   14.1694  \n",
       "10      0.20   85.3092  \n",
       "\n",
       "[5 rows x 21 columns]"
      ]
     },
     "execution_count": 350,
     "metadata": {},
     "output_type": "execute_result"
    }
   ],
   "source": [
    "furniture.head()"
   ]
  },
  {
   "cell_type": "code",
   "execution_count": 351,
   "id": "2d697015",
   "metadata": {
    "ExecuteTime": {
     "end_time": "2023-05-21T16:52:35.834995Z",
     "start_time": "2023-05-21T16:52:35.827656Z"
    }
   },
   "outputs": [
    {
     "data": {
      "text/plain": [
       "(2121, 21)"
      ]
     },
     "execution_count": 351,
     "metadata": {},
     "output_type": "execute_result"
    }
   ],
   "source": [
    "furniture.shape"
   ]
  },
  {
   "cell_type": "code",
   "execution_count": 352,
   "id": "8e4941a2",
   "metadata": {
    "ExecuteTime": {
     "end_time": "2023-05-21T16:52:35.848256Z",
     "start_time": "2023-05-21T16:52:35.838550Z"
    }
   },
   "outputs": [
    {
     "data": {
      "text/plain": [
       "Index(['Row ID', 'Order ID', 'Order Date', 'Ship Date', 'Ship Mode',\n",
       "       'Customer ID', 'Customer Name', 'Segment', 'Country', 'City', 'State',\n",
       "       'Postal Code', 'Region', 'Product ID', 'Category', 'Sub-Category',\n",
       "       'Product Name', 'Sales', 'Quantity', 'Discount', 'Profit'],\n",
       "      dtype='object')"
      ]
     },
     "execution_count": 352,
     "metadata": {},
     "output_type": "execute_result"
    }
   ],
   "source": [
    "furniture.columns"
   ]
  },
  {
   "cell_type": "code",
   "execution_count": 353,
   "id": "fb645371",
   "metadata": {
    "ExecuteTime": {
     "end_time": "2023-05-21T16:52:35.875358Z",
     "start_time": "2023-05-21T16:52:35.853221Z"
    }
   },
   "outputs": [
    {
     "data": {
      "text/html": [
       "<div>\n",
       "<style scoped>\n",
       "    .dataframe tbody tr th:only-of-type {\n",
       "        vertical-align: middle;\n",
       "    }\n",
       "\n",
       "    .dataframe tbody tr th {\n",
       "        vertical-align: top;\n",
       "    }\n",
       "\n",
       "    .dataframe thead th {\n",
       "        text-align: right;\n",
       "    }\n",
       "</style>\n",
       "<table border=\"1\" class=\"dataframe\">\n",
       "  <thead>\n",
       "    <tr style=\"text-align: right;\">\n",
       "      <th></th>\n",
       "      <th>Row ID</th>\n",
       "      <th>Order ID</th>\n",
       "      <th>Order Date</th>\n",
       "      <th>Ship Date</th>\n",
       "      <th>Ship Mode</th>\n",
       "      <th>Customer ID</th>\n",
       "      <th>Customer Name</th>\n",
       "      <th>Segment</th>\n",
       "      <th>Country</th>\n",
       "      <th>City</th>\n",
       "      <th>...</th>\n",
       "      <th>Postal Code</th>\n",
       "      <th>Region</th>\n",
       "      <th>Product ID</th>\n",
       "      <th>Category</th>\n",
       "      <th>Sub-Category</th>\n",
       "      <th>Product Name</th>\n",
       "      <th>Sales</th>\n",
       "      <th>Quantity</th>\n",
       "      <th>Discount</th>\n",
       "      <th>Profit</th>\n",
       "    </tr>\n",
       "  </thead>\n",
       "  <tbody>\n",
       "    <tr>\n",
       "      <th>0</th>\n",
       "      <td>1</td>\n",
       "      <td>CA-2016-152156</td>\n",
       "      <td>2016-11-08</td>\n",
       "      <td>2016-11-11</td>\n",
       "      <td>Second Class</td>\n",
       "      <td>CG-12520</td>\n",
       "      <td>Claire Gute</td>\n",
       "      <td>Consumer</td>\n",
       "      <td>United States</td>\n",
       "      <td>Henderson</td>\n",
       "      <td>...</td>\n",
       "      <td>42420</td>\n",
       "      <td>South</td>\n",
       "      <td>FUR-BO-10001798</td>\n",
       "      <td>Furniture</td>\n",
       "      <td>Bookcases</td>\n",
       "      <td>Bush Somerset Collection Bookcase</td>\n",
       "      <td>261.96</td>\n",
       "      <td>2</td>\n",
       "      <td>0.0</td>\n",
       "      <td>41.9136</td>\n",
       "    </tr>\n",
       "    <tr>\n",
       "      <th>1</th>\n",
       "      <td>2</td>\n",
       "      <td>CA-2016-152156</td>\n",
       "      <td>2016-11-08</td>\n",
       "      <td>2016-11-11</td>\n",
       "      <td>Second Class</td>\n",
       "      <td>CG-12520</td>\n",
       "      <td>Claire Gute</td>\n",
       "      <td>Consumer</td>\n",
       "      <td>United States</td>\n",
       "      <td>Henderson</td>\n",
       "      <td>...</td>\n",
       "      <td>42420</td>\n",
       "      <td>South</td>\n",
       "      <td>FUR-CH-10000454</td>\n",
       "      <td>Furniture</td>\n",
       "      <td>Chairs</td>\n",
       "      <td>Hon Deluxe Fabric Upholstered Stacking Chairs,...</td>\n",
       "      <td>731.94</td>\n",
       "      <td>3</td>\n",
       "      <td>0.0</td>\n",
       "      <td>219.5820</td>\n",
       "    </tr>\n",
       "  </tbody>\n",
       "</table>\n",
       "<p>2 rows × 21 columns</p>\n",
       "</div>"
      ],
      "text/plain": [
       "   Row ID        Order ID Order Date  Ship Date     Ship Mode Customer ID  \\\n",
       "0       1  CA-2016-152156 2016-11-08 2016-11-11  Second Class    CG-12520   \n",
       "1       2  CA-2016-152156 2016-11-08 2016-11-11  Second Class    CG-12520   \n",
       "\n",
       "  Customer Name   Segment        Country       City  ... Postal Code  Region  \\\n",
       "0   Claire Gute  Consumer  United States  Henderson  ...       42420   South   \n",
       "1   Claire Gute  Consumer  United States  Henderson  ...       42420   South   \n",
       "\n",
       "        Product ID   Category Sub-Category  \\\n",
       "0  FUR-BO-10001798  Furniture    Bookcases   \n",
       "1  FUR-CH-10000454  Furniture       Chairs   \n",
       "\n",
       "                                        Product Name   Sales  Quantity  \\\n",
       "0                  Bush Somerset Collection Bookcase  261.96         2   \n",
       "1  Hon Deluxe Fabric Upholstered Stacking Chairs,...  731.94         3   \n",
       "\n",
       "   Discount    Profit  \n",
       "0       0.0   41.9136  \n",
       "1       0.0  219.5820  \n",
       "\n",
       "[2 rows x 21 columns]"
      ]
     },
     "execution_count": 353,
     "metadata": {},
     "output_type": "execute_result"
    }
   ],
   "source": [
    "furniture.head(2) "
   ]
  },
  {
   "cell_type": "markdown",
   "id": "2edf7718",
   "metadata": {},
   "source": [
    "### Data Preprocessing"
   ]
  },
  {
   "cell_type": "code",
   "execution_count": 354,
   "id": "5d57ed16",
   "metadata": {
    "ExecuteTime": {
     "end_time": "2023-05-21T16:52:35.890973Z",
     "start_time": "2023-05-21T16:52:35.884019Z"
    }
   },
   "outputs": [],
   "source": [
    "cols = [\n",
    "    'Row ID', 'Order ID', 'Ship Date', 'Ship Mode', 'Customer ID',\n",
    "    'Customer Name', 'Segment', 'Country', 'City', 'State', 'Postal Code',\n",
    "    'Region', 'Product ID', 'Category', 'Sub-Category', 'Product Name',\n",
    "    'Quantity', 'Discount', 'Profit'\n",
    "] # Columns to be dropped"
   ]
  },
  {
   "cell_type": "code",
   "execution_count": 355,
   "id": "a4b67386",
   "metadata": {
    "ExecuteTime": {
     "end_time": "2023-05-21T16:52:35.904471Z",
     "start_time": "2023-05-21T16:52:35.895141Z"
    }
   },
   "outputs": [],
   "source": [
    "furniture.drop(cols, axis=1, inplace=True)"
   ]
  },
  {
   "cell_type": "code",
   "execution_count": 356,
   "id": "5d99e734",
   "metadata": {
    "ExecuteTime": {
     "end_time": "2023-05-21T16:52:35.916030Z",
     "start_time": "2023-05-21T16:52:35.906918Z"
    }
   },
   "outputs": [
    {
     "data": {
      "text/plain": [
       "pandas.core.frame.DataFrame"
      ]
     },
     "execution_count": 356,
     "metadata": {},
     "output_type": "execute_result"
    }
   ],
   "source": [
    "type(furniture)"
   ]
  },
  {
   "cell_type": "code",
   "execution_count": 357,
   "id": "788e15e0",
   "metadata": {
    "ExecuteTime": {
     "end_time": "2023-05-21T16:52:35.930962Z",
     "start_time": "2023-05-21T16:52:35.919772Z"
    }
   },
   "outputs": [
    {
     "data": {
      "text/html": [
       "<div>\n",
       "<style scoped>\n",
       "    .dataframe tbody tr th:only-of-type {\n",
       "        vertical-align: middle;\n",
       "    }\n",
       "\n",
       "    .dataframe tbody tr th {\n",
       "        vertical-align: top;\n",
       "    }\n",
       "\n",
       "    .dataframe thead th {\n",
       "        text-align: right;\n",
       "    }\n",
       "</style>\n",
       "<table border=\"1\" class=\"dataframe\">\n",
       "  <thead>\n",
       "    <tr style=\"text-align: right;\">\n",
       "      <th></th>\n",
       "      <th>Order Date</th>\n",
       "      <th>Sales</th>\n",
       "    </tr>\n",
       "  </thead>\n",
       "  <tbody>\n",
       "    <tr>\n",
       "      <th>0</th>\n",
       "      <td>2016-11-08</td>\n",
       "      <td>261.9600</td>\n",
       "    </tr>\n",
       "    <tr>\n",
       "      <th>1</th>\n",
       "      <td>2016-11-08</td>\n",
       "      <td>731.9400</td>\n",
       "    </tr>\n",
       "    <tr>\n",
       "      <th>3</th>\n",
       "      <td>2015-10-11</td>\n",
       "      <td>957.5775</td>\n",
       "    </tr>\n",
       "    <tr>\n",
       "      <th>5</th>\n",
       "      <td>2014-06-09</td>\n",
       "      <td>48.8600</td>\n",
       "    </tr>\n",
       "    <tr>\n",
       "      <th>10</th>\n",
       "      <td>2014-06-09</td>\n",
       "      <td>1706.1840</td>\n",
       "    </tr>\n",
       "  </tbody>\n",
       "</table>\n",
       "</div>"
      ],
      "text/plain": [
       "   Order Date      Sales\n",
       "0  2016-11-08   261.9600\n",
       "1  2016-11-08   731.9400\n",
       "3  2015-10-11   957.5775\n",
       "5  2014-06-09    48.8600\n",
       "10 2014-06-09  1706.1840"
      ]
     },
     "execution_count": 357,
     "metadata": {},
     "output_type": "execute_result"
    }
   ],
   "source": [
    "furniture.head()"
   ]
  },
  {
   "cell_type": "code",
   "execution_count": 358,
   "id": "d42d6226",
   "metadata": {
    "ExecuteTime": {
     "end_time": "2023-05-21T16:52:36.063979Z",
     "start_time": "2023-05-21T16:52:36.056889Z"
    }
   },
   "outputs": [
    {
     "data": {
      "text/plain": [
       "(2121, 2)"
      ]
     },
     "execution_count": 358,
     "metadata": {},
     "output_type": "execute_result"
    }
   ],
   "source": [
    "furniture.shape "
   ]
  },
  {
   "cell_type": "code",
   "execution_count": 359,
   "id": "049ace15",
   "metadata": {
    "ExecuteTime": {
     "end_time": "2023-05-21T16:52:36.406486Z",
     "start_time": "2023-05-21T16:52:36.400236Z"
    }
   },
   "outputs": [
    {
     "data": {
      "text/plain": [
       "(Timestamp('2014-01-06 00:00:00'), Timestamp('2017-12-30 00:00:00'))"
      ]
     },
     "execution_count": 359,
     "metadata": {},
     "output_type": "execute_result"
    }
   ],
   "source": [
    "furniture['Order Date'].min(), furniture['Order Date'].max()"
   ]
  },
  {
   "cell_type": "code",
   "execution_count": 360,
   "id": "9192eef3",
   "metadata": {
    "ExecuteTime": {
     "end_time": "2023-05-21T16:52:36.880394Z",
     "start_time": "2023-05-21T16:52:36.863666Z"
    }
   },
   "outputs": [
    {
     "data": {
      "text/plain": [
       "0    2016-11-08\n",
       "1    2016-11-08\n",
       "3    2015-10-11\n",
       "5    2014-06-09\n",
       "10   2014-06-09\n",
       "Name: Order Date, dtype: datetime64[ns]"
      ]
     },
     "execution_count": 360,
     "metadata": {},
     "output_type": "execute_result"
    }
   ],
   "source": [
    "furniture['Order Date'].head()  "
   ]
  },
  {
   "cell_type": "code",
   "execution_count": 361,
   "id": "afe224b7",
   "metadata": {
    "ExecuteTime": {
     "end_time": "2023-05-21T16:52:37.088560Z",
     "start_time": "2023-05-21T16:52:37.071497Z"
    }
   },
   "outputs": [],
   "source": [
    "furniture = furniture.sort_values('Order Date')"
   ]
  },
  {
   "cell_type": "code",
   "execution_count": 362,
   "id": "026775a6",
   "metadata": {
    "ExecuteTime": {
     "end_time": "2023-05-21T16:52:37.272974Z",
     "start_time": "2023-05-21T16:52:37.265515Z"
    }
   },
   "outputs": [
    {
     "data": {
      "text/html": [
       "<div>\n",
       "<style scoped>\n",
       "    .dataframe tbody tr th:only-of-type {\n",
       "        vertical-align: middle;\n",
       "    }\n",
       "\n",
       "    .dataframe tbody tr th {\n",
       "        vertical-align: top;\n",
       "    }\n",
       "\n",
       "    .dataframe thead th {\n",
       "        text-align: right;\n",
       "    }\n",
       "</style>\n",
       "<table border=\"1\" class=\"dataframe\">\n",
       "  <thead>\n",
       "    <tr style=\"text-align: right;\">\n",
       "      <th></th>\n",
       "      <th>Order Date</th>\n",
       "      <th>Sales</th>\n",
       "    </tr>\n",
       "  </thead>\n",
       "  <tbody>\n",
       "    <tr>\n",
       "      <th>7474</th>\n",
       "      <td>2014-01-06</td>\n",
       "      <td>2573.820</td>\n",
       "    </tr>\n",
       "    <tr>\n",
       "      <th>7660</th>\n",
       "      <td>2014-01-07</td>\n",
       "      <td>76.728</td>\n",
       "    </tr>\n",
       "    <tr>\n",
       "      <th>866</th>\n",
       "      <td>2014-01-10</td>\n",
       "      <td>51.940</td>\n",
       "    </tr>\n",
       "    <tr>\n",
       "      <th>716</th>\n",
       "      <td>2014-01-11</td>\n",
       "      <td>9.940</td>\n",
       "    </tr>\n",
       "    <tr>\n",
       "      <th>2978</th>\n",
       "      <td>2014-01-13</td>\n",
       "      <td>545.940</td>\n",
       "    </tr>\n",
       "  </tbody>\n",
       "</table>\n",
       "</div>"
      ],
      "text/plain": [
       "     Order Date     Sales\n",
       "7474 2014-01-06  2573.820\n",
       "7660 2014-01-07    76.728\n",
       "866  2014-01-10    51.940\n",
       "716  2014-01-11     9.940\n",
       "2978 2014-01-13   545.940"
      ]
     },
     "execution_count": 362,
     "metadata": {},
     "output_type": "execute_result"
    }
   ],
   "source": [
    "furniture.head()"
   ]
  },
  {
   "cell_type": "code",
   "execution_count": 363,
   "id": "2b3958d5",
   "metadata": {
    "ExecuteTime": {
     "end_time": "2023-05-21T16:52:37.530681Z",
     "start_time": "2023-05-21T16:52:37.518599Z"
    }
   },
   "outputs": [
    {
     "data": {
      "text/plain": [
       "Order Date    0\n",
       "Sales         0\n",
       "dtype: int64"
      ]
     },
     "execution_count": 363,
     "metadata": {},
     "output_type": "execute_result"
    }
   ],
   "source": [
    "furniture.isna().sum() "
   ]
  },
  {
   "cell_type": "code",
   "execution_count": 364,
   "id": "b3a4f1fb",
   "metadata": {
    "ExecuteTime": {
     "end_time": "2023-05-21T16:52:37.728299Z",
     "start_time": "2023-05-21T16:52:37.726049Z"
    }
   },
   "outputs": [],
   "source": [
    "#furniture = furniture.groupby('Order Date')['Sales'].sum().reset_index()"
   ]
  },
  {
   "cell_type": "code",
   "execution_count": 365,
   "id": "00071dee",
   "metadata": {
    "ExecuteTime": {
     "end_time": "2023-05-21T16:52:37.939534Z",
     "start_time": "2023-05-21T16:52:37.933274Z"
    }
   },
   "outputs": [],
   "source": [
    "furniture = furniture.groupby('Order Date')['Sales'].sum().reset_index()"
   ]
  },
  {
   "cell_type": "code",
   "execution_count": 366,
   "id": "63e3dd0c",
   "metadata": {
    "ExecuteTime": {
     "end_time": "2023-05-21T16:52:38.193940Z",
     "start_time": "2023-05-21T16:52:38.185867Z"
    }
   },
   "outputs": [
    {
     "data": {
      "text/html": [
       "<div>\n",
       "<style scoped>\n",
       "    .dataframe tbody tr th:only-of-type {\n",
       "        vertical-align: middle;\n",
       "    }\n",
       "\n",
       "    .dataframe tbody tr th {\n",
       "        vertical-align: top;\n",
       "    }\n",
       "\n",
       "    .dataframe thead th {\n",
       "        text-align: right;\n",
       "    }\n",
       "</style>\n",
       "<table border=\"1\" class=\"dataframe\">\n",
       "  <thead>\n",
       "    <tr style=\"text-align: right;\">\n",
       "      <th></th>\n",
       "      <th>Order Date</th>\n",
       "      <th>Sales</th>\n",
       "    </tr>\n",
       "  </thead>\n",
       "  <tbody>\n",
       "    <tr>\n",
       "      <th>0</th>\n",
       "      <td>2014-01-06</td>\n",
       "      <td>2573.820</td>\n",
       "    </tr>\n",
       "    <tr>\n",
       "      <th>1</th>\n",
       "      <td>2014-01-07</td>\n",
       "      <td>76.728</td>\n",
       "    </tr>\n",
       "    <tr>\n",
       "      <th>2</th>\n",
       "      <td>2014-01-10</td>\n",
       "      <td>51.940</td>\n",
       "    </tr>\n",
       "    <tr>\n",
       "      <th>3</th>\n",
       "      <td>2014-01-11</td>\n",
       "      <td>9.940</td>\n",
       "    </tr>\n",
       "    <tr>\n",
       "      <th>4</th>\n",
       "      <td>2014-01-13</td>\n",
       "      <td>879.939</td>\n",
       "    </tr>\n",
       "  </tbody>\n",
       "</table>\n",
       "</div>"
      ],
      "text/plain": [
       "  Order Date     Sales\n",
       "0 2014-01-06  2573.820\n",
       "1 2014-01-07    76.728\n",
       "2 2014-01-10    51.940\n",
       "3 2014-01-11     9.940\n",
       "4 2014-01-13   879.939"
      ]
     },
     "execution_count": 366,
     "metadata": {},
     "output_type": "execute_result"
    }
   ],
   "source": [
    "furniture.head() "
   ]
  },
  {
   "cell_type": "code",
   "execution_count": 367,
   "id": "ac33ab46",
   "metadata": {
    "ExecuteTime": {
     "end_time": "2023-05-21T16:52:38.467766Z",
     "start_time": "2023-05-21T16:52:38.459873Z"
    }
   },
   "outputs": [
    {
     "data": {
      "text/plain": [
       "RangeIndex(start=0, stop=889, step=1)"
      ]
     },
     "execution_count": 367,
     "metadata": {},
     "output_type": "execute_result"
    }
   ],
   "source": [
    "furniture.index"
   ]
  },
  {
   "cell_type": "code",
   "execution_count": 368,
   "id": "fcc64ecf",
   "metadata": {
    "ExecuteTime": {
     "end_time": "2023-05-21T16:52:38.919321Z",
     "start_time": "2023-05-21T16:52:38.911721Z"
    }
   },
   "outputs": [
    {
     "data": {
      "text/plain": [
       "DatetimeIndex(['2014-01-06', '2014-01-07', '2014-01-10', '2014-01-11',\n",
       "               '2014-01-13', '2014-01-14', '2014-01-16', '2014-01-19',\n",
       "               '2014-01-20', '2014-01-21',\n",
       "               ...\n",
       "               '2017-12-18', '2017-12-19', '2017-12-21', '2017-12-22',\n",
       "               '2017-12-23', '2017-12-24', '2017-12-25', '2017-12-28',\n",
       "               '2017-12-29', '2017-12-30'],\n",
       "              dtype='datetime64[ns]', name='Order Date', length=889, freq=None)"
      ]
     },
     "execution_count": 368,
     "metadata": {},
     "output_type": "execute_result"
    }
   ],
   "source": [
    "furniture = furniture.set_index('Order Date')\n",
    "furniture.index"
   ]
  },
  {
   "cell_type": "code",
   "execution_count": 369,
   "id": "18e1b53b",
   "metadata": {
    "ExecuteTime": {
     "end_time": "2023-05-21T16:52:39.306768Z",
     "start_time": "2023-05-21T16:52:39.299632Z"
    }
   },
   "outputs": [
    {
     "data": {
      "text/html": [
       "<div>\n",
       "<style scoped>\n",
       "    .dataframe tbody tr th:only-of-type {\n",
       "        vertical-align: middle;\n",
       "    }\n",
       "\n",
       "    .dataframe tbody tr th {\n",
       "        vertical-align: top;\n",
       "    }\n",
       "\n",
       "    .dataframe thead th {\n",
       "        text-align: right;\n",
       "    }\n",
       "</style>\n",
       "<table border=\"1\" class=\"dataframe\">\n",
       "  <thead>\n",
       "    <tr style=\"text-align: right;\">\n",
       "      <th></th>\n",
       "      <th>Sales</th>\n",
       "    </tr>\n",
       "    <tr>\n",
       "      <th>Order Date</th>\n",
       "      <th></th>\n",
       "    </tr>\n",
       "  </thead>\n",
       "  <tbody>\n",
       "    <tr>\n",
       "      <th>2014-01-06</th>\n",
       "      <td>2573.820</td>\n",
       "    </tr>\n",
       "    <tr>\n",
       "      <th>2014-01-07</th>\n",
       "      <td>76.728</td>\n",
       "    </tr>\n",
       "    <tr>\n",
       "      <th>2014-01-10</th>\n",
       "      <td>51.940</td>\n",
       "    </tr>\n",
       "    <tr>\n",
       "      <th>2014-01-11</th>\n",
       "      <td>9.940</td>\n",
       "    </tr>\n",
       "    <tr>\n",
       "      <th>2014-01-13</th>\n",
       "      <td>879.939</td>\n",
       "    </tr>\n",
       "  </tbody>\n",
       "</table>\n",
       "</div>"
      ],
      "text/plain": [
       "               Sales\n",
       "Order Date          \n",
       "2014-01-06  2573.820\n",
       "2014-01-07    76.728\n",
       "2014-01-10    51.940\n",
       "2014-01-11     9.940\n",
       "2014-01-13   879.939"
      ]
     },
     "execution_count": 369,
     "metadata": {},
     "output_type": "execute_result"
    }
   ],
   "source": [
    "furniture.head() "
   ]
  },
  {
   "cell_type": "code",
   "execution_count": 370,
   "id": "1093ef17",
   "metadata": {
    "ExecuteTime": {
     "end_time": "2023-05-21T16:52:39.542317Z",
     "start_time": "2023-05-21T16:52:39.526550Z"
    }
   },
   "outputs": [],
   "source": [
    "y = furniture['Sales'].resample('MS').mean()"
   ]
  },
  {
   "cell_type": "code",
   "execution_count": 371,
   "id": "1e637ab3",
   "metadata": {
    "ExecuteTime": {
     "end_time": "2023-05-21T16:52:39.759281Z",
     "start_time": "2023-05-21T16:52:39.750383Z"
    }
   },
   "outputs": [
    {
     "data": {
      "text/plain": [
       "Order Date\n",
       "2014-01-01     480.194231\n",
       "2014-02-01     367.931600\n",
       "2014-03-01     857.291529\n",
       "2014-04-01     567.488357\n",
       "2014-05-01     432.049188\n",
       "2014-06-01     695.059242\n",
       "2014-07-01     601.169500\n",
       "2014-08-01     457.521656\n",
       "2014-09-01     992.353367\n",
       "2014-10-01     769.015437\n",
       "2014-11-01     980.221486\n",
       "2014-12-01    1532.298325\n",
       "2015-01-01     978.328467\n",
       "2015-02-01     522.395667\n",
       "2015-03-01     781.236437\n",
       "2015-04-01     805.822962\n",
       "2015-05-01     624.996700\n",
       "2015-06-01     428.565500\n",
       "2015-07-01     719.706316\n",
       "2015-08-01     602.412012\n",
       "2015-09-01    1382.790684\n",
       "2015-10-01     632.980184\n",
       "2015-11-01    1286.701354\n",
       "2015-12-01    1049.355418\n",
       "Freq: MS, Name: Sales, dtype: float64"
      ]
     },
     "execution_count": 371,
     "metadata": {},
     "output_type": "execute_result"
    }
   ],
   "source": [
    "y['2014':'2015']"
   ]
  },
  {
   "cell_type": "code",
   "execution_count": null,
   "id": "071be5ff",
   "metadata": {},
   "outputs": [],
   "source": []
  },
  {
   "cell_type": "code",
   "execution_count": null,
   "id": "87802feb",
   "metadata": {},
   "outputs": [],
   "source": []
  },
  {
   "cell_type": "code",
   "execution_count": null,
   "id": "65eafbfb",
   "metadata": {},
   "outputs": [],
   "source": []
  },
  {
   "cell_type": "code",
   "execution_count": null,
   "id": "82990ff3",
   "metadata": {},
   "outputs": [],
   "source": []
  },
  {
   "cell_type": "code",
   "execution_count": null,
   "id": "3c3f9e69",
   "metadata": {},
   "outputs": [],
   "source": []
  },
  {
   "cell_type": "code",
   "execution_count": null,
   "id": "48810c30",
   "metadata": {},
   "outputs": [],
   "source": []
  },
  {
   "cell_type": "code",
   "execution_count": 207,
   "id": "aed197cc",
   "metadata": {
    "ExecuteTime": {
     "end_time": "2023-05-07T17:52:28.859712Z",
     "start_time": "2023-05-07T17:52:28.805831Z"
    }
   },
   "outputs": [
    {
     "data": {
      "text/html": [
       "<div>\n",
       "<style scoped>\n",
       "    .dataframe tbody tr th:only-of-type {\n",
       "        vertical-align: middle;\n",
       "    }\n",
       "\n",
       "    .dataframe tbody tr th {\n",
       "        vertical-align: top;\n",
       "    }\n",
       "\n",
       "    .dataframe thead th {\n",
       "        text-align: right;\n",
       "    }\n",
       "</style>\n",
       "<table border=\"1\" class=\"dataframe\">\n",
       "  <thead>\n",
       "    <tr style=\"text-align: right;\">\n",
       "      <th></th>\n",
       "      <th>PassengerId</th>\n",
       "      <th>Survived</th>\n",
       "      <th>Pclass</th>\n",
       "      <th>Name</th>\n",
       "      <th>Sex</th>\n",
       "      <th>Age</th>\n",
       "      <th>SibSp</th>\n",
       "      <th>Parch</th>\n",
       "      <th>Ticket</th>\n",
       "      <th>Fare</th>\n",
       "      <th>Cabin</th>\n",
       "      <th>Embarked</th>\n",
       "    </tr>\n",
       "  </thead>\n",
       "  <tbody>\n",
       "    <tr>\n",
       "      <th>0</th>\n",
       "      <td>1</td>\n",
       "      <td>0</td>\n",
       "      <td>3</td>\n",
       "      <td>Braund, Mr. Owen Harris</td>\n",
       "      <td>male</td>\n",
       "      <td>22.0</td>\n",
       "      <td>1</td>\n",
       "      <td>0</td>\n",
       "      <td>A/5 21171</td>\n",
       "      <td>7.2500</td>\n",
       "      <td>NaN</td>\n",
       "      <td>S</td>\n",
       "    </tr>\n",
       "    <tr>\n",
       "      <th>1</th>\n",
       "      <td>2</td>\n",
       "      <td>1</td>\n",
       "      <td>1</td>\n",
       "      <td>Cumings, Mrs. John Bradley (Florence Briggs Th...</td>\n",
       "      <td>female</td>\n",
       "      <td>38.0</td>\n",
       "      <td>1</td>\n",
       "      <td>0</td>\n",
       "      <td>PC 17599</td>\n",
       "      <td>71.2833</td>\n",
       "      <td>C85</td>\n",
       "      <td>C</td>\n",
       "    </tr>\n",
       "    <tr>\n",
       "      <th>2</th>\n",
       "      <td>3</td>\n",
       "      <td>1</td>\n",
       "      <td>3</td>\n",
       "      <td>Heikkinen, Miss. Laina</td>\n",
       "      <td>female</td>\n",
       "      <td>26.0</td>\n",
       "      <td>0</td>\n",
       "      <td>0</td>\n",
       "      <td>STON/O2. 3101282</td>\n",
       "      <td>7.9250</td>\n",
       "      <td>NaN</td>\n",
       "      <td>S</td>\n",
       "    </tr>\n",
       "  </tbody>\n",
       "</table>\n",
       "</div>"
      ],
      "text/plain": [
       "   PassengerId  Survived  Pclass  \\\n",
       "0            1         0       3   \n",
       "1            2         1       1   \n",
       "2            3         1       3   \n",
       "\n",
       "                                                Name     Sex   Age  SibSp  \\\n",
       "0                            Braund, Mr. Owen Harris    male  22.0      1   \n",
       "1  Cumings, Mrs. John Bradley (Florence Briggs Th...  female  38.0      1   \n",
       "2                             Heikkinen, Miss. Laina  female  26.0      0   \n",
       "\n",
       "   Parch            Ticket     Fare Cabin Embarked  \n",
       "0      0         A/5 21171   7.2500   NaN        S  \n",
       "1      0          PC 17599  71.2833   C85        C  \n",
       "2      0  STON/O2. 3101282   7.9250   NaN        S  "
      ]
     },
     "execution_count": 207,
     "metadata": {},
     "output_type": "execute_result"
    }
   ],
   "source": [
    "titanic = pd.read_csv('train.csv')\n",
    "titanic.head(3)"
   ]
  },
  {
   "cell_type": "code",
   "execution_count": 209,
   "id": "5bb01ed1",
   "metadata": {
    "ExecuteTime": {
     "end_time": "2023-05-07T17:54:24.447957Z",
     "start_time": "2023-05-07T17:54:24.437811Z"
    }
   },
   "outputs": [
    {
     "data": {
      "text/plain": [
       "array([3, 1, 2])"
      ]
     },
     "execution_count": 209,
     "metadata": {},
     "output_type": "execute_result"
    }
   ],
   "source": [
    "titanic['Pclass'].unique() "
   ]
  },
  {
   "cell_type": "code",
   "execution_count": 210,
   "id": "d7078bed",
   "metadata": {
    "ExecuteTime": {
     "end_time": "2023-05-07T17:54:51.861334Z",
     "start_time": "2023-05-07T17:54:51.819181Z"
    }
   },
   "outputs": [],
   "source": [
    "first_class = titanic.loc[titanic['Pclass'] == 1]"
   ]
  },
  {
   "cell_type": "code",
   "execution_count": 212,
   "id": "a21bc8f0",
   "metadata": {
    "ExecuteTime": {
     "end_time": "2023-05-07T17:55:18.248059Z",
     "start_time": "2023-05-07T17:55:18.225538Z"
    }
   },
   "outputs": [
    {
     "data": {
      "text/html": [
       "<div>\n",
       "<style scoped>\n",
       "    .dataframe tbody tr th:only-of-type {\n",
       "        vertical-align: middle;\n",
       "    }\n",
       "\n",
       "    .dataframe tbody tr th {\n",
       "        vertical-align: top;\n",
       "    }\n",
       "\n",
       "    .dataframe thead th {\n",
       "        text-align: right;\n",
       "    }\n",
       "</style>\n",
       "<table border=\"1\" class=\"dataframe\">\n",
       "  <thead>\n",
       "    <tr style=\"text-align: right;\">\n",
       "      <th></th>\n",
       "      <th>PassengerId</th>\n",
       "      <th>Survived</th>\n",
       "      <th>Pclass</th>\n",
       "      <th>Name</th>\n",
       "      <th>Sex</th>\n",
       "      <th>Age</th>\n",
       "      <th>SibSp</th>\n",
       "      <th>Parch</th>\n",
       "      <th>Ticket</th>\n",
       "      <th>Fare</th>\n",
       "      <th>Cabin</th>\n",
       "      <th>Embarked</th>\n",
       "    </tr>\n",
       "  </thead>\n",
       "  <tbody>\n",
       "    <tr>\n",
       "      <th>1</th>\n",
       "      <td>2</td>\n",
       "      <td>1</td>\n",
       "      <td>1</td>\n",
       "      <td>Cumings, Mrs. John Bradley (Florence Briggs Th...</td>\n",
       "      <td>female</td>\n",
       "      <td>38.0</td>\n",
       "      <td>1</td>\n",
       "      <td>0</td>\n",
       "      <td>PC 17599</td>\n",
       "      <td>71.2833</td>\n",
       "      <td>C85</td>\n",
       "      <td>C</td>\n",
       "    </tr>\n",
       "    <tr>\n",
       "      <th>3</th>\n",
       "      <td>4</td>\n",
       "      <td>1</td>\n",
       "      <td>1</td>\n",
       "      <td>Futrelle, Mrs. Jacques Heath (Lily May Peel)</td>\n",
       "      <td>female</td>\n",
       "      <td>35.0</td>\n",
       "      <td>1</td>\n",
       "      <td>0</td>\n",
       "      <td>113803</td>\n",
       "      <td>53.1000</td>\n",
       "      <td>C123</td>\n",
       "      <td>S</td>\n",
       "    </tr>\n",
       "  </tbody>\n",
       "</table>\n",
       "</div>"
      ],
      "text/plain": [
       "   PassengerId  Survived  Pclass  \\\n",
       "1            2         1       1   \n",
       "3            4         1       1   \n",
       "\n",
       "                                                Name     Sex   Age  SibSp  \\\n",
       "1  Cumings, Mrs. John Bradley (Florence Briggs Th...  female  38.0      1   \n",
       "3       Futrelle, Mrs. Jacques Heath (Lily May Peel)  female  35.0      1   \n",
       "\n",
       "   Parch    Ticket     Fare Cabin Embarked  \n",
       "1      0  PC 17599  71.2833   C85        C  \n",
       "3      0    113803  53.1000  C123        S  "
      ]
     },
     "execution_count": 212,
     "metadata": {},
     "output_type": "execute_result"
    }
   ],
   "source": [
    "first_class.head(2)"
   ]
  },
  {
   "cell_type": "code",
   "execution_count": 213,
   "id": "9544dc6d",
   "metadata": {
    "ExecuteTime": {
     "end_time": "2023-05-07T17:55:25.835250Z",
     "start_time": "2023-05-07T17:55:25.825420Z"
    }
   },
   "outputs": [
    {
     "data": {
      "text/plain": [
       "(891, 12)"
      ]
     },
     "execution_count": 213,
     "metadata": {},
     "output_type": "execute_result"
    }
   ],
   "source": [
    "titanic.shape"
   ]
  },
  {
   "cell_type": "code",
   "execution_count": 214,
   "id": "1f55de77",
   "metadata": {
    "ExecuteTime": {
     "end_time": "2023-05-07T17:55:36.425290Z",
     "start_time": "2023-05-07T17:55:36.405198Z"
    }
   },
   "outputs": [
    {
     "data": {
      "text/plain": [
       "(216, 12)"
      ]
     },
     "execution_count": 214,
     "metadata": {},
     "output_type": "execute_result"
    }
   ],
   "source": [
    "first_class.shape"
   ]
  },
  {
   "cell_type": "markdown",
   "id": "7e17e3f9",
   "metadata": {},
   "source": [
    "# Boolean Operations "
   ]
  },
  {
   "cell_type": "code",
   "execution_count": null,
   "id": "1155324c",
   "metadata": {},
   "outputs": [],
   "source": []
  },
  {
   "cell_type": "markdown",
   "id": "1fb90121",
   "metadata": {},
   "source": [
    "## Learning Through Documentation "
   ]
  },
  {
   "cell_type": "code",
   "execution_count": 329,
   "id": "0ba7f89a",
   "metadata": {
    "ExecuteTime": {
     "end_time": "2023-05-28T18:46:16.978234Z",
     "start_time": "2023-05-28T18:46:16.827418Z"
    }
   },
   "outputs": [],
   "source": [
    "# Import seaborn\n",
    "import seaborn as sns # Visualisation Module\n",
    "import matplotlib.pyplot as plt\n",
    "import bokeh as bk \n",
    "import plotly as pl \n",
    "\n",
    "# Apply the default theme\n",
    "sns.set_theme()\n"
   ]
  },
  {
   "cell_type": "code",
   "execution_count": 325,
   "id": "1b417763",
   "metadata": {
    "ExecuteTime": {
     "end_time": "2023-05-28T18:38:49.042573Z",
     "start_time": "2023-05-28T18:38:49.025748Z"
    }
   },
   "outputs": [],
   "source": [
    "tips = sns.load_dataset('tips')"
   ]
  },
  {
   "cell_type": "code",
   "execution_count": 326,
   "id": "1d2afe74",
   "metadata": {
    "ExecuteTime": {
     "end_time": "2023-05-28T18:38:57.831340Z",
     "start_time": "2023-05-28T18:38:57.756893Z"
    }
   },
   "outputs": [
    {
     "data": {
      "text/html": [
       "<div>\n",
       "<style scoped>\n",
       "    .dataframe tbody tr th:only-of-type {\n",
       "        vertical-align: middle;\n",
       "    }\n",
       "\n",
       "    .dataframe tbody tr th {\n",
       "        vertical-align: top;\n",
       "    }\n",
       "\n",
       "    .dataframe thead th {\n",
       "        text-align: right;\n",
       "    }\n",
       "</style>\n",
       "<table border=\"1\" class=\"dataframe\">\n",
       "  <thead>\n",
       "    <tr style=\"text-align: right;\">\n",
       "      <th></th>\n",
       "      <th>total_bill</th>\n",
       "      <th>tip</th>\n",
       "      <th>sex</th>\n",
       "      <th>smoker</th>\n",
       "      <th>day</th>\n",
       "      <th>time</th>\n",
       "      <th>size</th>\n",
       "    </tr>\n",
       "  </thead>\n",
       "  <tbody>\n",
       "    <tr>\n",
       "      <th>0</th>\n",
       "      <td>16.99</td>\n",
       "      <td>1.01</td>\n",
       "      <td>Female</td>\n",
       "      <td>No</td>\n",
       "      <td>Sun</td>\n",
       "      <td>Dinner</td>\n",
       "      <td>2</td>\n",
       "    </tr>\n",
       "    <tr>\n",
       "      <th>1</th>\n",
       "      <td>10.34</td>\n",
       "      <td>1.66</td>\n",
       "      <td>Male</td>\n",
       "      <td>No</td>\n",
       "      <td>Sun</td>\n",
       "      <td>Dinner</td>\n",
       "      <td>3</td>\n",
       "    </tr>\n",
       "    <tr>\n",
       "      <th>2</th>\n",
       "      <td>21.01</td>\n",
       "      <td>3.50</td>\n",
       "      <td>Male</td>\n",
       "      <td>No</td>\n",
       "      <td>Sun</td>\n",
       "      <td>Dinner</td>\n",
       "      <td>3</td>\n",
       "    </tr>\n",
       "    <tr>\n",
       "      <th>3</th>\n",
       "      <td>23.68</td>\n",
       "      <td>3.31</td>\n",
       "      <td>Male</td>\n",
       "      <td>No</td>\n",
       "      <td>Sun</td>\n",
       "      <td>Dinner</td>\n",
       "      <td>2</td>\n",
       "    </tr>\n",
       "    <tr>\n",
       "      <th>4</th>\n",
       "      <td>24.59</td>\n",
       "      <td>3.61</td>\n",
       "      <td>Female</td>\n",
       "      <td>No</td>\n",
       "      <td>Sun</td>\n",
       "      <td>Dinner</td>\n",
       "      <td>4</td>\n",
       "    </tr>\n",
       "  </tbody>\n",
       "</table>\n",
       "</div>"
      ],
      "text/plain": [
       "   total_bill   tip     sex smoker  day    time  size\n",
       "0       16.99  1.01  Female     No  Sun  Dinner     2\n",
       "1       10.34  1.66    Male     No  Sun  Dinner     3\n",
       "2       21.01  3.50    Male     No  Sun  Dinner     3\n",
       "3       23.68  3.31    Male     No  Sun  Dinner     2\n",
       "4       24.59  3.61  Female     No  Sun  Dinner     4"
      ]
     },
     "execution_count": 326,
     "metadata": {},
     "output_type": "execute_result"
    }
   ],
   "source": [
    "tips.head() "
   ]
  },
  {
   "cell_type": "code",
   "execution_count": 327,
   "id": "d4349cdc",
   "metadata": {
    "ExecuteTime": {
     "end_time": "2023-05-28T18:40:16.775357Z",
     "start_time": "2023-05-28T18:40:16.730712Z"
    }
   },
   "outputs": [
    {
     "data": {
      "text/plain": [
       "Index(['total_bill', 'tip', 'sex', 'smoker', 'day', 'time', 'size'], dtype='object')"
      ]
     },
     "execution_count": 327,
     "metadata": {},
     "output_type": "execute_result"
    }
   ],
   "source": [
    "# Female customers tip more than male customers \n",
    "tips.columns"
   ]
  },
  {
   "cell_type": "code",
   "execution_count": 328,
   "id": "0c152989",
   "metadata": {
    "ExecuteTime": {
     "end_time": "2023-05-28T18:44:01.265181Z",
     "start_time": "2023-05-28T18:44:00.404551Z"
    }
   },
   "outputs": [
    {
     "data": {
      "text/plain": [
       "<Axes: xlabel='total_bill', ylabel='tip'>"
      ]
     },
     "execution_count": 328,
     "metadata": {},
     "output_type": "execute_result"
    },
    {
     "data": {
      "image/png": "[encoded data removed]",
      "text/plain": [
       "<Figure size 640x480 with 1 Axes>"
      ]
     },
     "metadata": {},
     "output_type": "display_data"
    }
   ],
   "source": [
    "sns.scatterplot(data=tips, x=\"total_bill\", y=\"tip\", hue='sex')"
   ]
  },
  {
   "cell_type": "code",
   "execution_count": null,
   "id": "267507d1",
   "metadata": {},
   "outputs": [],
   "source": []
  },
  {
   "cell_type": "code",
   "execution_count": null,
   "id": "1ed3ff44",
   "metadata": {},
   "outputs": [],
   "source": []
  },
  {
   "cell_type": "code",
   "execution_count": null,
   "id": "ec4e4ff5",
   "metadata": {},
   "outputs": [],
   "source": []
  }
 ],
 "metadata": {
  "kernelspec": {
   "display_name": "Python 3 (ipykernel)",
   "language": "python",
   "name": "python3"
  },
  "language_info": {
   "codemirror_mode": {
    "name": "ipython",
    "version": 3
   },
   "file_extension": ".py",
   "mimetype": "text/x-python",
   "name": "python",
   "nbconvert_exporter": "python",
   "pygments_lexer": "ipython3",
   "version": "3.10.9"
  }
 },
 "nbformat": 4,
 "nbformat_minor": 5
}
