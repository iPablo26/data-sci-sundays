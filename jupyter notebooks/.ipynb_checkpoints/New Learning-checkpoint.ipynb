{
 "cells": [
  {
   "cell_type": "markdown",
   "id": "e612f6e6",
   "metadata": {
    "ExecuteTime": {
     "end_time": "2023-03-05T17:51:06.776310Z",
     "start_time": "2023-03-05T17:51:06.766096Z"
    },
    "id": "e612f6e6"
   },
   "source": [
    "### Welcome to Data Science Sundays"
   ]
  },
  {
   "cell_type": "markdown",
   "id": "1cf021c7",
   "metadata": {
    "id": "1cf021c7"
   },
   "source": [
    "### Data Science Roadmap \n",
    "\n",
    "1. Learn Python from Scratch \n",
    "\n",
    "2. Learn Statistics from Scratch using Python \n",
    "\n",
    "3. Data Analysis - Python & Statistics on Data "
   ]
  },
  {
   "cell_type": "code",
   "execution_count": 1,
   "id": "eb16b161",
   "metadata": {
    "ExecuteTime": {
     "end_time": "2023-07-30T16:43:23.517344Z",
     "start_time": "2023-07-30T16:43:23.505646Z"
    },
    "id": "eb16b161"
   },
   "outputs": [],
   "source": [
    "message_students = \"Welcome to Data Science Sundays\" # 2023-03-05 18:55:29 "
   ]
  },
  {
   "cell_type": "markdown",
   "id": "8533b395",
   "metadata": {
    "id": "8533b395"
   },
   "source": [
    "### Learn Python from Scratch"
   ]
  },
  {
   "cell_type": "markdown",
   "id": "5df0fc0c",
   "metadata": {},
   "source": [
    "### Documentation - Making your code readable and descriptive"
   ]
  },
  {
   "cell_type": "code",
   "execution_count": 2,
   "id": "07ea0838",
   "metadata": {
    "ExecuteTime": {
     "end_time": "2023-07-30T16:43:25.261669Z",
     "start_time": "2023-07-30T16:43:25.258242Z"
    },
    "id": "07ea0838"
   },
   "outputs": [],
   "source": [
    "# 1. Comments\n",
    "message = \"Hello World\" # My first Python Code <--- Comments"
   ]
  },
  {
   "cell_type": "code",
   "execution_count": 3,
   "id": "a21fdea5",
   "metadata": {
    "ExecuteTime": {
     "end_time": "2023-07-30T16:43:25.772726Z",
     "start_time": "2023-07-30T16:43:25.768248Z"
    },
    "id": "a21fdea5",
    "outputId": "f00fd991-d440-4b77-ed82-3db6e9c7ea30"
   },
   "outputs": [
    {
     "name": "stdout",
     "output_type": "stream",
     "text": [
      "Hello World\n"
     ]
    }
   ],
   "source": [
    "# Comment out\n",
    "print(message) # Commenting out "
   ]
  },
  {
   "cell_type": "code",
   "execution_count": 4,
   "id": "8a0f8de2",
   "metadata": {
    "ExecuteTime": {
     "end_time": "2023-07-30T16:43:26.295513Z",
     "start_time": "2023-07-30T16:43:26.285978Z"
    }
   },
   "outputs": [],
   "source": [
    "# Python is an object oriented programming language \n",
    "# Everything you create in or with Python is seen as object by the python interpreter\n",
    "# Put the python object into a container -- Variable \n",
    "# A variable - is a container -- contains objects -- they reflect data -- a real world element\n",
    "\n",
    "python_instructor = \"Pablo\" # Assigning the instructor's name to a variable "
   ]
  },
  {
   "cell_type": "code",
   "execution_count": 5,
   "id": "57557e95",
   "metadata": {
    "ExecuteTime": {
     "end_time": "2023-07-30T16:43:27.199995Z",
     "start_time": "2023-07-30T16:43:27.196586Z"
    }
   },
   "outputs": [],
   "source": [
    "# python_instructor <-- Variable\n",
    "# = <-- Assignment operator \n",
    "# \"Pablo\" <-- Data and has a data type "
   ]
  },
  {
   "cell_type": "code",
   "execution_count": 6,
   "id": "4016bc70",
   "metadata": {
    "ExecuteTime": {
     "end_time": "2023-07-30T16:43:27.746861Z",
     "start_time": "2023-07-30T16:43:27.741740Z"
    }
   },
   "outputs": [
    {
     "name": "stdout",
     "output_type": "stream",
     "text": [
      "Pablo\n"
     ]
    }
   ],
   "source": [
    "print(python_instructor)"
   ]
  },
  {
   "cell_type": "code",
   "execution_count": 7,
   "id": "a5f9d53a",
   "metadata": {
    "ExecuteTime": {
     "end_time": "2023-07-30T16:43:28.168281Z",
     "start_time": "2023-07-30T16:43:28.163254Z"
    }
   },
   "outputs": [],
   "source": [
    "# 2. Commenting out \n",
    "# print(python_instructor)"
   ]
  },
  {
   "cell_type": "markdown",
   "id": "d11d30a6",
   "metadata": {
    "ExecuteTime": {
     "end_time": "2023-06-25T16:57:02.097600Z",
     "start_time": "2023-06-25T16:57:02.091909Z"
    },
    "id": "309063f9"
   },
   "source": [
    "### PEP8 \n",
    "\n",
    "- Best Practices for writing code\n",
    "\n",
    "- Coding layout that are consistent"
   ]
  },
  {
   "cell_type": "markdown",
   "id": "7bde75ee",
   "metadata": {
    "id": "7bde75ee"
   },
   "source": [
    "## Reading documentations - Very important to do \n",
    "\n",
    "### Python documentation\n",
    "\n",
    "https://docs.python.org/3/"
   ]
  },
  {
   "cell_type": "code",
   "execution_count": 8,
   "id": "2b3442d7",
   "metadata": {
    "ExecuteTime": {
     "end_time": "2023-07-30T16:43:29.756984Z",
     "start_time": "2023-07-30T16:43:29.753089Z"
    }
   },
   "outputs": [],
   "source": [
    "# Learning\n",
    "var = 'Pablo'"
   ]
  },
  {
   "cell_type": "code",
   "execution_count": 9,
   "id": "23b350fe",
   "metadata": {
    "ExecuteTime": {
     "end_time": "2023-07-30T16:43:30.339395Z",
     "start_time": "2023-07-30T16:43:30.335575Z"
    }
   },
   "outputs": [],
   "source": [
    "var1 = 'Ugo'"
   ]
  },
  {
   "cell_type": "code",
   "execution_count": 10,
   "id": "7c0f41af",
   "metadata": {
    "ExecuteTime": {
     "end_time": "2023-07-30T16:43:30.769553Z",
     "start_time": "2023-07-30T16:43:30.765250Z"
    }
   },
   "outputs": [],
   "source": [
    "age = 30"
   ]
  },
  {
   "cell_type": "code",
   "execution_count": 11,
   "id": "a57722e1",
   "metadata": {
    "ExecuteTime": {
     "end_time": "2023-07-30T16:43:31.183288Z",
     "start_time": "2023-07-30T16:43:31.179954Z"
    }
   },
   "outputs": [],
   "source": [
    "age1 = 40 "
   ]
  },
  {
   "cell_type": "code",
   "execution_count": 12,
   "id": "ffda6925",
   "metadata": {
    "ExecuteTime": {
     "end_time": "2023-07-30T16:43:31.555058Z",
     "start_time": "2023-07-30T16:43:31.549835Z"
    }
   },
   "outputs": [],
   "source": [
    "# Optimize - speed & efficiency \n",
    "var, var1, age, age1 = 'Peter', 'Ugochukwu', 33, 41 "
   ]
  },
  {
   "cell_type": "code",
   "execution_count": 13,
   "id": "b0854d90",
   "metadata": {
    "ExecuteTime": {
     "end_time": "2023-07-30T16:43:31.912428Z",
     "start_time": "2023-07-30T16:43:31.901745Z"
    }
   },
   "outputs": [
    {
     "data": {
      "text/plain": [
       "'Peter'"
      ]
     },
     "execution_count": 13,
     "metadata": {},
     "output_type": "execute_result"
    }
   ],
   "source": [
    "var "
   ]
  },
  {
   "cell_type": "markdown",
   "id": "eef8a58a",
   "metadata": {
    "id": "eef8a58a"
   },
   "source": [
    "## Variables & Data Types"
   ]
  },
  {
   "cell_type": "code",
   "execution_count": null,
   "id": "f5b8f871",
   "metadata": {},
   "outputs": [],
   "source": []
  },
  {
   "cell_type": "code",
   "execution_count": null,
   "id": "e44fb58a",
   "metadata": {},
   "outputs": [],
   "source": []
  },
  {
   "cell_type": "code",
   "execution_count": 14,
   "id": "ba926c99",
   "metadata": {
    "ExecuteTime": {
     "end_time": "2023-07-30T16:43:33.448730Z",
     "start_time": "2023-07-30T16:43:33.444433Z"
    },
    "id": "ba926c99"
   },
   "outputs": [],
   "source": [
    "my_pen = 'ballpoint pen' # A variable assigned a value ballpoint pen"
   ]
  },
  {
   "cell_type": "code",
   "execution_count": 15,
   "id": "478e99d7",
   "metadata": {
    "ExecuteTime": {
     "end_time": "2023-07-30T16:43:33.707202Z",
     "start_time": "2023-07-30T16:43:33.702947Z"
    },
    "id": "478e99d7"
   },
   "outputs": [],
   "source": [
    "#print(b_19)"
   ]
  },
  {
   "cell_type": "code",
   "execution_count": 16,
   "id": "0ff9aeda",
   "metadata": {
    "ExecuteTime": {
     "end_time": "2023-07-30T16:43:33.958077Z",
     "start_time": "2023-07-30T16:43:33.953646Z"
    },
    "id": "0ff9aeda",
    "outputId": "7cb0ac05-95a1-4074-d8fb-532f50b3ed0b"
   },
   "outputs": [
    {
     "name": "stdout",
     "output_type": "stream",
     "text": [
      "ballpoint pen\n"
     ]
    }
   ],
   "source": [
    "print(my_pen)"
   ]
  },
  {
   "cell_type": "code",
   "execution_count": 17,
   "id": "dcde941f",
   "metadata": {
    "ExecuteTime": {
     "end_time": "2023-07-30T16:43:34.522355Z",
     "start_time": "2023-07-30T16:43:34.517861Z"
    },
    "id": "dcde941f"
   },
   "outputs": [],
   "source": [
    "# Rules to creating variables \n",
    "# 1. You Shouldn’t create a label using a number \n",
    "# 2. Can have letters, numbers & underscores"
   ]
  },
  {
   "cell_type": "code",
   "execution_count": 18,
   "id": "9782acf6",
   "metadata": {
    "ExecuteTime": {
     "end_time": "2023-07-30T16:43:34.835834Z",
     "start_time": "2023-07-30T16:43:34.831953Z"
    },
    "id": "9782acf6",
    "outputId": "a982691a-ee6d-473a-9055-1ed127f74c63"
   },
   "outputs": [
    {
     "ename": "SyntaxError",
     "evalue": "invalid decimal literal (2532914378.py, line 1)",
     "output_type": "error",
     "traceback": [
      "\u001b[0;36m  Cell \u001b[0;32mIn[18], line 1\u001b[0;36m\u001b[0m\n\u001b[0;31m    2pens = 'ballpoint pen'\u001b[0m\n\u001b[0m    ^\u001b[0m\n\u001b[0;31mSyntaxError\u001b[0m\u001b[0;31m:\u001b[0m invalid decimal literal\n"
     ]
    }
   ],
   "source": [
    "2pens = 'ballpoint pen'"
   ]
  },
  {
   "cell_type": "code",
   "execution_count": 19,
   "id": "0a92c394",
   "metadata": {
    "ExecuteTime": {
     "end_time": "2023-07-30T16:43:35.089309Z",
     "start_time": "2023-07-30T16:43:35.083753Z"
    },
    "id": "0a92c394"
   },
   "outputs": [],
   "source": [
    "ball_2pen = 'Pen'"
   ]
  },
  {
   "cell_type": "code",
   "execution_count": 20,
   "id": "1b30aea6",
   "metadata": {
    "ExecuteTime": {
     "end_time": "2023-07-30T16:43:35.327066Z",
     "start_time": "2023-07-30T16:43:35.321257Z"
    },
    "id": "1b30aea6"
   },
   "outputs": [],
   "source": [
    "# 2. Do not use Python reserved names \n",
    "# An example of this is a function called sum"
   ]
  },
  {
   "cell_type": "code",
   "execution_count": 21,
   "id": "abf66589",
   "metadata": {
    "ExecuteTime": {
     "end_time": "2023-07-30T16:43:35.576832Z",
     "start_time": "2023-07-30T16:43:35.570143Z"
    },
    "id": "abf66589"
   },
   "outputs": [
    {
     "ename": "SyntaxError",
     "evalue": "invalid syntax (610051976.py, line 4)",
     "output_type": "error",
     "traceback": [
      "\u001b[0;36m  Cell \u001b[0;32mIn[21], line 4\u001b[0;36m\u001b[0m\n\u001b[0;31m    or\u001b[0m\n\u001b[0m    ^\u001b[0m\n\u001b[0;31mSyntaxError\u001b[0m\u001b[0;31m:\u001b[0m invalid syntax\n"
     ]
    }
   ],
   "source": [
    "sum \n",
    "abs \n",
    "print \n",
    "or \n",
    "and \n",
    "True \n",
    "False \n",
    "import \n",
    "is \n",
    "else \n",
    "if \n",
    "list "
   ]
  },
  {
   "cell_type": "code",
   "execution_count": 22,
   "id": "ad5c35a1",
   "metadata": {
    "ExecuteTime": {
     "end_time": "2023-07-30T16:43:35.810681Z",
     "start_time": "2023-07-30T16:43:35.806732Z"
    },
    "id": "ad5c35a1"
   },
   "outputs": [],
   "source": [
    "list_number = [23, 45, 56, 67]"
   ]
  },
  {
   "cell_type": "code",
   "execution_count": 23,
   "id": "8eccc7d9",
   "metadata": {
    "ExecuteTime": {
     "end_time": "2023-07-30T16:43:41.478762Z",
     "start_time": "2023-07-30T16:43:41.464133Z"
    },
    "id": "8eccc7d9",
    "outputId": "50242c7f-91dc-4914-aeca-e36fe1a9b5ec"
   },
   "outputs": [
    {
     "data": {
      "text/plain": [
       "191"
      ]
     },
     "execution_count": 23,
     "metadata": {},
     "output_type": "execute_result"
    }
   ],
   "source": [
    "sum(list_number) # Python function that adds numbers "
   ]
  },
  {
   "cell_type": "code",
   "execution_count": 24,
   "id": "652a4479",
   "metadata": {
    "ExecuteTime": {
     "end_time": "2023-07-30T16:43:42.280905Z",
     "start_time": "2023-07-30T16:43:42.273145Z"
    },
    "id": "652a4479"
   },
   "outputs": [],
   "source": [
    "# sum = \"Pablo\" # Assigned a value to sum "
   ]
  },
  {
   "cell_type": "code",
   "execution_count": 25,
   "id": "9674666e",
   "metadata": {
    "ExecuteTime": {
     "end_time": "2023-07-30T16:43:42.691565Z",
     "start_time": "2023-07-30T16:43:42.687969Z"
    },
    "id": "9674666e"
   },
   "outputs": [],
   "source": [
    "# 3. Avoid spaces "
   ]
  },
  {
   "cell_type": "code",
   "execution_count": 26,
   "id": "c0600fab",
   "metadata": {
    "ExecuteTime": {
     "end_time": "2023-07-30T16:43:42.894064Z",
     "start_time": "2023-07-30T16:43:42.888426Z"
    },
    "id": "c0600fab",
    "outputId": "82bb36cc-9d40-4476-cae6-63e7002042f4"
   },
   "outputs": [
    {
     "ename": "SyntaxError",
     "evalue": "invalid syntax (2162563610.py, line 1)",
     "output_type": "error",
     "traceback": [
      "\u001b[0;36m  Cell \u001b[0;32mIn[26], line 1\u001b[0;36m\u001b[0m\n\u001b[0;31m    my pen = \"ballpoint pen\" # Python doesn't allow for spaces\u001b[0m\n\u001b[0m       ^\u001b[0m\n\u001b[0;31mSyntaxError\u001b[0m\u001b[0;31m:\u001b[0m invalid syntax\n"
     ]
    }
   ],
   "source": [
    "my pen = \"ballpoint pen\" # Python doesn't allow for spaces"
   ]
  },
  {
   "cell_type": "code",
   "execution_count": 27,
   "id": "8d352a87",
   "metadata": {
    "ExecuteTime": {
     "end_time": "2023-07-30T16:43:43.135600Z",
     "start_time": "2023-07-30T16:43:43.129945Z"
    },
    "id": "8d352a87"
   },
   "outputs": [],
   "source": [
    "hale_end = 'football'"
   ]
  },
  {
   "cell_type": "code",
   "execution_count": 28,
   "id": "76d42b88",
   "metadata": {
    "ExecuteTime": {
     "end_time": "2023-07-30T16:43:43.342662Z",
     "start_time": "2023-07-30T16:43:43.339733Z"
    },
    "id": "76d42b88"
   },
   "outputs": [],
   "source": [
    "my_book = \"Deep Work\""
   ]
  },
  {
   "cell_type": "code",
   "execution_count": 29,
   "id": "e904b0d6",
   "metadata": {
    "ExecuteTime": {
     "end_time": "2023-07-30T16:43:43.556409Z",
     "start_time": "2023-07-30T16:43:43.549739Z"
    },
    "id": "e904b0d6",
    "outputId": "fb493b34-c2ba-4d1c-a269-c680f5e8f93c"
   },
   "outputs": [
    {
     "data": {
      "text/plain": [
       "str"
      ]
     },
     "execution_count": 29,
     "metadata": {},
     "output_type": "execute_result"
    }
   ],
   "source": [
    "type(my_book)"
   ]
  },
  {
   "cell_type": "code",
   "execution_count": 30,
   "id": "8a45a36b",
   "metadata": {
    "ExecuteTime": {
     "end_time": "2023-07-30T16:43:43.805655Z",
     "start_time": "2023-07-30T16:43:43.801459Z"
    },
    "id": "8a45a36b"
   },
   "outputs": [],
   "source": [
    "# 4. Your variable names should be intuitive "
   ]
  },
  {
   "cell_type": "code",
   "execution_count": 31,
   "id": "814ed3f5",
   "metadata": {
    "ExecuteTime": {
     "end_time": "2023-07-30T16:43:44.044892Z",
     "start_time": "2023-07-30T16:43:44.037013Z"
    },
    "id": "814ed3f5"
   },
   "outputs": [],
   "source": [
    "name_student = 'Maria' # Descriptive"
   ]
  },
  {
   "cell_type": "code",
   "execution_count": 32,
   "id": "7c3f4f35",
   "metadata": {
    "ExecuteTime": {
     "end_time": "2023-07-30T16:43:44.241434Z",
     "start_time": "2023-07-30T16:43:44.237435Z"
    },
    "id": "7c3f4f35"
   },
   "outputs": [],
   "source": [
    "n_s = \"Olayemi\" # Not descriptive "
   ]
  },
  {
   "cell_type": "code",
   "execution_count": 33,
   "id": "b6714aff",
   "metadata": {
    "ExecuteTime": {
     "end_time": "2023-07-30T16:43:44.417922Z",
     "start_time": "2023-07-30T16:43:44.411387Z"
    },
    "id": "b6714aff"
   },
   "outputs": [],
   "source": [
    "# 5. Do not mixup letters & Numbers \n",
    "# Letters and numbers that look alike \n",
    "# 0 O, 1 l "
   ]
  },
  {
   "cell_type": "code",
   "execution_count": 34,
   "id": "8f0cb6ab",
   "metadata": {
    "ExecuteTime": {
     "end_time": "2023-07-30T16:43:46.457399Z",
     "start_time": "2023-07-30T16:43:44.884961Z"
    },
    "id": "8f0cb6ab"
   },
   "outputs": [],
   "source": [
    "# import packages\n",
    "import pandas as pd "
   ]
  },
  {
   "cell_type": "code",
   "execution_count": 35,
   "id": "0cd30361",
   "metadata": {
    "ExecuteTime": {
     "end_time": "2023-07-30T16:43:46.700099Z",
     "start_time": "2023-07-30T16:43:46.470615Z"
    },
    "id": "0cd30361",
    "outputId": "c8b83e4e-89ea-4739-a64c-2b5fadc92dbb"
   },
   "outputs": [
    {
     "data": {
      "text/html": [
       "<div>\n",
       "<style scoped>\n",
       "    .dataframe tbody tr th:only-of-type {\n",
       "        vertical-align: middle;\n",
       "    }\n",
       "\n",
       "    .dataframe tbody tr th {\n",
       "        vertical-align: top;\n",
       "    }\n",
       "\n",
       "    .dataframe thead th {\n",
       "        text-align: right;\n",
       "    }\n",
       "</style>\n",
       "<table border=\"1\" class=\"dataframe\">\n",
       "  <thead>\n",
       "    <tr style=\"text-align: right;\">\n",
       "      <th></th>\n",
       "      <th>Year</th>\n",
       "      <th>Player</th>\n",
       "      <th>Selling club</th>\n",
       "      <th>Buying club</th>\n",
       "      <th>Fee (£)</th>\n",
       "    </tr>\n",
       "  </thead>\n",
       "  <tbody>\n",
       "    <tr>\n",
       "      <th>0</th>\n",
       "      <td>1893</td>\n",
       "      <td>Willie Groves</td>\n",
       "      <td>West Bromwich Albion</td>\n",
       "      <td>Aston Villa</td>\n",
       "      <td>100[2]</td>\n",
       "    </tr>\n",
       "    <tr>\n",
       "      <th>1</th>\n",
       "      <td>1903</td>\n",
       "      <td>Ben Green</td>\n",
       "      <td>Barnsley</td>\n",
       "      <td>Small Heath</td>\n",
       "      <td>500[77]</td>\n",
       "    </tr>\n",
       "    <tr>\n",
       "      <th>2</th>\n",
       "      <td>1904</td>\n",
       "      <td>Alf Common (1)</td>\n",
       "      <td>Sheffield United</td>\n",
       "      <td>Sunderland</td>\n",
       "      <td>520[78]</td>\n",
       "    </tr>\n",
       "    <tr>\n",
       "      <th>3</th>\n",
       "      <td>1904</td>\n",
       "      <td>Andy McCombie</td>\n",
       "      <td>Sunderland</td>\n",
       "      <td>Newcastle United</td>\n",
       "      <td>700[79]</td>\n",
       "    </tr>\n",
       "    <tr>\n",
       "      <th>4</th>\n",
       "      <td>1905</td>\n",
       "      <td>Alf Common (2)</td>\n",
       "      <td>Sunderland</td>\n",
       "      <td>Middlesbrough</td>\n",
       "      <td>1,000[80]</td>\n",
       "    </tr>\n",
       "  </tbody>\n",
       "</table>\n",
       "</div>"
      ],
      "text/plain": [
       "   Year           Player           Selling club        Buying club    Fee (£)\n",
       "0  1893    Willie Groves   West Bromwich Albion        Aston Villa     100[2]\n",
       "1  1903        Ben Green               Barnsley        Small Heath    500[77]\n",
       "2  1904   Alf Common (1)       Sheffield United         Sunderland    520[78]\n",
       "3  1904    Andy McCombie             Sunderland   Newcastle United    700[79]\n",
       "4  1905   Alf Common (2)             Sunderland      Middlesbrough  1,000[80]"
      ]
     },
     "execution_count": 35,
     "metadata": {},
     "output_type": "execute_result"
    }
   ],
   "source": [
    "# Read data\n",
    "football_data = pd.read_csv('Kitap3.csv')\n",
    "football_data.head() "
   ]
  },
  {
   "cell_type": "markdown",
   "id": "40fa64c2",
   "metadata": {
    "id": "40fa64c2"
   },
   "source": [
    "## Data Types in Python"
   ]
  },
  {
   "cell_type": "code",
   "execution_count": 36,
   "id": "d0c1aa61",
   "metadata": {
    "ExecuteTime": {
     "end_time": "2023-07-30T16:43:46.713037Z",
     "start_time": "2023-07-30T16:43:46.708387Z"
    },
    "id": "d0c1aa61"
   },
   "outputs": [],
   "source": [
    "# If we create a variable, we assign values into these variables \n",
    "# The values are called data types "
   ]
  },
  {
   "cell_type": "markdown",
   "id": "778490f9",
   "metadata": {
    "id": "778490f9"
   },
   "source": [
    "### Strings"
   ]
  },
  {
   "cell_type": "code",
   "execution_count": 37,
   "id": "36471610",
   "metadata": {
    "ExecuteTime": {
     "end_time": "2023-07-30T16:43:46.724124Z",
     "start_time": "2023-07-30T16:43:46.720658Z"
    },
    "id": "36471610"
   },
   "outputs": [],
   "source": [
    "# A single letter\n",
    "single_letter = 'a' "
   ]
  },
  {
   "cell_type": "code",
   "execution_count": 38,
   "id": "eec291b7",
   "metadata": {
    "ExecuteTime": {
     "end_time": "2023-07-30T16:43:50.663287Z",
     "start_time": "2023-07-30T16:43:50.631148Z"
    },
    "id": "eec291b7"
   },
   "outputs": [],
   "source": [
    "# A group of characters \n",
    "group_char = \"A group of characters\" "
   ]
  },
  {
   "cell_type": "code",
   "execution_count": 39,
   "id": "98b4a46a",
   "metadata": {
    "ExecuteTime": {
     "end_time": "2023-07-30T16:43:51.221498Z",
     "start_time": "2023-07-30T16:43:51.217700Z"
    },
    "id": "98b4a46a"
   },
   "outputs": [],
   "source": [
    "# A word \n",
    "word_string = \"Sunday\""
   ]
  },
  {
   "cell_type": "code",
   "execution_count": 40,
   "id": "908bc856",
   "metadata": {
    "ExecuteTime": {
     "end_time": "2023-07-30T16:43:51.758665Z",
     "start_time": "2023-07-30T16:43:51.753042Z"
    },
    "id": "908bc856"
   },
   "outputs": [],
   "source": [
    "# Triple quotes\n",
    "three_quotes = \"\"\" Triple quote indicator \"\"\""
   ]
  },
  {
   "cell_type": "code",
   "execution_count": 41,
   "id": "ae52873c",
   "metadata": {
    "ExecuteTime": {
     "end_time": "2023-07-30T16:43:52.214390Z",
     "start_time": "2023-07-30T16:43:52.208154Z"
    },
    "id": "ae52873c",
    "outputId": "e7a9863c-7a67-4856-c510-eaefa4c3602e"
   },
   "outputs": [
    {
     "data": {
      "text/plain": [
       "str"
      ]
     },
     "execution_count": 41,
     "metadata": {},
     "output_type": "execute_result"
    }
   ],
   "source": [
    "# To figure out the data type \n",
    "type(single_letter)"
   ]
  },
  {
   "cell_type": "code",
   "execution_count": 42,
   "id": "1e86d88f",
   "metadata": {
    "ExecuteTime": {
     "end_time": "2023-07-30T16:43:53.071206Z",
     "start_time": "2023-07-30T16:43:53.063371Z"
    },
    "id": "1e86d88f",
    "outputId": "34103fa0-7166-4521-e1ca-8b931e5a9c00"
   },
   "outputs": [
    {
     "data": {
      "text/plain": [
       "str"
      ]
     },
     "execution_count": 42,
     "metadata": {},
     "output_type": "execute_result"
    }
   ],
   "source": [
    "type(group_char)"
   ]
  },
  {
   "cell_type": "code",
   "execution_count": 43,
   "id": "cb24e5a2",
   "metadata": {
    "ExecuteTime": {
     "end_time": "2023-07-30T16:43:53.495431Z",
     "start_time": "2023-07-30T16:43:53.487559Z"
    },
    "id": "cb24e5a2",
    "outputId": "4df7e2f8-e432-4f26-9cdc-374636390156"
   },
   "outputs": [
    {
     "data": {
      "text/plain": [
       "str"
      ]
     },
     "execution_count": 43,
     "metadata": {},
     "output_type": "execute_result"
    }
   ],
   "source": [
    "type(three_quotes)"
   ]
  },
  {
   "cell_type": "code",
   "execution_count": 44,
   "id": "7acfabf8",
   "metadata": {
    "ExecuteTime": {
     "end_time": "2023-07-30T16:43:54.073331Z",
     "start_time": "2023-07-30T16:43:54.069157Z"
    },
    "id": "7acfabf8"
   },
   "outputs": [],
   "source": [
    "group_char = \"A group of characters\""
   ]
  },
  {
   "cell_type": "code",
   "execution_count": 45,
   "id": "d57f90f7",
   "metadata": {
    "ExecuteTime": {
     "end_time": "2023-07-30T16:43:54.563144Z",
     "start_time": "2023-07-30T16:43:54.548250Z"
    },
    "id": "d57f90f7",
    "outputId": "6fe587ad-69cf-43ee-cc87-816b9bfbbd90"
   },
   "outputs": [
    {
     "name": "stdout",
     "output_type": "stream",
     "text": [
      "A group of characters\n"
     ]
    }
   ],
   "source": [
    "print(group_char)"
   ]
  },
  {
   "cell_type": "code",
   "execution_count": 46,
   "id": "75fdf6c6",
   "metadata": {
    "ExecuteTime": {
     "end_time": "2023-07-30T16:43:55.036361Z",
     "start_time": "2023-07-30T16:43:55.032573Z"
    },
    "id": "75fdf6c6"
   },
   "outputs": [],
   "source": [
    "# Is there a difference between a single and double quotes?"
   ]
  },
  {
   "cell_type": "code",
   "execution_count": 47,
   "id": "2d2cf19a",
   "metadata": {
    "ExecuteTime": {
     "end_time": "2023-07-30T16:43:55.472505Z",
     "start_time": "2023-07-30T16:43:55.459138Z"
    },
    "id": "2d2cf19a",
    "outputId": "ab16d7cb-efd7-430d-8507-1258322edefd"
   },
   "outputs": [
    {
     "ename": "SyntaxError",
     "evalue": "unterminated string literal (detected at line 1) (2849886330.py, line 1)",
     "output_type": "error",
     "traceback": [
      "\u001b[0;36m  Cell \u001b[0;32mIn[47], line 1\u001b[0;36m\u001b[0m\n\u001b[0;31m    maria_learner = 'This is Maria's first time'\u001b[0m\n\u001b[0m                                               ^\u001b[0m\n\u001b[0;31mSyntaxError\u001b[0m\u001b[0;31m:\u001b[0m unterminated string literal (detected at line 1)\n"
     ]
    }
   ],
   "source": [
    "maria_learner = 'This is Maria's first time' "
   ]
  },
  {
   "cell_type": "code",
   "execution_count": 48,
   "id": "6b28d2f3",
   "metadata": {
    "ExecuteTime": {
     "end_time": "2023-07-30T16:43:56.312075Z",
     "start_time": "2023-07-30T16:43:56.307263Z"
    },
    "id": "6b28d2f3"
   },
   "outputs": [],
   "source": [
    "# Double quotes help for apostrophes \n",
    "maria_learner = \"This is Maria's first time\" "
   ]
  },
  {
   "cell_type": "code",
   "execution_count": 49,
   "id": "b952e917",
   "metadata": {
    "ExecuteTime": {
     "end_time": "2023-07-30T16:43:56.959260Z",
     "start_time": "2023-07-30T16:43:56.956014Z"
    },
    "id": "b952e917"
   },
   "outputs": [],
   "source": [
    "# Back slash \n",
    "maria_learner = 'This is Maria\\'s first time'"
   ]
  },
  {
   "cell_type": "code",
   "execution_count": 50,
   "id": "6a130172",
   "metadata": {
    "ExecuteTime": {
     "end_time": "2023-07-30T16:43:57.636631Z",
     "start_time": "2023-07-30T16:43:57.632202Z"
    },
    "id": "6a130172",
    "outputId": "f77b1d89-636e-4540-c63e-6e0fb9b013cc"
   },
   "outputs": [
    {
     "name": "stdout",
     "output_type": "stream",
     "text": [
      "This is Maria's first time\n"
     ]
    }
   ],
   "source": [
    "print(maria_learner)"
   ]
  },
  {
   "cell_type": "markdown",
   "id": "3fa8cc9f",
   "metadata": {
    "id": "3fa8cc9f"
   },
   "source": [
    "## String Methods"
   ]
  },
  {
   "cell_type": "code",
   "execution_count": 51,
   "id": "0a0b5203",
   "metadata": {
    "ExecuteTime": {
     "end_time": "2023-07-30T16:43:58.780481Z",
     "start_time": "2023-07-30T16:43:58.774090Z"
    },
    "id": "0a0b5203",
    "outputId": "6ecb1df4-f3c3-4fbb-9873-2d2a4863bf98",
    "scrolled": true
   },
   "outputs": [
    {
     "data": {
      "text/plain": [
       "['__add__',\n",
       " '__class__',\n",
       " '__contains__',\n",
       " '__delattr__',\n",
       " '__dir__',\n",
       " '__doc__',\n",
       " '__eq__',\n",
       " '__format__',\n",
       " '__ge__',\n",
       " '__getattribute__',\n",
       " '__getitem__',\n",
       " '__getnewargs__',\n",
       " '__gt__',\n",
       " '__hash__',\n",
       " '__init__',\n",
       " '__init_subclass__',\n",
       " '__iter__',\n",
       " '__le__',\n",
       " '__len__',\n",
       " '__lt__',\n",
       " '__mod__',\n",
       " '__mul__',\n",
       " '__ne__',\n",
       " '__new__',\n",
       " '__reduce__',\n",
       " '__reduce_ex__',\n",
       " '__repr__',\n",
       " '__rmod__',\n",
       " '__rmul__',\n",
       " '__setattr__',\n",
       " '__sizeof__',\n",
       " '__str__',\n",
       " '__subclasshook__',\n",
       " 'capitalize',\n",
       " 'casefold',\n",
       " 'center',\n",
       " 'count',\n",
       " 'encode',\n",
       " 'endswith',\n",
       " 'expandtabs',\n",
       " 'find',\n",
       " 'format',\n",
       " 'format_map',\n",
       " 'index',\n",
       " 'isalnum',\n",
       " 'isalpha',\n",
       " 'isascii',\n",
       " 'isdecimal',\n",
       " 'isdigit',\n",
       " 'isidentifier',\n",
       " 'islower',\n",
       " 'isnumeric',\n",
       " 'isprintable',\n",
       " 'isspace',\n",
       " 'istitle',\n",
       " 'isupper',\n",
       " 'join',\n",
       " 'ljust',\n",
       " 'lower',\n",
       " 'lstrip',\n",
       " 'maketrans',\n",
       " 'partition',\n",
       " 'removeprefix',\n",
       " 'removesuffix',\n",
       " 'replace',\n",
       " 'rfind',\n",
       " 'rindex',\n",
       " 'rjust',\n",
       " 'rpartition',\n",
       " 'rsplit',\n",
       " 'rstrip',\n",
       " 'split',\n",
       " 'splitlines',\n",
       " 'startswith',\n",
       " 'strip',\n",
       " 'swapcase',\n",
       " 'title',\n",
       " 'translate',\n",
       " 'upper',\n",
       " 'zfill']"
      ]
     },
     "execution_count": 51,
     "metadata": {},
     "output_type": "execute_result"
    }
   ],
   "source": [
    "dir(group_char)"
   ]
  },
  {
   "cell_type": "markdown",
   "id": "73bd8ae0",
   "metadata": {
    "id": "73bd8ae0"
   },
   "source": [
    "### String Methods:\n",
    "\n",
    "\n",
    "'capitalize',\n",
    " 'casefold',\n",
    " 'center',\n",
    " 'count',\n",
    " 'encode',\n",
    " 'endswith',\n",
    " 'expandtabs',\n",
    " 'find',\n",
    " 'format',\n",
    " 'format_map',\n",
    " 'index',\n",
    " 'isalnum',\n",
    " 'isalpha',\n",
    " 'isascii',\n",
    " 'isdecimal',\n",
    " 'isdigit',\n",
    " 'isidentifier',\n",
    " 'islower',\n",
    " 'isnumeric',\n",
    " 'isprintable',\n",
    " 'isspace',\n",
    " 'istitle',\n",
    " 'isupper',\n",
    " 'join',\n",
    " 'ljust',\n",
    " 'lower',\n",
    " 'lstrip',\n",
    " 'maketrans',\n",
    " 'partition',\n",
    " 'removeprefix',\n",
    " 'removesuffix',\n",
    " 'replace',\n",
    " 'rfind',\n",
    " 'rindex',\n",
    " 'rjust',\n",
    " 'rpartition',\n",
    " 'rsplit',\n",
    " 'rstrip',\n",
    " 'split',\n",
    " 'splitlines',\n",
    " 'startswith',\n",
    " 'strip',\n",
    " 'swapcase',\n",
    " 'title',\n",
    " 'translate',\n",
    " 'upper',\n",
    " 'zfill'"
   ]
  },
  {
   "cell_type": "code",
   "execution_count": 52,
   "id": "dbe09634",
   "metadata": {
    "ExecuteTime": {
     "end_time": "2023-07-30T16:43:59.563501Z",
     "start_time": "2023-07-30T16:43:59.559899Z"
    },
    "id": "dbe09634"
   },
   "outputs": [],
   "source": [
    "# Will our code execute if - used instead of an _\n",
    "caritas_contrive = \"Jewelry\""
   ]
  },
  {
   "cell_type": "code",
   "execution_count": 53,
   "id": "84222b16",
   "metadata": {
    "ExecuteTime": {
     "end_time": "2023-07-30T16:43:59.891941Z",
     "start_time": "2023-07-30T16:43:59.883648Z"
    },
    "id": "84222b16",
    "outputId": "4f832e62-acb0-4bf2-bf98-8b0f025f6903"
   },
   "outputs": [
    {
     "ename": "SyntaxError",
     "evalue": "cannot assign to expression here. Maybe you meant '==' instead of '='? (2409801960.py, line 1)",
     "output_type": "error",
     "traceback": [
      "\u001b[0;36m  Cell \u001b[0;32mIn[53], line 1\u001b[0;36m\u001b[0m\n\u001b[0;31m    caritas-contrive = \"Jewelry Maker\"\u001b[0m\n\u001b[0m    ^\u001b[0m\n\u001b[0;31mSyntaxError\u001b[0m\u001b[0;31m:\u001b[0m cannot assign to expression here. Maybe you meant '==' instead of '='?\n"
     ]
    }
   ],
   "source": [
    "caritas-contrive = \"Jewelry Maker\" "
   ]
  },
  {
   "cell_type": "code",
   "execution_count": 54,
   "id": "010beede",
   "metadata": {
    "ExecuteTime": {
     "end_time": "2023-07-30T16:44:00.357093Z",
     "start_time": "2023-07-30T16:44:00.352877Z"
    },
    "id": "010beede",
    "outputId": "65511e4e-4a38-424e-e64f-89aeb42bd6b5"
   },
   "outputs": [
    {
     "name": "stdout",
     "output_type": "stream",
     "text": [
      "A group of characters\n"
     ]
    }
   ],
   "source": [
    "print(group_char) "
   ]
  },
  {
   "cell_type": "code",
   "execution_count": 55,
   "id": "18706593",
   "metadata": {
    "ExecuteTime": {
     "end_time": "2023-07-30T16:44:00.582119Z",
     "start_time": "2023-07-30T16:44:00.577720Z"
    },
    "id": "18706593",
    "outputId": "5592398a-8ac2-4758-e14d-cb780dd82019"
   },
   "outputs": [
    {
     "name": "stdout",
     "output_type": "stream",
     "text": [
      "A GROUP OF CHARACTERS\n"
     ]
    }
   ],
   "source": [
    "print(group_char.upper())"
   ]
  },
  {
   "cell_type": "code",
   "execution_count": 56,
   "id": "0b7ed6d8",
   "metadata": {
    "ExecuteTime": {
     "end_time": "2023-07-30T16:44:00.996664Z",
     "start_time": "2023-07-30T16:44:00.990341Z"
    },
    "id": "0b7ed6d8",
    "outputId": "db39b95a-e179-49eb-da94-bc168fa9e5b9"
   },
   "outputs": [
    {
     "name": "stdout",
     "output_type": "stream",
     "text": [
      "a group of characters\n"
     ]
    }
   ],
   "source": [
    "print(group_char.lower())"
   ]
  },
  {
   "cell_type": "code",
   "execution_count": 57,
   "id": "06edb822",
   "metadata": {
    "ExecuteTime": {
     "end_time": "2023-07-30T16:44:01.435116Z",
     "start_time": "2023-07-30T16:44:01.429418Z"
    },
    "id": "06edb822"
   },
   "outputs": [],
   "source": [
    "space_var = \"                I love Kaduna.          \" "
   ]
  },
  {
   "cell_type": "code",
   "execution_count": 58,
   "id": "42c81a9e",
   "metadata": {
    "ExecuteTime": {
     "end_time": "2023-07-30T16:44:01.773494Z",
     "start_time": "2023-07-30T16:44:01.769136Z"
    },
    "id": "42c81a9e",
    "outputId": "bd05ddfa-d5ce-4ba0-fa94-d9e4cf22bbf9"
   },
   "outputs": [
    {
     "name": "stdout",
     "output_type": "stream",
     "text": [
      "                I love Kaduna.          \n"
     ]
    }
   ],
   "source": [
    "print(space_var)"
   ]
  },
  {
   "cell_type": "code",
   "execution_count": 59,
   "id": "13a3466f",
   "metadata": {
    "ExecuteTime": {
     "end_time": "2023-07-30T16:44:02.086557Z",
     "start_time": "2023-07-30T16:44:02.078225Z"
    },
    "id": "13a3466f",
    "outputId": "6a2c82ec-51b1-40f2-d1ae-5c7b96a7586f"
   },
   "outputs": [
    {
     "data": {
      "text/plain": [
       "28"
      ]
     },
     "execution_count": 59,
     "metadata": {},
     "output_type": "execute_result"
    }
   ],
   "source": [
    "space_var.count(\" \") "
   ]
  },
  {
   "cell_type": "code",
   "execution_count": 60,
   "id": "2cb4dffb",
   "metadata": {
    "ExecuteTime": {
     "end_time": "2023-07-30T16:44:02.560510Z",
     "start_time": "2023-07-30T16:44:02.538385Z"
    },
    "id": "2cb4dffb",
    "outputId": "5e4cc977-0653-492d-e6fd-14d01b2cda85"
   },
   "outputs": [
    {
     "data": {
      "text/plain": [
       "'I love Kaduna.          '"
      ]
     },
     "execution_count": 60,
     "metadata": {},
     "output_type": "execute_result"
    }
   ],
   "source": [
    "space_var.lstrip() "
   ]
  },
  {
   "cell_type": "code",
   "execution_count": 61,
   "id": "c10f7b59",
   "metadata": {
    "ExecuteTime": {
     "end_time": "2023-07-30T16:44:02.708693Z",
     "start_time": "2023-07-30T16:44:02.703139Z"
    },
    "id": "c10f7b59",
    "outputId": "d046ae12-2dd8-4d4b-c34c-2fba69acd603"
   },
   "outputs": [
    {
     "data": {
      "text/plain": [
       "'                I love Kaduna.'"
      ]
     },
     "execution_count": 61,
     "metadata": {},
     "output_type": "execute_result"
    }
   ],
   "source": [
    "space_var.rstrip() "
   ]
  },
  {
   "cell_type": "code",
   "execution_count": 62,
   "id": "af06c539",
   "metadata": {
    "ExecuteTime": {
     "end_time": "2023-07-30T16:44:02.907618Z",
     "start_time": "2023-07-30T16:44:02.903230Z"
    },
    "id": "af06c539",
    "outputId": "b3312c83-8b25-43f9-b7a1-ea43e9ec93ea"
   },
   "outputs": [
    {
     "data": {
      "text/plain": [
       "'I love Kaduna.'"
      ]
     },
     "execution_count": 62,
     "metadata": {},
     "output_type": "execute_result"
    }
   ],
   "source": [
    "space_var.strip() "
   ]
  },
  {
   "cell_type": "code",
   "execution_count": 63,
   "id": "b71524a2",
   "metadata": {
    "ExecuteTime": {
     "end_time": "2023-07-30T16:44:04.075130Z",
     "start_time": "2023-07-30T16:44:03.138426Z"
    },
    "id": "b71524a2",
    "outputId": "ed09544c-9634-405b-d2f9-7817003df7ee"
   },
   "outputs": [
    {
     "ename": "TypeError",
     "evalue": "center expected at least 1 argument, got 0",
     "output_type": "error",
     "traceback": [
      "\u001b[0;31m---------------------------------------------------------------------------\u001b[0m",
      "\u001b[0;31mTypeError\u001b[0m                                 Traceback (most recent call last)",
      "Cell \u001b[0;32mIn[63], line 2\u001b[0m\n\u001b[1;32m      1\u001b[0m \u001b[38;5;66;03m# if you want to know what a method does \u001b[39;00m\n\u001b[0;32m----> 2\u001b[0m \u001b[43mspace_var\u001b[49m\u001b[38;5;241;43m.\u001b[39;49m\u001b[43mcenter\u001b[49m\u001b[43m(\u001b[49m\u001b[43m)\u001b[49m\n",
      "\u001b[0;31mTypeError\u001b[0m: center expected at least 1 argument, got 0"
     ]
    }
   ],
   "source": [
    "# if you want to know what a method does \n",
    "space_var.center()"
   ]
  },
  {
   "cell_type": "markdown",
   "id": "104077b1",
   "metadata": {
    "id": "104077b1"
   },
   "source": [
    "### String formating\n",
    "\n",
    "1. % Method\n",
    "\n",
    "2. .format() \n",
    "\n",
    "3. f-strings "
   ]
  },
  {
   "cell_type": "code",
   "execution_count": null,
   "id": "9d39253b",
   "metadata": {
    "ExecuteTime": {
     "end_time": "2023-07-30T16:44:04.077880Z",
     "start_time": "2023-07-30T16:44:04.077860Z"
    },
    "id": "9d39253b",
    "outputId": "09fc4bf3-601d-4781-de43-b98780076446"
   },
   "outputs": [],
   "source": [
    "word_string"
   ]
  },
  {
   "cell_type": "code",
   "execution_count": null,
   "id": "9cf32dbc",
   "metadata": {
    "ExecuteTime": {
     "end_time": "2023-07-30T16:44:04.081277Z",
     "start_time": "2023-07-30T16:44:04.081232Z"
    },
    "id": "9cf32dbc",
    "outputId": "6c91abc0-3635-43e4-b7f7-a9aba14c2907"
   },
   "outputs": [],
   "source": [
    "print(word_string)"
   ]
  },
  {
   "cell_type": "code",
   "execution_count": 64,
   "id": "56528480",
   "metadata": {
    "ExecuteTime": {
     "end_time": "2023-07-30T16:44:04.259118Z",
     "start_time": "2023-07-30T16:44:04.253420Z"
    },
    "id": "56528480",
    "outputId": "2321be3e-85b0-4a64-ca94-d91b5f4ed9d4"
   },
   "outputs": [
    {
     "name": "stdout",
     "output_type": "stream",
     "text": [
      "The loveliest day of the week is SUNDAY\n"
     ]
    }
   ],
   "source": [
    "print(f\"The loveliest day of the week is {word_string.upper()}\")"
   ]
  },
  {
   "cell_type": "code",
   "execution_count": 65,
   "id": "e195270e",
   "metadata": {
    "ExecuteTime": {
     "end_time": "2023-07-30T16:44:04.510434Z",
     "start_time": "2023-07-30T16:44:04.504763Z"
    },
    "id": "e195270e"
   },
   "outputs": [],
   "source": [
    "age = 45 "
   ]
  },
  {
   "cell_type": "code",
   "execution_count": 66,
   "id": "292a38da",
   "metadata": {
    "ExecuteTime": {
     "end_time": "2023-07-30T16:44:05.179091Z",
     "start_time": "2023-07-30T16:44:05.174067Z"
    },
    "id": "292a38da",
    "outputId": "c969bbd2-a4d3-4165-c77b-8d0980dbc7a7"
   },
   "outputs": [
    {
     "name": "stdout",
     "output_type": "stream",
     "text": [
      "I am 45 years old\n"
     ]
    }
   ],
   "source": [
    "print(f\"I am {age} years old\")"
   ]
  },
  {
   "cell_type": "code",
   "execution_count": 67,
   "id": "54ed856a",
   "metadata": {
    "ExecuteTime": {
     "end_time": "2023-07-30T16:44:05.469809Z",
     "start_time": "2023-07-30T16:44:05.462280Z"
    },
    "id": "54ed856a",
    "outputId": "60a89365-1dc5-4f69-9f20-8743267d68f6"
   },
   "outputs": [
    {
     "name": "stdout",
     "output_type": "stream",
     "text": [
      "55\n"
     ]
    }
   ],
   "source": [
    "print(f\"{age + 10}\")"
   ]
  },
  {
   "cell_type": "markdown",
   "id": "26c5ded2",
   "metadata": {
    "id": "26c5ded2"
   },
   "source": [
    "### String Formatting with .format()"
   ]
  },
  {
   "cell_type": "code",
   "execution_count": 68,
   "id": "b9901f61",
   "metadata": {
    "ExecuteTime": {
     "end_time": "2023-07-30T16:44:05.966286Z",
     "start_time": "2023-07-30T16:44:05.954942Z"
    },
    "id": "b9901f61",
    "outputId": "808165be-64d4-44e6-f01a-2067883b78be"
   },
   "outputs": [
    {
     "name": "stdout",
     "output_type": "stream",
     "text": [
      "Sunday\n"
     ]
    }
   ],
   "source": [
    "print(word_string)"
   ]
  },
  {
   "cell_type": "code",
   "execution_count": 69,
   "id": "fb92f8b9",
   "metadata": {
    "ExecuteTime": {
     "end_time": "2023-07-30T16:44:06.220343Z",
     "start_time": "2023-07-30T16:44:06.208839Z"
    },
    "id": "fb92f8b9",
    "outputId": "85fa0f02-1c66-4e3a-bfce-8647372b8263"
   },
   "outputs": [
    {
     "name": "stdout",
     "output_type": "stream",
     "text": [
      "45\n"
     ]
    }
   ],
   "source": [
    "print(age)"
   ]
  },
  {
   "cell_type": "code",
   "execution_count": 70,
   "id": "f06e355d",
   "metadata": {
    "ExecuteTime": {
     "end_time": "2023-07-30T16:44:06.450494Z",
     "start_time": "2023-07-30T16:44:06.444937Z"
    },
    "id": "f06e355d",
    "outputId": "c3c8a9db-1999-4f68-d366-5e51f3cfc7ef"
   },
   "outputs": [
    {
     "name": "stdout",
     "output_type": "stream",
     "text": [
      "The loveliest day of the week is Sunday, and I eat 45 pieces of meat\n"
     ]
    }
   ],
   "source": [
    "print(\"The loveliest day of the week is {}, and I eat {} pieces of meat\".format(\n",
    "    word_string, age))"
   ]
  },
  {
   "cell_type": "markdown",
   "id": "1ccdecb4",
   "metadata": {
    "id": "1ccdecb4"
   },
   "source": [
    "### String Concatenation "
   ]
  },
  {
   "cell_type": "code",
   "execution_count": 71,
   "id": "0edf1c6a",
   "metadata": {
    "ExecuteTime": {
     "end_time": "2023-07-30T16:44:06.904141Z",
     "start_time": "2023-07-30T16:44:06.897148Z"
    },
    "id": "0edf1c6a"
   },
   "outputs": [],
   "source": [
    "word_string = 'Sunday'"
   ]
  },
  {
   "cell_type": "code",
   "execution_count": 72,
   "id": "1f89913b",
   "metadata": {
    "ExecuteTime": {
     "end_time": "2023-07-30T16:44:07.148560Z",
     "start_time": "2023-07-30T16:44:07.144149Z"
    },
    "id": "1f89913b"
   },
   "outputs": [],
   "source": [
    "word_string_1 = 'School'"
   ]
  },
  {
   "cell_type": "code",
   "execution_count": 73,
   "id": "1f40d0de",
   "metadata": {
    "ExecuteTime": {
     "end_time": "2023-07-30T16:44:07.444918Z",
     "start_time": "2023-07-30T16:44:07.438874Z"
    },
    "id": "1f40d0de",
    "outputId": "6c0e81ef-c85a-455b-dc3f-278acfaa7122"
   },
   "outputs": [
    {
     "data": {
      "text/plain": [
       "45"
      ]
     },
     "execution_count": 73,
     "metadata": {},
     "output_type": "execute_result"
    }
   ],
   "source": [
    "age "
   ]
  },
  {
   "cell_type": "code",
   "execution_count": 74,
   "id": "5f736cf7",
   "metadata": {
    "ExecuteTime": {
     "end_time": "2023-07-30T16:44:07.737049Z",
     "start_time": "2023-07-30T16:44:07.727594Z"
    },
    "id": "5f736cf7",
    "outputId": "02e2cf86-5481-4a64-e306-709598e21cfc"
   },
   "outputs": [
    {
     "data": {
      "text/plain": [
       "'Sunday School'"
      ]
     },
     "execution_count": 74,
     "metadata": {},
     "output_type": "execute_result"
    }
   ],
   "source": [
    "word_string + ' ' + word_string_1"
   ]
  },
  {
   "cell_type": "code",
   "execution_count": 75,
   "id": "44654aeb",
   "metadata": {
    "ExecuteTime": {
     "end_time": "2023-07-30T16:44:07.990101Z",
     "start_time": "2023-07-30T16:44:07.983664Z"
    },
    "id": "44654aeb",
    "outputId": "cd26c0b4-9a8e-44a8-e687-22412e1f512d"
   },
   "outputs": [
    {
     "data": {
      "text/plain": [
       "'SundaySchool'"
      ]
     },
     "execution_count": 75,
     "metadata": {},
     "output_type": "execute_result"
    }
   ],
   "source": [
    "# Using Join\n",
    "''.join([word_string, word_string_1])"
   ]
  },
  {
   "cell_type": "code",
   "execution_count": 76,
   "id": "dada5915",
   "metadata": {
    "ExecuteTime": {
     "end_time": "2023-07-30T16:44:08.236770Z",
     "start_time": "2023-07-30T16:44:08.227174Z"
    },
    "id": "dada5915",
    "outputId": "5a273417-fbfe-47d7-ee32-d8bd434d4eee"
   },
   "outputs": [
    {
     "data": {
      "text/plain": [
       "'Sunday School'"
      ]
     },
     "execution_count": 76,
     "metadata": {},
     "output_type": "execute_result"
    }
   ],
   "source": [
    "\" \".join([word_string, word_string_1])"
   ]
  },
  {
   "cell_type": "markdown",
   "id": "7877cb27",
   "metadata": {
    "ExecuteTime": {
     "end_time": "2023-04-02T18:03:44.665396Z",
     "start_time": "2023-04-02T18:03:44.660274Z"
    },
    "id": "7877cb27"
   },
   "source": [
    "### String Slicing "
   ]
  },
  {
   "cell_type": "code",
   "execution_count": 77,
   "id": "3291c085",
   "metadata": {
    "ExecuteTime": {
     "end_time": "2023-07-30T16:44:08.692395Z",
     "start_time": "2023-07-30T16:44:08.683292Z"
    },
    "id": "3291c085",
    "outputId": "74cfd763-92f1-4d55-dc0f-0e18f8db016a"
   },
   "outputs": [
    {
     "data": {
      "text/plain": [
       "'A group'"
      ]
     },
     "execution_count": 77,
     "metadata": {},
     "output_type": "execute_result"
    }
   ],
   "source": [
    "group_char[0:7]"
   ]
  },
  {
   "cell_type": "code",
   "execution_count": 78,
   "id": "8e7eae5f",
   "metadata": {
    "ExecuteTime": {
     "end_time": "2023-07-30T16:44:08.935944Z",
     "start_time": "2023-07-30T16:44:08.928214Z"
    },
    "id": "8e7eae5f",
    "outputId": "2b3bd350-57d5-4551-b2e8-2563c40cc168"
   },
   "outputs": [
    {
     "data": {
      "text/plain": [
       "'A group of characters'"
      ]
     },
     "execution_count": 78,
     "metadata": {},
     "output_type": "execute_result"
    }
   ],
   "source": [
    "group_char"
   ]
  },
  {
   "cell_type": "code",
   "execution_count": 79,
   "id": "9f8e0854",
   "metadata": {
    "ExecuteTime": {
     "end_time": "2023-07-30T16:44:09.173418Z",
     "start_time": "2023-07-30T16:44:09.166325Z"
    },
    "id": "9f8e0854",
    "outputId": "6e0643e5-6c6d-4b0d-984c-bcc8faf3af9f"
   },
   "outputs": [
    {
     "data": {
      "text/plain": [
       "'character'"
      ]
     },
     "execution_count": 79,
     "metadata": {},
     "output_type": "execute_result"
    }
   ],
   "source": [
    "group_char[11:-1]"
   ]
  },
  {
   "cell_type": "code",
   "execution_count": 80,
   "id": "217c3357",
   "metadata": {
    "ExecuteTime": {
     "end_time": "2023-07-30T16:44:09.412385Z",
     "start_time": "2023-07-30T16:44:09.405852Z"
    },
    "id": "217c3357",
    "outputId": "79e5b5b9-2fdc-4c49-8b74-b009d1b71827"
   },
   "outputs": [
    {
     "data": {
      "text/plain": [
       "'f characters'"
      ]
     },
     "execution_count": 80,
     "metadata": {},
     "output_type": "execute_result"
    }
   ],
   "source": [
    "group_char[9:]"
   ]
  },
  {
   "cell_type": "markdown",
   "id": "534b8928",
   "metadata": {
    "id": "534b8928"
   },
   "source": [
    "### Numbers"
   ]
  },
  {
   "cell_type": "code",
   "execution_count": 81,
   "id": "2d1c8ac1",
   "metadata": {
    "ExecuteTime": {
     "end_time": "2023-07-30T16:44:09.900788Z",
     "start_time": "2023-07-30T16:44:09.893871Z"
    },
    "id": "2d1c8ac1"
   },
   "outputs": [],
   "source": [
    "# Integers (int) - Whole Number = 12\n",
    "# Floats (float) - Decimals = 12.5 "
   ]
  },
  {
   "cell_type": "code",
   "execution_count": 82,
   "id": "f5e6b2fd",
   "metadata": {
    "ExecuteTime": {
     "end_time": "2023-07-30T16:44:10.137703Z",
     "start_time": "2023-07-30T16:44:10.129347Z"
    },
    "id": "f5e6b2fd"
   },
   "outputs": [],
   "source": [
    "my_number = 40 "
   ]
  },
  {
   "cell_type": "code",
   "execution_count": 83,
   "id": "34b4a18b",
   "metadata": {
    "ExecuteTime": {
     "end_time": "2023-07-30T16:44:10.372516Z",
     "start_time": "2023-07-30T16:44:10.358667Z"
    },
    "id": "34b4a18b",
    "outputId": "a8a852b6-7a17-4aba-8df6-5dea44367811"
   },
   "outputs": [
    {
     "data": {
      "text/plain": [
       "int"
      ]
     },
     "execution_count": 83,
     "metadata": {},
     "output_type": "execute_result"
    }
   ],
   "source": [
    "type(my_number)"
   ]
  },
  {
   "cell_type": "code",
   "execution_count": 84,
   "id": "79b5405f",
   "metadata": {
    "ExecuteTime": {
     "end_time": "2023-07-30T16:44:10.627435Z",
     "start_time": "2023-07-30T16:44:10.622595Z"
    },
    "id": "79b5405f"
   },
   "outputs": [],
   "source": [
    "my_number_1 = '10' "
   ]
  },
  {
   "cell_type": "code",
   "execution_count": 85,
   "id": "6490512a",
   "metadata": {
    "ExecuteTime": {
     "end_time": "2023-07-30T16:44:10.828306Z",
     "start_time": "2023-07-30T16:44:10.824041Z"
    },
    "id": "6490512a",
    "outputId": "d92e1ba4-3575-4a09-e098-839cc9b7e64b"
   },
   "outputs": [
    {
     "data": {
      "text/plain": [
       "str"
      ]
     },
     "execution_count": 85,
     "metadata": {},
     "output_type": "execute_result"
    }
   ],
   "source": [
    "type(my_number_1)"
   ]
  },
  {
   "cell_type": "code",
   "execution_count": 86,
   "id": "f612afd1",
   "metadata": {
    "ExecuteTime": {
     "end_time": "2023-07-30T16:44:11.022052Z",
     "start_time": "2023-07-30T16:44:11.018630Z"
    },
    "id": "f612afd1"
   },
   "outputs": [],
   "source": [
    "my_number_1 = int(my_number_1)"
   ]
  },
  {
   "cell_type": "code",
   "execution_count": 87,
   "id": "809c5d9d",
   "metadata": {
    "ExecuteTime": {
     "end_time": "2023-07-30T16:44:11.272898Z",
     "start_time": "2023-07-30T16:44:11.265418Z"
    },
    "id": "809c5d9d",
    "outputId": "f94ec68d-8f7c-4805-d543-80cf69974dca"
   },
   "outputs": [
    {
     "data": {
      "text/plain": [
       "int"
      ]
     },
     "execution_count": 87,
     "metadata": {},
     "output_type": "execute_result"
    }
   ],
   "source": [
    "type(my_number_1)"
   ]
  },
  {
   "cell_type": "code",
   "execution_count": 88,
   "id": "e76b0e07",
   "metadata": {
    "ExecuteTime": {
     "end_time": "2023-07-30T16:44:11.533760Z",
     "start_time": "2023-07-30T16:44:11.523860Z"
    },
    "id": "e76b0e07",
    "outputId": "69519ce3-4bf2-4399-ce3f-b0893347f609"
   },
   "outputs": [
    {
     "data": {
      "text/plain": [
       "10"
      ]
     },
     "execution_count": 88,
     "metadata": {},
     "output_type": "execute_result"
    }
   ],
   "source": [
    "my_number_1"
   ]
  },
  {
   "cell_type": "code",
   "execution_count": 89,
   "id": "c048449f",
   "metadata": {
    "ExecuteTime": {
     "end_time": "2023-07-30T16:44:11.730739Z",
     "start_time": "2023-07-30T16:44:11.717539Z"
    },
    "id": "c048449f"
   },
   "outputs": [],
   "source": [
    "# Floats \n",
    "my_decimal = 12.5 "
   ]
  },
  {
   "cell_type": "code",
   "execution_count": 90,
   "id": "277e35fd",
   "metadata": {
    "ExecuteTime": {
     "end_time": "2023-07-30T16:44:11.966930Z",
     "start_time": "2023-07-30T16:44:11.949978Z"
    },
    "id": "277e35fd",
    "outputId": "76f08028-0fcd-497b-f963-a48da69f6ada"
   },
   "outputs": [
    {
     "data": {
      "text/plain": [
       "int"
      ]
     },
     "execution_count": 90,
     "metadata": {},
     "output_type": "execute_result"
    }
   ],
   "source": [
    "type(my_number)"
   ]
  },
  {
   "cell_type": "code",
   "execution_count": 91,
   "id": "3309a91f",
   "metadata": {
    "ExecuteTime": {
     "end_time": "2023-07-30T16:44:12.175923Z",
     "start_time": "2023-07-30T16:44:12.172476Z"
    },
    "id": "3309a91f"
   },
   "outputs": [],
   "source": [
    "my_number = float(my_number)"
   ]
  },
  {
   "cell_type": "code",
   "execution_count": 92,
   "id": "db4355d7",
   "metadata": {
    "ExecuteTime": {
     "end_time": "2023-07-30T16:44:12.389718Z",
     "start_time": "2023-07-30T16:44:12.379342Z"
    },
    "id": "db4355d7",
    "outputId": "549f87f9-d1b9-4df6-8580-bb280f64b554"
   },
   "outputs": [
    {
     "data": {
      "text/plain": [
       "float"
      ]
     },
     "execution_count": 92,
     "metadata": {},
     "output_type": "execute_result"
    }
   ],
   "source": [
    "type(my_number)"
   ]
  },
  {
   "cell_type": "code",
   "execution_count": 93,
   "id": "e8802a87",
   "metadata": {
    "ExecuteTime": {
     "end_time": "2023-07-30T16:44:12.624939Z",
     "start_time": "2023-07-30T16:44:12.617435Z"
    },
    "id": "e8802a87"
   },
   "outputs": [],
   "source": [
    "# Numeric Operations \n",
    "# Addition, subtraction, Multiplication, Division"
   ]
  },
  {
   "cell_type": "code",
   "execution_count": 94,
   "id": "d83fd30d",
   "metadata": {
    "ExecuteTime": {
     "end_time": "2023-07-30T16:44:12.828254Z",
     "start_time": "2023-07-30T16:44:12.820561Z"
    },
    "id": "d83fd30d",
    "outputId": "f7ab5b7a-3af2-4724-c1b6-2b311804f655"
   },
   "outputs": [
    {
     "data": {
      "text/plain": [
       "['__abs__',\n",
       " '__add__',\n",
       " '__bool__',\n",
       " '__ceil__',\n",
       " '__class__',\n",
       " '__delattr__',\n",
       " '__dir__',\n",
       " '__divmod__',\n",
       " '__doc__',\n",
       " '__eq__',\n",
       " '__float__',\n",
       " '__floor__',\n",
       " '__floordiv__',\n",
       " '__format__',\n",
       " '__ge__',\n",
       " '__getattribute__',\n",
       " '__getformat__',\n",
       " '__getnewargs__',\n",
       " '__gt__',\n",
       " '__hash__',\n",
       " '__init__',\n",
       " '__init_subclass__',\n",
       " '__int__',\n",
       " '__le__',\n",
       " '__lt__',\n",
       " '__mod__',\n",
       " '__mul__',\n",
       " '__ne__',\n",
       " '__neg__',\n",
       " '__new__',\n",
       " '__pos__',\n",
       " '__pow__',\n",
       " '__radd__',\n",
       " '__rdivmod__',\n",
       " '__reduce__',\n",
       " '__reduce_ex__',\n",
       " '__repr__',\n",
       " '__rfloordiv__',\n",
       " '__rmod__',\n",
       " '__rmul__',\n",
       " '__round__',\n",
       " '__rpow__',\n",
       " '__rsub__',\n",
       " '__rtruediv__',\n",
       " '__setattr__',\n",
       " '__setformat__',\n",
       " '__sizeof__',\n",
       " '__str__',\n",
       " '__sub__',\n",
       " '__subclasshook__',\n",
       " '__truediv__',\n",
       " '__trunc__',\n",
       " 'as_integer_ratio',\n",
       " 'conjugate',\n",
       " 'fromhex',\n",
       " 'hex',\n",
       " 'imag',\n",
       " 'is_integer',\n",
       " 'real']"
      ]
     },
     "execution_count": 94,
     "metadata": {},
     "output_type": "execute_result"
    }
   ],
   "source": [
    "dir(my_number)"
   ]
  },
  {
   "cell_type": "code",
   "execution_count": 95,
   "id": "6c4c9464",
   "metadata": {
    "ExecuteTime": {
     "end_time": "2023-07-30T16:44:13.070213Z",
     "start_time": "2023-07-30T16:44:13.063890Z"
    },
    "id": "6c4c9464"
   },
   "outputs": [],
   "source": [
    "# Numpy\n",
    "# Statistics\n",
    "# Math "
   ]
  },
  {
   "cell_type": "code",
   "execution_count": 96,
   "id": "29a817a2",
   "metadata": {
    "ExecuteTime": {
     "end_time": "2023-07-30T16:44:13.278286Z",
     "start_time": "2023-07-30T16:44:13.272771Z"
    },
    "id": "29a817a2",
    "outputId": "c1bd9e6b-f271-4e0f-a478-2414288d58d8"
   },
   "outputs": [
    {
     "data": {
      "text/plain": [
       "15"
      ]
     },
     "execution_count": 96,
     "metadata": {},
     "output_type": "execute_result"
    }
   ],
   "source": [
    "10 + 5 "
   ]
  },
  {
   "cell_type": "code",
   "execution_count": 97,
   "id": "9017ba95",
   "metadata": {
    "ExecuteTime": {
     "end_time": "2023-07-30T16:44:13.523112Z",
     "start_time": "2023-07-30T16:44:13.517515Z"
    },
    "id": "9017ba95",
    "outputId": "8e3c86e5-47cc-41bf-992f-a3fe4d2285e2"
   },
   "outputs": [
    {
     "data": {
      "text/plain": [
       "5"
      ]
     },
     "execution_count": 97,
     "metadata": {},
     "output_type": "execute_result"
    }
   ],
   "source": [
    "10 - 5 "
   ]
  },
  {
   "cell_type": "code",
   "execution_count": 98,
   "id": "44b19c38",
   "metadata": {
    "ExecuteTime": {
     "end_time": "2023-07-30T16:44:13.759748Z",
     "start_time": "2023-07-30T16:44:13.753801Z"
    },
    "id": "44b19c38",
    "outputId": "7da04a87-a4fe-4cd1-9c56-4cfd8e6c32b1"
   },
   "outputs": [
    {
     "data": {
      "text/plain": [
       "50"
      ]
     },
     "execution_count": 98,
     "metadata": {},
     "output_type": "execute_result"
    }
   ],
   "source": [
    "10 * 5 "
   ]
  },
  {
   "cell_type": "code",
   "execution_count": 99,
   "id": "81759ca7",
   "metadata": {
    "ExecuteTime": {
     "end_time": "2023-07-30T16:44:13.992880Z",
     "start_time": "2023-07-30T16:44:13.982827Z"
    },
    "id": "81759ca7",
    "outputId": "b5c70596-d407-46b8-f768-c82808ee5697"
   },
   "outputs": [
    {
     "data": {
      "text/plain": [
       "3.3333333333333335"
      ]
     },
     "execution_count": 99,
     "metadata": {},
     "output_type": "execute_result"
    }
   ],
   "source": [
    "10/3 "
   ]
  },
  {
   "cell_type": "code",
   "execution_count": 100,
   "id": "bdccdcab",
   "metadata": {
    "ExecuteTime": {
     "end_time": "2023-07-30T16:44:14.209116Z",
     "start_time": "2023-07-30T16:44:14.204012Z"
    },
    "id": "bdccdcab",
    "outputId": "123e2de4-39d2-4f24-a3ae-990d7c847845"
   },
   "outputs": [
    {
     "data": {
      "text/plain": [
       "3"
      ]
     },
     "execution_count": 100,
     "metadata": {},
     "output_type": "execute_result"
    }
   ],
   "source": [
    "10//3"
   ]
  },
  {
   "cell_type": "code",
   "execution_count": 101,
   "id": "e5016093",
   "metadata": {
    "ExecuteTime": {
     "end_time": "2023-07-30T16:44:14.443609Z",
     "start_time": "2023-07-30T16:44:14.438101Z"
    },
    "id": "e5016093",
    "outputId": "bd8c6aaa-ed05-4ff5-e0a0-95e051ecde19"
   },
   "outputs": [
    {
     "data": {
      "text/plain": [
       "0"
      ]
     },
     "execution_count": 101,
     "metadata": {},
     "output_type": "execute_result"
    }
   ],
   "source": [
    "10 % 5"
   ]
  },
  {
   "cell_type": "code",
   "execution_count": 102,
   "id": "5398b820",
   "metadata": {
    "ExecuteTime": {
     "end_time": "2023-07-30T16:44:19.365422Z",
     "start_time": "2023-07-30T16:44:14.671824Z"
    },
    "id": "5398b820",
    "outputId": "a1280eb6-9def-4785-8a9f-641bf332d8ef"
   },
   "outputs": [
    {
     "name": "stdout",
     "output_type": "stream",
     "text": [
      "Enter a number, and I'll tell you if it's even or odd: 8\n",
      "\n",
      "The number 8 is even.\n"
     ]
    }
   ],
   "source": [
    "number = input(\"Enter a number, and I'll tell you if it's even or odd: \")\n",
    "number = int(number)\n",
    "\n",
    "if number % 2 == 0: \n",
    "    print(f\"\\nThe number {number} is even.\")\n",
    "else: \n",
    "    print(f\"\\nThe number {number} is odd.\") "
   ]
  },
  {
   "cell_type": "code",
   "execution_count": 107,
   "id": "0e55241e",
   "metadata": {
    "ExecuteTime": {
     "end_time": "2023-07-30T16:44:22.291634Z",
     "start_time": "2023-07-30T16:44:22.285572Z"
    },
    "id": "0e55241e"
   },
   "outputs": [],
   "source": [
    "# Augmented Assignment \n",
    "number = number + 6 "
   ]
  },
  {
   "cell_type": "code",
   "execution_count": 108,
   "id": "b06fb962",
   "metadata": {
    "ExecuteTime": {
     "end_time": "2023-07-30T16:44:22.671984Z",
     "start_time": "2023-07-30T16:44:22.665961Z"
    },
    "id": "b06fb962",
    "outputId": "57e8dd0d-e473-459f-f380-bf7f9a14dbc4"
   },
   "outputs": [
    {
     "data": {
      "text/plain": [
       "27"
      ]
     },
     "execution_count": 108,
     "metadata": {},
     "output_type": "execute_result"
    }
   ],
   "source": [
    "number"
   ]
  },
  {
   "cell_type": "code",
   "execution_count": 109,
   "id": "bfbc70e4",
   "metadata": {
    "ExecuteTime": {
     "end_time": "2023-07-30T16:44:23.002540Z",
     "start_time": "2023-07-30T16:44:22.997524Z"
    },
    "id": "bfbc70e4"
   },
   "outputs": [],
   "source": [
    "number += 7 "
   ]
  },
  {
   "cell_type": "code",
   "execution_count": 110,
   "id": "76f8a74e",
   "metadata": {
    "ExecuteTime": {
     "end_time": "2023-07-30T16:44:23.323815Z",
     "start_time": "2023-07-30T16:44:23.314411Z"
    },
    "id": "76f8a74e",
    "outputId": "39c2222e-6098-416c-9074-568799bf70ec"
   },
   "outputs": [
    {
     "data": {
      "text/plain": [
       "34"
      ]
     },
     "execution_count": 110,
     "metadata": {},
     "output_type": "execute_result"
    }
   ],
   "source": [
    "number"
   ]
  },
  {
   "cell_type": "markdown",
   "id": "fdd11050",
   "metadata": {
    "id": "fdd11050"
   },
   "source": [
    "## Lists"
   ]
  },
  {
   "cell_type": "code",
   "execution_count": 111,
   "id": "1847dbed",
   "metadata": {
    "ExecuteTime": {
     "end_time": "2023-07-30T16:44:24.088397Z",
     "start_time": "2023-07-30T16:44:24.085085Z"
    },
    "id": "1847dbed"
   },
   "outputs": [],
   "source": [
    "# List is a data type \n",
    "# A list is mutable - modified \n",
    "# A list is sequenced \n",
    "# A list is a data structure "
   ]
  },
  {
   "cell_type": "markdown",
   "id": "4d2fe5bc",
   "metadata": {
    "id": "4d2fe5bc"
   },
   "source": [
    "### Create a list"
   ]
  },
  {
   "cell_type": "code",
   "execution_count": 112,
   "id": "8520eef1",
   "metadata": {
    "ExecuteTime": {
     "end_time": "2023-07-30T16:44:24.822021Z",
     "start_time": "2023-07-30T16:44:24.818334Z"
    },
    "id": "8520eef1"
   },
   "outputs": [],
   "source": [
    "first_list = [] # Created our first list"
   ]
  },
  {
   "cell_type": "code",
   "execution_count": 113,
   "id": "6787deb9",
   "metadata": {
    "ExecuteTime": {
     "end_time": "2023-07-30T16:44:25.130206Z",
     "start_time": "2023-07-30T16:44:25.123360Z"
    },
    "id": "6787deb9",
    "outputId": "8dbbe4f6-c691-468f-898e-dde971aa2fac"
   },
   "outputs": [
    {
     "data": {
      "text/plain": [
       "list"
      ]
     },
     "execution_count": 113,
     "metadata": {},
     "output_type": "execute_result"
    }
   ],
   "source": [
    "type(first_list)"
   ]
  },
  {
   "cell_type": "code",
   "execution_count": 114,
   "id": "aeb46b1e",
   "metadata": {
    "ExecuteTime": {
     "end_time": "2023-07-30T16:44:25.372331Z",
     "start_time": "2023-07-30T16:44:25.366457Z"
    },
    "id": "aeb46b1e"
   },
   "outputs": [],
   "source": [
    "second_list = ['Pablo', 41, 'Bolaji', 28] # A list with elements inside "
   ]
  },
  {
   "cell_type": "code",
   "execution_count": 115,
   "id": "edb28433",
   "metadata": {
    "ExecuteTime": {
     "end_time": "2023-07-30T16:44:25.578162Z",
     "start_time": "2023-07-30T16:44:25.573409Z"
    },
    "id": "edb28433",
    "outputId": "e1bb6833-05c5-4ecf-f2eb-797919afc90b"
   },
   "outputs": [
    {
     "name": "stdout",
     "output_type": "stream",
     "text": [
      "['Pablo', 41, 'Bolaji', 28]\n"
     ]
    }
   ],
   "source": [
    "print(second_list)"
   ]
  },
  {
   "cell_type": "code",
   "execution_count": 116,
   "id": "4d676475",
   "metadata": {
    "ExecuteTime": {
     "end_time": "2023-07-30T16:44:25.815788Z",
     "start_time": "2023-07-30T16:44:25.808017Z"
    },
    "id": "4d676475"
   },
   "outputs": [],
   "source": [
    "set_char = \"A lot of numbers\""
   ]
  },
  {
   "cell_type": "code",
   "execution_count": 117,
   "id": "2568888e",
   "metadata": {
    "ExecuteTime": {
     "end_time": "2023-07-30T16:44:26.019324Z",
     "start_time": "2023-07-30T16:44:26.012399Z"
    },
    "id": "2568888e"
   },
   "outputs": [],
   "source": [
    "set_char_list = list(set_char)"
   ]
  },
  {
   "cell_type": "code",
   "execution_count": 118,
   "id": "9aa78e82",
   "metadata": {
    "ExecuteTime": {
     "end_time": "2023-07-30T16:44:26.227147Z",
     "start_time": "2023-07-30T16:44:26.217907Z"
    },
    "id": "9aa78e82",
    "outputId": "33d2f17a-d00f-464a-9501-b12771cad15e"
   },
   "outputs": [
    {
     "data": {
      "text/plain": [
       "list"
      ]
     },
     "execution_count": 118,
     "metadata": {},
     "output_type": "execute_result"
    }
   ],
   "source": [
    "type(set_char_list)"
   ]
  },
  {
   "cell_type": "code",
   "execution_count": 119,
   "id": "d2440aba",
   "metadata": {
    "ExecuteTime": {
     "end_time": "2023-07-30T16:44:26.577402Z",
     "start_time": "2023-07-30T16:44:26.571573Z"
    },
    "id": "d2440aba",
    "outputId": "22174ed3-d022-478c-f457-ac7524077869"
   },
   "outputs": [
    {
     "name": "stdout",
     "output_type": "stream",
     "text": [
      "['A', ' ', 'l', 'o', 't', ' ', 'o', 'f', ' ', 'n', 'u', 'm', 'b', 'e', 'r', 's']\n"
     ]
    }
   ],
   "source": [
    "print(set_char_list)"
   ]
  },
  {
   "cell_type": "code",
   "execution_count": 120,
   "id": "f0b1a49d",
   "metadata": {
    "ExecuteTime": {
     "end_time": "2023-07-30T16:44:26.800412Z",
     "start_time": "2023-07-30T16:44:26.796948Z"
    },
    "id": "f0b1a49d"
   },
   "outputs": [],
   "source": [
    "# Take a column from a dataframe and convert it to a list \n",
    "#football_data.head() "
   ]
  },
  {
   "cell_type": "code",
   "execution_count": 121,
   "id": "48fac8d3",
   "metadata": {
    "ExecuteTime": {
     "end_time": "2023-07-30T16:44:26.995819Z",
     "start_time": "2023-07-30T16:44:26.990204Z"
    },
    "id": "48fac8d3",
    "outputId": "ae4d5ce3-48c7-4e5f-fd72-ffde397bd17f"
   },
   "outputs": [
    {
     "data": {
      "text/plain": [
       "pandas.core.frame.DataFrame"
      ]
     },
     "execution_count": 121,
     "metadata": {},
     "output_type": "execute_result"
    }
   ],
   "source": [
    "type(football_data)"
   ]
  },
  {
   "cell_type": "code",
   "execution_count": 122,
   "id": "ccfe593b",
   "metadata": {
    "ExecuteTime": {
     "end_time": "2023-07-30T16:44:27.201999Z",
     "start_time": "2023-07-30T16:44:27.183793Z"
    },
    "id": "ccfe593b",
    "outputId": "e8ab3406-e0f9-4272-eb9f-63697ca3f724"
   },
   "outputs": [
    {
     "data": {
      "text/plain": [
       "pandas.core.series.Series"
      ]
     },
     "execution_count": 122,
     "metadata": {},
     "output_type": "execute_result"
    }
   ],
   "source": [
    "type(football_data['Selling club'])"
   ]
  },
  {
   "cell_type": "code",
   "execution_count": 123,
   "id": "d558d6a4",
   "metadata": {
    "ExecuteTime": {
     "end_time": "2023-07-30T16:44:27.436848Z",
     "start_time": "2023-07-30T16:44:27.430162Z"
    },
    "id": "d558d6a4"
   },
   "outputs": [],
   "source": [
    "footballData_list = list(football_data['Selling club'])"
   ]
  },
  {
   "cell_type": "code",
   "execution_count": 124,
   "id": "cf673bcf",
   "metadata": {
    "ExecuteTime": {
     "end_time": "2023-07-30T16:44:27.712808Z",
     "start_time": "2023-07-30T16:44:27.681991Z"
    },
    "id": "cf673bcf",
    "outputId": "b2342f1e-615f-4b3e-dd41-b8a3ef302067"
   },
   "outputs": [
    {
     "data": {
      "text/plain": [
       "list"
      ]
     },
     "execution_count": 124,
     "metadata": {},
     "output_type": "execute_result"
    }
   ],
   "source": [
    "type(footballData_list)"
   ]
  },
  {
   "cell_type": "code",
   "execution_count": 125,
   "id": "1fbb9b70",
   "metadata": {
    "ExecuteTime": {
     "end_time": "2023-07-30T16:44:28.034456Z",
     "start_time": "2023-07-30T16:44:28.018318Z"
    },
    "id": "1fbb9b70",
    "outputId": "9ebf5df3-913f-4143-9ec3-0c06ee0e9ad1"
   },
   "outputs": [
    {
     "name": "stdout",
     "output_type": "stream",
     "text": [
      "['\\xa0West Bromwich Albion', '\\xa0Barnsley', '\\xa0Sheffield United', '\\xa0Sunderland', '\\xa0Sunderland', '\\xa0West Ham United', '\\xa0Bolton Wanderers', '\\xa0Heart of Midlothian', '\\xa0Plymouth Argyle', '\\xa0Kilmarnock', '\\xa0West Ham United', '\\xa0South Shields', '\\xa0Burnley', '\\xa0Bolton Wanderers', '\\xa0Tigre', '\\xa0Manchester United', '\\xa0Sheffield Wednesday', '\\xa0Aston Villa', '\\xa0Notts County', '\\xa0Atalanta', '\\xa0Peñarol', '\\xa0River Plate', '\\xa0Barcelona', '\\xa0Mantova', '\\xa0Bologna', '\\xa0Varese', '\\xa0Ajax', '\\xa0Bologna', '\\xa0Vicenza', '\\xa0Boca Juniors', '\\xa0Barcelona', '\\xa0PSV Eindhoven', '\\xa0Fiorentina', '\\xa0Marseille', '\\xa0Sampdoria', '\\xa0Torino', '\\xa0PSV Eindhoven', '\\xa0Blackburn Rovers', '\\xa0Barcelona', '\\xa0São Paulo', '\\xa0Lazio', '\\xa0Parma', '\\xa0Barcelona', '\\xa0Juventus', '\\xa0Milan', '\\xa0Manchester United', '\\xa0Tottenham Hotspur', '\\xa0Juventus', '\\xa0Barcelona']\n"
     ]
    }
   ],
   "source": [
    "print(footballData_list)"
   ]
  },
  {
   "cell_type": "code",
   "execution_count": 126,
   "id": "cf8d5f9f",
   "metadata": {
    "ExecuteTime": {
     "end_time": "2023-07-30T16:44:28.569864Z",
     "start_time": "2023-07-30T16:44:28.560189Z"
    },
    "id": "cf8d5f9f",
    "outputId": "2f6c4ac3-bffb-44ba-9768-6002c69cae0e"
   },
   "outputs": [
    {
     "data": {
      "text/plain": [
       "16"
      ]
     },
     "execution_count": 126,
     "metadata": {},
     "output_type": "execute_result"
    }
   ],
   "source": [
    "len(set_char_list)"
   ]
  },
  {
   "cell_type": "code",
   "execution_count": 127,
   "id": "f06f94d1",
   "metadata": {
    "ExecuteTime": {
     "end_time": "2023-07-30T16:44:28.874575Z",
     "start_time": "2023-07-30T16:44:28.866377Z"
    },
    "id": "f06f94d1",
    "outputId": "78fd0367-b64e-4ce9-8732-1e993cc08d2a"
   },
   "outputs": [
    {
     "data": {
      "text/plain": [
       "49"
      ]
     },
     "execution_count": 127,
     "metadata": {},
     "output_type": "execute_result"
    }
   ],
   "source": [
    "len(footballData_list)"
   ]
  },
  {
   "cell_type": "code",
   "execution_count": 128,
   "id": "9028203a",
   "metadata": {
    "ExecuteTime": {
     "end_time": "2023-07-30T16:44:29.116095Z",
     "start_time": "2023-07-30T16:44:29.111895Z"
    },
    "id": "9028203a"
   },
   "outputs": [],
   "source": [
    "sunday_list = ['Pablo', 'Sylvia', 'Samuel', 'Polycap', 'Joyce', 'Ibrahim', 'Heak']"
   ]
  },
  {
   "cell_type": "code",
   "execution_count": 129,
   "id": "1540257d",
   "metadata": {
    "ExecuteTime": {
     "end_time": "2023-07-30T16:44:29.338770Z",
     "start_time": "2023-07-30T16:44:29.318426Z"
    },
    "id": "1540257d",
    "outputId": "bb853d9f-d564-4028-dee7-34adbe41d6d1"
   },
   "outputs": [
    {
     "data": {
      "text/plain": [
       "7"
      ]
     },
     "execution_count": 129,
     "metadata": {},
     "output_type": "execute_result"
    }
   ],
   "source": [
    "len(sunday_list)"
   ]
  },
  {
   "cell_type": "code",
   "execution_count": 130,
   "id": "a62591c9",
   "metadata": {
    "ExecuteTime": {
     "end_time": "2023-07-30T16:44:29.626675Z",
     "start_time": "2023-07-30T16:44:29.620291Z"
    },
    "id": "a62591c9",
    "outputId": "9c23cd25-2adc-416a-aa17-725c830232e5"
   },
   "outputs": [
    {
     "data": {
      "text/plain": [
       "['__add__',\n",
       " '__class__',\n",
       " '__class_getitem__',\n",
       " '__contains__',\n",
       " '__delattr__',\n",
       " '__delitem__',\n",
       " '__dir__',\n",
       " '__doc__',\n",
       " '__eq__',\n",
       " '__format__',\n",
       " '__ge__',\n",
       " '__getattribute__',\n",
       " '__getitem__',\n",
       " '__gt__',\n",
       " '__hash__',\n",
       " '__iadd__',\n",
       " '__imul__',\n",
       " '__init__',\n",
       " '__init_subclass__',\n",
       " '__iter__',\n",
       " '__le__',\n",
       " '__len__',\n",
       " '__lt__',\n",
       " '__mul__',\n",
       " '__ne__',\n",
       " '__new__',\n",
       " '__reduce__',\n",
       " '__reduce_ex__',\n",
       " '__repr__',\n",
       " '__reversed__',\n",
       " '__rmul__',\n",
       " '__setattr__',\n",
       " '__setitem__',\n",
       " '__sizeof__',\n",
       " '__str__',\n",
       " '__subclasshook__',\n",
       " 'append',\n",
       " 'clear',\n",
       " 'copy',\n",
       " 'count',\n",
       " 'extend',\n",
       " 'index',\n",
       " 'insert',\n",
       " 'pop',\n",
       " 'remove',\n",
       " 'reverse',\n",
       " 'sort']"
      ]
     },
     "execution_count": 130,
     "metadata": {},
     "output_type": "execute_result"
    }
   ],
   "source": [
    "dir(sunday_list)"
   ]
  },
  {
   "cell_type": "markdown",
   "id": "b717e069",
   "metadata": {
    "id": "b717e069"
   },
   "source": [
    "### List Methods\n",
    "\n",
    "'append',\n",
    " 'clear',\n",
    " 'copy',\n",
    " 'count',\n",
    " 'extend',\n",
    " 'index',\n",
    " 'insert',\n",
    " 'pop',\n",
    " 'remove',\n",
    " 'reverse',\n",
    " 'sort'"
   ]
  },
  {
   "cell_type": "code",
   "execution_count": 131,
   "id": "2c4cc669",
   "metadata": {
    "ExecuteTime": {
     "end_time": "2023-07-30T16:44:30.259897Z",
     "start_time": "2023-07-30T16:44:30.256316Z"
    },
    "id": "2c4cc669"
   },
   "outputs": [],
   "source": [
    "# Add to a list \n",
    "# append - \n",
    "# extend -\n",
    "# insert"
   ]
  },
  {
   "cell_type": "code",
   "execution_count": 132,
   "id": "f60301ba",
   "metadata": {
    "ExecuteTime": {
     "end_time": "2023-07-30T16:44:30.488321Z",
     "start_time": "2023-07-30T16:44:30.483371Z"
    },
    "id": "f60301ba",
    "outputId": "2539b88d-40ed-40c6-9771-97fb30c459fd"
   },
   "outputs": [
    {
     "name": "stdout",
     "output_type": "stream",
     "text": [
      "['Pablo', 'Sylvia', 'Samuel', 'Polycap', 'Joyce', 'Ibrahim', 'Heak']\n"
     ]
    }
   ],
   "source": [
    "print(sunday_list)"
   ]
  },
  {
   "cell_type": "code",
   "execution_count": 133,
   "id": "f1b3ea35",
   "metadata": {
    "ExecuteTime": {
     "end_time": "2023-07-30T16:44:30.737216Z",
     "start_time": "2023-07-30T16:44:30.732945Z"
    },
    "id": "f1b3ea35"
   },
   "outputs": [],
   "source": [
    "sunday_list.append('Tomi')"
   ]
  },
  {
   "cell_type": "code",
   "execution_count": 134,
   "id": "6bb96710",
   "metadata": {
    "ExecuteTime": {
     "end_time": "2023-07-30T16:44:30.972115Z",
     "start_time": "2023-07-30T16:44:30.965759Z"
    },
    "id": "6bb96710",
    "outputId": "177af554-5be4-46bd-9b6f-6059ee89a7b1"
   },
   "outputs": [
    {
     "name": "stdout",
     "output_type": "stream",
     "text": [
      "['Pablo', 'Sylvia', 'Samuel', 'Polycap', 'Joyce', 'Ibrahim', 'Heak', 'Tomi']\n"
     ]
    }
   ],
   "source": [
    "print(sunday_list)"
   ]
  },
  {
   "cell_type": "code",
   "execution_count": 135,
   "id": "6311b7b9",
   "metadata": {
    "ExecuteTime": {
     "end_time": "2023-07-30T16:44:31.207496Z",
     "start_time": "2023-07-30T16:44:31.203173Z"
    },
    "id": "6311b7b9"
   },
   "outputs": [],
   "source": [
    "sunday_list.append('Ochanya')"
   ]
  },
  {
   "cell_type": "code",
   "execution_count": 136,
   "id": "faab1acf",
   "metadata": {
    "ExecuteTime": {
     "end_time": "2023-07-30T16:44:31.423790Z",
     "start_time": "2023-07-30T16:44:31.419834Z"
    },
    "id": "faab1acf",
    "outputId": "1262c57f-a12c-49e8-fa47-93b5392b74ab"
   },
   "outputs": [
    {
     "name": "stdout",
     "output_type": "stream",
     "text": [
      "['Pablo', 'Sylvia', 'Samuel', 'Polycap', 'Joyce', 'Ibrahim', 'Heak', 'Tomi', 'Ochanya']\n"
     ]
    }
   ],
   "source": [
    "print(sunday_list)"
   ]
  },
  {
   "cell_type": "code",
   "execution_count": 137,
   "id": "3b3c59a8",
   "metadata": {
    "ExecuteTime": {
     "end_time": "2023-07-30T16:44:31.681194Z",
     "start_time": "2023-07-30T16:44:31.677780Z"
    },
    "id": "3b3c59a8"
   },
   "outputs": [],
   "source": [
    "# extend a list using another list \n",
    "last_sunday = ['Thomas', 'James', 'Martha', 'Tisse'] "
   ]
  },
  {
   "cell_type": "code",
   "execution_count": 138,
   "id": "18d6bba5",
   "metadata": {
    "ExecuteTime": {
     "end_time": "2023-07-30T16:44:31.908543Z",
     "start_time": "2023-07-30T16:44:31.903681Z"
    },
    "id": "18d6bba5",
    "outputId": "3863b942-390f-45a4-f83b-ff70bcba0907"
   },
   "outputs": [
    {
     "name": "stdout",
     "output_type": "stream",
     "text": [
      "['Thomas', 'James', 'Martha', 'Tisse']\n"
     ]
    }
   ],
   "source": [
    "print(last_sunday)"
   ]
  },
  {
   "cell_type": "code",
   "execution_count": 139,
   "id": "e36fb6a7",
   "metadata": {
    "ExecuteTime": {
     "end_time": "2023-07-30T16:44:32.137771Z",
     "start_time": "2023-07-30T16:44:32.134368Z"
    },
    "id": "e36fb6a7"
   },
   "outputs": [],
   "source": [
    "# Make last sunday and this sunday one list \n",
    "sunday_list.extend(last_sunday)"
   ]
  },
  {
   "cell_type": "code",
   "execution_count": 140,
   "id": "ce57a6c7",
   "metadata": {
    "ExecuteTime": {
     "end_time": "2023-07-30T16:44:32.364701Z",
     "start_time": "2023-07-30T16:44:32.359421Z"
    },
    "id": "ce57a6c7",
    "outputId": "de0410d4-2f2d-4581-e775-da333ac45077"
   },
   "outputs": [
    {
     "name": "stdout",
     "output_type": "stream",
     "text": [
      "['Pablo', 'Sylvia', 'Samuel', 'Polycap', 'Joyce', 'Ibrahim', 'Heak', 'Tomi', 'Ochanya', 'Thomas', 'James', 'Martha', 'Tisse']\n"
     ]
    }
   ],
   "source": [
    "print(sunday_list)"
   ]
  },
  {
   "cell_type": "code",
   "execution_count": 141,
   "id": "9cff8fdb",
   "metadata": {
    "ExecuteTime": {
     "end_time": "2023-07-30T16:44:32.619225Z",
     "start_time": "2023-07-30T16:44:32.615678Z"
    },
    "id": "9cff8fdb"
   },
   "outputs": [],
   "source": [
    "# Insert into a list but to our preferred numerical position "
   ]
  },
  {
   "cell_type": "code",
   "execution_count": 142,
   "id": "7619e027",
   "metadata": {
    "ExecuteTime": {
     "end_time": "2023-07-30T16:44:32.859996Z",
     "start_time": "2023-07-30T16:44:32.854541Z"
    },
    "id": "7619e027"
   },
   "outputs": [],
   "source": [
    "sunday_list.insert(0, 'Fayrooz') "
   ]
  },
  {
   "cell_type": "code",
   "execution_count": 143,
   "id": "a56a2938",
   "metadata": {
    "ExecuteTime": {
     "end_time": "2023-07-30T16:44:33.108392Z",
     "start_time": "2023-07-30T16:44:33.103980Z"
    },
    "id": "a56a2938",
    "outputId": "cd97e49f-c6a7-4f5e-e0f3-f2f18de9df5f"
   },
   "outputs": [
    {
     "name": "stdout",
     "output_type": "stream",
     "text": [
      "['Fayrooz', 'Pablo', 'Sylvia', 'Samuel', 'Polycap', 'Joyce', 'Ibrahim', 'Heak', 'Tomi', 'Ochanya', 'Thomas', 'James', 'Martha', 'Tisse']\n"
     ]
    }
   ],
   "source": [
    "print(sunday_list)"
   ]
  },
  {
   "cell_type": "markdown",
   "id": "7e02a8c4",
   "metadata": {
    "id": "7e02a8c4"
   },
   "source": [
    "### Removing from a list"
   ]
  },
  {
   "cell_type": "code",
   "execution_count": 144,
   "id": "556d170d",
   "metadata": {
    "ExecuteTime": {
     "end_time": "2023-07-30T16:44:33.597415Z",
     "start_time": "2023-07-30T16:44:33.592059Z"
    },
    "id": "556d170d"
   },
   "outputs": [],
   "source": [
    "# clear\n",
    "# pop\n",
    "# remove \n",
    "# del "
   ]
  },
  {
   "cell_type": "code",
   "execution_count": 145,
   "id": "6c65f97c",
   "metadata": {
    "ExecuteTime": {
     "end_time": "2023-07-30T16:44:33.812553Z",
     "start_time": "2023-07-30T16:44:33.807862Z"
    },
    "id": "6c65f97c",
    "outputId": "015122fc-63de-41bf-b830-331d56fe4325"
   },
   "outputs": [
    {
     "data": {
      "text/plain": [
       "['Thomas', 'James', 'Martha', 'Tisse']"
      ]
     },
     "execution_count": 145,
     "metadata": {},
     "output_type": "execute_result"
    }
   ],
   "source": [
    "# Clear \n",
    "last_sunday"
   ]
  },
  {
   "cell_type": "code",
   "execution_count": 146,
   "id": "5b2d4572",
   "metadata": {
    "ExecuteTime": {
     "end_time": "2023-07-30T16:44:34.061008Z",
     "start_time": "2023-07-30T16:44:34.057573Z"
    },
    "id": "5b2d4572"
   },
   "outputs": [],
   "source": [
    "last_sunday.clear() # Removes everything "
   ]
  },
  {
   "cell_type": "code",
   "execution_count": 147,
   "id": "13ae4566",
   "metadata": {
    "ExecuteTime": {
     "end_time": "2023-07-30T16:44:34.347969Z",
     "start_time": "2023-07-30T16:44:34.342311Z"
    },
    "id": "13ae4566",
    "outputId": "d835cd7b-26b2-4bd1-a252-136a773b6522"
   },
   "outputs": [
    {
     "data": {
      "text/plain": [
       "[]"
      ]
     },
     "execution_count": 147,
     "metadata": {},
     "output_type": "execute_result"
    }
   ],
   "source": [
    "last_sunday"
   ]
  },
  {
   "cell_type": "code",
   "execution_count": 148,
   "id": "d82321fc",
   "metadata": {
    "ExecuteTime": {
     "end_time": "2023-07-30T16:44:34.517937Z",
     "start_time": "2023-07-30T16:44:34.513155Z"
    },
    "id": "d82321fc"
   },
   "outputs": [],
   "source": [
    "# pop \n",
    "last_name = sunday_list.pop()"
   ]
  },
  {
   "cell_type": "code",
   "execution_count": 149,
   "id": "ed238410",
   "metadata": {
    "ExecuteTime": {
     "end_time": "2023-07-30T16:44:34.748739Z",
     "start_time": "2023-07-30T16:44:34.745167Z"
    },
    "id": "ed238410",
    "outputId": "fe6ee5dc-d113-4b5f-c52b-a3e4b0916a3c"
   },
   "outputs": [
    {
     "name": "stdout",
     "output_type": "stream",
     "text": [
      "Tisse\n"
     ]
    }
   ],
   "source": [
    "print(last_name)"
   ]
  },
  {
   "cell_type": "code",
   "execution_count": 150,
   "id": "364ea26f",
   "metadata": {
    "ExecuteTime": {
     "end_time": "2023-07-30T16:44:34.978951Z",
     "start_time": "2023-07-30T16:44:34.975022Z"
    },
    "id": "364ea26f"
   },
   "outputs": [],
   "source": [
    "any_name = sunday_list.pop(1)"
   ]
  },
  {
   "cell_type": "code",
   "execution_count": 151,
   "id": "27738a5a",
   "metadata": {
    "ExecuteTime": {
     "end_time": "2023-07-30T16:44:35.177618Z",
     "start_time": "2023-07-30T16:44:35.170827Z"
    },
    "id": "27738a5a",
    "outputId": "82eff8ff-61ff-45ab-b596-f034f8053cb7"
   },
   "outputs": [
    {
     "data": {
      "text/plain": [
       "'Pablo'"
      ]
     },
     "execution_count": 151,
     "metadata": {},
     "output_type": "execute_result"
    }
   ],
   "source": [
    "any_name"
   ]
  },
  {
   "cell_type": "code",
   "execution_count": 152,
   "id": "7400d63d",
   "metadata": {
    "ExecuteTime": {
     "end_time": "2023-07-30T16:44:35.407332Z",
     "start_time": "2023-07-30T16:44:35.403109Z"
    },
    "id": "7400d63d"
   },
   "outputs": [],
   "source": [
    "# remove\n",
    "sunday_list.remove('Samuel') "
   ]
  },
  {
   "cell_type": "code",
   "execution_count": 153,
   "id": "bfebac9f",
   "metadata": {
    "ExecuteTime": {
     "end_time": "2023-07-30T16:44:35.641715Z",
     "start_time": "2023-07-30T16:44:35.637115Z"
    },
    "id": "bfebac9f",
    "outputId": "6e844726-8916-4c55-9111-4c61a8fe061b"
   },
   "outputs": [
    {
     "name": "stdout",
     "output_type": "stream",
     "text": [
      "['Fayrooz', 'Sylvia', 'Polycap', 'Joyce', 'Ibrahim', 'Heak', 'Tomi', 'Ochanya', 'Thomas', 'James', 'Martha']\n"
     ]
    }
   ],
   "source": [
    "print(sunday_list)"
   ]
  },
  {
   "cell_type": "code",
   "execution_count": 154,
   "id": "2a529a96",
   "metadata": {
    "ExecuteTime": {
     "end_time": "2023-07-30T16:44:35.845188Z",
     "start_time": "2023-07-30T16:44:35.841682Z"
    },
    "id": "2a529a96"
   },
   "outputs": [],
   "source": [
    "# del\n",
    "del sunday_list[1]"
   ]
  },
  {
   "cell_type": "code",
   "execution_count": 155,
   "id": "698b1a76",
   "metadata": {
    "ExecuteTime": {
     "end_time": "2023-07-30T16:44:36.076432Z",
     "start_time": "2023-07-30T16:44:36.071514Z"
    },
    "id": "698b1a76",
    "outputId": "b0572c67-35c4-4e44-d101-5ae7ba64dceb"
   },
   "outputs": [
    {
     "name": "stdout",
     "output_type": "stream",
     "text": [
      "['Fayrooz', 'Polycap', 'Joyce', 'Ibrahim', 'Heak', 'Tomi', 'Ochanya', 'Thomas', 'James', 'Martha']\n"
     ]
    }
   ],
   "source": [
    "print(sunday_list) "
   ]
  },
  {
   "cell_type": "code",
   "execution_count": 156,
   "id": "2bc8c05f",
   "metadata": {
    "ExecuteTime": {
     "end_time": "2023-07-30T16:44:36.386532Z",
     "start_time": "2023-07-30T16:44:36.381384Z"
    },
    "id": "2bc8c05f"
   },
   "outputs": [],
   "source": [
    "sunday_list.insert(2, 'Joyce')"
   ]
  },
  {
   "cell_type": "code",
   "execution_count": 157,
   "id": "037e49c6",
   "metadata": {
    "ExecuteTime": {
     "end_time": "2023-07-30T16:44:37.102641Z",
     "start_time": "2023-07-30T16:44:37.098636Z"
    },
    "id": "037e49c6",
    "outputId": "414eaad5-3703-4b38-8e44-36f6e75e58e9"
   },
   "outputs": [
    {
     "name": "stdout",
     "output_type": "stream",
     "text": [
      "['Fayrooz', 'Polycap', 'Joyce', 'Joyce', 'Ibrahim', 'Heak', 'Tomi', 'Ochanya', 'Thomas', 'James', 'Martha']\n"
     ]
    }
   ],
   "source": [
    "print(sunday_list)"
   ]
  },
  {
   "cell_type": "code",
   "execution_count": 158,
   "id": "b8019706",
   "metadata": {
    "ExecuteTime": {
     "end_time": "2023-07-30T16:44:38.009872Z",
     "start_time": "2023-07-30T16:44:38.006865Z"
    },
    "id": "b8019706"
   },
   "outputs": [],
   "source": [
    "sunday_list.remove('Joyce') "
   ]
  },
  {
   "cell_type": "code",
   "execution_count": 159,
   "id": "dac83188",
   "metadata": {
    "ExecuteTime": {
     "end_time": "2023-07-30T16:44:38.676157Z",
     "start_time": "2023-07-30T16:44:38.668253Z"
    },
    "id": "dac83188",
    "outputId": "1dd31ad1-86e3-4d07-fe43-c21137b0e62e"
   },
   "outputs": [
    {
     "name": "stdout",
     "output_type": "stream",
     "text": [
      "['Fayrooz', 'Polycap', 'Joyce', 'Ibrahim', 'Heak', 'Tomi', 'Ochanya', 'Thomas', 'James', 'Martha']\n"
     ]
    }
   ],
   "source": [
    "print(sunday_list)"
   ]
  },
  {
   "cell_type": "code",
   "execution_count": 160,
   "id": "823c9054",
   "metadata": {
    "ExecuteTime": {
     "end_time": "2023-07-30T16:44:39.136281Z",
     "start_time": "2023-07-30T16:44:39.131769Z"
    },
    "id": "823c9054",
    "outputId": "8a022a9f-ea43-4b4d-b2ee-730936756c32"
   },
   "outputs": [
    {
     "data": {
      "text/plain": [
       "1"
      ]
     },
     "execution_count": 160,
     "metadata": {},
     "output_type": "execute_result"
    }
   ],
   "source": [
    "sunday_list.count('Joyce')"
   ]
  },
  {
   "cell_type": "code",
   "execution_count": 161,
   "id": "f0afb0e1",
   "metadata": {
    "ExecuteTime": {
     "end_time": "2023-07-30T16:44:39.365372Z",
     "start_time": "2023-07-30T16:44:39.360518Z"
    },
    "id": "f0afb0e1"
   },
   "outputs": [],
   "source": [
    "sunday_list_copy = sunday_list.copy() "
   ]
  },
  {
   "cell_type": "code",
   "execution_count": 162,
   "id": "7231dcc6",
   "metadata": {
    "ExecuteTime": {
     "end_time": "2023-07-30T16:44:39.503512Z",
     "start_time": "2023-07-30T16:44:39.499107Z"
    },
    "id": "7231dcc6",
    "outputId": "d8615810-fe08-419f-c43b-b04a2bdec5a2"
   },
   "outputs": [
    {
     "name": "stdout",
     "output_type": "stream",
     "text": [
      "['Fayrooz', 'Polycap', 'Joyce', 'Ibrahim', 'Heak', 'Tomi', 'Ochanya', 'Thomas', 'James', 'Martha']\n"
     ]
    }
   ],
   "source": [
    "print(sunday_list_copy)"
   ]
  },
  {
   "cell_type": "code",
   "execution_count": 163,
   "id": "1e01de7b",
   "metadata": {
    "ExecuteTime": {
     "end_time": "2023-07-30T16:44:39.668494Z",
     "start_time": "2023-07-30T16:44:39.664208Z"
    },
    "id": "1e01de7b"
   },
   "outputs": [],
   "source": [
    "sunday_list_copy.append('Joyce')"
   ]
  },
  {
   "cell_type": "code",
   "execution_count": 164,
   "id": "c1a76434",
   "metadata": {
    "ExecuteTime": {
     "end_time": "2023-07-30T16:44:39.804132Z",
     "start_time": "2023-07-30T16:44:39.800797Z"
    },
    "id": "c1a76434"
   },
   "outputs": [],
   "source": [
    "sunday_list_copy.remove('Joyce')"
   ]
  },
  {
   "cell_type": "code",
   "execution_count": 165,
   "id": "bf0bedec",
   "metadata": {
    "ExecuteTime": {
     "end_time": "2023-07-30T16:44:39.942012Z",
     "start_time": "2023-07-30T16:44:39.936219Z"
    },
    "id": "bf0bedec",
    "outputId": "6dbe2e66-1e9d-4c29-dbff-dc9440943177"
   },
   "outputs": [
    {
     "name": "stdout",
     "output_type": "stream",
     "text": [
      "['Fayrooz', 'Polycap', 'Ibrahim', 'Heak', 'Tomi', 'Ochanya', 'Thomas', 'James', 'Martha', 'Joyce']\n"
     ]
    }
   ],
   "source": [
    "print(sunday_list_copy)"
   ]
  },
  {
   "cell_type": "code",
   "execution_count": 166,
   "id": "a6f1c87d",
   "metadata": {
    "ExecuteTime": {
     "end_time": "2023-07-30T16:44:40.179826Z",
     "start_time": "2023-07-30T16:44:40.176607Z"
    },
    "id": "a6f1c87d"
   },
   "outputs": [],
   "source": [
    "i = sunday_list_copy.index('Fayrooz')"
   ]
  },
  {
   "cell_type": "code",
   "execution_count": 167,
   "id": "a7de5370",
   "metadata": {
    "ExecuteTime": {
     "end_time": "2023-07-30T16:44:40.689693Z",
     "start_time": "2023-07-30T16:44:40.683883Z"
    },
    "id": "a7de5370"
   },
   "outputs": [],
   "source": [
    "j = sunday_list_copy.index('Joyce')"
   ]
  },
  {
   "cell_type": "code",
   "execution_count": 168,
   "id": "dc8458c0",
   "metadata": {
    "ExecuteTime": {
     "end_time": "2023-07-30T16:44:41.380711Z",
     "start_time": "2023-07-30T16:44:41.377000Z"
    },
    "id": "dc8458c0"
   },
   "outputs": [],
   "source": [
    "sunday_list_copy[i], sunday_list_copy[j] = sunday_list_copy[j], sunday_list_copy[i]"
   ]
  },
  {
   "cell_type": "code",
   "execution_count": 169,
   "id": "c95a20ad",
   "metadata": {
    "ExecuteTime": {
     "end_time": "2023-07-30T16:44:41.984262Z",
     "start_time": "2023-07-30T16:44:41.980179Z"
    },
    "id": "c95a20ad",
    "outputId": "59c0e1f6-f3f8-447f-8a21-52ad3d9403e0"
   },
   "outputs": [
    {
     "name": "stdout",
     "output_type": "stream",
     "text": [
      "['Joyce', 'Polycap', 'Ibrahim', 'Heak', 'Tomi', 'Ochanya', 'Thomas', 'James', 'Martha', 'Fayrooz']\n"
     ]
    }
   ],
   "source": [
    "print(sunday_list_copy) "
   ]
  },
  {
   "cell_type": "markdown",
   "id": "731f28db",
   "metadata": {
    "id": "731f28db"
   },
   "source": [
    "### Sort a list"
   ]
  },
  {
   "cell_type": "code",
   "execution_count": 170,
   "id": "02136b19",
   "metadata": {
    "ExecuteTime": {
     "end_time": "2023-07-30T16:44:42.581236Z",
     "start_time": "2023-07-30T16:44:42.575354Z"
    },
    "id": "02136b19",
    "outputId": "c5e4161d-322a-4aed-a21a-e8768c4c4677"
   },
   "outputs": [
    {
     "data": {
      "text/plain": [
       "['Fayrooz',\n",
       " 'Polycap',\n",
       " 'Joyce',\n",
       " 'Ibrahim',\n",
       " 'Heak',\n",
       " 'Tomi',\n",
       " 'Ochanya',\n",
       " 'Thomas',\n",
       " 'James',\n",
       " 'Martha']"
      ]
     },
     "execution_count": 170,
     "metadata": {},
     "output_type": "execute_result"
    }
   ],
   "source": [
    "sunday_list"
   ]
  },
  {
   "cell_type": "code",
   "execution_count": 171,
   "id": "08665dde",
   "metadata": {
    "ExecuteTime": {
     "end_time": "2023-07-30T16:44:42.844411Z",
     "start_time": "2023-07-30T16:44:42.838167Z"
    },
    "id": "08665dde",
    "outputId": "46958bc4-c6f5-4038-b699-0612ffbece1d"
   },
   "outputs": [
    {
     "data": {
      "text/plain": [
       "['Joyce',\n",
       " 'Polycap',\n",
       " 'Ibrahim',\n",
       " 'Heak',\n",
       " 'Tomi',\n",
       " 'Ochanya',\n",
       " 'Thomas',\n",
       " 'James',\n",
       " 'Martha',\n",
       " 'Fayrooz']"
      ]
     },
     "execution_count": 171,
     "metadata": {},
     "output_type": "execute_result"
    }
   ],
   "source": [
    "sunday_list_copy"
   ]
  },
  {
   "cell_type": "code",
   "execution_count": 172,
   "id": "d8450bcc",
   "metadata": {
    "ExecuteTime": {
     "end_time": "2023-07-30T16:44:43.095083Z",
     "start_time": "2023-07-30T16:44:43.089143Z"
    },
    "id": "d8450bcc"
   },
   "outputs": [],
   "source": [
    "sunday_list_copy.sort() # Sorting a list"
   ]
  },
  {
   "cell_type": "code",
   "execution_count": 173,
   "id": "3786c264",
   "metadata": {
    "ExecuteTime": {
     "end_time": "2023-07-30T16:44:43.341352Z",
     "start_time": "2023-07-30T16:44:43.335770Z"
    },
    "id": "3786c264",
    "outputId": "98808894-f20a-49f7-a599-93bc986da330"
   },
   "outputs": [
    {
     "data": {
      "text/plain": [
       "['Fayrooz',\n",
       " 'Heak',\n",
       " 'Ibrahim',\n",
       " 'James',\n",
       " 'Joyce',\n",
       " 'Martha',\n",
       " 'Ochanya',\n",
       " 'Polycap',\n",
       " 'Thomas',\n",
       " 'Tomi']"
      ]
     },
     "execution_count": 173,
     "metadata": {},
     "output_type": "execute_result"
    }
   ],
   "source": [
    "sunday_list_copy"
   ]
  },
  {
   "cell_type": "code",
   "execution_count": 174,
   "id": "b6076c90",
   "metadata": {
    "ExecuteTime": {
     "end_time": "2023-07-30T16:44:43.628692Z",
     "start_time": "2023-07-30T16:44:43.624291Z"
    },
    "id": "b6076c90"
   },
   "outputs": [],
   "source": [
    "list_numbers = [23,86, 54, 12, 9, 99, 76, 45] "
   ]
  },
  {
   "cell_type": "code",
   "execution_count": 175,
   "id": "a480ebb5",
   "metadata": {
    "ExecuteTime": {
     "end_time": "2023-07-30T16:44:43.890196Z",
     "start_time": "2023-07-30T16:44:43.885296Z"
    },
    "id": "a480ebb5"
   },
   "outputs": [],
   "source": [
    "list_numbers_1 = list_numbers.copy()"
   ]
  },
  {
   "cell_type": "code",
   "execution_count": 176,
   "id": "ababa7a0",
   "metadata": {
    "ExecuteTime": {
     "end_time": "2023-07-30T16:44:44.160043Z",
     "start_time": "2023-07-30T16:44:44.154867Z"
    },
    "id": "ababa7a0",
    "outputId": "178184d7-c83c-47c1-d609-3c24a3b64010"
   },
   "outputs": [
    {
     "data": {
      "text/plain": [
       "[23, 86, 54, 12, 9, 99, 76, 45]"
      ]
     },
     "execution_count": 176,
     "metadata": {},
     "output_type": "execute_result"
    }
   ],
   "source": [
    "list_numbers_1"
   ]
  },
  {
   "cell_type": "code",
   "execution_count": 177,
   "id": "8c081fc4",
   "metadata": {
    "ExecuteTime": {
     "end_time": "2023-07-30T16:44:44.391764Z",
     "start_time": "2023-07-30T16:44:44.383161Z"
    },
    "id": "8c081fc4"
   },
   "outputs": [],
   "source": [
    "list_numbers_1.sort() "
   ]
  },
  {
   "cell_type": "code",
   "execution_count": 178,
   "id": "1c3dddf0",
   "metadata": {
    "ExecuteTime": {
     "end_time": "2023-07-30T16:44:44.631049Z",
     "start_time": "2023-07-30T16:44:44.616015Z"
    },
    "id": "1c3dddf0",
    "outputId": "a9be2c8f-d396-495c-b57a-85419bc9c517"
   },
   "outputs": [
    {
     "data": {
      "text/plain": [
       "[9, 12, 23, 45, 54, 76, 86, 99]"
      ]
     },
     "execution_count": 178,
     "metadata": {},
     "output_type": "execute_result"
    }
   ],
   "source": [
    "list_numbers_1"
   ]
  },
  {
   "cell_type": "markdown",
   "id": "3fb08f6f",
   "metadata": {
    "id": "3fb08f6f"
   },
   "source": [
    "### Sorted() to sort a list"
   ]
  },
  {
   "cell_type": "code",
   "execution_count": 179,
   "id": "c0c85919",
   "metadata": {
    "ExecuteTime": {
     "end_time": "2023-07-30T16:44:45.326854Z",
     "start_time": "2023-07-30T16:44:45.323086Z"
    },
    "id": "c0c85919",
    "outputId": "31f2f7e0-09fe-4e89-91e9-2fd1c4f4f5d2"
   },
   "outputs": [
    {
     "name": "stdout",
     "output_type": "stream",
     "text": [
      "[9, 12, 23, 45, 54, 76, 86, 99]\n"
     ]
    }
   ],
   "source": [
    "print(sorted(list_numbers))"
   ]
  },
  {
   "cell_type": "code",
   "execution_count": 180,
   "id": "453025c9",
   "metadata": {
    "ExecuteTime": {
     "end_time": "2023-07-30T16:44:45.595980Z",
     "start_time": "2023-07-30T16:44:45.589151Z"
    },
    "id": "453025c9",
    "outputId": "86558856-a61d-4890-b49c-11d3e548c647"
   },
   "outputs": [
    {
     "data": {
      "text/plain": [
       "[23, 86, 54, 12, 9, 99, 76, 45]"
      ]
     },
     "execution_count": 180,
     "metadata": {},
     "output_type": "execute_result"
    }
   ],
   "source": [
    "list_numbers"
   ]
  },
  {
   "cell_type": "markdown",
   "id": "60a318e7",
   "metadata": {
    "id": "60a318e7"
   },
   "source": [
    "### Slicing a list"
   ]
  },
  {
   "cell_type": "code",
   "execution_count": 181,
   "id": "938c0d98",
   "metadata": {
    "ExecuteTime": {
     "end_time": "2023-07-30T16:44:46.048939Z",
     "start_time": "2023-07-30T16:44:46.042913Z"
    },
    "id": "938c0d98",
    "outputId": "6d2ac056-c046-442e-df22-0d2a787d76a6"
   },
   "outputs": [
    {
     "data": {
      "text/plain": [
       "[23, 86, 54, 12, 9]"
      ]
     },
     "execution_count": 181,
     "metadata": {},
     "output_type": "execute_result"
    }
   ],
   "source": [
    "list_numbers[0:5]"
   ]
  },
  {
   "cell_type": "code",
   "execution_count": 182,
   "id": "803385d1",
   "metadata": {
    "ExecuteTime": {
     "end_time": "2023-07-30T16:44:46.278806Z",
     "start_time": "2023-07-30T16:44:46.269706Z"
    },
    "id": "803385d1",
    "outputId": "0a7751b7-40c5-4eab-8270-96f95a1f767f"
   },
   "outputs": [
    {
     "data": {
      "text/plain": [
       "[86, 54, 12, 9]"
      ]
     },
     "execution_count": 182,
     "metadata": {},
     "output_type": "execute_result"
    }
   ],
   "source": [
    "list_numbers[1:5]"
   ]
  },
  {
   "cell_type": "code",
   "execution_count": 183,
   "id": "6a23d054",
   "metadata": {
    "ExecuteTime": {
     "end_time": "2023-07-30T16:44:46.524215Z",
     "start_time": "2023-07-30T16:44:46.518397Z"
    },
    "id": "6a23d054",
    "outputId": "f94039df-26ff-4b59-b9ea-2ca2a43c5972"
   },
   "outputs": [
    {
     "data": {
      "text/plain": [
       "[23, 86, 54, 12, 9]"
      ]
     },
     "execution_count": 183,
     "metadata": {},
     "output_type": "execute_result"
    }
   ],
   "source": [
    "list_numbers[:5]"
   ]
  },
  {
   "cell_type": "code",
   "execution_count": 184,
   "id": "d87fb1cd",
   "metadata": {
    "ExecuteTime": {
     "end_time": "2023-07-30T16:44:46.768020Z",
     "start_time": "2023-07-30T16:44:46.761635Z"
    },
    "id": "d87fb1cd",
    "outputId": "95d8e95a-d4d8-47d3-e768-f43153c812c0"
   },
   "outputs": [
    {
     "data": {
      "text/plain": [
       "[23, 86, 54, 12, 9]"
      ]
     },
     "execution_count": 184,
     "metadata": {},
     "output_type": "execute_result"
    }
   ],
   "source": [
    "list_numbers[:-3]"
   ]
  },
  {
   "cell_type": "code",
   "execution_count": 185,
   "id": "430ca467",
   "metadata": {
    "ExecuteTime": {
     "end_time": "2023-07-30T16:44:47.001170Z",
     "start_time": "2023-07-30T16:44:46.995339Z"
    },
    "id": "430ca467",
    "outputId": "318ea791-2b0a-4f39-c4e1-29fe05d33d4e"
   },
   "outputs": [
    {
     "data": {
      "text/plain": [
       "['Fayrooz',\n",
       " 'Polycap',\n",
       " 'Joyce',\n",
       " 'Ibrahim',\n",
       " 'Heak',\n",
       " 'Tomi',\n",
       " 'Ochanya',\n",
       " 'Thomas',\n",
       " 'James',\n",
       " 'Martha']"
      ]
     },
     "execution_count": 185,
     "metadata": {},
     "output_type": "execute_result"
    }
   ],
   "source": [
    "sunday_list"
   ]
  },
  {
   "cell_type": "code",
   "execution_count": 186,
   "id": "d20402a8",
   "metadata": {
    "ExecuteTime": {
     "end_time": "2023-07-30T16:44:47.228866Z",
     "start_time": "2023-07-30T16:44:47.222151Z"
    },
    "id": "d20402a8",
    "outputId": "68543f0f-be92-4817-ca32-d818cf1c5b45"
   },
   "outputs": [
    {
     "data": {
      "text/plain": [
       "['Fayrooz', 'Polycap', 'Joyce', 'Ibrahim', 'Heak', 'Tomi', 'Ochanya']"
      ]
     },
     "execution_count": 186,
     "metadata": {},
     "output_type": "execute_result"
    }
   ],
   "source": [
    "sunday_list[:-3]"
   ]
  },
  {
   "cell_type": "code",
   "execution_count": 187,
   "id": "a995cf26",
   "metadata": {
    "ExecuteTime": {
     "end_time": "2023-07-30T16:44:47.468289Z",
     "start_time": "2023-07-30T16:44:47.462410Z"
    },
    "id": "a995cf26"
   },
   "outputs": [],
   "source": [
    "# dawood.taoheed94@gmail.com - Share notebook"
   ]
  },
  {
   "cell_type": "code",
   "execution_count": 188,
   "id": "18542e99",
   "metadata": {
    "ExecuteTime": {
     "end_time": "2023-07-30T16:44:47.687667Z",
     "start_time": "2023-07-30T16:44:47.679908Z"
    },
    "id": "18542e99",
    "outputId": "2d6e2a3f-cb4a-426a-a541-11d3df8824b3"
   },
   "outputs": [
    {
     "data": {
      "text/plain": [
       "['Joyce', 'Ibrahim', 'Heak', 'Tomi', 'Ochanya']"
      ]
     },
     "execution_count": 188,
     "metadata": {},
     "output_type": "execute_result"
    }
   ],
   "source": [
    "sunday_list[2:-3]"
   ]
  },
  {
   "cell_type": "markdown",
   "id": "60f21e2e",
   "metadata": {
    "id": "60f21e2e"
   },
   "source": [
    "### Copying a list"
   ]
  },
  {
   "cell_type": "code",
   "execution_count": 189,
   "id": "b3d8a671",
   "metadata": {
    "ExecuteTime": {
     "end_time": "2023-07-30T16:44:48.146780Z",
     "start_time": "2023-07-30T16:44:48.142069Z"
    },
    "id": "b3d8a671"
   },
   "outputs": [],
   "source": [
    "sunday_list_1 = sunday_list[:]"
   ]
  },
  {
   "cell_type": "code",
   "execution_count": 190,
   "id": "b3d16e35",
   "metadata": {
    "ExecuteTime": {
     "end_time": "2023-07-30T16:44:48.384947Z",
     "start_time": "2023-07-30T16:44:48.376636Z"
    },
    "id": "b3d16e35",
    "outputId": "a0222ed2-e583-4fa0-82ce-60276deb897e"
   },
   "outputs": [
    {
     "data": {
      "text/plain": [
       "['Fayrooz',\n",
       " 'Polycap',\n",
       " 'Joyce',\n",
       " 'Ibrahim',\n",
       " 'Heak',\n",
       " 'Tomi',\n",
       " 'Ochanya',\n",
       " 'Thomas',\n",
       " 'James',\n",
       " 'Martha']"
      ]
     },
     "execution_count": 190,
     "metadata": {},
     "output_type": "execute_result"
    }
   ],
   "source": [
    "sunday_list_1"
   ]
  },
  {
   "cell_type": "markdown",
   "id": "88bde1d9",
   "metadata": {
    "ExecuteTime": {
     "end_time": "2023-04-16T18:35:22.128902Z",
     "start_time": "2023-04-16T18:35:22.111906Z"
    },
    "id": "88bde1d9"
   },
   "source": [
    "### List Comprehension "
   ]
  },
  {
   "cell_type": "code",
   "execution_count": 191,
   "id": "1d3e31b6",
   "metadata": {
    "ExecuteTime": {
     "end_time": "2023-07-30T16:44:48.835008Z",
     "start_time": "2023-07-30T16:44:48.831088Z"
    },
    "id": "1d3e31b6"
   },
   "outputs": [],
   "source": [
    "even_numbers = list(range(0, 11, 2))"
   ]
  },
  {
   "cell_type": "code",
   "execution_count": 192,
   "id": "922bd6da",
   "metadata": {
    "ExecuteTime": {
     "end_time": "2023-07-30T16:44:49.082231Z",
     "start_time": "2023-07-30T16:44:49.074352Z"
    },
    "id": "922bd6da",
    "outputId": "e1754d83-dce0-4a30-8bbd-8bed4d8fae3d"
   },
   "outputs": [
    {
     "name": "stdout",
     "output_type": "stream",
     "text": [
      "[0, 2, 4, 6, 8, 10]\n"
     ]
    }
   ],
   "source": [
    "print(even_numbers)"
   ]
  },
  {
   "cell_type": "markdown",
   "id": "b91aa9cf",
   "metadata": {
    "id": "b91aa9cf"
   },
   "source": [
    "### Writing a for loop"
   ]
  },
  {
   "cell_type": "code",
   "execution_count": 193,
   "id": "0a72e84d",
   "metadata": {
    "ExecuteTime": {
     "end_time": "2023-07-30T16:44:49.533050Z",
     "start_time": "2023-07-30T16:44:49.528464Z"
    },
    "id": "0a72e84d",
    "outputId": "5be5b1f4-dbbd-42ff-e00e-9ad3b06f6047"
   },
   "outputs": [
    {
     "name": "stdout",
     "output_type": "stream",
     "text": [
      "0\n",
      "4\n",
      "16\n",
      "36\n",
      "64\n",
      "100\n"
     ]
    }
   ],
   "source": [
    "for num in even_numbers: \n",
    "    print(num ** 2)"
   ]
  },
  {
   "cell_type": "code",
   "execution_count": 194,
   "id": "18400fab",
   "metadata": {
    "ExecuteTime": {
     "end_time": "2023-07-30T16:44:49.770877Z",
     "start_time": "2023-07-30T16:44:49.765643Z"
    },
    "id": "18400fab",
    "outputId": "f2e760bc-bb23-4cda-bcfc-362660f5d75d"
   },
   "outputs": [
    {
     "name": "stdout",
     "output_type": "stream",
     "text": [
      "fayrooz\n",
      "polycap\n",
      "joyce\n",
      "ibrahim\n",
      "heak\n",
      "tomi\n",
      "ochanya\n",
      "thomas\n",
      "james\n",
      "martha\n"
     ]
    }
   ],
   "source": [
    "for names in sunday_list:\n",
    "    print(names.lower())"
   ]
  },
  {
   "cell_type": "code",
   "execution_count": 195,
   "id": "6ab8ef28",
   "metadata": {
    "ExecuteTime": {
     "end_time": "2023-07-30T16:44:50.021797Z",
     "start_time": "2023-07-30T16:44:50.014569Z"
    },
    "id": "6ab8ef28",
    "outputId": "61ddfdbd-a218-4d05-be92-f419c1953ca6"
   },
   "outputs": [
    {
     "name": "stdout",
     "output_type": "stream",
     "text": [
      "[1, 4, 9, 16, 25, 36, 49, 64, 81, 100, 121, 144, 169, 196, 225, 256, 289, 324, 361, 400]\n"
     ]
    }
   ],
   "source": [
    "squares = []\n",
    "for value in range(1, 21):\n",
    "    square = value ** 2 \n",
    "    squares.append(square)\n",
    "print(squares)"
   ]
  },
  {
   "cell_type": "code",
   "execution_count": 196,
   "id": "ebc21690",
   "metadata": {
    "ExecuteTime": {
     "end_time": "2023-07-30T16:44:50.257542Z",
     "start_time": "2023-07-30T16:44:50.251716Z"
    },
    "id": "ebc21690"
   },
   "outputs": [],
   "source": [
    "squares = [value ** 2 for value in range(1,21)] # List comprehension "
   ]
  },
  {
   "cell_type": "code",
   "execution_count": 197,
   "id": "9841e361",
   "metadata": {
    "ExecuteTime": {
     "end_time": "2023-07-30T16:44:50.471851Z",
     "start_time": "2023-07-30T16:44:50.467493Z"
    },
    "id": "9841e361",
    "outputId": "c533b1ad-22d1-46af-e7cc-4202e3523c9b"
   },
   "outputs": [
    {
     "name": "stdout",
     "output_type": "stream",
     "text": [
      "[1, 4, 9, 16, 25, 36, 49, 64, 81, 100, 121, 144, 169, 196, 225, 256, 289, 324, 361, 400]\n"
     ]
    }
   ],
   "source": [
    "print(squares)"
   ]
  },
  {
   "cell_type": "markdown",
   "id": "3d6ae6a5",
   "metadata": {
    "id": "3d6ae6a5"
   },
   "source": [
    "### Errors when working with lists"
   ]
  },
  {
   "cell_type": "code",
   "execution_count": 198,
   "id": "7acb345a",
   "metadata": {
    "ExecuteTime": {
     "end_time": "2023-07-30T16:44:50.954911Z",
     "start_time": "2023-07-30T16:44:50.947417Z"
    },
    "id": "7acb345a",
    "outputId": "f3a8fead-1e71-470a-df81-7de03fcbafea"
   },
   "outputs": [
    {
     "name": "stdout",
     "output_type": "stream",
     "text": [
      "[1, 4, 9, 16, 25, 36, 49, 64, 81, 100, 121, 144, 169, 196, 225, 256, 289, 324, 361, 400]\n"
     ]
    }
   ],
   "source": [
    "print(squares)"
   ]
  },
  {
   "cell_type": "code",
   "execution_count": 199,
   "id": "c81a4e99",
   "metadata": {
    "ExecuteTime": {
     "end_time": "2023-07-30T16:44:51.209709Z",
     "start_time": "2023-07-30T16:44:51.185143Z"
    },
    "id": "c81a4e99",
    "outputId": "2adc725c-5037-4e6b-8802-1c14e35f10f4"
   },
   "outputs": [
    {
     "ename": "IndexError",
     "evalue": "list index out of range",
     "output_type": "error",
     "traceback": [
      "\u001b[0;31m---------------------------------------------------------------------------\u001b[0m",
      "\u001b[0;31mIndexError\u001b[0m                                Traceback (most recent call last)",
      "Cell \u001b[0;32mIn[199], line 1\u001b[0m\n\u001b[0;32m----> 1\u001b[0m \u001b[38;5;28mprint\u001b[39m(\u001b[43msquares\u001b[49m\u001b[43m[\u001b[49m\u001b[38;5;241;43m24\u001b[39;49m\u001b[43m]\u001b[49m)\n",
      "\u001b[0;31mIndexError\u001b[0m: list index out of range"
     ]
    }
   ],
   "source": [
    "print(squares[24])"
   ]
  },
  {
   "cell_type": "code",
   "execution_count": 200,
   "id": "8f30faba",
   "metadata": {
    "ExecuteTime": {
     "end_time": "2023-07-30T16:44:51.417012Z",
     "start_time": "2023-07-30T16:44:51.406861Z"
    },
    "id": "8f30faba",
    "outputId": "b785df1d-1851-4f3b-87c1-51c3468c593d"
   },
   "outputs": [
    {
     "data": {
      "text/plain": [
       "20"
      ]
     },
     "execution_count": 200,
     "metadata": {},
     "output_type": "execute_result"
    }
   ],
   "source": [
    "len(squares)"
   ]
  },
  {
   "cell_type": "markdown",
   "id": "d835960c",
   "metadata": {
    "id": "d835960c"
   },
   "source": [
    "## Tuple"
   ]
  },
  {
   "cell_type": "code",
   "execution_count": 201,
   "id": "1a55727c",
   "metadata": {
    "ExecuteTime": {
     "end_time": "2023-07-30T16:44:51.851367Z",
     "start_time": "2023-07-30T16:44:51.847541Z"
    },
    "id": "1a55727c"
   },
   "outputs": [],
   "source": [
    "# A Tuple is immutable - Elements in a tuple can't be modified \n",
    "# It is created using ()\n",
    "# Elements in tuple are sequenced\n",
    "# A use case for storing data in a tuple - Integrity"
   ]
  },
  {
   "cell_type": "code",
   "execution_count": 202,
   "id": "e3e26e32",
   "metadata": {
    "ExecuteTime": {
     "end_time": "2023-07-30T16:44:52.088066Z",
     "start_time": "2023-07-30T16:44:52.082976Z"
    },
    "id": "e3e26e32"
   },
   "outputs": [],
   "source": [
    "# Lists\n",
    "# Tuples\n",
    "# Sets\n",
    "# Dictionaries "
   ]
  },
  {
   "cell_type": "markdown",
   "id": "5467a502",
   "metadata": {
    "id": "5467a502"
   },
   "source": [
    "### Create a tuple"
   ]
  },
  {
   "cell_type": "code",
   "execution_count": 203,
   "id": "fe3d7a61",
   "metadata": {
    "ExecuteTime": {
     "end_time": "2023-07-30T16:44:52.547083Z",
     "start_time": "2023-07-30T16:44:52.542664Z"
    },
    "id": "fe3d7a61"
   },
   "outputs": [],
   "source": [
    "# Using a tuple function\n",
    "squares_t = tuple(squares)"
   ]
  },
  {
   "cell_type": "code",
   "execution_count": 204,
   "id": "000ccca8",
   "metadata": {
    "ExecuteTime": {
     "end_time": "2023-07-30T16:44:52.804634Z",
     "start_time": "2023-07-30T16:44:52.798582Z"
    },
    "id": "000ccca8",
    "outputId": "db332b01-925a-43ad-b9aa-996a01e8707d"
   },
   "outputs": [
    {
     "data": {
      "text/plain": [
       "list"
      ]
     },
     "execution_count": 204,
     "metadata": {},
     "output_type": "execute_result"
    }
   ],
   "source": [
    "type(squares)"
   ]
  },
  {
   "cell_type": "code",
   "execution_count": 205,
   "id": "21d030af",
   "metadata": {
    "ExecuteTime": {
     "end_time": "2023-07-30T16:44:53.031951Z",
     "start_time": "2023-07-30T16:44:53.023327Z"
    },
    "id": "21d030af",
    "outputId": "48cb882d-f999-4f80-c9b1-3775eff2eea2"
   },
   "outputs": [
    {
     "name": "stdout",
     "output_type": "stream",
     "text": [
      "[1, 4, 9, 16, 25, 36, 49, 64, 81, 100, 121, 144, 169, 196, 225, 256, 289, 324, 361, 400]\n"
     ]
    }
   ],
   "source": [
    "print(squares)"
   ]
  },
  {
   "cell_type": "code",
   "execution_count": 206,
   "id": "5c8af5dc",
   "metadata": {
    "ExecuteTime": {
     "end_time": "2023-07-30T16:44:53.255755Z",
     "start_time": "2023-07-30T16:44:53.245629Z"
    },
    "id": "5c8af5dc",
    "outputId": "692c1787-1503-4851-fe02-def19e03af80"
   },
   "outputs": [
    {
     "data": {
      "text/plain": [
       "tuple"
      ]
     },
     "execution_count": 206,
     "metadata": {},
     "output_type": "execute_result"
    }
   ],
   "source": [
    "type(squares_t)"
   ]
  },
  {
   "cell_type": "code",
   "execution_count": 207,
   "id": "01973025",
   "metadata": {
    "ExecuteTime": {
     "end_time": "2023-07-30T16:44:53.479004Z",
     "start_time": "2023-07-30T16:44:53.475827Z"
    },
    "id": "01973025",
    "outputId": "e08906ed-fc70-4b04-b69d-87483c6f0ce3"
   },
   "outputs": [
    {
     "name": "stdout",
     "output_type": "stream",
     "text": [
      "(1, 4, 9, 16, 25, 36, 49, 64, 81, 100, 121, 144, 169, 196, 225, 256, 289, 324, 361, 400)\n"
     ]
    }
   ],
   "source": [
    "print(squares_t)"
   ]
  },
  {
   "cell_type": "code",
   "execution_count": 208,
   "id": "a0760a24",
   "metadata": {
    "ExecuteTime": {
     "end_time": "2023-07-30T16:44:53.704894Z",
     "start_time": "2023-07-30T16:44:53.701978Z"
    },
    "id": "a0760a24"
   },
   "outputs": [],
   "source": [
    "tuple_numbers = (2,3,4,5,6,7,8,9)"
   ]
  },
  {
   "cell_type": "code",
   "execution_count": 209,
   "id": "4a292601",
   "metadata": {
    "ExecuteTime": {
     "end_time": "2023-07-30T16:44:53.958888Z",
     "start_time": "2023-07-30T16:44:53.954376Z"
    },
    "id": "4a292601",
    "outputId": "b84e20f3-55c4-4fbb-eb87-ed98fe4e165a"
   },
   "outputs": [
    {
     "data": {
      "text/plain": [
       "(2, 3, 4, 5, 6, 7, 8, 9)"
      ]
     },
     "execution_count": 209,
     "metadata": {},
     "output_type": "execute_result"
    }
   ],
   "source": [
    "tuple_numbers"
   ]
  },
  {
   "cell_type": "code",
   "execution_count": 210,
   "id": "3aed6fde",
   "metadata": {
    "ExecuteTime": {
     "end_time": "2023-07-30T16:44:54.171287Z",
     "start_time": "2023-07-30T16:44:54.164902Z"
    },
    "id": "3aed6fde",
    "outputId": "39a7026d-d7cb-4711-d80f-85974b258137"
   },
   "outputs": [
    {
     "data": {
      "text/plain": [
       "16"
      ]
     },
     "execution_count": 210,
     "metadata": {},
     "output_type": "execute_result"
    }
   ],
   "source": [
    "squares[3]"
   ]
  },
  {
   "cell_type": "code",
   "execution_count": 211,
   "id": "2d4e52a3",
   "metadata": {
    "ExecuteTime": {
     "end_time": "2023-07-30T16:44:54.415142Z",
     "start_time": "2023-07-30T16:44:54.405364Z"
    },
    "id": "2d4e52a3",
    "outputId": "9fa90887-bd39-42bd-fee9-06deb119497c"
   },
   "outputs": [
    {
     "data": {
      "text/plain": [
       "16"
      ]
     },
     "execution_count": 211,
     "metadata": {},
     "output_type": "execute_result"
    }
   ],
   "source": [
    "squares_t[3]"
   ]
  },
  {
   "cell_type": "markdown",
   "id": "4d5ef663",
   "metadata": {
    "id": "4d5ef663"
   },
   "source": [
    "### Methods for tuples"
   ]
  },
  {
   "cell_type": "code",
   "execution_count": 212,
   "id": "74f7a0d2",
   "metadata": {
    "ExecuteTime": {
     "end_time": "2023-07-30T16:44:54.889404Z",
     "start_time": "2023-07-30T16:44:54.879687Z"
    },
    "id": "74f7a0d2",
    "outputId": "19327b93-4c0c-49e1-f7c1-be157742b306"
   },
   "outputs": [
    {
     "data": {
      "text/plain": [
       "['__add__',\n",
       " '__class__',\n",
       " '__class_getitem__',\n",
       " '__contains__',\n",
       " '__delattr__',\n",
       " '__dir__',\n",
       " '__doc__',\n",
       " '__eq__',\n",
       " '__format__',\n",
       " '__ge__',\n",
       " '__getattribute__',\n",
       " '__getitem__',\n",
       " '__getnewargs__',\n",
       " '__gt__',\n",
       " '__hash__',\n",
       " '__init__',\n",
       " '__init_subclass__',\n",
       " '__iter__',\n",
       " '__le__',\n",
       " '__len__',\n",
       " '__lt__',\n",
       " '__mul__',\n",
       " '__ne__',\n",
       " '__new__',\n",
       " '__reduce__',\n",
       " '__reduce_ex__',\n",
       " '__repr__',\n",
       " '__rmul__',\n",
       " '__setattr__',\n",
       " '__sizeof__',\n",
       " '__str__',\n",
       " '__subclasshook__',\n",
       " 'count',\n",
       " 'index']"
      ]
     },
     "execution_count": 212,
     "metadata": {},
     "output_type": "execute_result"
    }
   ],
   "source": [
    "dir(squares_t)"
   ]
  },
  {
   "cell_type": "code",
   "execution_count": 213,
   "id": "ac51227a",
   "metadata": {
    "ExecuteTime": {
     "end_time": "2023-07-30T16:44:55.122449Z",
     "start_time": "2023-07-30T16:44:55.116194Z"
    },
    "id": "ac51227a",
    "outputId": "bf3d31f7-4fcd-492f-ac78-089c0f562ce0"
   },
   "outputs": [
    {
     "data": {
      "text/plain": [
       "8"
      ]
     },
     "execution_count": 213,
     "metadata": {},
     "output_type": "execute_result"
    }
   ],
   "source": [
    "3 + 5 "
   ]
  },
  {
   "cell_type": "code",
   "execution_count": 214,
   "id": "2bc93ba7",
   "metadata": {
    "ExecuteTime": {
     "end_time": "2023-07-30T16:44:55.423619Z",
     "start_time": "2023-07-30T16:44:55.412313Z"
    },
    "id": "2bc93ba7",
    "outputId": "2defb3b1-fd9b-4f7d-a262-df8da8053e0f"
   },
   "outputs": [
    {
     "data": {
      "text/plain": [
       "8"
      ]
     },
     "execution_count": 214,
     "metadata": {},
     "output_type": "execute_result"
    }
   ],
   "source": [
    "(3) .__add__ (5)"
   ]
  },
  {
   "cell_type": "markdown",
   "id": "09d352e8",
   "metadata": {
    "id": "09d352e8"
   },
   "source": [
    "### Tuple Methods\n",
    "\n",
    "'count',\n",
    " 'index'"
   ]
  },
  {
   "cell_type": "code",
   "execution_count": 215,
   "id": "30843145",
   "metadata": {
    "ExecuteTime": {
     "end_time": "2023-07-30T16:44:55.897243Z",
     "start_time": "2023-07-30T16:44:55.880193Z"
    },
    "id": "30843145",
    "outputId": "91faa934-92d8-4cb7-d72d-c70edc7a5f98"
   },
   "outputs": [
    {
     "data": {
      "text/plain": [
       "1"
      ]
     },
     "execution_count": 215,
     "metadata": {},
     "output_type": "execute_result"
    }
   ],
   "source": [
    "squares_t.count(64)"
   ]
  },
  {
   "cell_type": "code",
   "execution_count": 216,
   "id": "65728c23",
   "metadata": {
    "ExecuteTime": {
     "end_time": "2023-07-30T16:44:56.135068Z",
     "start_time": "2023-07-30T16:44:56.128806Z"
    },
    "id": "65728c23",
    "outputId": "992c2d4f-491f-48f7-feec-48db97a3fb79"
   },
   "outputs": [
    {
     "data": {
      "text/plain": [
       "7"
      ]
     },
     "execution_count": 216,
     "metadata": {},
     "output_type": "execute_result"
    }
   ],
   "source": [
    "squares_t.index(64)"
   ]
  },
  {
   "cell_type": "code",
   "execution_count": 217,
   "id": "7b587ef8",
   "metadata": {
    "ExecuteTime": {
     "end_time": "2023-07-30T16:44:56.336250Z",
     "start_time": "2023-07-30T16:44:56.330117Z"
    },
    "id": "7b587ef8",
    "outputId": "561dfce7-c82c-422c-a871-6ee06f125313"
   },
   "outputs": [
    {
     "data": {
      "text/plain": [
       "(2, 3, 4, 5, 6, 7, 8, 9)"
      ]
     },
     "execution_count": 217,
     "metadata": {},
     "output_type": "execute_result"
    }
   ],
   "source": [
    "# Try to modify \n",
    "tuple_numbers"
   ]
  },
  {
   "cell_type": "code",
   "execution_count": 218,
   "id": "02cfa2ba",
   "metadata": {
    "ExecuteTime": {
     "end_time": "2023-07-30T16:44:56.593982Z",
     "start_time": "2023-07-30T16:44:56.572347Z"
    },
    "id": "02cfa2ba",
    "outputId": "a97cd0ce-3422-41dd-8383-5e704b48d5df"
   },
   "outputs": [
    {
     "ename": "TypeError",
     "evalue": "'tuple' object does not support item assignment",
     "output_type": "error",
     "traceback": [
      "\u001b[0;31m---------------------------------------------------------------------------\u001b[0m",
      "\u001b[0;31mTypeError\u001b[0m                                 Traceback (most recent call last)",
      "Cell \u001b[0;32mIn[218], line 1\u001b[0m\n\u001b[0;32m----> 1\u001b[0m tuple_numbers[\u001b[38;5;241m7\u001b[39m] \u001b[38;5;241m=\u001b[39m \u001b[38;5;241m10\u001b[39m\n",
      "\u001b[0;31mTypeError\u001b[0m: 'tuple' object does not support item assignment"
     ]
    }
   ],
   "source": [
    "tuple_numbers[7] = 10 "
   ]
  },
  {
   "cell_type": "code",
   "execution_count": 219,
   "id": "0ba4414e",
   "metadata": {
    "ExecuteTime": {
     "end_time": "2023-07-30T16:44:56.806868Z",
     "start_time": "2023-07-30T16:44:56.803054Z"
    },
    "id": "0ba4414e"
   },
   "outputs": [],
   "source": [
    "tuple_numbers_list = list(tuple_numbers)"
   ]
  },
  {
   "cell_type": "code",
   "execution_count": 220,
   "id": "9245e7c2",
   "metadata": {
    "ExecuteTime": {
     "end_time": "2023-07-30T16:44:57.023036Z",
     "start_time": "2023-07-30T16:44:57.017183Z"
    },
    "id": "9245e7c2",
    "outputId": "80483736-645b-439f-efa4-947e852f1c7c"
   },
   "outputs": [
    {
     "data": {
      "text/plain": [
       "[2, 3, 4, 5, 6, 7, 8, 9]"
      ]
     },
     "execution_count": 220,
     "metadata": {},
     "output_type": "execute_result"
    }
   ],
   "source": [
    "tuple_numbers_list"
   ]
  },
  {
   "cell_type": "code",
   "execution_count": 221,
   "id": "d8ce509d",
   "metadata": {
    "ExecuteTime": {
     "end_time": "2023-07-30T16:44:57.265105Z",
     "start_time": "2023-07-30T16:44:57.248973Z"
    },
    "id": "d8ce509d"
   },
   "outputs": [],
   "source": [
    "tuple_numbers_list[7] = 10"
   ]
  },
  {
   "cell_type": "code",
   "execution_count": 222,
   "id": "49c3277e",
   "metadata": {
    "ExecuteTime": {
     "end_time": "2023-07-30T16:44:57.536830Z",
     "start_time": "2023-07-30T16:44:57.531338Z"
    },
    "id": "49c3277e",
    "outputId": "2dd82ef2-4499-4c29-ffb5-ce5c8a05a99c"
   },
   "outputs": [
    {
     "data": {
      "text/plain": [
       "[2, 3, 4, 5, 6, 7, 8, 10]"
      ]
     },
     "execution_count": 222,
     "metadata": {},
     "output_type": "execute_result"
    }
   ],
   "source": [
    "tuple_numbers_list"
   ]
  },
  {
   "cell_type": "code",
   "execution_count": 223,
   "id": "52febc52",
   "metadata": {
    "ExecuteTime": {
     "end_time": "2023-07-30T16:44:57.827761Z",
     "start_time": "2023-07-30T16:44:57.823860Z"
    },
    "id": "52febc52"
   },
   "outputs": [],
   "source": [
    "# Concatenate tuples\n",
    "squares_t += tuple_numbers"
   ]
  },
  {
   "cell_type": "code",
   "execution_count": 224,
   "id": "c7968348",
   "metadata": {
    "ExecuteTime": {
     "end_time": "2023-07-30T16:44:58.253111Z",
     "start_time": "2023-07-30T16:44:58.245440Z"
    },
    "id": "c7968348",
    "outputId": "d0a1643e-a33f-41c9-9661-e0c35eb38c81"
   },
   "outputs": [
    {
     "name": "stdout",
     "output_type": "stream",
     "text": [
      "(1, 4, 9, 16, 25, 36, 49, 64, 81, 100, 121, 144, 169, 196, 225, 256, 289, 324, 361, 400, 2, 3, 4, 5, 6, 7, 8, 9)\n"
     ]
    }
   ],
   "source": [
    "print(squares_t)"
   ]
  },
  {
   "cell_type": "code",
   "execution_count": 225,
   "id": "a00f3267",
   "metadata": {
    "ExecuteTime": {
     "end_time": "2023-07-30T16:44:58.484814Z",
     "start_time": "2023-07-30T16:44:58.477834Z"
    },
    "id": "a00f3267",
    "outputId": "b9efbee5-78d3-4dbb-f053-93b6680d4040"
   },
   "outputs": [
    {
     "data": {
      "text/plain": [
       "140176601353200"
      ]
     },
     "execution_count": 225,
     "metadata": {},
     "output_type": "execute_result"
    }
   ],
   "source": [
    "id(squares_t)"
   ]
  },
  {
   "cell_type": "code",
   "execution_count": 226,
   "id": "0e781325",
   "metadata": {
    "ExecuteTime": {
     "end_time": "2023-07-30T16:44:58.724041Z",
     "start_time": "2023-07-30T16:44:58.713008Z"
    },
    "id": "0e781325",
    "outputId": "091f0e1d-7955-43c6-bcf5-627a53211742"
   },
   "outputs": [
    {
     "data": {
      "text/plain": [
       "(2, 3, 4, 5, 6, 7, 8, 9)"
      ]
     },
     "execution_count": 226,
     "metadata": {},
     "output_type": "execute_result"
    }
   ],
   "source": [
    "tuple_numbers"
   ]
  },
  {
   "cell_type": "code",
   "execution_count": 227,
   "id": "77c5bffc",
   "metadata": {
    "ExecuteTime": {
     "end_time": "2023-07-30T16:44:58.967661Z",
     "start_time": "2023-07-30T16:44:58.962607Z"
    },
    "id": "77c5bffc",
    "outputId": "dd25d5a4-3f34-4704-9b9d-6551f2045610"
   },
   "outputs": [
    {
     "data": {
      "text/plain": [
       "140176609067840"
      ]
     },
     "execution_count": 227,
     "metadata": {},
     "output_type": "execute_result"
    }
   ],
   "source": [
    "id(tuple_numbers)"
   ]
  },
  {
   "cell_type": "code",
   "execution_count": 228,
   "id": "a3b09e7e",
   "metadata": {
    "ExecuteTime": {
     "end_time": "2023-07-30T16:44:59.190532Z",
     "start_time": "2023-07-30T16:44:59.187208Z"
    },
    "id": "a3b09e7e"
   },
   "outputs": [],
   "source": [
    "tuple_numbers = (2, 3, 4, 5, 6, 7, 8, 9, 10)"
   ]
  },
  {
   "cell_type": "code",
   "execution_count": 229,
   "id": "a0730558",
   "metadata": {
    "ExecuteTime": {
     "end_time": "2023-07-30T16:44:59.459631Z",
     "start_time": "2023-07-30T16:44:59.449014Z"
    },
    "id": "a0730558",
    "outputId": "b2df878f-38f3-43ff-dba4-a352939950e3"
   },
   "outputs": [
    {
     "data": {
      "text/plain": [
       "140176609075136"
      ]
     },
     "execution_count": 229,
     "metadata": {},
     "output_type": "execute_result"
    }
   ],
   "source": [
    "id(tuple_numbers)"
   ]
  },
  {
   "cell_type": "code",
   "execution_count": null,
   "id": "99d1aa2f",
   "metadata": {
    "id": "99d1aa2f"
   },
   "outputs": [],
   "source": []
  },
  {
   "cell_type": "markdown",
   "id": "8523b445",
   "metadata": {
    "id": "8523b445"
   },
   "source": [
    "## Dictionary"
   ]
  },
  {
   "cell_type": "code",
   "execution_count": 230,
   "id": "2572a531",
   "metadata": {
    "ExecuteTime": {
     "end_time": "2023-07-30T16:45:00.186918Z",
     "start_time": "2023-07-30T16:45:00.183481Z"
    },
    "id": "2572a531"
   },
   "outputs": [],
   "source": [
    "# Ordered \n",
    "# Can be modified == It is mutable\n",
    "# Use {} to create a dict\n",
    "# They have key value pairs"
   ]
  },
  {
   "cell_type": "code",
   "execution_count": 231,
   "id": "9987fb19",
   "metadata": {
    "ExecuteTime": {
     "end_time": "2023-07-30T16:45:00.427065Z",
     "start_time": "2023-07-30T16:45:00.422986Z"
    },
    "id": "9987fb19"
   },
   "outputs": [],
   "source": [
    "# Different data structures \n",
    "# [] - list, Tuple - ()"
   ]
  },
  {
   "cell_type": "code",
   "execution_count": 232,
   "id": "682f67f0",
   "metadata": {
    "ExecuteTime": {
     "end_time": "2023-07-30T16:45:00.660509Z",
     "start_time": "2023-07-30T16:45:00.656031Z"
    },
    "id": "682f67f0"
   },
   "outputs": [],
   "source": [
    "my_profile = {'name': 'Pablo', 'fav_color': 'blue', 'location': 'Kaduna'}"
   ]
  },
  {
   "cell_type": "code",
   "execution_count": 233,
   "id": "a1f62c7f",
   "metadata": {
    "ExecuteTime": {
     "end_time": "2023-07-30T16:45:00.889866Z",
     "start_time": "2023-07-30T16:45:00.886126Z"
    },
    "id": "a1f62c7f",
    "outputId": "4eda0f8a-7ef3-4620-a011-f2ab9994770a"
   },
   "outputs": [
    {
     "name": "stdout",
     "output_type": "stream",
     "text": [
      "{'name': 'Pablo', 'fav_color': 'blue', 'location': 'Kaduna'}\n"
     ]
    }
   ],
   "source": [
    "print(my_profile)"
   ]
  },
  {
   "cell_type": "code",
   "execution_count": 234,
   "id": "402f7f21",
   "metadata": {
    "ExecuteTime": {
     "end_time": "2023-07-30T16:45:01.139491Z",
     "start_time": "2023-07-30T16:45:01.130441Z"
    },
    "id": "402f7f21"
   },
   "outputs": [],
   "source": [
    "profile_1 = dict(profile1 = '@pablo', profile2 = '@joyce', profile= '@slim')"
   ]
  },
  {
   "cell_type": "code",
   "execution_count": 235,
   "id": "32e7c59c",
   "metadata": {
    "ExecuteTime": {
     "end_time": "2023-07-30T16:45:01.363510Z",
     "start_time": "2023-07-30T16:45:01.358957Z"
    },
    "id": "32e7c59c",
    "outputId": "8fd9cd20-8223-4b38-f052-f147282a386a"
   },
   "outputs": [
    {
     "name": "stdout",
     "output_type": "stream",
     "text": [
      "{'profile1': '@pablo', 'profile2': '@joyce', 'profile': '@slim'}\n"
     ]
    }
   ],
   "source": [
    "print(profile_1)"
   ]
  },
  {
   "cell_type": "code",
   "execution_count": 236,
   "id": "f379c4a0",
   "metadata": {
    "ExecuteTime": {
     "end_time": "2023-07-30T16:45:01.607737Z",
     "start_time": "2023-07-30T16:45:01.603561Z"
    },
    "id": "f379c4a0"
   },
   "outputs": [],
   "source": [
    "# Nested dictionary, nested list \n",
    "instagram_profile = {'@p_26': {'first_name': 'Pablo',\n",
    "                             'location': 'Kaduna', \n",
    "                             'Gender': 'Male',\n",
    "                             'number of followers': 345},\n",
    "                    '@slim_shehu': {'first_name': 'Slim',\n",
    "                             'location': 'Kaduna', \n",
    "                             'Gender': 'Male',\n",
    "                             'number of followers': 10000}}"
   ]
  },
  {
   "cell_type": "code",
   "execution_count": 237,
   "id": "032e3a2f",
   "metadata": {
    "ExecuteTime": {
     "end_time": "2023-07-30T16:45:01.838769Z",
     "start_time": "2023-07-30T16:45:01.835484Z"
    },
    "id": "032e3a2f",
    "outputId": "af1bcf37-9757-47bc-9b37-df176804f94c"
   },
   "outputs": [
    {
     "name": "stdout",
     "output_type": "stream",
     "text": [
      "{'@p_26': {'first_name': 'Pablo', 'location': 'Kaduna', 'Gender': 'Male', 'number of followers': 345}, '@slim_shehu': {'first_name': 'Slim', 'location': 'Kaduna', 'Gender': 'Male', 'number of followers': 10000}}\n"
     ]
    }
   ],
   "source": [
    "print(instagram_profile)"
   ]
  },
  {
   "cell_type": "code",
   "execution_count": 238,
   "id": "8f9834ba",
   "metadata": {
    "ExecuteTime": {
     "end_time": "2023-07-30T16:45:02.084113Z",
     "start_time": "2023-07-30T16:45:02.081144Z"
    },
    "id": "8f9834ba"
   },
   "outputs": [],
   "source": [
    "# Dictionary with a nested list\n",
    "student_data = {\n",
    "    'name': ['Jack', 'Riti', 'Aadi'],\n",
    "    'age': [34, 30, 16],\n",
    "    'city': ['Sydney', 'Delhi', 'New york']\n",
    "}"
   ]
  },
  {
   "cell_type": "code",
   "execution_count": 239,
   "id": "5394774f",
   "metadata": {
    "ExecuteTime": {
     "end_time": "2023-07-30T16:45:02.455793Z",
     "start_time": "2023-07-30T16:45:02.304403Z"
    },
    "id": "5394774f",
    "outputId": "f482fc94-4478-47ec-8dff-1ec22ab69987"
   },
   "outputs": [
    {
     "name": "stdout",
     "output_type": "stream",
     "text": [
      "{'name': ['Jack', 'Riti', 'Aadi'], 'age': [34, 30, 16], 'city': ['Sydney', 'Delhi', 'New york']}\n"
     ]
    }
   ],
   "source": [
    "print(student_data)"
   ]
  },
  {
   "cell_type": "code",
   "execution_count": 240,
   "id": "f5aa377a",
   "metadata": {
    "ExecuteTime": {
     "end_time": "2023-07-30T16:45:02.567417Z",
     "start_time": "2023-07-30T16:45:02.561257Z"
    },
    "id": "f5aa377a",
    "outputId": "fd2bcb20-b74e-4582-9a79-3c26eb0be2d4"
   },
   "outputs": [
    {
     "data": {
      "text/plain": [
       "['Jack', 'Riti', 'Aadi']"
      ]
     },
     "execution_count": 240,
     "metadata": {},
     "output_type": "execute_result"
    }
   ],
   "source": [
    "student_data['name'] # Accessed the value using it's key"
   ]
  },
  {
   "cell_type": "code",
   "execution_count": 241,
   "id": "294437fd",
   "metadata": {
    "ExecuteTime": {
     "end_time": "2023-07-30T16:45:02.808488Z",
     "start_time": "2023-07-30T16:45:02.804505Z"
    },
    "id": "294437fd"
   },
   "outputs": [],
   "source": [
    "student_data['course'] = ['Data Science', 'Software Engineering', 'Product Design']"
   ]
  },
  {
   "cell_type": "code",
   "execution_count": 242,
   "id": "6f5a5456",
   "metadata": {
    "ExecuteTime": {
     "end_time": "2023-07-30T16:45:03.042063Z",
     "start_time": "2023-07-30T16:45:03.036367Z"
    },
    "id": "6f5a5456",
    "outputId": "7ac47a50-1e66-40c9-a49a-7f719b2e5d70"
   },
   "outputs": [
    {
     "data": {
      "text/plain": [
       "{'name': ['Jack', 'Riti', 'Aadi'],\n",
       " 'age': [34, 30, 16],\n",
       " 'city': ['Sydney', 'Delhi', 'New york'],\n",
       " 'course': ['Data Science', 'Software Engineering', 'Product Design']}"
      ]
     },
     "execution_count": 242,
     "metadata": {},
     "output_type": "execute_result"
    }
   ],
   "source": [
    "student_data # Added a value"
   ]
  },
  {
   "cell_type": "code",
   "execution_count": 243,
   "id": "d4e51f96",
   "metadata": {
    "ExecuteTime": {
     "end_time": "2023-07-30T16:45:03.275828Z",
     "start_time": "2023-07-30T16:45:03.272771Z"
    },
    "id": "d4e51f96"
   },
   "outputs": [],
   "source": [
    "student_data['course'] = ['Data Science', 'Data Engineering', 'Product Design']# Modify the values"
   ]
  },
  {
   "cell_type": "code",
   "execution_count": 244,
   "id": "cc354b4d",
   "metadata": {
    "ExecuteTime": {
     "end_time": "2023-07-30T16:45:03.545281Z",
     "start_time": "2023-07-30T16:45:03.541087Z"
    },
    "id": "cc354b4d"
   },
   "outputs": [],
   "source": [
    "del student_data['city'] # Remove values from a dict "
   ]
  },
  {
   "cell_type": "code",
   "execution_count": 245,
   "id": "3a2d6acb",
   "metadata": {
    "ExecuteTime": {
     "end_time": "2023-07-30T16:45:03.798165Z",
     "start_time": "2023-07-30T16:45:03.791615Z"
    },
    "id": "3a2d6acb",
    "outputId": "bad7d275-b40d-476b-b6dc-d0b9cc6f330a"
   },
   "outputs": [
    {
     "data": {
      "text/plain": [
       "{'name': ['Jack', 'Riti', 'Aadi'],\n",
       " 'age': [34, 30, 16],\n",
       " 'course': ['Data Science', 'Data Engineering', 'Product Design']}"
      ]
     },
     "execution_count": 245,
     "metadata": {},
     "output_type": "execute_result"
    }
   ],
   "source": [
    "student_data"
   ]
  },
  {
   "cell_type": "code",
   "execution_count": null,
   "id": "806353f0",
   "metadata": {
    "id": "806353f0"
   },
   "outputs": [],
   "source": []
  },
  {
   "cell_type": "code",
   "execution_count": 246,
   "id": "87d7cedd",
   "metadata": {
    "ExecuteTime": {
     "end_time": "2023-07-30T16:45:06.108648Z",
     "start_time": "2023-07-30T16:45:06.104914Z"
    },
    "id": "87d7cedd"
   },
   "outputs": [],
   "source": [
    "import pandas as pd "
   ]
  },
  {
   "cell_type": "code",
   "execution_count": 247,
   "id": "0aeaf565",
   "metadata": {
    "ExecuteTime": {
     "end_time": "2023-07-30T16:45:06.329786Z",
     "start_time": "2023-07-30T16:45:06.316446Z"
    },
    "id": "0aeaf565"
   },
   "outputs": [],
   "source": [
    "student_data = pd.DataFrame(student_data)"
   ]
  },
  {
   "cell_type": "code",
   "execution_count": 248,
   "id": "1e6bd0cc",
   "metadata": {
    "ExecuteTime": {
     "end_time": "2023-07-30T16:45:06.546243Z",
     "start_time": "2023-07-30T16:45:06.536745Z"
    },
    "id": "1e6bd0cc",
    "outputId": "20f18888-dcc5-4c91-81dd-c6a48b97c26c"
   },
   "outputs": [
    {
     "data": {
      "text/html": [
       "<div>\n",
       "<style scoped>\n",
       "    .dataframe tbody tr th:only-of-type {\n",
       "        vertical-align: middle;\n",
       "    }\n",
       "\n",
       "    .dataframe tbody tr th {\n",
       "        vertical-align: top;\n",
       "    }\n",
       "\n",
       "    .dataframe thead th {\n",
       "        text-align: right;\n",
       "    }\n",
       "</style>\n",
       "<table border=\"1\" class=\"dataframe\">\n",
       "  <thead>\n",
       "    <tr style=\"text-align: right;\">\n",
       "      <th></th>\n",
       "      <th>name</th>\n",
       "      <th>age</th>\n",
       "      <th>course</th>\n",
       "    </tr>\n",
       "  </thead>\n",
       "  <tbody>\n",
       "    <tr>\n",
       "      <th>0</th>\n",
       "      <td>Jack</td>\n",
       "      <td>34</td>\n",
       "      <td>Data Science</td>\n",
       "    </tr>\n",
       "    <tr>\n",
       "      <th>1</th>\n",
       "      <td>Riti</td>\n",
       "      <td>30</td>\n",
       "      <td>Data Engineering</td>\n",
       "    </tr>\n",
       "    <tr>\n",
       "      <th>2</th>\n",
       "      <td>Aadi</td>\n",
       "      <td>16</td>\n",
       "      <td>Product Design</td>\n",
       "    </tr>\n",
       "  </tbody>\n",
       "</table>\n",
       "</div>"
      ],
      "text/plain": [
       "   name  age            course\n",
       "0  Jack   34      Data Science\n",
       "1  Riti   30  Data Engineering\n",
       "2  Aadi   16    Product Design"
      ]
     },
     "execution_count": 248,
     "metadata": {},
     "output_type": "execute_result"
    }
   ],
   "source": [
    "student_data"
   ]
  },
  {
   "cell_type": "code",
   "execution_count": 249,
   "id": "d7ad33ce",
   "metadata": {
    "ExecuteTime": {
     "end_time": "2023-07-30T16:45:06.773597Z",
     "start_time": "2023-07-30T16:45:06.763480Z"
    },
    "id": "d7ad33ce",
    "outputId": "a158a6d6-d6c6-422d-9458-03a3f90b0044"
   },
   "outputs": [
    {
     "data": {
      "text/plain": [
       "[2, 3, 4, 5, 6, 7, 8, 10]"
      ]
     },
     "execution_count": 249,
     "metadata": {},
     "output_type": "execute_result"
    }
   ],
   "source": [
    "tuple_numbers_list"
   ]
  },
  {
   "cell_type": "code",
   "execution_count": 250,
   "id": "209cdef2",
   "metadata": {
    "ExecuteTime": {
     "end_time": "2023-07-30T16:45:06.987665Z",
     "start_time": "2023-07-30T16:45:06.984265Z"
    },
    "id": "209cdef2"
   },
   "outputs": [],
   "source": [
    "list_table = pd.DataFrame(tuple_numbers_list)"
   ]
  },
  {
   "cell_type": "code",
   "execution_count": 251,
   "id": "c5d817fe",
   "metadata": {
    "ExecuteTime": {
     "end_time": "2023-07-30T16:45:09.929706Z",
     "start_time": "2023-07-30T16:45:07.196337Z"
    },
    "id": "c5d817fe",
    "outputId": "ac6d4176-bcb6-44b4-afa5-eb81e36fe56f"
   },
   "outputs": [
    {
     "name": "stdout",
     "output_type": "stream",
     "text": [
      "32.8 ns ± 2.18 ns per loop (mean ± std. dev. of 7 runs, 10,000,000 loops each)\n"
     ]
    }
   ],
   "source": [
    "%%timeit \n",
    "tuple_numbers_list[3]"
   ]
  },
  {
   "cell_type": "code",
   "execution_count": 252,
   "id": "a24cca38",
   "metadata": {
    "ExecuteTime": {
     "end_time": "2023-07-30T16:45:15.989091Z",
     "start_time": "2023-07-30T16:45:15.983312Z"
    },
    "id": "a24cca38"
   },
   "outputs": [],
   "source": [
    "student_data = {\n",
    "    'name': ['Jack', 'Riti', 'Aadi'],\n",
    "    'age': [34, 30, 16],\n",
    "    'city': ['Sydney', 'Delhi', 'New york']\n",
    "}"
   ]
  },
  {
   "cell_type": "code",
   "execution_count": 253,
   "id": "c2c2bfde",
   "metadata": {
    "ExecuteTime": {
     "end_time": "2023-07-30T16:45:16.702578Z",
     "start_time": "2023-07-30T16:45:16.690079Z"
    },
    "id": "c2c2bfde",
    "outputId": "9f47848b-ea2e-41e0-f8cb-a9a7c7883e1c"
   },
   "outputs": [
    {
     "data": {
      "text/plain": [
       "['Jack', 'Riti', 'Aadi']"
      ]
     },
     "execution_count": 253,
     "metadata": {},
     "output_type": "execute_result"
    }
   ],
   "source": [
    "student_data['name']"
   ]
  },
  {
   "cell_type": "code",
   "execution_count": 254,
   "id": "910ef4a6",
   "metadata": {
    "ExecuteTime": {
     "end_time": "2023-07-30T16:45:17.099928Z",
     "start_time": "2023-07-30T16:45:17.089173Z"
    },
    "id": "910ef4a6",
    "outputId": "efa69b49-52e4-4006-f471-89d30c77af43"
   },
   "outputs": [
    {
     "data": {
      "text/plain": [
       "['__class__',\n",
       " '__class_getitem__',\n",
       " '__contains__',\n",
       " '__delattr__',\n",
       " '__delitem__',\n",
       " '__dir__',\n",
       " '__doc__',\n",
       " '__eq__',\n",
       " '__format__',\n",
       " '__ge__',\n",
       " '__getattribute__',\n",
       " '__getitem__',\n",
       " '__gt__',\n",
       " '__hash__',\n",
       " '__init__',\n",
       " '__init_subclass__',\n",
       " '__ior__',\n",
       " '__iter__',\n",
       " '__le__',\n",
       " '__len__',\n",
       " '__lt__',\n",
       " '__ne__',\n",
       " '__new__',\n",
       " '__or__',\n",
       " '__reduce__',\n",
       " '__reduce_ex__',\n",
       " '__repr__',\n",
       " '__reversed__',\n",
       " '__ror__',\n",
       " '__setattr__',\n",
       " '__setitem__',\n",
       " '__sizeof__',\n",
       " '__str__',\n",
       " '__subclasshook__',\n",
       " 'clear',\n",
       " 'copy',\n",
       " 'fromkeys',\n",
       " 'get',\n",
       " 'items',\n",
       " 'keys',\n",
       " 'pop',\n",
       " 'popitem',\n",
       " 'setdefault',\n",
       " 'update',\n",
       " 'values']"
      ]
     },
     "execution_count": 254,
     "metadata": {},
     "output_type": "execute_result"
    }
   ],
   "source": [
    "dir(student_data)"
   ]
  },
  {
   "cell_type": "markdown",
   "id": "ef4e4b06",
   "metadata": {
    "id": "ef4e4b06"
   },
   "source": [
    "### Dictionary Methods\n",
    "\n",
    "'clear',\n",
    " 'copy',\n",
    " 'fromkeys',\n",
    " 'get',\n",
    " 'items',\n",
    " 'keys',\n",
    " 'pop',\n",
    " 'popitem',\n",
    " 'setdefault',\n",
    " 'update',\n",
    " 'values'"
   ]
  },
  {
   "cell_type": "code",
   "execution_count": 255,
   "id": "0d1ef94f",
   "metadata": {
    "ExecuteTime": {
     "end_time": "2023-07-30T16:45:17.627769Z",
     "start_time": "2023-07-30T16:45:17.623765Z"
    },
    "id": "0d1ef94f"
   },
   "outputs": [],
   "source": [
    "#dir(student_data)"
   ]
  },
  {
   "cell_type": "code",
   "execution_count": 256,
   "id": "b9d58b37",
   "metadata": {
    "ExecuteTime": {
     "end_time": "2023-07-30T16:45:17.904841Z",
     "start_time": "2023-07-30T16:45:17.880342Z"
    },
    "id": "b9d58b37",
    "outputId": "f923e2d9-c4a6-4630-c0df-213a98194842"
   },
   "outputs": [
    {
     "ename": "KeyError",
     "evalue": "'location'",
     "output_type": "error",
     "traceback": [
      "\u001b[0;31m---------------------------------------------------------------------------\u001b[0m",
      "\u001b[0;31mKeyError\u001b[0m                                  Traceback (most recent call last)",
      "Cell \u001b[0;32mIn[256], line 1\u001b[0m\n\u001b[0;32m----> 1\u001b[0m \u001b[43mstudent_data\u001b[49m\u001b[43m[\u001b[49m\u001b[38;5;124;43m'\u001b[39;49m\u001b[38;5;124;43mlocation\u001b[39;49m\u001b[38;5;124;43m'\u001b[39;49m\u001b[43m]\u001b[49m\n",
      "\u001b[0;31mKeyError\u001b[0m: 'location'"
     ]
    }
   ],
   "source": [
    "student_data['location']"
   ]
  },
  {
   "cell_type": "code",
   "execution_count": 257,
   "id": "9addec4b",
   "metadata": {
    "ExecuteTime": {
     "end_time": "2023-07-30T16:45:18.139899Z",
     "start_time": "2023-07-30T16:45:18.133881Z"
    },
    "id": "9addec4b",
    "outputId": "1dea529b-b342-476b-b1fa-366520674ab8"
   },
   "outputs": [
    {
     "data": {
      "text/plain": [
       "'Not inside'"
      ]
     },
     "execution_count": 257,
     "metadata": {},
     "output_type": "execute_result"
    }
   ],
   "source": [
    "student_data.get('location', 'Not inside') # get method "
   ]
  },
  {
   "cell_type": "code",
   "execution_count": 258,
   "id": "8e70e597",
   "metadata": {
    "ExecuteTime": {
     "end_time": "2023-07-30T16:45:18.654360Z",
     "start_time": "2023-07-30T16:45:18.646800Z"
    },
    "id": "8e70e597"
   },
   "outputs": [],
   "source": [
    "student = {}"
   ]
  },
  {
   "cell_type": "code",
   "execution_count": 259,
   "id": "ad5afe93",
   "metadata": {
    "ExecuteTime": {
     "end_time": "2023-07-30T16:45:18.941114Z",
     "start_time": "2023-07-30T16:45:18.933339Z"
    },
    "id": "ad5afe93",
    "outputId": "63fb025e-e99b-43df-da7c-cb67e28b260d"
   },
   "outputs": [
    {
     "data": {
      "text/plain": [
       "dict"
      ]
     },
     "execution_count": 259,
     "metadata": {},
     "output_type": "execute_result"
    }
   ],
   "source": [
    "type(student)"
   ]
  },
  {
   "cell_type": "code",
   "execution_count": 260,
   "id": "b16e164e",
   "metadata": {
    "ExecuteTime": {
     "end_time": "2023-07-30T16:45:19.227584Z",
     "start_time": "2023-07-30T16:45:19.224574Z"
    },
    "id": "b16e164e"
   },
   "outputs": [],
   "source": [
    "student_data_1 = {'Pablo': [True, 41, 'Kaduna', 'Data Science']}"
   ]
  },
  {
   "cell_type": "code",
   "execution_count": 261,
   "id": "56ed432a",
   "metadata": {
    "ExecuteTime": {
     "end_time": "2023-07-30T16:45:19.505052Z",
     "start_time": "2023-07-30T16:45:19.500563Z"
    },
    "id": "56ed432a"
   },
   "outputs": [],
   "source": [
    "student_data_1.clear() # Clear method"
   ]
  },
  {
   "cell_type": "code",
   "execution_count": 262,
   "id": "3607b2a3",
   "metadata": {
    "ExecuteTime": {
     "end_time": "2023-07-30T16:45:19.759565Z",
     "start_time": "2023-07-30T16:45:19.750105Z"
    },
    "id": "3607b2a3",
    "outputId": "06591445-880e-4514-d290-ce0c45667222"
   },
   "outputs": [
    {
     "data": {
      "text/plain": [
       "{}"
      ]
     },
     "execution_count": 262,
     "metadata": {},
     "output_type": "execute_result"
    }
   ],
   "source": [
    "student_data_1"
   ]
  },
  {
   "cell_type": "code",
   "execution_count": 263,
   "id": "6f466871",
   "metadata": {
    "ExecuteTime": {
     "end_time": "2023-07-30T16:45:20.007521Z",
     "start_time": "2023-07-30T16:45:20.002788Z"
    },
    "id": "6f466871"
   },
   "outputs": [],
   "source": [
    "student_data_copy = student_data.copy() # Copy method"
   ]
  },
  {
   "cell_type": "code",
   "execution_count": 264,
   "id": "6e66fe08",
   "metadata": {
    "ExecuteTime": {
     "end_time": "2023-07-30T16:45:20.239736Z",
     "start_time": "2023-07-30T16:45:20.234023Z"
    },
    "id": "6e66fe08",
    "outputId": "c2ccea51-1de9-472e-8cff-2844fd61d34a"
   },
   "outputs": [
    {
     "data": {
      "text/plain": [
       "{'name': ['Jack', 'Riti', 'Aadi'],\n",
       " 'age': [34, 30, 16],\n",
       " 'city': ['Sydney', 'Delhi', 'New york']}"
      ]
     },
     "execution_count": 264,
     "metadata": {},
     "output_type": "execute_result"
    }
   ],
   "source": [
    "student_data_copy"
   ]
  },
  {
   "cell_type": "code",
   "execution_count": 265,
   "id": "8ddeca92",
   "metadata": {
    "ExecuteTime": {
     "end_time": "2023-07-30T16:45:20.503363Z",
     "start_time": "2023-07-30T16:45:20.495820Z"
    },
    "id": "8ddeca92"
   },
   "outputs": [],
   "source": [
    "# Looping through a list\n",
    "list_persons = ['Jessy', 'Pablo', 'Moses']"
   ]
  },
  {
   "cell_type": "code",
   "execution_count": 266,
   "id": "7afa652d",
   "metadata": {
    "ExecuteTime": {
     "end_time": "2023-07-30T16:45:20.744852Z",
     "start_time": "2023-07-30T16:45:20.740066Z"
    },
    "id": "7afa652d",
    "outputId": "7892a2db-c5e0-4959-9e35-720e01c1d563"
   },
   "outputs": [
    {
     "name": "stdout",
     "output_type": "stream",
     "text": [
      "jessy\n",
      "pablo\n",
      "moses\n"
     ]
    }
   ],
   "source": [
    "for names in list_persons:\n",
    "    print(names.lower())"
   ]
  },
  {
   "cell_type": "code",
   "execution_count": 267,
   "id": "1eba3c52",
   "metadata": {
    "ExecuteTime": {
     "end_time": "2023-07-30T16:45:20.986654Z",
     "start_time": "2023-07-30T16:45:20.981436Z"
    },
    "id": "1eba3c52",
    "outputId": "90c6bc74-265c-4a32-8e9b-7eb01987a72c"
   },
   "outputs": [
    {
     "name": "stdout",
     "output_type": "stream",
     "text": [
      "\n",
      "Key: name\n",
      "Value: ['Jack', 'Riti', 'Aadi']\n",
      "\n",
      "Key: age\n",
      "Value: [34, 30, 16]\n",
      "\n",
      "Key: city\n",
      "Value: ['Sydney', 'Delhi', 'New york']\n"
     ]
    }
   ],
   "source": [
    "# Looping through a dictionary \n",
    "for data, data_value in student_data.items():\n",
    "    print(f\"\\nKey: {data}\")\n",
    "    print(f\"Value: {data_value}\")"
   ]
  },
  {
   "cell_type": "markdown",
   "id": "097536e5",
   "metadata": {
    "id": "da2a8d22"
   },
   "source": [
    "## Boolean Operations & Conditional Statements in Python"
   ]
  },
  {
   "cell_type": "code",
   "execution_count": 268,
   "id": "8e8fa03b",
   "metadata": {
    "ExecuteTime": {
     "end_time": "2023-07-30T16:45:21.467100Z",
     "start_time": "2023-07-30T16:45:21.463922Z"
    },
    "id": "8e8fa03b"
   },
   "outputs": [],
   "source": [
    "# Python - Objects - Reflect Real World Artifacts \n",
    "# Variables - Python Objects - Data - Can be manipulated with functionalities "
   ]
  },
  {
   "cell_type": "code",
   "execution_count": 5,
   "id": "bc56f09c",
   "metadata": {},
   "outputs": [],
   "source": [
    "var = 'Pablo' # Created a variable / = Assignment operator "
   ]
  },
  {
   "cell_type": "code",
   "execution_count": 6,
   "id": "49ddfbb2",
   "metadata": {},
   "outputs": [
    {
     "data": {
      "text/plain": [
       "True"
      ]
     },
     "execution_count": 6,
     "metadata": {},
     "output_type": "execute_result"
    }
   ],
   "source": [
    "var == 'Pablo' # Boolean condition / Equality operator"
   ]
  },
  {
   "cell_type": "code",
   "execution_count": 4,
   "id": "742760fe",
   "metadata": {},
   "outputs": [
    {
     "data": {
      "text/plain": [
       "False"
      ]
     },
     "execution_count": 4,
     "metadata": {},
     "output_type": "execute_result"
    }
   ],
   "source": [
    "var == 'Gideon'"
   ]
  },
  {
   "cell_type": "code",
   "execution_count": 269,
   "id": "f4ab22a6",
   "metadata": {
    "ExecuteTime": {
     "end_time": "2023-07-30T16:45:21.716941Z",
     "start_time": "2023-07-30T16:45:21.712986Z"
    },
    "id": "f4ab22a6"
   },
   "outputs": [],
   "source": [
    "dog_white = 'Dog'  "
   ]
  },
  {
   "cell_type": "code",
   "execution_count": 270,
   "id": "9b296b7e",
   "metadata": {
    "ExecuteTime": {
     "end_time": "2023-07-30T16:45:21.959924Z",
     "start_time": "2023-07-30T16:45:21.955367Z"
    },
    "id": "9b296b7e"
   },
   "outputs": [
    {
     "name": "stdout",
     "output_type": "stream",
     "text": [
      "Dog\n"
     ]
    }
   ],
   "source": [
    "print(dog_white)"
   ]
  },
  {
   "cell_type": "code",
   "execution_count": 271,
   "id": "db8e15d7",
   "metadata": {
    "ExecuteTime": {
     "end_time": "2023-07-30T16:45:22.197748Z",
     "start_time": "2023-07-30T16:45:22.191063Z"
    },
    "id": "db8e15d7"
   },
   "outputs": [
    {
     "data": {
      "text/plain": [
       "True"
      ]
     },
     "execution_count": 271,
     "metadata": {},
     "output_type": "execute_result"
    }
   ],
   "source": [
    "dog_white == 'Dog'"
   ]
  },
  {
   "cell_type": "code",
   "execution_count": 272,
   "id": "1ae29af6",
   "metadata": {
    "ExecuteTime": {
     "end_time": "2023-07-30T16:45:22.440086Z",
     "start_time": "2023-07-30T16:45:22.432086Z"
    },
    "id": "1ae29af6"
   },
   "outputs": [
    {
     "data": {
      "text/plain": [
       "False"
      ]
     },
     "execution_count": 272,
     "metadata": {},
     "output_type": "execute_result"
    }
   ],
   "source": [
    "dog_white == 'Cat'"
   ]
  },
  {
   "cell_type": "code",
   "execution_count": 7,
   "id": "e2d58dfe",
   "metadata": {
    "ExecuteTime": {
     "end_time": "2023-07-30T16:45:22.676162Z",
     "start_time": "2023-07-30T16:45:22.670033Z"
    }
   },
   "outputs": [
    {
     "data": {
      "text/plain": [
       "True"
      ]
     },
     "execution_count": 7,
     "metadata": {},
     "output_type": "execute_result"
    }
   ],
   "source": [
    "# How Python maps True or False \n",
    "# Python maps 1 as True & 0 as False \n",
    "True == 1 # == the equality operator "
   ]
  },
  {
   "cell_type": "code",
   "execution_count": 8,
   "id": "cc642aae",
   "metadata": {
    "ExecuteTime": {
     "end_time": "2023-07-30T16:45:22.975844Z",
     "start_time": "2023-07-30T16:45:22.968923Z"
    }
   },
   "outputs": [
    {
     "data": {
      "text/plain": [
       "True"
      ]
     },
     "execution_count": 8,
     "metadata": {},
     "output_type": "execute_result"
    }
   ],
   "source": [
    "False == 0 "
   ]
  },
  {
   "cell_type": "code",
   "execution_count": 9,
   "id": "64d74e07",
   "metadata": {
    "ExecuteTime": {
     "end_time": "2023-07-30T16:45:23.377596Z",
     "start_time": "2023-07-30T16:45:23.370117Z"
    }
   },
   "outputs": [
    {
     "data": {
      "text/plain": [
       "False"
      ]
     },
     "execution_count": 9,
     "metadata": {},
     "output_type": "execute_result"
    }
   ],
   "source": [
    "False == True "
   ]
  },
  {
   "cell_type": "code",
   "execution_count": 10,
   "id": "c1951f5e",
   "metadata": {
    "ExecuteTime": {
     "end_time": "2023-07-30T16:45:23.607772Z",
     "start_time": "2023-07-30T16:45:23.604341Z"
    }
   },
   "outputs": [],
   "source": [
    "numbers = [23, 45] # A list called numbers "
   ]
  },
  {
   "cell_type": "code",
   "execution_count": 11,
   "id": "60887a0a",
   "metadata": {
    "ExecuteTime": {
     "end_time": "2023-07-30T16:45:23.869698Z",
     "start_time": "2023-07-30T16:45:23.864526Z"
    }
   },
   "outputs": [
    {
     "data": {
      "text/plain": [
       "True"
      ]
     },
     "execution_count": 11,
     "metadata": {},
     "output_type": "execute_result"
    }
   ],
   "source": [
    "23 in numbers # in operator "
   ]
  },
  {
   "cell_type": "code",
   "execution_count": 12,
   "id": "2a4edb8f",
   "metadata": {},
   "outputs": [
    {
     "data": {
      "text/plain": [
       "False"
      ]
     },
     "execution_count": 12,
     "metadata": {},
     "output_type": "execute_result"
    }
   ],
   "source": [
    "47 in numbers "
   ]
  },
  {
   "cell_type": "code",
   "execution_count": 278,
   "id": "6485979d",
   "metadata": {
    "ExecuteTime": {
     "end_time": "2023-07-30T16:45:24.101463Z",
     "start_time": "2023-07-30T16:45:24.097917Z"
    }
   },
   "outputs": [],
   "source": [
    "# A boolean Function\n",
    "# A Boolean function allows you to cast a data type as True or False"
   ]
  },
  {
   "cell_type": "code",
   "execution_count": 279,
   "id": "c454203e",
   "metadata": {
    "ExecuteTime": {
     "end_time": "2023-07-30T16:45:24.326125Z",
     "start_time": "2023-07-30T16:45:24.320652Z"
    }
   },
   "outputs": [
    {
     "data": {
      "text/plain": [
       "False"
      ]
     },
     "execution_count": 279,
     "metadata": {},
     "output_type": "execute_result"
    }
   ],
   "source": [
    "bool(0) # A boolean fuction "
   ]
  },
  {
   "cell_type": "code",
   "execution_count": 280,
   "id": "9adb12f6",
   "metadata": {
    "ExecuteTime": {
     "end_time": "2023-07-30T16:45:24.575097Z",
     "start_time": "2023-07-30T16:45:24.569183Z"
    }
   },
   "outputs": [
    {
     "data": {
      "text/plain": [
       "True"
      ]
     },
     "execution_count": 280,
     "metadata": {},
     "output_type": "execute_result"
    }
   ],
   "source": [
    "bool('Pablo')"
   ]
  },
  {
   "cell_type": "code",
   "execution_count": 281,
   "id": "1ecf514b",
   "metadata": {
    "ExecuteTime": {
     "end_time": "2023-07-30T16:45:24.839006Z",
     "start_time": "2023-07-30T16:45:24.830144Z"
    }
   },
   "outputs": [
    {
     "data": {
      "text/plain": [
       "True"
      ]
     },
     "execution_count": 281,
     "metadata": {},
     "output_type": "execute_result"
    }
   ],
   "source": [
    "bool('0')"
   ]
  },
  {
   "cell_type": "code",
   "execution_count": 282,
   "id": "c45ae766",
   "metadata": {
    "ExecuteTime": {
     "end_time": "2023-07-30T16:45:25.089987Z",
     "start_time": "2023-07-30T16:45:25.080482Z"
    }
   },
   "outputs": [
    {
     "data": {
      "text/plain": [
       "False"
      ]
     },
     "execution_count": 282,
     "metadata": {},
     "output_type": "execute_result"
    }
   ],
   "source": [
    "bool('')"
   ]
  },
  {
   "cell_type": "markdown",
   "id": "3c684d37",
   "metadata": {},
   "source": [
    "## Conditional Statements "
   ]
  },
  {
   "cell_type": "code",
   "execution_count": 283,
   "id": "41c2f33e",
   "metadata": {
    "ExecuteTime": {
     "end_time": "2023-07-30T16:45:25.534338Z",
     "start_time": "2023-07-30T16:45:25.527309Z"
    }
   },
   "outputs": [],
   "source": [
    "# if statement, elif statement & else statement\n",
    "# Control flows "
   ]
  },
  {
   "cell_type": "code",
   "execution_count": 284,
   "id": "edff1fd9",
   "metadata": {
    "ExecuteTime": {
     "end_time": "2023-07-30T16:45:25.774981Z",
     "start_time": "2023-07-30T16:45:25.771139Z"
    }
   },
   "outputs": [],
   "source": [
    "# Comparison Operators - Done\n",
    "# Create a simple conditional statement - Done\n",
    "# Branching conditional statements - Done\n",
    "# Nesting conditional statements - Done\n",
    "# Logical Operators - Done\n",
    "# Special Operators - Outstanding"
   ]
  },
  {
   "cell_type": "code",
   "execution_count": 285,
   "id": "0e770ccc",
   "metadata": {
    "ExecuteTime": {
     "end_time": "2023-07-30T16:45:26.009276Z",
     "start_time": "2023-07-30T16:45:26.005536Z"
    }
   },
   "outputs": [],
   "source": [
    "# Look at Operators = <-- the assignment operator"
   ]
  },
  {
   "cell_type": "markdown",
   "id": "90c771cb",
   "metadata": {},
   "source": [
    "### Comparison Operators:"
   ]
  },
  {
   "cell_type": "code",
   "execution_count": 286,
   "id": "f4ed974f",
   "metadata": {
    "ExecuteTime": {
     "end_time": "2023-07-30T16:45:26.488181Z",
     "start_time": "2023-07-30T16:45:26.484223Z"
    }
   },
   "outputs": [],
   "source": [
    "# > Greater than - Is True if the left value is greater than the value on the right\n",
    "\n",
    "# < less than - Is True if the value on the left is less than the value on the right\n",
    "\n",
    "# Equal to / Equality ==  It is True if the values on both side are equal \n",
    "\n",
    "# Not Equal to / Inequality != - It is True if both values aren't equal \n",
    "\n",
    "# >= Greater than or equal to - It is True if the left value is greater or equal to the right value \n",
    "\n",
    "# <= less than or equal to - It is True if the left value is less than or equal to the right value"
   ]
  },
  {
   "cell_type": "code",
   "execution_count": 287,
   "id": "dfaf5a9e",
   "metadata": {
    "ExecuteTime": {
     "end_time": "2023-07-30T16:45:26.756301Z",
     "start_time": "2023-07-30T16:45:26.749696Z"
    }
   },
   "outputs": [],
   "source": [
    "num_1 = 10\n",
    "num_2 = 15 "
   ]
  },
  {
   "cell_type": "code",
   "execution_count": 288,
   "id": "d2b27d22",
   "metadata": {
    "ExecuteTime": {
     "end_time": "2023-07-30T16:45:27.006069Z",
     "start_time": "2023-07-30T16:45:26.999899Z"
    }
   },
   "outputs": [
    {
     "data": {
      "text/plain": [
       "True"
      ]
     },
     "execution_count": 288,
     "metadata": {},
     "output_type": "execute_result"
    }
   ],
   "source": [
    "num_2 > num_1 # Greater than"
   ]
  },
  {
   "cell_type": "code",
   "execution_count": 289,
   "id": "59e27978",
   "metadata": {
    "ExecuteTime": {
     "end_time": "2023-07-30T16:45:27.253826Z",
     "start_time": "2023-07-30T16:45:27.248392Z"
    }
   },
   "outputs": [
    {
     "data": {
      "text/plain": [
       "True"
      ]
     },
     "execution_count": 289,
     "metadata": {},
     "output_type": "execute_result"
    }
   ],
   "source": [
    "num_1 < num_2 # Less than"
   ]
  },
  {
   "cell_type": "code",
   "execution_count": 290,
   "id": "af036c85",
   "metadata": {
    "ExecuteTime": {
     "end_time": "2023-07-30T16:45:27.511796Z",
     "start_time": "2023-07-30T16:45:27.505948Z"
    }
   },
   "outputs": [
    {
     "data": {
      "text/plain": [
       "True"
      ]
     },
     "execution_count": 290,
     "metadata": {},
     "output_type": "execute_result"
    }
   ],
   "source": [
    "'Dog' > 'Cat'"
   ]
  },
  {
   "cell_type": "code",
   "execution_count": 291,
   "id": "eb525855",
   "metadata": {
    "ExecuteTime": {
     "end_time": "2023-07-30T16:45:27.744068Z",
     "start_time": "2023-07-30T16:45:27.738013Z"
    }
   },
   "outputs": [
    {
     "data": {
      "text/plain": [
       "False"
      ]
     },
     "execution_count": 291,
     "metadata": {},
     "output_type": "execute_result"
    }
   ],
   "source": [
    "num_1 == num_2 # Equal to "
   ]
  },
  {
   "cell_type": "code",
   "execution_count": 292,
   "id": "55e9da6c",
   "metadata": {
    "ExecuteTime": {
     "end_time": "2023-07-30T16:45:27.991609Z",
     "start_time": "2023-07-30T16:45:27.985706Z"
    }
   },
   "outputs": [
    {
     "data": {
      "text/plain": [
       "True"
      ]
     },
     "execution_count": 292,
     "metadata": {},
     "output_type": "execute_result"
    }
   ],
   "source": [
    "num_1 != num_2 # Not Equal to "
   ]
  },
  {
   "cell_type": "code",
   "execution_count": 293,
   "id": "6ef995f5",
   "metadata": {
    "ExecuteTime": {
     "end_time": "2023-07-30T16:45:28.254021Z",
     "start_time": "2023-07-30T16:45:28.245414Z"
    }
   },
   "outputs": [
    {
     "data": {
      "text/plain": [
       "False"
      ]
     },
     "execution_count": 293,
     "metadata": {},
     "output_type": "execute_result"
    }
   ],
   "source": [
    "num_1 >= num_2 # Greater than or equal to"
   ]
  },
  {
   "cell_type": "code",
   "execution_count": 294,
   "id": "ec4db0b8",
   "metadata": {
    "ExecuteTime": {
     "end_time": "2023-07-30T16:45:28.482779Z",
     "start_time": "2023-07-30T16:45:28.476320Z"
    }
   },
   "outputs": [
    {
     "data": {
      "text/plain": [
       "True"
      ]
     },
     "execution_count": 294,
     "metadata": {},
     "output_type": "execute_result"
    }
   ],
   "source": [
    "num_1 <= num_2 # less than or equal to"
   ]
  },
  {
   "cell_type": "markdown",
   "id": "dab110e3",
   "metadata": {},
   "source": [
    "### Create a simple conditional statement"
   ]
  },
  {
   "cell_type": "code",
   "execution_count": 295,
   "id": "b44b3a29",
   "metadata": {
    "ExecuteTime": {
     "end_time": "2023-07-30T16:45:28.995201Z",
     "start_time": "2023-07-30T16:45:28.989760Z"
    }
   },
   "outputs": [],
   "source": [
    "# if statement - True, elif statement - An addition condition & else statement - False\n",
    "# Control flows "
   ]
  },
  {
   "cell_type": "code",
   "execution_count": 296,
   "id": "49688b95",
   "metadata": {
    "ExecuteTime": {
     "end_time": "2023-07-30T16:45:29.224507Z",
     "start_time": "2023-07-30T16:45:29.221073Z"
    }
   },
   "outputs": [],
   "source": [
    "happy = True "
   ]
  },
  {
   "cell_type": "code",
   "execution_count": 297,
   "id": "1db91ea3",
   "metadata": {
    "ExecuteTime": {
     "end_time": "2023-07-30T16:45:29.486661Z",
     "start_time": "2023-07-30T16:45:29.480779Z"
    }
   },
   "outputs": [
    {
     "data": {
      "text/plain": [
       "bool"
      ]
     },
     "execution_count": 297,
     "metadata": {},
     "output_type": "execute_result"
    }
   ],
   "source": [
    "type(happy)"
   ]
  },
  {
   "cell_type": "code",
   "execution_count": 298,
   "id": "95753cf4",
   "metadata": {
    "ExecuteTime": {
     "end_time": "2023-07-30T16:45:29.740022Z",
     "start_time": "2023-07-30T16:45:29.735728Z"
    }
   },
   "outputs": [
    {
     "name": "stdout",
     "output_type": "stream",
     "text": [
      "Excellent\n",
      "Happenings\n"
     ]
    }
   ],
   "source": [
    "if happy: # Expression, # colon : -> indentation\n",
    "    print('Excellent')\n",
    "    print('Happenings')"
   ]
  },
  {
   "cell_type": "code",
   "execution_count": 299,
   "id": "17f91f79",
   "metadata": {
    "ExecuteTime": {
     "end_time": "2023-07-30T16:45:29.987278Z",
     "start_time": "2023-07-30T16:45:29.981476Z"
    }
   },
   "outputs": [],
   "source": [
    "untrue = False "
   ]
  },
  {
   "cell_type": "code",
   "execution_count": 300,
   "id": "7b4444bd",
   "metadata": {
    "ExecuteTime": {
     "end_time": "2023-07-30T16:45:30.220005Z",
     "start_time": "2023-07-30T16:45:30.216971Z"
    }
   },
   "outputs": [],
   "source": [
    "if untrue: \n",
    "    print('You are Excellent')"
   ]
  },
  {
   "cell_type": "code",
   "execution_count": 301,
   "id": "98e477b8",
   "metadata": {
    "ExecuteTime": {
     "end_time": "2023-07-30T16:45:30.442176Z",
     "start_time": "2023-07-30T16:45:30.436335Z"
    }
   },
   "outputs": [
    {
     "data": {
      "text/plain": [
       "10"
      ]
     },
     "execution_count": 301,
     "metadata": {},
     "output_type": "execute_result"
    }
   ],
   "source": [
    "num_1"
   ]
  },
  {
   "cell_type": "code",
   "execution_count": 302,
   "id": "b0435827",
   "metadata": {
    "ExecuteTime": {
     "end_time": "2023-07-30T16:45:30.673132Z",
     "start_time": "2023-07-30T16:45:30.669010Z"
    }
   },
   "outputs": [],
   "source": [
    "if num_1 > 20: \n",
    "    print(\"Let's go\")"
   ]
  },
  {
   "cell_type": "code",
   "execution_count": 303,
   "id": "b2b4f5b1",
   "metadata": {
    "ExecuteTime": {
     "end_time": "2023-07-30T16:45:30.914660Z",
     "start_time": "2023-07-30T16:45:30.908821Z"
    }
   },
   "outputs": [],
   "source": [
    "# An if statement evaluates if it is True \n",
    "# It will ignore if it is False"
   ]
  },
  {
   "cell_type": "code",
   "execution_count": 304,
   "id": "2a7e077d",
   "metadata": {
    "ExecuteTime": {
     "end_time": "2023-07-30T16:45:31.155342Z",
     "start_time": "2023-07-30T16:45:31.150822Z"
    }
   },
   "outputs": [],
   "source": [
    "# The else statement evaluates when the conditional is False "
   ]
  },
  {
   "cell_type": "code",
   "execution_count": 305,
   "id": "30aeb80c",
   "metadata": {
    "ExecuteTime": {
     "end_time": "2023-07-30T16:45:31.387565Z",
     "start_time": "2023-07-30T16:45:31.376245Z"
    },
    "id": "30aeb80c"
   },
   "outputs": [
    {
     "name": "stdout",
     "output_type": "stream",
     "text": [
      "Staying still\n"
     ]
    }
   ],
   "source": [
    "if num_1 > 20: \n",
    "    print(\"Let's go\")\n",
    "else: \n",
    "    print('Staying still')"
   ]
  },
  {
   "cell_type": "code",
   "execution_count": 306,
   "id": "95350194",
   "metadata": {
    "ExecuteTime": {
     "end_time": "2023-07-30T16:45:31.672705Z",
     "start_time": "2023-07-30T16:45:31.668937Z"
    }
   },
   "outputs": [],
   "source": [
    "list_cars = ['Range Rover', 'Mercedes', 'Honda', 'Pontiac']"
   ]
  },
  {
   "cell_type": "code",
   "execution_count": 307,
   "id": "ac24b145",
   "metadata": {
    "ExecuteTime": {
     "end_time": "2023-07-30T16:45:31.905909Z",
     "start_time": "2023-07-30T16:45:31.901325Z"
    }
   },
   "outputs": [
    {
     "name": "stdout",
     "output_type": "stream",
     "text": [
      "My options are open\n",
      "My options are open\n",
      "My options are open\n",
      "My options are open\n"
     ]
    }
   ],
   "source": [
    "for cars in list_cars: \n",
    "    if cars == 'Nissan':\n",
    "        print('I love Japanese cars')\n",
    "    else:\n",
    "        print('My options are open')"
   ]
  },
  {
   "cell_type": "code",
   "execution_count": 308,
   "id": "a4b2f3d0",
   "metadata": {
    "ExecuteTime": {
     "end_time": "2023-07-30T16:45:32.151870Z",
     "start_time": "2023-07-30T16:45:32.145388Z"
    }
   },
   "outputs": [
    {
     "name": "stdout",
     "output_type": "stream",
     "text": [
      "We move\n"
     ]
    }
   ],
   "source": [
    "# elif \n",
    "if num_1 > 20: \n",
    "    print(\"Let's go\")\n",
    "elif num_1 > 5:\n",
    "    print('We move')\n",
    "else: \n",
    "    print('Staying still')"
   ]
  },
  {
   "cell_type": "code",
   "execution_count": 309,
   "id": "5b7e8bc2",
   "metadata": {
    "ExecuteTime": {
     "end_time": "2023-07-30T16:45:32.418545Z",
     "start_time": "2023-07-30T16:45:32.413313Z"
    }
   },
   "outputs": [
    {
     "name": "stdout",
     "output_type": "stream",
     "text": [
      "My options are open\n",
      "I might like the Germans\n",
      "My options are open\n",
      "My options are open\n"
     ]
    }
   ],
   "source": [
    "for cars in list_cars: \n",
    "    if cars == 'Nissan':\n",
    "        print('I love Japanese cars')\n",
    "    elif cars == 'Mercedes':\n",
    "        print('I might like the Germans')\n",
    "    else:\n",
    "        print('My options are open')"
   ]
  },
  {
   "cell_type": "markdown",
   "id": "61393a72",
   "metadata": {},
   "source": [
    "## Nesting Conditional Statements"
   ]
  },
  {
   "cell_type": "code",
   "execution_count": 310,
   "id": "001e0a14",
   "metadata": {
    "ExecuteTime": {
     "end_time": "2023-07-30T16:45:33.023052Z",
     "start_time": "2023-07-30T16:45:33.017809Z"
    }
   },
   "outputs": [],
   "source": [
    "age = 18\n",
    "car = 'Jaguar'\n",
    "\n",
    "if age >= 18:\n",
    "    if car in ['Honda', 'Toyota']:\n",
    "        print('I love driving Japanese cars')\n",
    "    elif car in ['Ford', 'Chrysler']:\n",
    "        print('I love driving American cars')\n",
    "else:\n",
    "    print('Anything goes')"
   ]
  },
  {
   "cell_type": "markdown",
   "id": "0faa2d49",
   "metadata": {},
   "source": [
    "## Logical Operators"
   ]
  },
  {
   "cell_type": "code",
   "execution_count": 311,
   "id": "59b42a19",
   "metadata": {
    "ExecuteTime": {
     "end_time": "2023-07-30T16:45:33.515200Z",
     "start_time": "2023-07-30T16:45:33.511771Z"
    }
   },
   "outputs": [],
   "source": [
    "# and - Only True if both objects/values/items/elements are true\n",
    "\n",
    "# or - True if either of the objects/values/items/elements are true\n",
    "\n",
    "# not - True if the objects/values/items/elements are false "
   ]
  },
  {
   "cell_type": "code",
   "execution_count": 312,
   "id": "ca7fc7b3",
   "metadata": {
    "ExecuteTime": {
     "end_time": "2023-07-30T16:45:33.770383Z",
     "start_time": "2023-07-30T16:45:33.764917Z"
    }
   },
   "outputs": [
    {
     "name": "stdout",
     "output_type": "stream",
     "text": [
      "Anything goes\n"
     ]
    }
   ],
   "source": [
    "# and operator\n",
    "age = 18\n",
    "car = 'Jaguar'\n",
    "\n",
    "if age >= 18 and car in ['Honda', 'Toyota']:\n",
    "    print('I love driving Japanese cars')\n",
    "\n",
    "elif age >= 18 and car in ['Ford', 'Chrysler']:\n",
    "    print('I love driving American cars')\n",
    "\n",
    "else:\n",
    "    print('Anything goes')"
   ]
  },
  {
   "cell_type": "code",
   "execution_count": 313,
   "id": "1d0f5aee",
   "metadata": {
    "ExecuteTime": {
     "end_time": "2023-07-30T16:45:34.020038Z",
     "start_time": "2023-07-30T16:45:34.013070Z"
    }
   },
   "outputs": [
    {
     "name": "stdout",
     "output_type": "stream",
     "text": [
      "I love driving Japanese cars\n"
     ]
    }
   ],
   "source": [
    "# or operator \n",
    "age = 18\n",
    "car = 'Jaguar'\n",
    "\n",
    "if age >= 18 or car in ['Honda', 'Toyota']:\n",
    "    print('I love driving Japanese cars')\n",
    "\n",
    "elif age >= 18 or car in ['Ford', 'Chrysler']:\n",
    "    print('I love driving American cars')\n",
    "\n",
    "else:\n",
    "    print('Anything goes')"
   ]
  },
  {
   "cell_type": "code",
   "execution_count": 314,
   "id": "aebe8f0b",
   "metadata": {
    "ExecuteTime": {
     "end_time": "2023-07-30T16:45:34.275238Z",
     "start_time": "2023-07-30T16:45:34.271243Z"
    }
   },
   "outputs": [
    {
     "name": "stdout",
     "output_type": "stream",
     "text": [
      "You can go in\n"
     ]
    }
   ],
   "source": [
    "# not operator \n",
    "if not untrue: \n",
    "    print(\"You can go in\")\n",
    "else:\n",
    "    print(\"You can't go in\")"
   ]
  },
  {
   "cell_type": "markdown",
   "id": "0fac953d",
   "metadata": {},
   "source": [
    "## Combine logical operators "
   ]
  },
  {
   "cell_type": "code",
   "execution_count": 315,
   "id": "b17f8265",
   "metadata": {
    "ExecuteTime": {
     "end_time": "2023-07-30T16:45:34.751656Z",
     "start_time": "2023-07-30T16:45:34.746854Z"
    }
   },
   "outputs": [
    {
     "name": "stdout",
     "output_type": "stream",
     "text": [
      "This milk is 10 days old and looks white\n"
     ]
    }
   ],
   "source": [
    "color = 'white'\n",
    "age = 10 \n",
    "\n",
    "if age <= 14 and (color == 'white' or color == 'green'):\n",
    "    print(f'This milk is {age} days old and looks {color}')\n",
    "else:\n",
    "    print(f'You should not drink this {age} day old milk' )"
   ]
  },
  {
   "cell_type": "code",
   "execution_count": null,
   "id": "ee0cd3cf",
   "metadata": {},
   "outputs": [],
   "source": []
  },
  {
   "cell_type": "code",
   "execution_count": null,
   "id": "55ffdbc3",
   "metadata": {},
   "outputs": [],
   "source": []
  },
  {
   "cell_type": "code",
   "execution_count": null,
   "id": "31473da4",
   "metadata": {},
   "outputs": [],
   "source": []
  },
  {
   "cell_type": "markdown",
   "id": "f5b30a2d",
   "metadata": {},
   "source": [
    "## Special Operators"
   ]
  },
  {
   "cell_type": "code",
   "execution_count": 316,
   "id": "8ac88e29",
   "metadata": {
    "ExecuteTime": {
     "end_time": "2023-07-30T16:45:36.277997Z",
     "start_time": "2023-07-30T16:45:36.274128Z"
    }
   },
   "outputs": [],
   "source": [
    "# is - It is True when the values are identical \n",
    "# is not - It is True when the values are not identical \n",
    "# in - It is True when the value is in a collection or a set of items \n",
    "# not in - It is True when the values isn't in a collection or a set of item"
   ]
  },
  {
   "cell_type": "code",
   "execution_count": 317,
   "id": "d66f13aa",
   "metadata": {
    "ExecuteTime": {
     "end_time": "2023-07-30T16:45:36.525723Z",
     "start_time": "2023-07-30T16:45:36.521120Z"
    }
   },
   "outputs": [],
   "source": [
    "# List \n",
    "x = [1, 2, 3, 4]\n",
    "y = [1, 2, 3, 4]"
   ]
  },
  {
   "cell_type": "code",
   "execution_count": 318,
   "id": "40d376ec",
   "metadata": {
    "ExecuteTime": {
     "end_time": "2023-07-30T16:45:36.929428Z",
     "start_time": "2023-07-30T16:45:36.923346Z"
    }
   },
   "outputs": [
    {
     "data": {
      "text/plain": [
       "list"
      ]
     },
     "execution_count": 318,
     "metadata": {},
     "output_type": "execute_result"
    }
   ],
   "source": [
    "type(x)"
   ]
  },
  {
   "cell_type": "code",
   "execution_count": 319,
   "id": "eea5fe3e",
   "metadata": {
    "ExecuteTime": {
     "end_time": "2023-07-30T16:45:37.174397Z",
     "start_time": "2023-07-30T16:45:37.165900Z"
    }
   },
   "outputs": [
    {
     "data": {
      "text/plain": [
       "True"
      ]
     },
     "execution_count": 319,
     "metadata": {},
     "output_type": "execute_result"
    }
   ],
   "source": [
    "x == y # Checking Equality"
   ]
  },
  {
   "cell_type": "code",
   "execution_count": 320,
   "id": "9861e11f",
   "metadata": {
    "ExecuteTime": {
     "end_time": "2023-07-30T16:45:37.397653Z",
     "start_time": "2023-07-30T16:45:37.393461Z"
    }
   },
   "outputs": [
    {
     "data": {
      "text/plain": [
       "False"
      ]
     },
     "execution_count": 320,
     "metadata": {},
     "output_type": "execute_result"
    }
   ],
   "source": [
    "x is y # Checking identity"
   ]
  },
  {
   "cell_type": "code",
   "execution_count": 321,
   "id": "c0b71640",
   "metadata": {
    "ExecuteTime": {
     "end_time": "2023-07-30T16:45:37.610536Z",
     "start_time": "2023-07-30T16:45:37.604188Z"
    }
   },
   "outputs": [
    {
     "data": {
      "text/plain": [
       "140176608797632"
      ]
     },
     "execution_count": 321,
     "metadata": {},
     "output_type": "execute_result"
    }
   ],
   "source": [
    "id(x)"
   ]
  },
  {
   "cell_type": "code",
   "execution_count": 322,
   "id": "1cec4b0b",
   "metadata": {
    "ExecuteTime": {
     "end_time": "2023-07-30T16:45:37.853877Z",
     "start_time": "2023-07-30T16:45:37.845279Z"
    }
   },
   "outputs": [
    {
     "data": {
      "text/plain": [
       "140176609322176"
      ]
     },
     "execution_count": 322,
     "metadata": {},
     "output_type": "execute_result"
    }
   ],
   "source": [
    "id(y)"
   ]
  },
  {
   "cell_type": "code",
   "execution_count": 323,
   "id": "c4945691",
   "metadata": {
    "ExecuteTime": {
     "end_time": "2023-07-30T16:45:38.086629Z",
     "start_time": "2023-07-30T16:45:38.083400Z"
    }
   },
   "outputs": [],
   "source": [
    "# Understand Identity\n",
    "v = 'Pablo'\n",
    "u = 'Pablo'"
   ]
  },
  {
   "cell_type": "code",
   "execution_count": 324,
   "id": "16e54e4a",
   "metadata": {
    "ExecuteTime": {
     "end_time": "2023-07-30T16:45:38.324301Z",
     "start_time": "2023-07-30T16:45:38.318357Z"
    }
   },
   "outputs": [
    {
     "data": {
      "text/plain": [
       "True"
      ]
     },
     "execution_count": 324,
     "metadata": {},
     "output_type": "execute_result"
    }
   ],
   "source": [
    "v == u "
   ]
  },
  {
   "cell_type": "code",
   "execution_count": 325,
   "id": "bc63b2de",
   "metadata": {
    "ExecuteTime": {
     "end_time": "2023-07-30T16:45:38.543724Z",
     "start_time": "2023-07-30T16:45:38.537332Z"
    }
   },
   "outputs": [
    {
     "data": {
      "text/plain": [
       "True"
      ]
     },
     "execution_count": 325,
     "metadata": {},
     "output_type": "execute_result"
    }
   ],
   "source": [
    "# Is used for identity\n",
    "v is u "
   ]
  },
  {
   "cell_type": "code",
   "execution_count": 326,
   "id": "88ae3ad3",
   "metadata": {
    "ExecuteTime": {
     "end_time": "2023-07-30T16:45:38.789155Z",
     "start_time": "2023-07-30T16:45:38.781867Z"
    }
   },
   "outputs": [
    {
     "data": {
      "text/plain": [
       "str"
      ]
     },
     "execution_count": 326,
     "metadata": {},
     "output_type": "execute_result"
    }
   ],
   "source": [
    "type(v)"
   ]
  },
  {
   "cell_type": "code",
   "execution_count": 327,
   "id": "9515ba08",
   "metadata": {
    "ExecuteTime": {
     "end_time": "2023-07-30T16:45:39.030937Z",
     "start_time": "2023-07-30T16:45:39.021747Z"
    }
   },
   "outputs": [
    {
     "data": {
      "text/plain": [
       "140176574675376"
      ]
     },
     "execution_count": 327,
     "metadata": {},
     "output_type": "execute_result"
    }
   ],
   "source": [
    "id(v)"
   ]
  },
  {
   "cell_type": "code",
   "execution_count": 328,
   "id": "31ac221a",
   "metadata": {
    "ExecuteTime": {
     "end_time": "2023-07-30T16:45:39.288215Z",
     "start_time": "2023-07-30T16:45:39.282505Z"
    }
   },
   "outputs": [
    {
     "data": {
      "text/plain": [
       "140176574675376"
      ]
     },
     "execution_count": 328,
     "metadata": {},
     "output_type": "execute_result"
    }
   ],
   "source": [
    "id(u)"
   ]
  },
  {
   "cell_type": "code",
   "execution_count": 329,
   "id": "bcd44262",
   "metadata": {
    "ExecuteTime": {
     "end_time": "2023-07-30T16:45:39.538678Z",
     "start_time": "2023-07-30T16:45:39.533198Z"
    }
   },
   "outputs": [],
   "source": [
    "# in \n",
    "x = [1, 2, 3, 4]\n",
    "y = [1, 2, 3, 4]"
   ]
  },
  {
   "cell_type": "code",
   "execution_count": 330,
   "id": "21118aba",
   "metadata": {
    "ExecuteTime": {
     "end_time": "2023-07-30T16:45:39.771232Z",
     "start_time": "2023-07-30T16:45:39.765495Z"
    }
   },
   "outputs": [
    {
     "data": {
      "text/plain": [
       "True"
      ]
     },
     "execution_count": 330,
     "metadata": {},
     "output_type": "execute_result"
    }
   ],
   "source": [
    "1 in x "
   ]
  },
  {
   "cell_type": "code",
   "execution_count": 331,
   "id": "d9914ac8",
   "metadata": {
    "ExecuteTime": {
     "end_time": "2023-07-30T16:45:40.001501Z",
     "start_time": "2023-07-30T16:45:39.995197Z"
    }
   },
   "outputs": [
    {
     "data": {
      "text/plain": [
       "False"
      ]
     },
     "execution_count": 331,
     "metadata": {},
     "output_type": "execute_result"
    }
   ],
   "source": [
    "1 not in x "
   ]
  },
  {
   "cell_type": "code",
   "execution_count": null,
   "id": "3c9b2d84",
   "metadata": {},
   "outputs": [],
   "source": []
  },
  {
   "cell_type": "code",
   "execution_count": null,
   "id": "bd777ace",
   "metadata": {},
   "outputs": [],
   "source": []
  },
  {
   "cell_type": "code",
   "execution_count": null,
   "id": "00f13b85",
   "metadata": {},
   "outputs": [],
   "source": []
  },
  {
   "cell_type": "code",
   "execution_count": null,
   "id": "97a61a7f",
   "metadata": {},
   "outputs": [],
   "source": []
  },
  {
   "cell_type": "code",
   "execution_count": null,
   "id": "57ec23c6",
   "metadata": {},
   "outputs": [],
   "source": []
  },
  {
   "cell_type": "code",
   "execution_count": null,
   "id": "b293d898",
   "metadata": {},
   "outputs": [],
   "source": []
  },
  {
   "cell_type": "code",
   "execution_count": null,
   "id": "a037d4fe",
   "metadata": {},
   "outputs": [],
   "source": []
  },
  {
   "cell_type": "code",
   "execution_count": null,
   "id": "d8facb80",
   "metadata": {},
   "outputs": [],
   "source": []
  },
  {
   "cell_type": "code",
   "execution_count": null,
   "id": "93e90a00",
   "metadata": {},
   "outputs": [],
   "source": []
  },
  {
   "cell_type": "markdown",
   "id": "1ee8b5fc",
   "metadata": {
    "id": "1ee8b5fc"
   },
   "source": [
    "## Living in the Future"
   ]
  },
  {
   "cell_type": "code",
   "execution_count": 332,
   "id": "f967931a",
   "metadata": {
    "ExecuteTime": {
     "end_time": "2023-07-30T16:45:42.579063Z",
     "start_time": "2023-07-30T16:45:42.575601Z"
    },
    "id": "f967931a"
   },
   "outputs": [],
   "source": [
    "# import libraries \n",
    "import pandas as pd \n",
    "import numpy as np  "
   ]
  },
  {
   "cell_type": "code",
   "execution_count": 333,
   "id": "58c87cd7",
   "metadata": {
    "ExecuteTime": {
     "end_time": "2023-07-30T16:45:42.826220Z",
     "start_time": "2023-07-30T16:45:42.821966Z"
    },
    "id": "58c87cd7"
   },
   "outputs": [],
   "source": [
    "var_name = \"Pablo\""
   ]
  },
  {
   "cell_type": "markdown",
   "id": "a4c544d6",
   "metadata": {
    "id": "a4c544d6"
   },
   "source": [
    "### Reading a dataset into a dataframe "
   ]
  },
  {
   "cell_type": "code",
   "execution_count": 334,
   "id": "afe7449a",
   "metadata": {
    "ExecuteTime": {
     "end_time": "2023-07-30T16:45:43.336078Z",
     "start_time": "2023-07-30T16:45:43.331329Z"
    },
    "id": "afe7449a"
   },
   "outputs": [],
   "source": [
    "# Terminologies -->>\n",
    "# Dataset - raw file\n",
    "# Dataframes - 2 Dimensional Tabular Structure\n",
    "# Series - 1 Dimensional \n",
    "# Columns - Features (deterministic and or variability)\n",
    "# Rows - Observations "
   ]
  },
  {
   "cell_type": "code",
   "execution_count": 335,
   "id": "e18a39fa",
   "metadata": {
    "ExecuteTime": {
     "end_time": "2023-07-30T16:45:43.727752Z",
     "start_time": "2023-07-30T16:45:43.712869Z"
    },
    "id": "e18a39fa"
   },
   "outputs": [],
   "source": [
    "titanic_data = pd.read_csv('train.csv')"
   ]
  },
  {
   "cell_type": "code",
   "execution_count": 336,
   "id": "41da8d7b",
   "metadata": {
    "ExecuteTime": {
     "end_time": "2023-07-30T16:45:43.996335Z",
     "start_time": "2023-07-30T16:45:43.982837Z"
    },
    "id": "41da8d7b",
    "outputId": "3e6f28a8-9d9b-4cd3-aafe-ba2a26b6bbf7"
   },
   "outputs": [
    {
     "data": {
      "text/html": [
       "<div>\n",
       "<style scoped>\n",
       "    .dataframe tbody tr th:only-of-type {\n",
       "        vertical-align: middle;\n",
       "    }\n",
       "\n",
       "    .dataframe tbody tr th {\n",
       "        vertical-align: top;\n",
       "    }\n",
       "\n",
       "    .dataframe thead th {\n",
       "        text-align: right;\n",
       "    }\n",
       "</style>\n",
       "<table border=\"1\" class=\"dataframe\">\n",
       "  <thead>\n",
       "    <tr style=\"text-align: right;\">\n",
       "      <th></th>\n",
       "      <th>PassengerId</th>\n",
       "      <th>Survived</th>\n",
       "      <th>Pclass</th>\n",
       "      <th>Name</th>\n",
       "      <th>Sex</th>\n",
       "      <th>Age</th>\n",
       "      <th>SibSp</th>\n",
       "      <th>Parch</th>\n",
       "      <th>Ticket</th>\n",
       "      <th>Fare</th>\n",
       "      <th>Cabin</th>\n",
       "      <th>Embarked</th>\n",
       "    </tr>\n",
       "  </thead>\n",
       "  <tbody>\n",
       "    <tr>\n",
       "      <th>0</th>\n",
       "      <td>1</td>\n",
       "      <td>0</td>\n",
       "      <td>3</td>\n",
       "      <td>Braund, Mr. Owen Harris</td>\n",
       "      <td>male</td>\n",
       "      <td>22.0</td>\n",
       "      <td>1</td>\n",
       "      <td>0</td>\n",
       "      <td>A/5 21171</td>\n",
       "      <td>7.2500</td>\n",
       "      <td>NaN</td>\n",
       "      <td>S</td>\n",
       "    </tr>\n",
       "    <tr>\n",
       "      <th>1</th>\n",
       "      <td>2</td>\n",
       "      <td>1</td>\n",
       "      <td>1</td>\n",
       "      <td>Cumings, Mrs. John Bradley (Florence Briggs Th...</td>\n",
       "      <td>female</td>\n",
       "      <td>38.0</td>\n",
       "      <td>1</td>\n",
       "      <td>0</td>\n",
       "      <td>PC 17599</td>\n",
       "      <td>71.2833</td>\n",
       "      <td>C85</td>\n",
       "      <td>C</td>\n",
       "    </tr>\n",
       "    <tr>\n",
       "      <th>2</th>\n",
       "      <td>3</td>\n",
       "      <td>1</td>\n",
       "      <td>3</td>\n",
       "      <td>Heikkinen, Miss. Laina</td>\n",
       "      <td>female</td>\n",
       "      <td>26.0</td>\n",
       "      <td>0</td>\n",
       "      <td>0</td>\n",
       "      <td>STON/O2. 3101282</td>\n",
       "      <td>7.9250</td>\n",
       "      <td>NaN</td>\n",
       "      <td>S</td>\n",
       "    </tr>\n",
       "    <tr>\n",
       "      <th>3</th>\n",
       "      <td>4</td>\n",
       "      <td>1</td>\n",
       "      <td>1</td>\n",
       "      <td>Futrelle, Mrs. Jacques Heath (Lily May Peel)</td>\n",
       "      <td>female</td>\n",
       "      <td>35.0</td>\n",
       "      <td>1</td>\n",
       "      <td>0</td>\n",
       "      <td>113803</td>\n",
       "      <td>53.1000</td>\n",
       "      <td>C123</td>\n",
       "      <td>S</td>\n",
       "    </tr>\n",
       "    <tr>\n",
       "      <th>4</th>\n",
       "      <td>5</td>\n",
       "      <td>0</td>\n",
       "      <td>3</td>\n",
       "      <td>Allen, Mr. William Henry</td>\n",
       "      <td>male</td>\n",
       "      <td>35.0</td>\n",
       "      <td>0</td>\n",
       "      <td>0</td>\n",
       "      <td>373450</td>\n",
       "      <td>8.0500</td>\n",
       "      <td>NaN</td>\n",
       "      <td>S</td>\n",
       "    </tr>\n",
       "  </tbody>\n",
       "</table>\n",
       "</div>"
      ],
      "text/plain": [
       "   PassengerId  Survived  Pclass  \\\n",
       "0            1         0       3   \n",
       "1            2         1       1   \n",
       "2            3         1       3   \n",
       "3            4         1       1   \n",
       "4            5         0       3   \n",
       "\n",
       "                                                Name     Sex   Age  SibSp  \\\n",
       "0                            Braund, Mr. Owen Harris    male  22.0      1   \n",
       "1  Cumings, Mrs. John Bradley (Florence Briggs Th...  female  38.0      1   \n",
       "2                             Heikkinen, Miss. Laina  female  26.0      0   \n",
       "3       Futrelle, Mrs. Jacques Heath (Lily May Peel)  female  35.0      1   \n",
       "4                           Allen, Mr. William Henry    male  35.0      0   \n",
       "\n",
       "   Parch            Ticket     Fare Cabin Embarked  \n",
       "0      0         A/5 21171   7.2500   NaN        S  \n",
       "1      0          PC 17599  71.2833   C85        C  \n",
       "2      0  STON/O2. 3101282   7.9250   NaN        S  \n",
       "3      0            113803  53.1000  C123        S  \n",
       "4      0            373450   8.0500   NaN        S  "
      ]
     },
     "execution_count": 336,
     "metadata": {},
     "output_type": "execute_result"
    }
   ],
   "source": [
    "titanic_data.head() # Dataframe"
   ]
  },
  {
   "cell_type": "code",
   "execution_count": 337,
   "id": "affc55f5",
   "metadata": {
    "ExecuteTime": {
     "end_time": "2023-07-30T16:45:44.221550Z",
     "start_time": "2023-07-30T16:45:44.213944Z"
    },
    "id": "affc55f5",
    "outputId": "b0f2a8d7-a5e7-4d9b-85d3-4cf13fc132d7"
   },
   "outputs": [
    {
     "data": {
      "text/plain": [
       "pandas.core.series.Series"
      ]
     },
     "execution_count": 337,
     "metadata": {},
     "output_type": "execute_result"
    }
   ],
   "source": [
    "type(titanic_data['Pclass'])"
   ]
  },
  {
   "cell_type": "code",
   "execution_count": 338,
   "id": "382b9466",
   "metadata": {
    "ExecuteTime": {
     "end_time": "2023-07-30T16:45:44.533128Z",
     "start_time": "2023-07-30T16:45:44.494053Z"
    },
    "id": "382b9466",
    "outputId": "f1de9926-f865-4eec-8c65-8efedacaa38e"
   },
   "outputs": [
    {
     "data": {
      "text/plain": [
       "count    891.000000\n",
       "mean       2.308642\n",
       "std        0.836071\n",
       "min        1.000000\n",
       "25%        2.000000\n",
       "50%        3.000000\n",
       "75%        3.000000\n",
       "max        3.000000\n",
       "Name: Pclass, dtype: float64"
      ]
     },
     "execution_count": 338,
     "metadata": {},
     "output_type": "execute_result"
    }
   ],
   "source": [
    "titanic_data['Pclass'].describe() "
   ]
  },
  {
   "cell_type": "code",
   "execution_count": 339,
   "id": "1475188d",
   "metadata": {
    "ExecuteTime": {
     "end_time": "2023-07-30T16:45:44.755421Z",
     "start_time": "2023-07-30T16:45:44.726577Z"
    },
    "id": "1475188d",
    "outputId": "ad506e49-c8e0-4888-e880-d749d76c8536"
   },
   "outputs": [
    {
     "data": {
      "text/plain": [
       "count                         891\n",
       "unique                        891\n",
       "top       Braund, Mr. Owen Harris\n",
       "freq                            1\n",
       "Name: Name, dtype: object"
      ]
     },
     "execution_count": 339,
     "metadata": {},
     "output_type": "execute_result"
    }
   ],
   "source": [
    "titanic_data['Name'].describe()"
   ]
  },
  {
   "cell_type": "code",
   "execution_count": 340,
   "id": "809aa3a2",
   "metadata": {
    "ExecuteTime": {
     "end_time": "2023-07-30T16:45:45.493344Z",
     "start_time": "2023-07-30T16:45:45.486509Z"
    },
    "id": "809aa3a2",
    "outputId": "70c8bbe6-b39c-43fb-abd2-f5d610409a35"
   },
   "outputs": [
    {
     "data": {
      "text/plain": [
       "(891, 12)"
      ]
     },
     "execution_count": 340,
     "metadata": {},
     "output_type": "execute_result"
    }
   ],
   "source": [
    "titanic_data.shape "
   ]
  },
  {
   "cell_type": "code",
   "execution_count": null,
   "id": "25c9163f",
   "metadata": {
    "id": "25c9163f"
   },
   "outputs": [],
   "source": []
  },
  {
   "cell_type": "code",
   "execution_count": null,
   "id": "91309c66",
   "metadata": {
    "id": "91309c66"
   },
   "outputs": [],
   "source": []
  },
  {
   "cell_type": "code",
   "execution_count": null,
   "id": "49ef886b",
   "metadata": {
    "id": "49ef886b"
   },
   "outputs": [],
   "source": []
  },
  {
   "cell_type": "code",
   "execution_count": null,
   "id": "2d328f3e",
   "metadata": {
    "id": "2d328f3e"
   },
   "outputs": [],
   "source": []
  },
  {
   "cell_type": "markdown",
   "id": "ef1b695a",
   "metadata": {
    "id": "ef1b695a"
   },
   "source": [
    "### Explaining Challenges"
   ]
  },
  {
   "cell_type": "code",
   "execution_count": 341,
   "id": "3fd2eefb",
   "metadata": {
    "ExecuteTime": {
     "end_time": "2023-07-30T16:45:47.052353Z",
     "start_time": "2023-07-30T16:45:47.044188Z"
    },
    "id": "3fd2eefb"
   },
   "outputs": [],
   "source": [
    "# Recreate a list method for Kelechi\n",
    "# Pop,reverse,append  "
   ]
  },
  {
   "cell_type": "code",
   "execution_count": 342,
   "id": "ddee3dbf",
   "metadata": {
    "ExecuteTime": {
     "end_time": "2023-07-30T16:45:47.316371Z",
     "start_time": "2023-07-30T16:45:47.312895Z"
    },
    "id": "ddee3dbf"
   },
   "outputs": [],
   "source": [
    "# In Python - Storing information and retrieving information\n",
    "# Data Structures - Different forms storing, keeping data, data types\n",
    "# List - Store different data types, creating a list []"
   ]
  },
  {
   "cell_type": "code",
   "execution_count": 343,
   "id": "7ac27d4d",
   "metadata": {
    "ExecuteTime": {
     "end_time": "2023-07-30T16:45:47.572244Z",
     "start_time": "2023-07-30T16:45:47.560429Z"
    },
    "id": "7ac27d4d"
   },
   "outputs": [],
   "source": [
    "list_numbers = [12, 56, 78]\n",
    "list_names = ['Kelechi', 'Pablo', 'Rofiyat']"
   ]
  },
  {
   "cell_type": "code",
   "execution_count": 344,
   "id": "c135ee4d",
   "metadata": {
    "ExecuteTime": {
     "end_time": "2023-07-30T16:45:47.810098Z",
     "start_time": "2023-07-30T16:45:47.796729Z"
    },
    "id": "c135ee4d",
    "outputId": "0663b3e0-bf81-46ba-ff50-34aa73672da1"
   },
   "outputs": [
    {
     "name": "stdout",
     "output_type": "stream",
     "text": [
      "['Kelechi', 'Pablo', 'Rofiyat']\n"
     ]
    }
   ],
   "source": [
    "print(list_names)"
   ]
  },
  {
   "cell_type": "code",
   "execution_count": 345,
   "id": "0284276b",
   "metadata": {
    "ExecuteTime": {
     "end_time": "2023-07-30T16:45:48.044635Z",
     "start_time": "2023-07-30T16:45:48.036002Z"
    },
    "id": "0284276b"
   },
   "outputs": [],
   "source": [
    "# Lists have certain characteristics \n",
    "# They are ordered, sequenced, mutable "
   ]
  },
  {
   "cell_type": "code",
   "execution_count": 346,
   "id": "a96f3b2c",
   "metadata": {
    "ExecuteTime": {
     "end_time": "2023-07-30T16:45:48.281534Z",
     "start_time": "2023-07-30T16:45:48.267803Z"
    },
    "id": "a96f3b2c",
    "outputId": "6aaf7495-1837-4633-89b2-aca3ff893c26"
   },
   "outputs": [
    {
     "data": {
      "text/plain": [
       "78"
      ]
     },
     "execution_count": 346,
     "metadata": {},
     "output_type": "execute_result"
    }
   ],
   "source": [
    "list_numbers.pop() # pop"
   ]
  },
  {
   "cell_type": "code",
   "execution_count": 347,
   "id": "ec8f8265",
   "metadata": {
    "ExecuteTime": {
     "end_time": "2023-07-30T16:45:48.526817Z",
     "start_time": "2023-07-30T16:45:48.520443Z"
    },
    "id": "ec8f8265",
    "outputId": "d3baa4a4-b54d-4136-c2b3-070e2366b1f7"
   },
   "outputs": [
    {
     "data": {
      "text/plain": [
       "[12, 56]"
      ]
     },
     "execution_count": 347,
     "metadata": {},
     "output_type": "execute_result"
    }
   ],
   "source": [
    "list_numbers"
   ]
  },
  {
   "cell_type": "code",
   "execution_count": 348,
   "id": "f1ae318b",
   "metadata": {
    "ExecuteTime": {
     "end_time": "2023-07-30T16:45:48.775692Z",
     "start_time": "2023-07-30T16:45:48.772195Z"
    },
    "id": "f1ae318b"
   },
   "outputs": [],
   "source": [
    "list_numbers.append(78) # Append"
   ]
  },
  {
   "cell_type": "code",
   "execution_count": 349,
   "id": "5f1da851",
   "metadata": {
    "ExecuteTime": {
     "end_time": "2023-07-30T16:45:49.053134Z",
     "start_time": "2023-07-30T16:45:49.048913Z"
    },
    "id": "5f1da851"
   },
   "outputs": [],
   "source": [
    "list_numbers.reverse()"
   ]
  },
  {
   "cell_type": "code",
   "execution_count": 350,
   "id": "eb05500d",
   "metadata": {
    "ExecuteTime": {
     "end_time": "2023-07-30T16:45:49.319062Z",
     "start_time": "2023-07-30T16:45:49.312676Z"
    },
    "id": "eb05500d"
   },
   "outputs": [],
   "source": [
    "list_names.reverse()"
   ]
  },
  {
   "cell_type": "code",
   "execution_count": 351,
   "id": "023c6d72",
   "metadata": {
    "ExecuteTime": {
     "end_time": "2023-07-30T16:45:49.559918Z",
     "start_time": "2023-07-30T16:45:49.551168Z"
    },
    "id": "023c6d72",
    "outputId": "52a79566-5405-401a-b6aa-ebdef611e6e0"
   },
   "outputs": [
    {
     "data": {
      "text/plain": [
       "[78, 56, 12]"
      ]
     },
     "execution_count": 351,
     "metadata": {},
     "output_type": "execute_result"
    }
   ],
   "source": [
    "list_numbers"
   ]
  },
  {
   "cell_type": "code",
   "execution_count": 352,
   "id": "c50ea2ed",
   "metadata": {
    "ExecuteTime": {
     "end_time": "2023-07-30T16:45:49.792622Z",
     "start_time": "2023-07-30T16:45:49.782184Z"
    },
    "id": "c50ea2ed",
    "outputId": "4b442090-fdc7-45c9-a14e-43883320aac2"
   },
   "outputs": [
    {
     "data": {
      "text/plain": [
       "['Rofiyat', 'Pablo', 'Kelechi']"
      ]
     },
     "execution_count": 352,
     "metadata": {},
     "output_type": "execute_result"
    }
   ],
   "source": [
    "list_names"
   ]
  },
  {
   "cell_type": "code",
   "execution_count": 353,
   "id": "b1f5ea54",
   "metadata": {
    "ExecuteTime": {
     "end_time": "2023-07-30T16:45:50.034889Z",
     "start_time": "2023-07-30T16:45:50.027475Z"
    },
    "id": "b1f5ea54"
   },
   "outputs": [],
   "source": [
    "# Python has different data structures: List, Tuple"
   ]
  },
  {
   "cell_type": "code",
   "execution_count": 354,
   "id": "1bac1812",
   "metadata": {
    "ExecuteTime": {
     "end_time": "2023-07-30T16:45:50.282015Z",
     "start_time": "2023-07-30T16:45:50.277838Z"
    },
    "id": "1bac1812"
   },
   "outputs": [],
   "source": [
    "# Dictionary: \n",
    "dict_profile = {'first_name': 'Pablo', 'last_name': 'Okwukogu', 'location': 'Kaduna'}"
   ]
  },
  {
   "cell_type": "code",
   "execution_count": 355,
   "id": "fbc0fb63",
   "metadata": {
    "ExecuteTime": {
     "end_time": "2023-07-30T16:45:50.501713Z",
     "start_time": "2023-07-30T16:45:50.497352Z"
    },
    "id": "fbc0fb63",
    "outputId": "8346f845-0555-4201-ba92-6edbb0ee60f5"
   },
   "outputs": [
    {
     "name": "stdout",
     "output_type": "stream",
     "text": [
      "{'first_name': 'Pablo', 'last_name': 'Okwukogu', 'location': 'Kaduna'}\n"
     ]
    }
   ],
   "source": [
    "print(dict_profile)"
   ]
  },
  {
   "cell_type": "code",
   "execution_count": 356,
   "id": "23355008",
   "metadata": {
    "ExecuteTime": {
     "end_time": "2023-07-30T16:45:50.741435Z",
     "start_time": "2023-07-30T16:45:50.734343Z"
    },
    "id": "23355008",
    "outputId": "d9aa9678-691d-4001-c71b-5f1cfadfa067"
   },
   "outputs": [
    {
     "data": {
      "text/plain": [
       "'Okwukogu'"
      ]
     },
     "execution_count": 356,
     "metadata": {},
     "output_type": "execute_result"
    }
   ],
   "source": [
    "dict_profile['last_name']"
   ]
  },
  {
   "cell_type": "code",
   "execution_count": 357,
   "id": "fa2ece0d",
   "metadata": {
    "ExecuteTime": {
     "end_time": "2023-07-30T16:45:50.998599Z",
     "start_time": "2023-07-30T16:45:50.993219Z"
    },
    "id": "fa2ece0d"
   },
   "outputs": [],
   "source": [
    "del dict_profile['first_name']"
   ]
  },
  {
   "cell_type": "code",
   "execution_count": 358,
   "id": "4c062900",
   "metadata": {
    "ExecuteTime": {
     "end_time": "2023-07-30T16:45:51.221771Z",
     "start_time": "2023-07-30T16:45:51.212700Z"
    },
    "id": "4c062900",
    "outputId": "0b12c5be-8d62-46db-a5dd-c710180b19c1"
   },
   "outputs": [
    {
     "data": {
      "text/plain": [
       "{'last_name': 'Okwukogu', 'location': 'Kaduna'}"
      ]
     },
     "execution_count": 358,
     "metadata": {},
     "output_type": "execute_result"
    }
   ],
   "source": [
    "dict_profile"
   ]
  },
  {
   "cell_type": "code",
   "execution_count": 359,
   "id": "57d12f8f",
   "metadata": {
    "ExecuteTime": {
     "end_time": "2023-07-30T16:45:51.457103Z",
     "start_time": "2023-07-30T16:45:51.451911Z"
    },
    "id": "57d12f8f"
   },
   "outputs": [],
   "source": [
    "### Nested Dictionaries "
   ]
  },
  {
   "cell_type": "code",
   "execution_count": 360,
   "id": "1296dd04",
   "metadata": {
    "ExecuteTime": {
     "end_time": "2023-07-30T16:45:51.719708Z",
     "start_time": "2023-07-30T16:45:51.715392Z"
    },
    "id": "1296dd04"
   },
   "outputs": [],
   "source": [
    "twitter_profile = {\n",
    "    \"@iamaliutoheeb\": {\n",
    "        \"first_name\": \"Aliu\",\n",
    "        \"last_name\": \"Olaitan\",\n",
    "        \"location\": \"Zaria\"\n",
    "    }, \n",
    "    \"@ipablo26\": {\"first_name\": \"Pablo\",\n",
    "        \"last_name\": \"OKwukogu\",\n",
    "        \"location\": \"Kaduna South\"}\n",
    "}"
   ]
  },
  {
   "cell_type": "code",
   "execution_count": 361,
   "id": "cef8a3fb",
   "metadata": {
    "ExecuteTime": {
     "end_time": "2023-07-30T16:45:51.970441Z",
     "start_time": "2023-07-30T16:45:51.962235Z"
    },
    "id": "cef8a3fb",
    "outputId": "09784fd7-45a2-4ee5-960c-b993d6381f3d"
   },
   "outputs": [
    {
     "name": "stdout",
     "output_type": "stream",
     "text": [
      "{'@iamaliutoheeb': {'first_name': 'Aliu', 'last_name': 'Olaitan', 'location': 'Zaria'}, '@ipablo26': {'first_name': 'Pablo', 'last_name': 'OKwukogu', 'location': 'Kaduna South'}}\n"
     ]
    }
   ],
   "source": [
    "print(twitter_profile)"
   ]
  },
  {
   "cell_type": "code",
   "execution_count": 362,
   "id": "83c72a14",
   "metadata": {
    "ExecuteTime": {
     "end_time": "2023-07-30T16:45:52.218298Z",
     "start_time": "2023-07-30T16:45:52.213062Z"
    },
    "id": "83c72a14",
    "outputId": "4dabd94e-9864-4dce-f7c8-af23deb09e54"
   },
   "outputs": [
    {
     "name": "stdout",
     "output_type": "stream",
     "text": [
      "@iamaliutoheeb\n",
      "@ipablo26\n"
     ]
    }
   ],
   "source": [
    "for key,value in twitter_profile.items():\n",
    "    print(key)\n",
    "    "
   ]
  },
  {
   "cell_type": "code",
   "execution_count": 363,
   "id": "12d2b0b0",
   "metadata": {
    "ExecuteTime": {
     "end_time": "2023-07-30T16:45:52.451526Z",
     "start_time": "2023-07-30T16:45:52.446213Z"
    },
    "id": "12d2b0b0",
    "outputId": "3f094728-e8e4-473a-f7bd-edee797c173e"
   },
   "outputs": [
    {
     "ename": "SyntaxError",
     "evalue": "incomplete input (2971708004.py, line 2)",
     "output_type": "error",
     "traceback": [
      "\u001b[0;36m  Cell \u001b[0;32mIn[363], line 2\u001b[0;36m\u001b[0m\n\u001b[0;31m    \u001b[0m\n\u001b[0m    ^\u001b[0m\n\u001b[0;31mSyntaxError\u001b[0m\u001b[0;31m:\u001b[0m incomplete input\n"
     ]
    }
   ],
   "source": [
    "for me in twitter_profile:\n",
    "    "
   ]
  },
  {
   "cell_type": "code",
   "execution_count": 364,
   "id": "604c85e6",
   "metadata": {
    "ExecuteTime": {
     "end_time": "2023-07-30T16:45:52.695474Z",
     "start_time": "2023-07-30T16:45:52.690060Z"
    },
    "id": "604c85e6",
    "outputId": "94db0531-5453-437c-cfbc-44823c5488bc"
   },
   "outputs": [
    {
     "name": "stdout",
     "output_type": "stream",
     "text": [
      "{'first_name': 'Aliu', 'last_name': 'Olaitan', 'location': 'Zaria'}\n",
      "{'first_name': 'Pablo', 'last_name': 'OKwukogu', 'location': 'Kaduna South'}\n"
     ]
    }
   ],
   "source": [
    "for key,value in twitter_profile.items():\n",
    "    print(value)"
   ]
  },
  {
   "cell_type": "code",
   "execution_count": 365,
   "id": "8530ce25",
   "metadata": {
    "ExecuteTime": {
     "end_time": "2023-07-30T16:45:53.092557Z",
     "start_time": "2023-07-30T16:45:53.086567Z"
    },
    "id": "8530ce25",
    "outputId": "b46323b4-22e6-4e02-e009-7298e954410a"
   },
   "outputs": [
    {
     "data": {
      "text/plain": [
       "True"
      ]
     },
     "execution_count": 365,
     "metadata": {},
     "output_type": "execute_result"
    }
   ],
   "source": [
    "'Sunday' == word_string"
   ]
  },
  {
   "cell_type": "markdown",
   "id": "399e6943",
   "metadata": {
    "id": "399e6943"
   },
   "source": [
    "### While Loops"
   ]
  },
  {
   "cell_type": "code",
   "execution_count": 366,
   "id": "509f9c64",
   "metadata": {
    "ExecuteTime": {
     "end_time": "2023-07-30T16:45:53.584581Z",
     "start_time": "2023-07-30T16:45:53.578833Z"
    },
    "id": "509f9c64"
   },
   "outputs": [],
   "source": [
    "# for loop \n",
    "my_list = [23, 45, 67]"
   ]
  },
  {
   "cell_type": "code",
   "execution_count": 367,
   "id": "eeeb676e",
   "metadata": {
    "ExecuteTime": {
     "end_time": "2023-07-30T16:45:53.815398Z",
     "start_time": "2023-07-30T16:45:53.810215Z"
    },
    "id": "eeeb676e",
    "outputId": "a089187c-6b4f-41f4-fe26-79b226fd4cdd"
   },
   "outputs": [
    {
     "name": "stdout",
     "output_type": "stream",
     "text": [
      "69\n",
      "135\n",
      "201\n"
     ]
    }
   ],
   "source": [
    "for num in my_list: \n",
    "    print(num * 3)"
   ]
  },
  {
   "cell_type": "code",
   "execution_count": 368,
   "id": "91fb3e54",
   "metadata": {
    "ExecuteTime": {
     "end_time": "2023-07-30T16:45:54.046061Z",
     "start_time": "2023-07-30T16:45:54.042642Z"
    },
    "id": "91fb3e54",
    "outputId": "c50bc022-2372-43d7-ddad-7d9730e64f80"
   },
   "outputs": [
    {
     "name": "stdout",
     "output_type": "stream",
     "text": [
      "0\n",
      "1\n",
      "2\n",
      "3\n",
      "4\n",
      "5\n",
      "6\n",
      "7\n",
      "8\n",
      "9\n"
     ]
    }
   ],
   "source": [
    "count = 0 \n",
    "while count < 10: \n",
    "    print(count)\n",
    "    count += 1 "
   ]
  },
  {
   "cell_type": "code",
   "execution_count": 369,
   "id": "7a3fa09a",
   "metadata": {
    "ExecuteTime": {
     "end_time": "2023-07-30T16:45:56.301695Z",
     "start_time": "2023-07-30T16:45:56.293023Z"
    },
    "id": "7a3fa09a",
    "outputId": "0b4590d5-5bae-4ddd-8e1c-0c0528b494a5"
   },
   "outputs": [
    {
     "name": "stdout",
     "output_type": "stream",
     "text": [
      "0\n",
      "1\n",
      "2\n",
      "3\n",
      "count=4\n"
     ]
    }
   ],
   "source": [
    "count = 0\n",
    "while count < 10:\n",
    "    if count == 4:\n",
    "        print(f'{count=}')\n",
    "        break\n",
    "    print(count)\n",
    "    count += 1"
   ]
  },
  {
   "cell_type": "code",
   "execution_count": 370,
   "id": "9b037079",
   "metadata": {
    "ExecuteTime": {
     "end_time": "2023-07-30T16:46:07.500187Z",
     "start_time": "2023-07-30T16:45:56.562763Z"
    },
    "id": "9b037079",
    "outputId": "b750d714-078c-4dde-e4b4-e1005cc645db"
   },
   "outputs": [
    {
     "name": "stdout",
     "output_type": "stream",
     "text": [
      "\n",
      "Tell me something and I will repeat it back to you\n",
      "Enter 'quit' to end the program Pablo\n",
      "Pablo\n",
      "\n",
      "Tell me something and I will repeat it back to you\n",
      "Enter 'quit' to end the program quit\n"
     ]
    }
   ],
   "source": [
    "# Using a flag\n",
    "prompt = \"\\nTell me something and I will repeat it back to you\"\n",
    "prompt += \"\\nEnter 'quit' to end the program \"\n",
    "active = True \n",
    "\n",
    "while active: \n",
    "    message = input(prompt)\n",
    "    if message == 'quit':\n",
    "        active = False\n",
    "    else:\n",
    "        print(message) "
   ]
  },
  {
   "cell_type": "code",
   "execution_count": 374,
   "id": "ac231591",
   "metadata": {
    "ExecuteTime": {
     "end_time": "2023-07-30T16:46:11.564739Z",
     "start_time": "2023-07-30T16:46:11.560792Z"
    },
    "id": "ac231591"
   },
   "outputs": [],
   "source": [
    "# Create a dictionary from two lists\n",
    "# Create a dataframe from the resulting dictionary \n",
    "small_list = ['Jamal', 'Sam', 'Mercy', 'Biodun']\n",
    "small_num = [34, 23, 25, 22]"
   ]
  },
  {
   "cell_type": "code",
   "execution_count": 375,
   "id": "ea19874c",
   "metadata": {
    "ExecuteTime": {
     "end_time": "2023-07-30T16:46:11.805081Z",
     "start_time": "2023-07-30T16:46:11.800415Z"
    },
    "id": "ea19874c"
   },
   "outputs": [],
   "source": [
    "total_list_dict = dict(zip(small_list, small_num))"
   ]
  },
  {
   "cell_type": "code",
   "execution_count": 376,
   "id": "9529956d",
   "metadata": {
    "ExecuteTime": {
     "end_time": "2023-07-30T16:46:12.066395Z",
     "start_time": "2023-07-30T16:46:12.060610Z"
    },
    "id": "9529956d",
    "outputId": "6a3e2c38-0d1e-413e-80c4-3120469cef12"
   },
   "outputs": [
    {
     "data": {
      "text/plain": [
       "dict"
      ]
     },
     "execution_count": 376,
     "metadata": {},
     "output_type": "execute_result"
    }
   ],
   "source": [
    "type(total_list_dict)"
   ]
  },
  {
   "cell_type": "code",
   "execution_count": 377,
   "id": "767ce784",
   "metadata": {
    "ExecuteTime": {
     "end_time": "2023-07-30T16:46:12.316280Z",
     "start_time": "2023-07-30T16:46:12.296200Z"
    },
    "id": "767ce784",
    "outputId": "5330ea57-bdfc-4dab-f7a5-b14bdf1be543"
   },
   "outputs": [
    {
     "data": {
      "text/plain": [
       "{'Jamal': 34, 'Sam': 23, 'Mercy': 25, 'Biodun': 22}"
      ]
     },
     "execution_count": 377,
     "metadata": {},
     "output_type": "execute_result"
    }
   ],
   "source": [
    "total_list_dict"
   ]
  },
  {
   "cell_type": "code",
   "execution_count": 378,
   "id": "a0721363",
   "metadata": {
    "ExecuteTime": {
     "end_time": "2023-07-30T16:46:12.555719Z",
     "start_time": "2023-07-30T16:46:12.549385Z"
    },
    "id": "a0721363"
   },
   "outputs": [],
   "source": [
    "list_dict = pd.DataFrame(total_list_dict, index=[0])"
   ]
  },
  {
   "cell_type": "code",
   "execution_count": 379,
   "id": "fa2e0394",
   "metadata": {
    "ExecuteTime": {
     "end_time": "2023-07-30T16:46:12.791364Z",
     "start_time": "2023-07-30T16:46:12.784516Z"
    },
    "id": "fa2e0394",
    "outputId": "f8891eb8-62d5-4471-bafd-228877630c01"
   },
   "outputs": [
    {
     "data": {
      "text/html": [
       "<div>\n",
       "<style scoped>\n",
       "    .dataframe tbody tr th:only-of-type {\n",
       "        vertical-align: middle;\n",
       "    }\n",
       "\n",
       "    .dataframe tbody tr th {\n",
       "        vertical-align: top;\n",
       "    }\n",
       "\n",
       "    .dataframe thead th {\n",
       "        text-align: right;\n",
       "    }\n",
       "</style>\n",
       "<table border=\"1\" class=\"dataframe\">\n",
       "  <thead>\n",
       "    <tr style=\"text-align: right;\">\n",
       "      <th></th>\n",
       "      <th>Jamal</th>\n",
       "      <th>Sam</th>\n",
       "      <th>Mercy</th>\n",
       "      <th>Biodun</th>\n",
       "    </tr>\n",
       "  </thead>\n",
       "  <tbody>\n",
       "    <tr>\n",
       "      <th>0</th>\n",
       "      <td>34</td>\n",
       "      <td>23</td>\n",
       "      <td>25</td>\n",
       "      <td>22</td>\n",
       "    </tr>\n",
       "  </tbody>\n",
       "</table>\n",
       "</div>"
      ],
      "text/plain": [
       "   Jamal  Sam  Mercy  Biodun\n",
       "0     34   23     25      22"
      ]
     },
     "execution_count": 379,
     "metadata": {},
     "output_type": "execute_result"
    }
   ],
   "source": [
    "list_dict"
   ]
  },
  {
   "cell_type": "code",
   "execution_count": 380,
   "id": "3b1f6d96",
   "metadata": {
    "ExecuteTime": {
     "end_time": "2023-07-30T16:46:13.038678Z",
     "start_time": "2023-07-30T16:46:13.033184Z"
    },
    "id": "3b1f6d96"
   },
   "outputs": [],
   "source": [
    "df = pd.DataFrame({'A': 'a', 'B': 'b', 'C': 'c'}, index=[0])"
   ]
  },
  {
   "cell_type": "code",
   "execution_count": 381,
   "id": "d722a137",
   "metadata": {
    "ExecuteTime": {
     "end_time": "2023-07-30T16:46:13.289783Z",
     "start_time": "2023-07-30T16:46:13.277876Z"
    },
    "id": "d722a137",
    "outputId": "d9b849cd-f9d3-46ef-c2d2-cda9b20b569f"
   },
   "outputs": [
    {
     "data": {
      "text/html": [
       "<div>\n",
       "<style scoped>\n",
       "    .dataframe tbody tr th:only-of-type {\n",
       "        vertical-align: middle;\n",
       "    }\n",
       "\n",
       "    .dataframe tbody tr th {\n",
       "        vertical-align: top;\n",
       "    }\n",
       "\n",
       "    .dataframe thead th {\n",
       "        text-align: right;\n",
       "    }\n",
       "</style>\n",
       "<table border=\"1\" class=\"dataframe\">\n",
       "  <thead>\n",
       "    <tr style=\"text-align: right;\">\n",
       "      <th></th>\n",
       "      <th>A</th>\n",
       "      <th>B</th>\n",
       "      <th>C</th>\n",
       "    </tr>\n",
       "  </thead>\n",
       "  <tbody>\n",
       "    <tr>\n",
       "      <th>0</th>\n",
       "      <td>a</td>\n",
       "      <td>b</td>\n",
       "      <td>c</td>\n",
       "    </tr>\n",
       "  </tbody>\n",
       "</table>\n",
       "</div>"
      ],
      "text/plain": [
       "   A  B  C\n",
       "0  a  b  c"
      ]
     },
     "execution_count": 381,
     "metadata": {},
     "output_type": "execute_result"
    }
   ],
   "source": [
    "df"
   ]
  },
  {
   "cell_type": "code",
   "execution_count": 382,
   "id": "0c16dd70",
   "metadata": {
    "ExecuteTime": {
     "end_time": "2023-07-30T16:46:13.534367Z",
     "start_time": "2023-07-30T16:46:13.530731Z"
    },
    "id": "0c16dd70"
   },
   "outputs": [],
   "source": [
    "var4 = 10 "
   ]
  },
  {
   "cell_type": "code",
   "execution_count": 383,
   "id": "8bfe2422",
   "metadata": {
    "ExecuteTime": {
     "end_time": "2023-07-30T16:46:13.789399Z",
     "start_time": "2023-07-30T16:46:13.784161Z"
    },
    "id": "8bfe2422",
    "outputId": "5f977382-a1fb-4893-d455-723baa082de9"
   },
   "outputs": [
    {
     "data": {
      "text/plain": [
       "True"
      ]
     },
     "execution_count": 383,
     "metadata": {},
     "output_type": "execute_result"
    }
   ],
   "source": [
    "10 == var4"
   ]
  },
  {
   "cell_type": "markdown",
   "id": "7a04f1d2",
   "metadata": {},
   "source": [
    "## String formatting "
   ]
  },
  {
   "cell_type": "code",
   "execution_count": 384,
   "id": "6645a767",
   "metadata": {
    "ExecuteTime": {
     "end_time": "2023-07-30T16:46:14.234149Z",
     "start_time": "2023-07-30T16:46:14.229893Z"
    }
   },
   "outputs": [],
   "source": [
    "age_football = 35 "
   ]
  },
  {
   "cell_type": "code",
   "execution_count": 385,
   "id": "1bd08bdb",
   "metadata": {
    "ExecuteTime": {
     "end_time": "2023-07-30T16:46:14.484906Z",
     "start_time": "2023-07-30T16:46:14.479578Z"
    }
   },
   "outputs": [
    {
     "name": "stdout",
     "output_type": "stream",
     "text": [
      "The Retirement age for football is 35\n"
     ]
    }
   ],
   "source": [
    "print(f'The Retirement age for football is {age_football}')"
   ]
  },
  {
   "cell_type": "markdown",
   "id": "48b11e4e",
   "metadata": {},
   "source": [
    "### What is the difference between data analysis & Data Science "
   ]
  },
  {
   "cell_type": "code",
   "execution_count": 386,
   "id": "bf754ca9",
   "metadata": {
    "ExecuteTime": {
     "end_time": "2023-07-30T16:46:14.968846Z",
     "start_time": "2023-07-30T16:46:14.961434Z"
    }
   },
   "outputs": [],
   "source": [
    "# Data Analysis - Logical Techniques, Statistical Techniques - Analysis to find patterns in data\n",
    "# Data Science - Automating the processes in data analysis - Model - Analysis to automate decision making"
   ]
  },
  {
   "cell_type": "code",
   "execution_count": 387,
   "id": "82bc81fd",
   "metadata": {
    "ExecuteTime": {
     "end_time": "2023-07-30T16:46:15.236713Z",
     "start_time": "2023-07-30T16:46:15.233554Z"
    }
   },
   "outputs": [],
   "source": [
    "# Basics of data science will help you in the following ways:\n",
    "# 1. For starters - Rules and foundations/Basics \n",
    "# 2. Teach you why data science makes sense in the world "
   ]
  },
  {
   "cell_type": "code",
   "execution_count": 388,
   "id": "69b37f26",
   "metadata": {
    "ExecuteTime": {
     "end_time": "2023-07-30T16:46:15.438576Z",
     "start_time": "2023-07-30T16:46:15.435685Z"
    }
   },
   "outputs": [],
   "source": [
    "# How do I build consistency \n",
    "# 2 Years of being distracted - Phones, Lack of structure, social media\n",
    "# lack of understanding, Impatience...\n",
    "# I started to read books - Deep work \n",
    "\n",
    "# Learn how to learn\n",
    "# Put myself out\n",
    "# Build my foundational skills \n",
    "# Deliberate Practice \n",
    "\n",
    "# A steep learning curve "
   ]
  },
  {
   "cell_type": "code",
   "execution_count": 389,
   "id": "00908de8",
   "metadata": {
    "ExecuteTime": {
     "end_time": "2023-07-30T16:46:15.659817Z",
     "start_time": "2023-07-30T16:46:15.656486Z"
    }
   },
   "outputs": [],
   "source": [
    "import pandas as pd "
   ]
  },
  {
   "cell_type": "code",
   "execution_count": 390,
   "id": "28599835",
   "metadata": {
    "ExecuteTime": {
     "end_time": "2023-07-30T16:46:15.917462Z",
     "start_time": "2023-07-30T16:46:15.914444Z"
    }
   },
   "outputs": [],
   "source": [
    "pd.options.display.max_columns = 50"
   ]
  },
  {
   "cell_type": "code",
   "execution_count": 391,
   "id": "9f4bca3b",
   "metadata": {
    "ExecuteTime": {
     "end_time": "2023-07-30T16:46:17.028703Z",
     "start_time": "2023-07-30T16:46:16.118079Z"
    }
   },
   "outputs": [
    {
     "data": {
      "text/html": [
       "<div>\n",
       "<style scoped>\n",
       "    .dataframe tbody tr th:only-of-type {\n",
       "        vertical-align: middle;\n",
       "    }\n",
       "\n",
       "    .dataframe tbody tr th {\n",
       "        vertical-align: top;\n",
       "    }\n",
       "\n",
       "    .dataframe thead th {\n",
       "        text-align: right;\n",
       "    }\n",
       "</style>\n",
       "<table border=\"1\" class=\"dataframe\">\n",
       "  <thead>\n",
       "    <tr style=\"text-align: right;\">\n",
       "      <th></th>\n",
       "      <th>Row ID</th>\n",
       "      <th>Order ID</th>\n",
       "      <th>Order Date</th>\n",
       "      <th>Ship Date</th>\n",
       "      <th>Ship Mode</th>\n",
       "      <th>Customer ID</th>\n",
       "      <th>Customer Name</th>\n",
       "      <th>Segment</th>\n",
       "      <th>Country</th>\n",
       "      <th>City</th>\n",
       "      <th>State</th>\n",
       "      <th>Postal Code</th>\n",
       "      <th>Region</th>\n",
       "      <th>Product ID</th>\n",
       "      <th>Category</th>\n",
       "      <th>Sub-Category</th>\n",
       "      <th>Product Name</th>\n",
       "      <th>Sales</th>\n",
       "      <th>Quantity</th>\n",
       "      <th>Discount</th>\n",
       "      <th>Profit</th>\n",
       "    </tr>\n",
       "  </thead>\n",
       "  <tbody>\n",
       "    <tr>\n",
       "      <th>0</th>\n",
       "      <td>1</td>\n",
       "      <td>CA-2016-152156</td>\n",
       "      <td>2016-11-08</td>\n",
       "      <td>2016-11-11</td>\n",
       "      <td>Second Class</td>\n",
       "      <td>CG-12520</td>\n",
       "      <td>Claire Gute</td>\n",
       "      <td>Consumer</td>\n",
       "      <td>United States</td>\n",
       "      <td>Henderson</td>\n",
       "      <td>Kentucky</td>\n",
       "      <td>42420</td>\n",
       "      <td>South</td>\n",
       "      <td>FUR-BO-10001798</td>\n",
       "      <td>Furniture</td>\n",
       "      <td>Bookcases</td>\n",
       "      <td>Bush Somerset Collection Bookcase</td>\n",
       "      <td>261.9600</td>\n",
       "      <td>2</td>\n",
       "      <td>0.00</td>\n",
       "      <td>41.9136</td>\n",
       "    </tr>\n",
       "    <tr>\n",
       "      <th>1</th>\n",
       "      <td>2</td>\n",
       "      <td>CA-2016-152156</td>\n",
       "      <td>2016-11-08</td>\n",
       "      <td>2016-11-11</td>\n",
       "      <td>Second Class</td>\n",
       "      <td>CG-12520</td>\n",
       "      <td>Claire Gute</td>\n",
       "      <td>Consumer</td>\n",
       "      <td>United States</td>\n",
       "      <td>Henderson</td>\n",
       "      <td>Kentucky</td>\n",
       "      <td>42420</td>\n",
       "      <td>South</td>\n",
       "      <td>FUR-CH-10000454</td>\n",
       "      <td>Furniture</td>\n",
       "      <td>Chairs</td>\n",
       "      <td>Hon Deluxe Fabric Upholstered Stacking Chairs,...</td>\n",
       "      <td>731.9400</td>\n",
       "      <td>3</td>\n",
       "      <td>0.00</td>\n",
       "      <td>219.5820</td>\n",
       "    </tr>\n",
       "    <tr>\n",
       "      <th>2</th>\n",
       "      <td>3</td>\n",
       "      <td>CA-2016-138688</td>\n",
       "      <td>2016-06-12</td>\n",
       "      <td>2016-06-16</td>\n",
       "      <td>Second Class</td>\n",
       "      <td>DV-13045</td>\n",
       "      <td>Darrin Van Huff</td>\n",
       "      <td>Corporate</td>\n",
       "      <td>United States</td>\n",
       "      <td>Los Angeles</td>\n",
       "      <td>California</td>\n",
       "      <td>90036</td>\n",
       "      <td>West</td>\n",
       "      <td>OFF-LA-10000240</td>\n",
       "      <td>Office Supplies</td>\n",
       "      <td>Labels</td>\n",
       "      <td>Self-Adhesive Address Labels for Typewriters b...</td>\n",
       "      <td>14.6200</td>\n",
       "      <td>2</td>\n",
       "      <td>0.00</td>\n",
       "      <td>6.8714</td>\n",
       "    </tr>\n",
       "    <tr>\n",
       "      <th>3</th>\n",
       "      <td>4</td>\n",
       "      <td>US-2015-108966</td>\n",
       "      <td>2015-10-11</td>\n",
       "      <td>2015-10-18</td>\n",
       "      <td>Standard Class</td>\n",
       "      <td>SO-20335</td>\n",
       "      <td>Sean O'Donnell</td>\n",
       "      <td>Consumer</td>\n",
       "      <td>United States</td>\n",
       "      <td>Fort Lauderdale</td>\n",
       "      <td>Florida</td>\n",
       "      <td>33311</td>\n",
       "      <td>South</td>\n",
       "      <td>FUR-TA-10000577</td>\n",
       "      <td>Furniture</td>\n",
       "      <td>Tables</td>\n",
       "      <td>Bretford CR4500 Series Slim Rectangular Table</td>\n",
       "      <td>957.5775</td>\n",
       "      <td>5</td>\n",
       "      <td>0.45</td>\n",
       "      <td>-383.0310</td>\n",
       "    </tr>\n",
       "    <tr>\n",
       "      <th>4</th>\n",
       "      <td>5</td>\n",
       "      <td>US-2015-108966</td>\n",
       "      <td>2015-10-11</td>\n",
       "      <td>2015-10-18</td>\n",
       "      <td>Standard Class</td>\n",
       "      <td>SO-20335</td>\n",
       "      <td>Sean O'Donnell</td>\n",
       "      <td>Consumer</td>\n",
       "      <td>United States</td>\n",
       "      <td>Fort Lauderdale</td>\n",
       "      <td>Florida</td>\n",
       "      <td>33311</td>\n",
       "      <td>South</td>\n",
       "      <td>OFF-ST-10000760</td>\n",
       "      <td>Office Supplies</td>\n",
       "      <td>Storage</td>\n",
       "      <td>Eldon Fold 'N Roll Cart System</td>\n",
       "      <td>22.3680</td>\n",
       "      <td>2</td>\n",
       "      <td>0.20</td>\n",
       "      <td>2.5164</td>\n",
       "    </tr>\n",
       "  </tbody>\n",
       "</table>\n",
       "</div>"
      ],
      "text/plain": [
       "   Row ID        Order ID Order Date  Ship Date       Ship Mode Customer ID  \\\n",
       "0       1  CA-2016-152156 2016-11-08 2016-11-11    Second Class    CG-12520   \n",
       "1       2  CA-2016-152156 2016-11-08 2016-11-11    Second Class    CG-12520   \n",
       "2       3  CA-2016-138688 2016-06-12 2016-06-16    Second Class    DV-13045   \n",
       "3       4  US-2015-108966 2015-10-11 2015-10-18  Standard Class    SO-20335   \n",
       "4       5  US-2015-108966 2015-10-11 2015-10-18  Standard Class    SO-20335   \n",
       "\n",
       "     Customer Name    Segment        Country             City       State  \\\n",
       "0      Claire Gute   Consumer  United States        Henderson    Kentucky   \n",
       "1      Claire Gute   Consumer  United States        Henderson    Kentucky   \n",
       "2  Darrin Van Huff  Corporate  United States      Los Angeles  California   \n",
       "3   Sean O'Donnell   Consumer  United States  Fort Lauderdale     Florida   \n",
       "4   Sean O'Donnell   Consumer  United States  Fort Lauderdale     Florida   \n",
       "\n",
       "   Postal Code Region       Product ID         Category Sub-Category  \\\n",
       "0        42420  South  FUR-BO-10001798        Furniture    Bookcases   \n",
       "1        42420  South  FUR-CH-10000454        Furniture       Chairs   \n",
       "2        90036   West  OFF-LA-10000240  Office Supplies       Labels   \n",
       "3        33311  South  FUR-TA-10000577        Furniture       Tables   \n",
       "4        33311  South  OFF-ST-10000760  Office Supplies      Storage   \n",
       "\n",
       "                                        Product Name     Sales  Quantity  \\\n",
       "0                  Bush Somerset Collection Bookcase  261.9600         2   \n",
       "1  Hon Deluxe Fabric Upholstered Stacking Chairs,...  731.9400         3   \n",
       "2  Self-Adhesive Address Labels for Typewriters b...   14.6200         2   \n",
       "3      Bretford CR4500 Series Slim Rectangular Table  957.5775         5   \n",
       "4                     Eldon Fold 'N Roll Cart System   22.3680         2   \n",
       "\n",
       "   Discount    Profit  \n",
       "0      0.00   41.9136  \n",
       "1      0.00  219.5820  \n",
       "2      0.00    6.8714  \n",
       "3      0.45 -383.0310  \n",
       "4      0.20    2.5164  "
      ]
     },
     "execution_count": 391,
     "metadata": {},
     "output_type": "execute_result"
    }
   ],
   "source": [
    "data_superstore = pd.read_excel('Superstore.xls')\n",
    "data_superstore.head() "
   ]
  },
  {
   "cell_type": "code",
   "execution_count": 392,
   "id": "a6cf2b94",
   "metadata": {
    "ExecuteTime": {
     "end_time": "2023-07-30T16:46:17.039014Z",
     "start_time": "2023-07-30T16:46:17.032164Z"
    }
   },
   "outputs": [],
   "source": [
    "# Import pandas package\n",
    "import pandas as pd\n",
    "  \n",
    "# Define a dictionary containing Students data\n",
    "data = {'Name': ['Jai', 'Princi', 'Gaurav', 'Anuj'],\n",
    "        'Height': [5.1, 6.2, 5.1, 5.2],\n",
    "        'Qualification': ['Msc', 'MA', 'Msc', 'Msc']}\n",
    "  \n",
    "# Convert the dictionary into DataFrame\n",
    "df = pd.DataFrame(data)"
   ]
  },
  {
   "cell_type": "code",
   "execution_count": 393,
   "id": "4244a778",
   "metadata": {
    "ExecuteTime": {
     "end_time": "2023-07-30T16:46:17.056644Z",
     "start_time": "2023-07-30T16:46:17.042408Z"
    }
   },
   "outputs": [
    {
     "data": {
      "text/html": [
       "<div>\n",
       "<style scoped>\n",
       "    .dataframe tbody tr th:only-of-type {\n",
       "        vertical-align: middle;\n",
       "    }\n",
       "\n",
       "    .dataframe tbody tr th {\n",
       "        vertical-align: top;\n",
       "    }\n",
       "\n",
       "    .dataframe thead th {\n",
       "        text-align: right;\n",
       "    }\n",
       "</style>\n",
       "<table border=\"1\" class=\"dataframe\">\n",
       "  <thead>\n",
       "    <tr style=\"text-align: right;\">\n",
       "      <th></th>\n",
       "      <th>Name</th>\n",
       "      <th>Height</th>\n",
       "      <th>Qualification</th>\n",
       "    </tr>\n",
       "  </thead>\n",
       "  <tbody>\n",
       "    <tr>\n",
       "      <th>0</th>\n",
       "      <td>Jai</td>\n",
       "      <td>5.1</td>\n",
       "      <td>Msc</td>\n",
       "    </tr>\n",
       "    <tr>\n",
       "      <th>1</th>\n",
       "      <td>Princi</td>\n",
       "      <td>6.2</td>\n",
       "      <td>MA</td>\n",
       "    </tr>\n",
       "    <tr>\n",
       "      <th>2</th>\n",
       "      <td>Gaurav</td>\n",
       "      <td>5.1</td>\n",
       "      <td>Msc</td>\n",
       "    </tr>\n",
       "    <tr>\n",
       "      <th>3</th>\n",
       "      <td>Anuj</td>\n",
       "      <td>5.2</td>\n",
       "      <td>Msc</td>\n",
       "    </tr>\n",
       "  </tbody>\n",
       "</table>\n",
       "</div>"
      ],
      "text/plain": [
       "     Name  Height Qualification\n",
       "0     Jai     5.1           Msc\n",
       "1  Princi     6.2            MA\n",
       "2  Gaurav     5.1           Msc\n",
       "3    Anuj     5.2           Msc"
      ]
     },
     "execution_count": 393,
     "metadata": {},
     "output_type": "execute_result"
    }
   ],
   "source": [
    "df "
   ]
  },
  {
   "cell_type": "code",
   "execution_count": 394,
   "id": "d3543b03",
   "metadata": {
    "ExecuteTime": {
     "end_time": "2023-07-30T16:46:17.069006Z",
     "start_time": "2023-07-30T16:46:17.061432Z"
    }
   },
   "outputs": [],
   "source": [
    "# Machine to human interaction - AI\n",
    "# Models --> Funtions --> Mathematical/Statistical Abstraction --> Data/Proofs that certain things work\n",
    "# --> Automation of data analysis - application --> Making your data learn patterns --> Advanced ML(Deep Learning)\n",
    "# Machine Learning(data size) --> Data Science --> Data Analysis - Python - Statistics"
   ]
  },
  {
   "cell_type": "markdown",
   "id": "0480831b",
   "metadata": {},
   "source": [
    "## Data Science Skill Value Chain"
   ]
  },
  {
   "cell_type": "markdown",
   "id": "dcb46df5",
   "metadata": {},
   "source": [
    "### Foundational Skills\n",
    "\n",
    "Programming and Data Wrangling\n",
    "\n",
    "Statistics and Probability\n",
    "\n",
    "\n",
    "### Technical Skills\n",
    "Data Collection\n",
    "\n",
    "SQL\n",
    "\n",
    "Data Visualization\n",
    "\n",
    "Applied Machine Learning\n",
    "\n",
    "\n",
    "### Business Skills\n",
    "Communication\n",
    "\n",
    "Creativity and Innovation\n",
    "\n",
    "Operations and Strategy\n",
    "\n",
    "Business Analytics\n",
    "\n",
    "\n",
    "### Supplementary Skills\n",
    "\n",
    "Natural Language Processing\n",
    "\n",
    "Recommendation Systems\n",
    "\n",
    "Time Series Analysis\n",
    "\n",
    "\n",
    "### Practice\n",
    "\n",
    "Projects\n",
    "\n",
    "Competitions\n",
    "\n",
    "Problem Solving Challenges"
   ]
  },
  {
   "cell_type": "code",
   "execution_count": 395,
   "id": "ebf943f7",
   "metadata": {
    "ExecuteTime": {
     "end_time": "2023-07-30T16:46:17.563720Z",
     "start_time": "2023-07-30T16:46:17.559886Z"
    }
   },
   "outputs": [],
   "source": [
    "# What is the difference between a len method and a count method\n",
    "name_list = ['Daniel', 'Bola', 'Pablo']"
   ]
  },
  {
   "cell_type": "code",
   "execution_count": 396,
   "id": "de6ed372",
   "metadata": {
    "ExecuteTime": {
     "end_time": "2023-07-30T16:46:17.797774Z",
     "start_time": "2023-07-30T16:46:17.794292Z"
    }
   },
   "outputs": [
    {
     "name": "stdout",
     "output_type": "stream",
     "text": [
      "['Daniel', 'Bola', 'Pablo']\n"
     ]
    }
   ],
   "source": [
    "print(name_list)"
   ]
  },
  {
   "cell_type": "code",
   "execution_count": 397,
   "id": "2ce3c6b0",
   "metadata": {
    "ExecuteTime": {
     "end_time": "2023-07-30T16:46:18.027981Z",
     "start_time": "2023-07-30T16:46:18.022013Z"
    }
   },
   "outputs": [
    {
     "data": {
      "text/plain": [
       "3"
      ]
     },
     "execution_count": 397,
     "metadata": {},
     "output_type": "execute_result"
    }
   ],
   "source": [
    "# Using the len method\n",
    "len(name_list)"
   ]
  },
  {
   "cell_type": "code",
   "execution_count": 398,
   "id": "ab7467a7",
   "metadata": {
    "ExecuteTime": {
     "end_time": "2023-07-30T16:46:18.541853Z",
     "start_time": "2023-07-30T16:46:18.537876Z"
    }
   },
   "outputs": [],
   "source": [
    "name_student = 'Bola'"
   ]
  },
  {
   "cell_type": "code",
   "execution_count": 399,
   "id": "d06f4951",
   "metadata": {
    "ExecuteTime": {
     "end_time": "2023-07-30T16:46:18.747011Z",
     "start_time": "2023-07-30T16:46:18.738580Z"
    }
   },
   "outputs": [
    {
     "data": {
      "text/plain": [
       "1"
      ]
     },
     "execution_count": 399,
     "metadata": {},
     "output_type": "execute_result"
    }
   ],
   "source": [
    "# Count\n",
    "name_student.count('B')"
   ]
  },
  {
   "cell_type": "code",
   "execution_count": 400,
   "id": "09aeb912",
   "metadata": {
    "ExecuteTime": {
     "end_time": "2023-07-30T16:46:18.981778Z",
     "start_time": "2023-07-30T16:46:18.974929Z"
    }
   },
   "outputs": [
    {
     "data": {
      "text/plain": [
       "1"
      ]
     },
     "execution_count": 400,
     "metadata": {},
     "output_type": "execute_result"
    }
   ],
   "source": [
    "name_list.count('Daniel')"
   ]
  },
  {
   "cell_type": "code",
   "execution_count": 401,
   "id": "0aa8fadf",
   "metadata": {
    "ExecuteTime": {
     "end_time": "2023-07-30T16:46:19.205561Z",
     "start_time": "2023-07-30T16:46:19.199471Z"
    }
   },
   "outputs": [
    {
     "data": {
      "text/plain": [
       "4"
      ]
     },
     "execution_count": 401,
     "metadata": {},
     "output_type": "execute_result"
    }
   ],
   "source": [
    "len(name_student)"
   ]
  },
  {
   "cell_type": "code",
   "execution_count": 402,
   "id": "942b2fa7",
   "metadata": {
    "ExecuteTime": {
     "end_time": "2023-07-30T16:46:19.440928Z",
     "start_time": "2023-07-30T16:46:19.437448Z"
    }
   },
   "outputs": [],
   "source": [
    "#dir(name_student)"
   ]
  },
  {
   "cell_type": "code",
   "execution_count": 403,
   "id": "0268d51a",
   "metadata": {
    "ExecuteTime": {
     "end_time": "2023-07-30T16:46:19.687189Z",
     "start_time": "2023-07-30T16:46:19.681896Z"
    }
   },
   "outputs": [],
   "source": [
    "#dir(name_list)"
   ]
  },
  {
   "cell_type": "code",
   "execution_count": 404,
   "id": "75bf7db2",
   "metadata": {
    "ExecuteTime": {
     "end_time": "2023-07-30T16:46:19.928837Z",
     "start_time": "2023-07-30T16:46:19.924752Z"
    }
   },
   "outputs": [],
   "source": [
    "# Using pop \n",
    "data_instructor = name_list.pop()"
   ]
  },
  {
   "cell_type": "code",
   "execution_count": 405,
   "id": "132a75c9",
   "metadata": {
    "ExecuteTime": {
     "end_time": "2023-07-30T16:46:20.374019Z",
     "start_time": "2023-07-30T16:46:20.368463Z"
    }
   },
   "outputs": [
    {
     "data": {
      "text/plain": [
       "'Pablo'"
      ]
     },
     "execution_count": 405,
     "metadata": {},
     "output_type": "execute_result"
    }
   ],
   "source": [
    "data_instructor"
   ]
  },
  {
   "cell_type": "code",
   "execution_count": 406,
   "id": "41cb0f16",
   "metadata": {
    "ExecuteTime": {
     "end_time": "2023-07-30T16:46:20.614738Z",
     "start_time": "2023-07-30T16:46:20.612115Z"
    }
   },
   "outputs": [],
   "source": [
    "del name_list"
   ]
  },
  {
   "cell_type": "code",
   "execution_count": 407,
   "id": "ad794bbb",
   "metadata": {
    "ExecuteTime": {
     "end_time": "2023-07-30T16:46:20.853393Z",
     "start_time": "2023-07-30T16:46:20.829749Z"
    }
   },
   "outputs": [
    {
     "ename": "NameError",
     "evalue": "name 'name_list' is not defined",
     "output_type": "error",
     "traceback": [
      "\u001b[0;31m---------------------------------------------------------------------------\u001b[0m",
      "\u001b[0;31mNameError\u001b[0m                                 Traceback (most recent call last)",
      "Cell \u001b[0;32mIn[407], line 1\u001b[0m\n\u001b[0;32m----> 1\u001b[0m \u001b[43mname_list\u001b[49m\n",
      "\u001b[0;31mNameError\u001b[0m: name 'name_list' is not defined"
     ]
    }
   ],
   "source": [
    "name_list "
   ]
  },
  {
   "cell_type": "code",
   "execution_count": null,
   "id": "ee8c8de6",
   "metadata": {},
   "outputs": [],
   "source": []
  },
  {
   "cell_type": "code",
   "execution_count": null,
   "id": "9be2ad94",
   "metadata": {},
   "outputs": [],
   "source": []
  },
  {
   "cell_type": "code",
   "execution_count": null,
   "id": "56df8260",
   "metadata": {},
   "outputs": [],
   "source": []
  },
  {
   "cell_type": "code",
   "execution_count": null,
   "id": "2875dc3c",
   "metadata": {},
   "outputs": [],
   "source": []
  },
  {
   "cell_type": "code",
   "execution_count": null,
   "id": "2a53c692",
   "metadata": {},
   "outputs": [],
   "source": []
  },
  {
   "cell_type": "markdown",
   "id": "d146a032",
   "metadata": {
    "id": "d146a032"
   },
   "source": [
    "# Learning Through Articles\n",
    "\n",
    "https://towardsdatascience.com/an-end-to-end-project-on-time-series-analysis-and-forecasting-with-python-4835e6bf050b"
   ]
  },
  {
   "cell_type": "code",
   "execution_count": 408,
   "id": "9351f981",
   "metadata": {
    "ExecuteTime": {
     "end_time": "2023-07-30T16:46:29.377666Z",
     "start_time": "2023-07-30T16:46:22.612179Z"
    },
    "id": "9351f981"
   },
   "outputs": [],
   "source": [
    "# import libraries\n",
    "import warnings\n",
    "import itertools\n",
    "import numpy as np\n",
    "import matplotlib.pyplot as plt\n",
    "warnings.filterwarnings(\"ignore\")\n",
    "plt.style.use('fivethirtyeight')\n",
    "import pandas as pd\n",
    "import statsmodels.api as sm\n",
    "import matplotlib\n",
    "matplotlib.rcParams['axes.labelsize'] = 14\n",
    "matplotlib.rcParams['xtick.labelsize'] = 12\n",
    "matplotlib.rcParams['ytick.labelsize'] = 12\n",
    "matplotlib.rcParams['text.color'] = 'k'"
   ]
  },
  {
   "cell_type": "code",
   "execution_count": 409,
   "id": "a528842b",
   "metadata": {
    "ExecuteTime": {
     "end_time": "2023-07-30T16:46:30.111213Z",
     "start_time": "2023-07-30T16:46:29.385330Z"
    },
    "id": "a528842b",
    "outputId": "34b2ebce-c252-4858-b0c7-ac6ba9578641"
   },
   "outputs": [
    {
     "data": {
      "text/html": [
       "<div>\n",
       "<style scoped>\n",
       "    .dataframe tbody tr th:only-of-type {\n",
       "        vertical-align: middle;\n",
       "    }\n",
       "\n",
       "    .dataframe tbody tr th {\n",
       "        vertical-align: top;\n",
       "    }\n",
       "\n",
       "    .dataframe thead th {\n",
       "        text-align: right;\n",
       "    }\n",
       "</style>\n",
       "<table border=\"1\" class=\"dataframe\">\n",
       "  <thead>\n",
       "    <tr style=\"text-align: right;\">\n",
       "      <th></th>\n",
       "      <th>Row ID</th>\n",
       "      <th>Order ID</th>\n",
       "      <th>Order Date</th>\n",
       "      <th>Ship Date</th>\n",
       "      <th>Ship Mode</th>\n",
       "      <th>Customer ID</th>\n",
       "      <th>Customer Name</th>\n",
       "      <th>Segment</th>\n",
       "      <th>Country</th>\n",
       "      <th>City</th>\n",
       "      <th>State</th>\n",
       "      <th>Postal Code</th>\n",
       "      <th>Region</th>\n",
       "      <th>Product ID</th>\n",
       "      <th>Category</th>\n",
       "      <th>Sub-Category</th>\n",
       "      <th>Product Name</th>\n",
       "      <th>Sales</th>\n",
       "      <th>Quantity</th>\n",
       "      <th>Discount</th>\n",
       "      <th>Profit</th>\n",
       "    </tr>\n",
       "  </thead>\n",
       "  <tbody>\n",
       "    <tr>\n",
       "      <th>0</th>\n",
       "      <td>1</td>\n",
       "      <td>CA-2016-152156</td>\n",
       "      <td>2016-11-08</td>\n",
       "      <td>2016-11-11</td>\n",
       "      <td>Second Class</td>\n",
       "      <td>CG-12520</td>\n",
       "      <td>Claire Gute</td>\n",
       "      <td>Consumer</td>\n",
       "      <td>United States</td>\n",
       "      <td>Henderson</td>\n",
       "      <td>Kentucky</td>\n",
       "      <td>42420</td>\n",
       "      <td>South</td>\n",
       "      <td>FUR-BO-10001798</td>\n",
       "      <td>Furniture</td>\n",
       "      <td>Bookcases</td>\n",
       "      <td>Bush Somerset Collection Bookcase</td>\n",
       "      <td>261.9600</td>\n",
       "      <td>2</td>\n",
       "      <td>0.00</td>\n",
       "      <td>41.9136</td>\n",
       "    </tr>\n",
       "    <tr>\n",
       "      <th>1</th>\n",
       "      <td>2</td>\n",
       "      <td>CA-2016-152156</td>\n",
       "      <td>2016-11-08</td>\n",
       "      <td>2016-11-11</td>\n",
       "      <td>Second Class</td>\n",
       "      <td>CG-12520</td>\n",
       "      <td>Claire Gute</td>\n",
       "      <td>Consumer</td>\n",
       "      <td>United States</td>\n",
       "      <td>Henderson</td>\n",
       "      <td>Kentucky</td>\n",
       "      <td>42420</td>\n",
       "      <td>South</td>\n",
       "      <td>FUR-CH-10000454</td>\n",
       "      <td>Furniture</td>\n",
       "      <td>Chairs</td>\n",
       "      <td>Hon Deluxe Fabric Upholstered Stacking Chairs,...</td>\n",
       "      <td>731.9400</td>\n",
       "      <td>3</td>\n",
       "      <td>0.00</td>\n",
       "      <td>219.5820</td>\n",
       "    </tr>\n",
       "    <tr>\n",
       "      <th>2</th>\n",
       "      <td>3</td>\n",
       "      <td>CA-2016-138688</td>\n",
       "      <td>2016-06-12</td>\n",
       "      <td>2016-06-16</td>\n",
       "      <td>Second Class</td>\n",
       "      <td>DV-13045</td>\n",
       "      <td>Darrin Van Huff</td>\n",
       "      <td>Corporate</td>\n",
       "      <td>United States</td>\n",
       "      <td>Los Angeles</td>\n",
       "      <td>California</td>\n",
       "      <td>90036</td>\n",
       "      <td>West</td>\n",
       "      <td>OFF-LA-10000240</td>\n",
       "      <td>Office Supplies</td>\n",
       "      <td>Labels</td>\n",
       "      <td>Self-Adhesive Address Labels for Typewriters b...</td>\n",
       "      <td>14.6200</td>\n",
       "      <td>2</td>\n",
       "      <td>0.00</td>\n",
       "      <td>6.8714</td>\n",
       "    </tr>\n",
       "    <tr>\n",
       "      <th>3</th>\n",
       "      <td>4</td>\n",
       "      <td>US-2015-108966</td>\n",
       "      <td>2015-10-11</td>\n",
       "      <td>2015-10-18</td>\n",
       "      <td>Standard Class</td>\n",
       "      <td>SO-20335</td>\n",
       "      <td>Sean O'Donnell</td>\n",
       "      <td>Consumer</td>\n",
       "      <td>United States</td>\n",
       "      <td>Fort Lauderdale</td>\n",
       "      <td>Florida</td>\n",
       "      <td>33311</td>\n",
       "      <td>South</td>\n",
       "      <td>FUR-TA-10000577</td>\n",
       "      <td>Furniture</td>\n",
       "      <td>Tables</td>\n",
       "      <td>Bretford CR4500 Series Slim Rectangular Table</td>\n",
       "      <td>957.5775</td>\n",
       "      <td>5</td>\n",
       "      <td>0.45</td>\n",
       "      <td>-383.0310</td>\n",
       "    </tr>\n",
       "    <tr>\n",
       "      <th>4</th>\n",
       "      <td>5</td>\n",
       "      <td>US-2015-108966</td>\n",
       "      <td>2015-10-11</td>\n",
       "      <td>2015-10-18</td>\n",
       "      <td>Standard Class</td>\n",
       "      <td>SO-20335</td>\n",
       "      <td>Sean O'Donnell</td>\n",
       "      <td>Consumer</td>\n",
       "      <td>United States</td>\n",
       "      <td>Fort Lauderdale</td>\n",
       "      <td>Florida</td>\n",
       "      <td>33311</td>\n",
       "      <td>South</td>\n",
       "      <td>OFF-ST-10000760</td>\n",
       "      <td>Office Supplies</td>\n",
       "      <td>Storage</td>\n",
       "      <td>Eldon Fold 'N Roll Cart System</td>\n",
       "      <td>22.3680</td>\n",
       "      <td>2</td>\n",
       "      <td>0.20</td>\n",
       "      <td>2.5164</td>\n",
       "    </tr>\n",
       "  </tbody>\n",
       "</table>\n",
       "</div>"
      ],
      "text/plain": [
       "   Row ID        Order ID Order Date  Ship Date       Ship Mode Customer ID  \\\n",
       "0       1  CA-2016-152156 2016-11-08 2016-11-11    Second Class    CG-12520   \n",
       "1       2  CA-2016-152156 2016-11-08 2016-11-11    Second Class    CG-12520   \n",
       "2       3  CA-2016-138688 2016-06-12 2016-06-16    Second Class    DV-13045   \n",
       "3       4  US-2015-108966 2015-10-11 2015-10-18  Standard Class    SO-20335   \n",
       "4       5  US-2015-108966 2015-10-11 2015-10-18  Standard Class    SO-20335   \n",
       "\n",
       "     Customer Name    Segment        Country             City       State  \\\n",
       "0      Claire Gute   Consumer  United States        Henderson    Kentucky   \n",
       "1      Claire Gute   Consumer  United States        Henderson    Kentucky   \n",
       "2  Darrin Van Huff  Corporate  United States      Los Angeles  California   \n",
       "3   Sean O'Donnell   Consumer  United States  Fort Lauderdale     Florida   \n",
       "4   Sean O'Donnell   Consumer  United States  Fort Lauderdale     Florida   \n",
       "\n",
       "   Postal Code Region       Product ID         Category Sub-Category  \\\n",
       "0        42420  South  FUR-BO-10001798        Furniture    Bookcases   \n",
       "1        42420  South  FUR-CH-10000454        Furniture       Chairs   \n",
       "2        90036   West  OFF-LA-10000240  Office Supplies       Labels   \n",
       "3        33311  South  FUR-TA-10000577        Furniture       Tables   \n",
       "4        33311  South  OFF-ST-10000760  Office Supplies      Storage   \n",
       "\n",
       "                                        Product Name     Sales  Quantity  \\\n",
       "0                  Bush Somerset Collection Bookcase  261.9600         2   \n",
       "1  Hon Deluxe Fabric Upholstered Stacking Chairs,...  731.9400         3   \n",
       "2  Self-Adhesive Address Labels for Typewriters b...   14.6200         2   \n",
       "3      Bretford CR4500 Series Slim Rectangular Table  957.5775         5   \n",
       "4                     Eldon Fold 'N Roll Cart System   22.3680         2   \n",
       "\n",
       "   Discount    Profit  \n",
       "0      0.00   41.9136  \n",
       "1      0.00  219.5820  \n",
       "2      0.00    6.8714  \n",
       "3      0.45 -383.0310  \n",
       "4      0.20    2.5164  "
      ]
     },
     "execution_count": 409,
     "metadata": {},
     "output_type": "execute_result"
    }
   ],
   "source": [
    "df = pd.read_excel('Superstore.xls') # Loaded the excel data into a dataframe \n",
    "df.head()"
   ]
  },
  {
   "cell_type": "code",
   "execution_count": 410,
   "id": "980e70dc",
   "metadata": {
    "ExecuteTime": {
     "end_time": "2023-07-30T16:46:30.120406Z",
     "start_time": "2023-07-30T16:46:30.114068Z"
    },
    "id": "980e70dc",
    "outputId": "48b2c9aa-73e8-41d4-919d-437badd6fc1b"
   },
   "outputs": [
    {
     "data": {
      "text/plain": [
       "(9994, 21)"
      ]
     },
     "execution_count": 410,
     "metadata": {},
     "output_type": "execute_result"
    }
   ],
   "source": [
    "df.shape"
   ]
  },
  {
   "cell_type": "code",
   "execution_count": 411,
   "id": "3be45871",
   "metadata": {
    "ExecuteTime": {
     "end_time": "2023-07-30T16:46:30.132141Z",
     "start_time": "2023-07-30T16:46:30.126069Z"
    },
    "id": "3be45871",
    "outputId": "365f1e50-7572-4799-e418-6957c4393df5"
   },
   "outputs": [
    {
     "data": {
      "text/plain": [
       "Index(['Row ID', 'Order ID', 'Order Date', 'Ship Date', 'Ship Mode',\n",
       "       'Customer ID', 'Customer Name', 'Segment', 'Country', 'City', 'State',\n",
       "       'Postal Code', 'Region', 'Product ID', 'Category', 'Sub-Category',\n",
       "       'Product Name', 'Sales', 'Quantity', 'Discount', 'Profit'],\n",
       "      dtype='object')"
      ]
     },
     "execution_count": 411,
     "metadata": {},
     "output_type": "execute_result"
    }
   ],
   "source": [
    "df.columns"
   ]
  },
  {
   "cell_type": "code",
   "execution_count": 412,
   "id": "a2942a1f",
   "metadata": {
    "ExecuteTime": {
     "end_time": "2023-07-30T16:46:30.140358Z",
     "start_time": "2023-07-30T16:46:30.134981Z"
    },
    "id": "a2942a1f"
   },
   "outputs": [],
   "source": [
    "#furniture = df.loc[df['Category'] == 'Furniture']"
   ]
  },
  {
   "cell_type": "code",
   "execution_count": 413,
   "id": "c8a1acac",
   "metadata": {
    "ExecuteTime": {
     "end_time": "2023-07-30T16:46:30.151615Z",
     "start_time": "2023-07-30T16:46:30.143208Z"
    },
    "id": "c8a1acac",
    "outputId": "e0e424af-f359-46fb-ccb6-04d756f95580"
   },
   "outputs": [
    {
     "data": {
      "text/plain": [
       "array(['Furniture', 'Office Supplies', 'Technology'], dtype=object)"
      ]
     },
     "execution_count": 413,
     "metadata": {},
     "output_type": "execute_result"
    }
   ],
   "source": [
    "df['Category'].unique() "
   ]
  },
  {
   "cell_type": "code",
   "execution_count": 414,
   "id": "3438b2d3",
   "metadata": {
    "ExecuteTime": {
     "end_time": "2023-07-30T16:46:30.223354Z",
     "start_time": "2023-07-30T16:46:30.161031Z"
    },
    "id": "3438b2d3",
    "outputId": "e7b1758f-acc1-4460-8c19-2dc7810f0b9a"
   },
   "outputs": [
    {
     "data": {
      "text/plain": [
       "0        True\n",
       "1        True\n",
       "2       False\n",
       "3        True\n",
       "4       False\n",
       "        ...  \n",
       "9989     True\n",
       "9990     True\n",
       "9991    False\n",
       "9992    False\n",
       "9993    False\n",
       "Name: Category, Length: 9994, dtype: bool"
      ]
     },
     "execution_count": 414,
     "metadata": {},
     "output_type": "execute_result"
    }
   ],
   "source": [
    "df['Category']== \"Furniture\""
   ]
  },
  {
   "cell_type": "code",
   "execution_count": 415,
   "id": "eea398f1",
   "metadata": {
    "ExecuteTime": {
     "end_time": "2023-07-30T16:46:30.261443Z",
     "start_time": "2023-07-30T16:46:30.229841Z"
    },
    "id": "eea398f1",
    "outputId": "25f5a8b7-102e-422e-f4d4-88ff9d253d94"
   },
   "outputs": [
    {
     "data": {
      "text/plain": [
       "9989          Furniture\n",
       "9990          Furniture\n",
       "9991         Technology\n",
       "9992    Office Supplies\n",
       "9993    Office Supplies\n",
       "Name: Category, dtype: object"
      ]
     },
     "execution_count": 415,
     "metadata": {},
     "output_type": "execute_result"
    }
   ],
   "source": [
    "df['Category'].tail()"
   ]
  },
  {
   "cell_type": "code",
   "execution_count": 416,
   "id": "dbc9673c",
   "metadata": {
    "ExecuteTime": {
     "end_time": "2023-07-30T16:46:30.308079Z",
     "start_time": "2023-07-30T16:46:30.264454Z"
    },
    "id": "dbc9673c"
   },
   "outputs": [],
   "source": [
    "furniture = df.loc[df['Category'] == 'Furniture'] # Dataframe is being subsetted "
   ]
  },
  {
   "cell_type": "code",
   "execution_count": 417,
   "id": "c793e2ec",
   "metadata": {
    "ExecuteTime": {
     "end_time": "2023-07-30T16:46:30.345304Z",
     "start_time": "2023-07-30T16:46:30.317185Z"
    },
    "id": "c793e2ec",
    "outputId": "24e30aa8-4e74-414d-ae9d-331464455ac1"
   },
   "outputs": [
    {
     "data": {
      "text/html": [
       "<div>\n",
       "<style scoped>\n",
       "    .dataframe tbody tr th:only-of-type {\n",
       "        vertical-align: middle;\n",
       "    }\n",
       "\n",
       "    .dataframe tbody tr th {\n",
       "        vertical-align: top;\n",
       "    }\n",
       "\n",
       "    .dataframe thead th {\n",
       "        text-align: right;\n",
       "    }\n",
       "</style>\n",
       "<table border=\"1\" class=\"dataframe\">\n",
       "  <thead>\n",
       "    <tr style=\"text-align: right;\">\n",
       "      <th></th>\n",
       "      <th>Row ID</th>\n",
       "      <th>Order ID</th>\n",
       "      <th>Order Date</th>\n",
       "      <th>Ship Date</th>\n",
       "      <th>Ship Mode</th>\n",
       "      <th>Customer ID</th>\n",
       "      <th>Customer Name</th>\n",
       "      <th>Segment</th>\n",
       "      <th>Country</th>\n",
       "      <th>City</th>\n",
       "      <th>State</th>\n",
       "      <th>Postal Code</th>\n",
       "      <th>Region</th>\n",
       "      <th>Product ID</th>\n",
       "      <th>Category</th>\n",
       "      <th>Sub-Category</th>\n",
       "      <th>Product Name</th>\n",
       "      <th>Sales</th>\n",
       "      <th>Quantity</th>\n",
       "      <th>Discount</th>\n",
       "      <th>Profit</th>\n",
       "    </tr>\n",
       "  </thead>\n",
       "  <tbody>\n",
       "    <tr>\n",
       "      <th>0</th>\n",
       "      <td>1</td>\n",
       "      <td>CA-2016-152156</td>\n",
       "      <td>2016-11-08</td>\n",
       "      <td>2016-11-11</td>\n",
       "      <td>Second Class</td>\n",
       "      <td>CG-12520</td>\n",
       "      <td>Claire Gute</td>\n",
       "      <td>Consumer</td>\n",
       "      <td>United States</td>\n",
       "      <td>Henderson</td>\n",
       "      <td>Kentucky</td>\n",
       "      <td>42420</td>\n",
       "      <td>South</td>\n",
       "      <td>FUR-BO-10001798</td>\n",
       "      <td>Furniture</td>\n",
       "      <td>Bookcases</td>\n",
       "      <td>Bush Somerset Collection Bookcase</td>\n",
       "      <td>261.9600</td>\n",
       "      <td>2</td>\n",
       "      <td>0.00</td>\n",
       "      <td>41.9136</td>\n",
       "    </tr>\n",
       "    <tr>\n",
       "      <th>1</th>\n",
       "      <td>2</td>\n",
       "      <td>CA-2016-152156</td>\n",
       "      <td>2016-11-08</td>\n",
       "      <td>2016-11-11</td>\n",
       "      <td>Second Class</td>\n",
       "      <td>CG-12520</td>\n",
       "      <td>Claire Gute</td>\n",
       "      <td>Consumer</td>\n",
       "      <td>United States</td>\n",
       "      <td>Henderson</td>\n",
       "      <td>Kentucky</td>\n",
       "      <td>42420</td>\n",
       "      <td>South</td>\n",
       "      <td>FUR-CH-10000454</td>\n",
       "      <td>Furniture</td>\n",
       "      <td>Chairs</td>\n",
       "      <td>Hon Deluxe Fabric Upholstered Stacking Chairs,...</td>\n",
       "      <td>731.9400</td>\n",
       "      <td>3</td>\n",
       "      <td>0.00</td>\n",
       "      <td>219.5820</td>\n",
       "    </tr>\n",
       "    <tr>\n",
       "      <th>3</th>\n",
       "      <td>4</td>\n",
       "      <td>US-2015-108966</td>\n",
       "      <td>2015-10-11</td>\n",
       "      <td>2015-10-18</td>\n",
       "      <td>Standard Class</td>\n",
       "      <td>SO-20335</td>\n",
       "      <td>Sean O'Donnell</td>\n",
       "      <td>Consumer</td>\n",
       "      <td>United States</td>\n",
       "      <td>Fort Lauderdale</td>\n",
       "      <td>Florida</td>\n",
       "      <td>33311</td>\n",
       "      <td>South</td>\n",
       "      <td>FUR-TA-10000577</td>\n",
       "      <td>Furniture</td>\n",
       "      <td>Tables</td>\n",
       "      <td>Bretford CR4500 Series Slim Rectangular Table</td>\n",
       "      <td>957.5775</td>\n",
       "      <td>5</td>\n",
       "      <td>0.45</td>\n",
       "      <td>-383.0310</td>\n",
       "    </tr>\n",
       "    <tr>\n",
       "      <th>5</th>\n",
       "      <td>6</td>\n",
       "      <td>CA-2014-115812</td>\n",
       "      <td>2014-06-09</td>\n",
       "      <td>2014-06-14</td>\n",
       "      <td>Standard Class</td>\n",
       "      <td>BH-11710</td>\n",
       "      <td>Brosina Hoffman</td>\n",
       "      <td>Consumer</td>\n",
       "      <td>United States</td>\n",
       "      <td>Los Angeles</td>\n",
       "      <td>California</td>\n",
       "      <td>90032</td>\n",
       "      <td>West</td>\n",
       "      <td>FUR-FU-10001487</td>\n",
       "      <td>Furniture</td>\n",
       "      <td>Furnishings</td>\n",
       "      <td>Eldon Expressions Wood and Plastic Desk Access...</td>\n",
       "      <td>48.8600</td>\n",
       "      <td>7</td>\n",
       "      <td>0.00</td>\n",
       "      <td>14.1694</td>\n",
       "    </tr>\n",
       "    <tr>\n",
       "      <th>10</th>\n",
       "      <td>11</td>\n",
       "      <td>CA-2014-115812</td>\n",
       "      <td>2014-06-09</td>\n",
       "      <td>2014-06-14</td>\n",
       "      <td>Standard Class</td>\n",
       "      <td>BH-11710</td>\n",
       "      <td>Brosina Hoffman</td>\n",
       "      <td>Consumer</td>\n",
       "      <td>United States</td>\n",
       "      <td>Los Angeles</td>\n",
       "      <td>California</td>\n",
       "      <td>90032</td>\n",
       "      <td>West</td>\n",
       "      <td>FUR-TA-10001539</td>\n",
       "      <td>Furniture</td>\n",
       "      <td>Tables</td>\n",
       "      <td>Chromcraft Rectangular Conference Tables</td>\n",
       "      <td>1706.1840</td>\n",
       "      <td>9</td>\n",
       "      <td>0.20</td>\n",
       "      <td>85.3092</td>\n",
       "    </tr>\n",
       "  </tbody>\n",
       "</table>\n",
       "</div>"
      ],
      "text/plain": [
       "    Row ID        Order ID Order Date  Ship Date       Ship Mode Customer ID  \\\n",
       "0        1  CA-2016-152156 2016-11-08 2016-11-11    Second Class    CG-12520   \n",
       "1        2  CA-2016-152156 2016-11-08 2016-11-11    Second Class    CG-12520   \n",
       "3        4  US-2015-108966 2015-10-11 2015-10-18  Standard Class    SO-20335   \n",
       "5        6  CA-2014-115812 2014-06-09 2014-06-14  Standard Class    BH-11710   \n",
       "10      11  CA-2014-115812 2014-06-09 2014-06-14  Standard Class    BH-11710   \n",
       "\n",
       "      Customer Name   Segment        Country             City       State  \\\n",
       "0       Claire Gute  Consumer  United States        Henderson    Kentucky   \n",
       "1       Claire Gute  Consumer  United States        Henderson    Kentucky   \n",
       "3    Sean O'Donnell  Consumer  United States  Fort Lauderdale     Florida   \n",
       "5   Brosina Hoffman  Consumer  United States      Los Angeles  California   \n",
       "10  Brosina Hoffman  Consumer  United States      Los Angeles  California   \n",
       "\n",
       "    Postal Code Region       Product ID   Category Sub-Category  \\\n",
       "0         42420  South  FUR-BO-10001798  Furniture    Bookcases   \n",
       "1         42420  South  FUR-CH-10000454  Furniture       Chairs   \n",
       "3         33311  South  FUR-TA-10000577  Furniture       Tables   \n",
       "5         90032   West  FUR-FU-10001487  Furniture  Furnishings   \n",
       "10        90032   West  FUR-TA-10001539  Furniture       Tables   \n",
       "\n",
       "                                         Product Name      Sales  Quantity  \\\n",
       "0                   Bush Somerset Collection Bookcase   261.9600         2   \n",
       "1   Hon Deluxe Fabric Upholstered Stacking Chairs,...   731.9400         3   \n",
       "3       Bretford CR4500 Series Slim Rectangular Table   957.5775         5   \n",
       "5   Eldon Expressions Wood and Plastic Desk Access...    48.8600         7   \n",
       "10           Chromcraft Rectangular Conference Tables  1706.1840         9   \n",
       "\n",
       "    Discount    Profit  \n",
       "0       0.00   41.9136  \n",
       "1       0.00  219.5820  \n",
       "3       0.45 -383.0310  \n",
       "5       0.00   14.1694  \n",
       "10      0.20   85.3092  "
      ]
     },
     "execution_count": 417,
     "metadata": {},
     "output_type": "execute_result"
    }
   ],
   "source": [
    "furniture.head()"
   ]
  },
  {
   "cell_type": "code",
   "execution_count": 418,
   "id": "2d697015",
   "metadata": {
    "ExecuteTime": {
     "end_time": "2023-07-30T16:46:30.356258Z",
     "start_time": "2023-07-30T16:46:30.349716Z"
    },
    "id": "2d697015",
    "outputId": "6262defc-58e5-4cfe-da9f-49be411c2a0c"
   },
   "outputs": [
    {
     "data": {
      "text/plain": [
       "(2121, 21)"
      ]
     },
     "execution_count": 418,
     "metadata": {},
     "output_type": "execute_result"
    }
   ],
   "source": [
    "furniture.shape"
   ]
  },
  {
   "cell_type": "code",
   "execution_count": 419,
   "id": "8e4941a2",
   "metadata": {
    "ExecuteTime": {
     "end_time": "2023-07-30T16:46:30.382672Z",
     "start_time": "2023-07-30T16:46:30.363403Z"
    },
    "id": "8e4941a2",
    "outputId": "23adc653-2db5-4d48-fa03-64743782eaec"
   },
   "outputs": [
    {
     "data": {
      "text/plain": [
       "Index(['Row ID', 'Order ID', 'Order Date', 'Ship Date', 'Ship Mode',\n",
       "       'Customer ID', 'Customer Name', 'Segment', 'Country', 'City', 'State',\n",
       "       'Postal Code', 'Region', 'Product ID', 'Category', 'Sub-Category',\n",
       "       'Product Name', 'Sales', 'Quantity', 'Discount', 'Profit'],\n",
       "      dtype='object')"
      ]
     },
     "execution_count": 419,
     "metadata": {},
     "output_type": "execute_result"
    }
   ],
   "source": [
    "furniture.columns"
   ]
  },
  {
   "cell_type": "code",
   "execution_count": 420,
   "id": "fb645371",
   "metadata": {
    "ExecuteTime": {
     "end_time": "2023-07-30T16:46:30.404096Z",
     "start_time": "2023-07-30T16:46:30.386498Z"
    },
    "id": "fb645371",
    "outputId": "a9e2245a-3b48-47e6-d16c-d5f9efe2f038"
   },
   "outputs": [
    {
     "data": {
      "text/html": [
       "<div>\n",
       "<style scoped>\n",
       "    .dataframe tbody tr th:only-of-type {\n",
       "        vertical-align: middle;\n",
       "    }\n",
       "\n",
       "    .dataframe tbody tr th {\n",
       "        vertical-align: top;\n",
       "    }\n",
       "\n",
       "    .dataframe thead th {\n",
       "        text-align: right;\n",
       "    }\n",
       "</style>\n",
       "<table border=\"1\" class=\"dataframe\">\n",
       "  <thead>\n",
       "    <tr style=\"text-align: right;\">\n",
       "      <th></th>\n",
       "      <th>Row ID</th>\n",
       "      <th>Order ID</th>\n",
       "      <th>Order Date</th>\n",
       "      <th>Ship Date</th>\n",
       "      <th>Ship Mode</th>\n",
       "      <th>Customer ID</th>\n",
       "      <th>Customer Name</th>\n",
       "      <th>Segment</th>\n",
       "      <th>Country</th>\n",
       "      <th>City</th>\n",
       "      <th>State</th>\n",
       "      <th>Postal Code</th>\n",
       "      <th>Region</th>\n",
       "      <th>Product ID</th>\n",
       "      <th>Category</th>\n",
       "      <th>Sub-Category</th>\n",
       "      <th>Product Name</th>\n",
       "      <th>Sales</th>\n",
       "      <th>Quantity</th>\n",
       "      <th>Discount</th>\n",
       "      <th>Profit</th>\n",
       "    </tr>\n",
       "  </thead>\n",
       "  <tbody>\n",
       "    <tr>\n",
       "      <th>0</th>\n",
       "      <td>1</td>\n",
       "      <td>CA-2016-152156</td>\n",
       "      <td>2016-11-08</td>\n",
       "      <td>2016-11-11</td>\n",
       "      <td>Second Class</td>\n",
       "      <td>CG-12520</td>\n",
       "      <td>Claire Gute</td>\n",
       "      <td>Consumer</td>\n",
       "      <td>United States</td>\n",
       "      <td>Henderson</td>\n",
       "      <td>Kentucky</td>\n",
       "      <td>42420</td>\n",
       "      <td>South</td>\n",
       "      <td>FUR-BO-10001798</td>\n",
       "      <td>Furniture</td>\n",
       "      <td>Bookcases</td>\n",
       "      <td>Bush Somerset Collection Bookcase</td>\n",
       "      <td>261.96</td>\n",
       "      <td>2</td>\n",
       "      <td>0.0</td>\n",
       "      <td>41.9136</td>\n",
       "    </tr>\n",
       "    <tr>\n",
       "      <th>1</th>\n",
       "      <td>2</td>\n",
       "      <td>CA-2016-152156</td>\n",
       "      <td>2016-11-08</td>\n",
       "      <td>2016-11-11</td>\n",
       "      <td>Second Class</td>\n",
       "      <td>CG-12520</td>\n",
       "      <td>Claire Gute</td>\n",
       "      <td>Consumer</td>\n",
       "      <td>United States</td>\n",
       "      <td>Henderson</td>\n",
       "      <td>Kentucky</td>\n",
       "      <td>42420</td>\n",
       "      <td>South</td>\n",
       "      <td>FUR-CH-10000454</td>\n",
       "      <td>Furniture</td>\n",
       "      <td>Chairs</td>\n",
       "      <td>Hon Deluxe Fabric Upholstered Stacking Chairs,...</td>\n",
       "      <td>731.94</td>\n",
       "      <td>3</td>\n",
       "      <td>0.0</td>\n",
       "      <td>219.5820</td>\n",
       "    </tr>\n",
       "  </tbody>\n",
       "</table>\n",
       "</div>"
      ],
      "text/plain": [
       "   Row ID        Order ID Order Date  Ship Date     Ship Mode Customer ID  \\\n",
       "0       1  CA-2016-152156 2016-11-08 2016-11-11  Second Class    CG-12520   \n",
       "1       2  CA-2016-152156 2016-11-08 2016-11-11  Second Class    CG-12520   \n",
       "\n",
       "  Customer Name   Segment        Country       City     State  Postal Code  \\\n",
       "0   Claire Gute  Consumer  United States  Henderson  Kentucky        42420   \n",
       "1   Claire Gute  Consumer  United States  Henderson  Kentucky        42420   \n",
       "\n",
       "  Region       Product ID   Category Sub-Category  \\\n",
       "0  South  FUR-BO-10001798  Furniture    Bookcases   \n",
       "1  South  FUR-CH-10000454  Furniture       Chairs   \n",
       "\n",
       "                                        Product Name   Sales  Quantity  \\\n",
       "0                  Bush Somerset Collection Bookcase  261.96         2   \n",
       "1  Hon Deluxe Fabric Upholstered Stacking Chairs,...  731.94         3   \n",
       "\n",
       "   Discount    Profit  \n",
       "0       0.0   41.9136  \n",
       "1       0.0  219.5820  "
      ]
     },
     "execution_count": 420,
     "metadata": {},
     "output_type": "execute_result"
    }
   ],
   "source": [
    "furniture.head(2) "
   ]
  },
  {
   "cell_type": "markdown",
   "id": "2edf7718",
   "metadata": {
    "id": "2edf7718"
   },
   "source": [
    "### Data Preprocessing"
   ]
  },
  {
   "cell_type": "code",
   "execution_count": 421,
   "id": "5d57ed16",
   "metadata": {
    "ExecuteTime": {
     "end_time": "2023-07-30T16:46:30.411384Z",
     "start_time": "2023-07-30T16:46:30.407412Z"
    },
    "id": "5d57ed16"
   },
   "outputs": [],
   "source": [
    "cols = [\n",
    "    'Row ID', 'Order ID', 'Ship Date', 'Ship Mode', 'Customer ID',\n",
    "    'Customer Name', 'Segment', 'Country', 'City', 'State', 'Postal Code',\n",
    "    'Region', 'Product ID', 'Category', 'Sub-Category', 'Product Name',\n",
    "    'Quantity', 'Discount', 'Profit'\n",
    "] # Columns to be dropped"
   ]
  },
  {
   "cell_type": "code",
   "execution_count": 422,
   "id": "a4b67386",
   "metadata": {
    "ExecuteTime": {
     "end_time": "2023-07-30T16:46:30.433691Z",
     "start_time": "2023-07-30T16:46:30.414673Z"
    },
    "id": "a4b67386"
   },
   "outputs": [],
   "source": [
    "furniture.drop(cols, axis=1, inplace=True)"
   ]
  },
  {
   "cell_type": "code",
   "execution_count": 423,
   "id": "5d99e734",
   "metadata": {
    "ExecuteTime": {
     "end_time": "2023-07-30T16:46:30.446224Z",
     "start_time": "2023-07-30T16:46:30.439257Z"
    },
    "id": "5d99e734",
    "outputId": "0ce4a591-eac5-4a4f-c1a7-cf1a1b56e7cc"
   },
   "outputs": [
    {
     "data": {
      "text/plain": [
       "pandas.core.frame.DataFrame"
      ]
     },
     "execution_count": 423,
     "metadata": {},
     "output_type": "execute_result"
    }
   ],
   "source": [
    "type(furniture)"
   ]
  },
  {
   "cell_type": "code",
   "execution_count": 424,
   "id": "788e15e0",
   "metadata": {
    "ExecuteTime": {
     "end_time": "2023-07-30T16:46:30.460088Z",
     "start_time": "2023-07-30T16:46:30.450495Z"
    },
    "id": "788e15e0",
    "outputId": "c43fbe75-37bb-4b0c-c0b0-dc1db1c69daf"
   },
   "outputs": [
    {
     "data": {
      "text/html": [
       "<div>\n",
       "<style scoped>\n",
       "    .dataframe tbody tr th:only-of-type {\n",
       "        vertical-align: middle;\n",
       "    }\n",
       "\n",
       "    .dataframe tbody tr th {\n",
       "        vertical-align: top;\n",
       "    }\n",
       "\n",
       "    .dataframe thead th {\n",
       "        text-align: right;\n",
       "    }\n",
       "</style>\n",
       "<table border=\"1\" class=\"dataframe\">\n",
       "  <thead>\n",
       "    <tr style=\"text-align: right;\">\n",
       "      <th></th>\n",
       "      <th>Order Date</th>\n",
       "      <th>Sales</th>\n",
       "    </tr>\n",
       "  </thead>\n",
       "  <tbody>\n",
       "    <tr>\n",
       "      <th>0</th>\n",
       "      <td>2016-11-08</td>\n",
       "      <td>261.9600</td>\n",
       "    </tr>\n",
       "    <tr>\n",
       "      <th>1</th>\n",
       "      <td>2016-11-08</td>\n",
       "      <td>731.9400</td>\n",
       "    </tr>\n",
       "    <tr>\n",
       "      <th>3</th>\n",
       "      <td>2015-10-11</td>\n",
       "      <td>957.5775</td>\n",
       "    </tr>\n",
       "    <tr>\n",
       "      <th>5</th>\n",
       "      <td>2014-06-09</td>\n",
       "      <td>48.8600</td>\n",
       "    </tr>\n",
       "    <tr>\n",
       "      <th>10</th>\n",
       "      <td>2014-06-09</td>\n",
       "      <td>1706.1840</td>\n",
       "    </tr>\n",
       "  </tbody>\n",
       "</table>\n",
       "</div>"
      ],
      "text/plain": [
       "   Order Date      Sales\n",
       "0  2016-11-08   261.9600\n",
       "1  2016-11-08   731.9400\n",
       "3  2015-10-11   957.5775\n",
       "5  2014-06-09    48.8600\n",
       "10 2014-06-09  1706.1840"
      ]
     },
     "execution_count": 424,
     "metadata": {},
     "output_type": "execute_result"
    }
   ],
   "source": [
    "furniture.head()"
   ]
  },
  {
   "cell_type": "code",
   "execution_count": 425,
   "id": "d42d6226",
   "metadata": {
    "ExecuteTime": {
     "end_time": "2023-07-30T16:46:30.468968Z",
     "start_time": "2023-07-30T16:46:30.462672Z"
    },
    "id": "d42d6226",
    "outputId": "389c6e30-fe71-47a9-bc6e-c9b3828a8c44"
   },
   "outputs": [
    {
     "data": {
      "text/plain": [
       "(2121, 2)"
      ]
     },
     "execution_count": 425,
     "metadata": {},
     "output_type": "execute_result"
    }
   ],
   "source": [
    "furniture.shape "
   ]
  },
  {
   "cell_type": "code",
   "execution_count": 426,
   "id": "049ace15",
   "metadata": {
    "ExecuteTime": {
     "end_time": "2023-07-30T16:46:30.490265Z",
     "start_time": "2023-07-30T16:46:30.472022Z"
    },
    "id": "049ace15",
    "outputId": "a9a2d850-3a44-4db4-a3ba-0d71efc7e78f"
   },
   "outputs": [
    {
     "data": {
      "text/plain": [
       "(Timestamp('2014-01-06 00:00:00'), Timestamp('2017-12-30 00:00:00'))"
      ]
     },
     "execution_count": 426,
     "metadata": {},
     "output_type": "execute_result"
    }
   ],
   "source": [
    "furniture['Order Date'].min(), furniture['Order Date'].max()"
   ]
  },
  {
   "cell_type": "code",
   "execution_count": 427,
   "id": "9192eef3",
   "metadata": {
    "ExecuteTime": {
     "end_time": "2023-07-30T16:46:30.504763Z",
     "start_time": "2023-07-30T16:46:30.493150Z"
    },
    "id": "9192eef3",
    "outputId": "b10c4ac8-41c7-4a18-bed0-1bdc787e9746"
   },
   "outputs": [
    {
     "data": {
      "text/plain": [
       "0    2016-11-08\n",
       "1    2016-11-08\n",
       "3    2015-10-11\n",
       "5    2014-06-09\n",
       "10   2014-06-09\n",
       "Name: Order Date, dtype: datetime64[ns]"
      ]
     },
     "execution_count": 427,
     "metadata": {},
     "output_type": "execute_result"
    }
   ],
   "source": [
    "furniture['Order Date'].head()  "
   ]
  },
  {
   "cell_type": "code",
   "execution_count": 428,
   "id": "afe224b7",
   "metadata": {
    "ExecuteTime": {
     "end_time": "2023-07-30T16:46:30.519190Z",
     "start_time": "2023-07-30T16:46:30.510105Z"
    },
    "id": "afe224b7"
   },
   "outputs": [],
   "source": [
    "furniture = furniture.sort_values('Order Date')"
   ]
  },
  {
   "cell_type": "code",
   "execution_count": 429,
   "id": "026775a6",
   "metadata": {
    "ExecuteTime": {
     "end_time": "2023-07-30T16:46:30.530592Z",
     "start_time": "2023-07-30T16:46:30.521926Z"
    },
    "id": "026775a6",
    "outputId": "da24fc88-6839-4a75-cd2b-0de88e98e67d"
   },
   "outputs": [
    {
     "data": {
      "text/html": [
       "<div>\n",
       "<style scoped>\n",
       "    .dataframe tbody tr th:only-of-type {\n",
       "        vertical-align: middle;\n",
       "    }\n",
       "\n",
       "    .dataframe tbody tr th {\n",
       "        vertical-align: top;\n",
       "    }\n",
       "\n",
       "    .dataframe thead th {\n",
       "        text-align: right;\n",
       "    }\n",
       "</style>\n",
       "<table border=\"1\" class=\"dataframe\">\n",
       "  <thead>\n",
       "    <tr style=\"text-align: right;\">\n",
       "      <th></th>\n",
       "      <th>Order Date</th>\n",
       "      <th>Sales</th>\n",
       "    </tr>\n",
       "  </thead>\n",
       "  <tbody>\n",
       "    <tr>\n",
       "      <th>7474</th>\n",
       "      <td>2014-01-06</td>\n",
       "      <td>2573.820</td>\n",
       "    </tr>\n",
       "    <tr>\n",
       "      <th>7660</th>\n",
       "      <td>2014-01-07</td>\n",
       "      <td>76.728</td>\n",
       "    </tr>\n",
       "    <tr>\n",
       "      <th>866</th>\n",
       "      <td>2014-01-10</td>\n",
       "      <td>51.940</td>\n",
       "    </tr>\n",
       "    <tr>\n",
       "      <th>716</th>\n",
       "      <td>2014-01-11</td>\n",
       "      <td>9.940</td>\n",
       "    </tr>\n",
       "    <tr>\n",
       "      <th>2978</th>\n",
       "      <td>2014-01-13</td>\n",
       "      <td>545.940</td>\n",
       "    </tr>\n",
       "  </tbody>\n",
       "</table>\n",
       "</div>"
      ],
      "text/plain": [
       "     Order Date     Sales\n",
       "7474 2014-01-06  2573.820\n",
       "7660 2014-01-07    76.728\n",
       "866  2014-01-10    51.940\n",
       "716  2014-01-11     9.940\n",
       "2978 2014-01-13   545.940"
      ]
     },
     "execution_count": 429,
     "metadata": {},
     "output_type": "execute_result"
    }
   ],
   "source": [
    "furniture.head()"
   ]
  },
  {
   "cell_type": "code",
   "execution_count": 430,
   "id": "2b3958d5",
   "metadata": {
    "ExecuteTime": {
     "end_time": "2023-07-30T16:46:30.701337Z",
     "start_time": "2023-07-30T16:46:30.691939Z"
    },
    "id": "2b3958d5",
    "outputId": "e5ffeb30-0fc9-4134-c4ce-e4db631c944a"
   },
   "outputs": [
    {
     "data": {
      "text/plain": [
       "Order Date    0\n",
       "Sales         0\n",
       "dtype: int64"
      ]
     },
     "execution_count": 430,
     "metadata": {},
     "output_type": "execute_result"
    }
   ],
   "source": [
    "furniture.isna().sum() "
   ]
  },
  {
   "cell_type": "code",
   "execution_count": 431,
   "id": "b3a4f1fb",
   "metadata": {
    "ExecuteTime": {
     "end_time": "2023-07-30T16:46:31.421818Z",
     "start_time": "2023-07-30T16:46:31.418424Z"
    },
    "id": "b3a4f1fb"
   },
   "outputs": [],
   "source": [
    "#furniture = furniture.groupby('Order Date')['Sales'].sum().reset_index()"
   ]
  },
  {
   "cell_type": "code",
   "execution_count": 432,
   "id": "00071dee",
   "metadata": {
    "ExecuteTime": {
     "end_time": "2023-07-30T16:46:31.676186Z",
     "start_time": "2023-07-30T16:46:31.660126Z"
    },
    "id": "00071dee"
   },
   "outputs": [],
   "source": [
    "furniture = furniture.groupby('Order Date')['Sales'].sum().reset_index()"
   ]
  },
  {
   "cell_type": "code",
   "execution_count": 433,
   "id": "63e3dd0c",
   "metadata": {
    "ExecuteTime": {
     "end_time": "2023-07-30T16:46:31.908533Z",
     "start_time": "2023-07-30T16:46:31.894257Z"
    },
    "id": "63e3dd0c",
    "outputId": "bd7d65a9-4576-4511-c70b-44d32ab37f99"
   },
   "outputs": [
    {
     "data": {
      "text/html": [
       "<div>\n",
       "<style scoped>\n",
       "    .dataframe tbody tr th:only-of-type {\n",
       "        vertical-align: middle;\n",
       "    }\n",
       "\n",
       "    .dataframe tbody tr th {\n",
       "        vertical-align: top;\n",
       "    }\n",
       "\n",
       "    .dataframe thead th {\n",
       "        text-align: right;\n",
       "    }\n",
       "</style>\n",
       "<table border=\"1\" class=\"dataframe\">\n",
       "  <thead>\n",
       "    <tr style=\"text-align: right;\">\n",
       "      <th></th>\n",
       "      <th>Order Date</th>\n",
       "      <th>Sales</th>\n",
       "    </tr>\n",
       "  </thead>\n",
       "  <tbody>\n",
       "    <tr>\n",
       "      <th>0</th>\n",
       "      <td>2014-01-06</td>\n",
       "      <td>2573.820</td>\n",
       "    </tr>\n",
       "    <tr>\n",
       "      <th>1</th>\n",
       "      <td>2014-01-07</td>\n",
       "      <td>76.728</td>\n",
       "    </tr>\n",
       "    <tr>\n",
       "      <th>2</th>\n",
       "      <td>2014-01-10</td>\n",
       "      <td>51.940</td>\n",
       "    </tr>\n",
       "    <tr>\n",
       "      <th>3</th>\n",
       "      <td>2014-01-11</td>\n",
       "      <td>9.940</td>\n",
       "    </tr>\n",
       "    <tr>\n",
       "      <th>4</th>\n",
       "      <td>2014-01-13</td>\n",
       "      <td>879.939</td>\n",
       "    </tr>\n",
       "  </tbody>\n",
       "</table>\n",
       "</div>"
      ],
      "text/plain": [
       "  Order Date     Sales\n",
       "0 2014-01-06  2573.820\n",
       "1 2014-01-07    76.728\n",
       "2 2014-01-10    51.940\n",
       "3 2014-01-11     9.940\n",
       "4 2014-01-13   879.939"
      ]
     },
     "execution_count": 433,
     "metadata": {},
     "output_type": "execute_result"
    }
   ],
   "source": [
    "furniture.head() "
   ]
  },
  {
   "cell_type": "code",
   "execution_count": 434,
   "id": "ac33ab46",
   "metadata": {
    "ExecuteTime": {
     "end_time": "2023-07-30T16:46:32.128746Z",
     "start_time": "2023-07-30T16:46:32.123508Z"
    },
    "id": "ac33ab46",
    "outputId": "86402ca5-eb8f-45c7-826e-fa4290ecf5a0"
   },
   "outputs": [
    {
     "data": {
      "text/plain": [
       "RangeIndex(start=0, stop=889, step=1)"
      ]
     },
     "execution_count": 434,
     "metadata": {},
     "output_type": "execute_result"
    }
   ],
   "source": [
    "furniture.index"
   ]
  },
  {
   "cell_type": "code",
   "execution_count": 435,
   "id": "fcc64ecf",
   "metadata": {
    "ExecuteTime": {
     "end_time": "2023-07-30T16:46:32.399656Z",
     "start_time": "2023-07-30T16:46:32.378639Z"
    },
    "id": "fcc64ecf",
    "outputId": "80d56941-55c1-4a43-b4f9-87ca389e2f54"
   },
   "outputs": [
    {
     "data": {
      "text/plain": [
       "DatetimeIndex(['2014-01-06', '2014-01-07', '2014-01-10', '2014-01-11',\n",
       "               '2014-01-13', '2014-01-14', '2014-01-16', '2014-01-19',\n",
       "               '2014-01-20', '2014-01-21',\n",
       "               ...\n",
       "               '2017-12-18', '2017-12-19', '2017-12-21', '2017-12-22',\n",
       "               '2017-12-23', '2017-12-24', '2017-12-25', '2017-12-28',\n",
       "               '2017-12-29', '2017-12-30'],\n",
       "              dtype='datetime64[ns]', name='Order Date', length=889, freq=None)"
      ]
     },
     "execution_count": 435,
     "metadata": {},
     "output_type": "execute_result"
    }
   ],
   "source": [
    "furniture = furniture.set_index('Order Date')\n",
    "furniture.index"
   ]
  },
  {
   "cell_type": "code",
   "execution_count": 436,
   "id": "18e1b53b",
   "metadata": {
    "ExecuteTime": {
     "end_time": "2023-07-30T16:46:32.625782Z",
     "start_time": "2023-07-30T16:46:32.615412Z"
    },
    "id": "18e1b53b",
    "outputId": "f654be3e-05f4-4068-ef27-50693a3b8c60"
   },
   "outputs": [
    {
     "data": {
      "text/html": [
       "<div>\n",
       "<style scoped>\n",
       "    .dataframe tbody tr th:only-of-type {\n",
       "        vertical-align: middle;\n",
       "    }\n",
       "\n",
       "    .dataframe tbody tr th {\n",
       "        vertical-align: top;\n",
       "    }\n",
       "\n",
       "    .dataframe thead th {\n",
       "        text-align: right;\n",
       "    }\n",
       "</style>\n",
       "<table border=\"1\" class=\"dataframe\">\n",
       "  <thead>\n",
       "    <tr style=\"text-align: right;\">\n",
       "      <th></th>\n",
       "      <th>Sales</th>\n",
       "    </tr>\n",
       "    <tr>\n",
       "      <th>Order Date</th>\n",
       "      <th></th>\n",
       "    </tr>\n",
       "  </thead>\n",
       "  <tbody>\n",
       "    <tr>\n",
       "      <th>2014-01-06</th>\n",
       "      <td>2573.820</td>\n",
       "    </tr>\n",
       "    <tr>\n",
       "      <th>2014-01-07</th>\n",
       "      <td>76.728</td>\n",
       "    </tr>\n",
       "    <tr>\n",
       "      <th>2014-01-10</th>\n",
       "      <td>51.940</td>\n",
       "    </tr>\n",
       "    <tr>\n",
       "      <th>2014-01-11</th>\n",
       "      <td>9.940</td>\n",
       "    </tr>\n",
       "    <tr>\n",
       "      <th>2014-01-13</th>\n",
       "      <td>879.939</td>\n",
       "    </tr>\n",
       "  </tbody>\n",
       "</table>\n",
       "</div>"
      ],
      "text/plain": [
       "               Sales\n",
       "Order Date          \n",
       "2014-01-06  2573.820\n",
       "2014-01-07    76.728\n",
       "2014-01-10    51.940\n",
       "2014-01-11     9.940\n",
       "2014-01-13   879.939"
      ]
     },
     "execution_count": 436,
     "metadata": {},
     "output_type": "execute_result"
    }
   ],
   "source": [
    "furniture.head() "
   ]
  },
  {
   "cell_type": "code",
   "execution_count": 437,
   "id": "1093ef17",
   "metadata": {
    "ExecuteTime": {
     "end_time": "2023-07-30T16:46:32.879609Z",
     "start_time": "2023-07-30T16:46:32.854359Z"
    },
    "id": "1093ef17"
   },
   "outputs": [],
   "source": [
    "y = furniture['Sales'].resample('MS').mean()"
   ]
  },
  {
   "cell_type": "code",
   "execution_count": 438,
   "id": "1e637ab3",
   "metadata": {
    "ExecuteTime": {
     "end_time": "2023-07-30T16:46:33.098697Z",
     "start_time": "2023-07-30T16:46:33.084161Z"
    },
    "id": "1e637ab3",
    "outputId": "c55efc7d-95a5-49ff-e808-456b36410972"
   },
   "outputs": [
    {
     "data": {
      "text/plain": [
       "Order Date\n",
       "2014-01-01     480.194231\n",
       "2014-02-01     367.931600\n",
       "2014-03-01     857.291529\n",
       "2014-04-01     567.488357\n",
       "2014-05-01     432.049188\n",
       "2014-06-01     695.059242\n",
       "2014-07-01     601.169500\n",
       "2014-08-01     457.521656\n",
       "2014-09-01     992.353367\n",
       "2014-10-01     769.015437\n",
       "2014-11-01     980.221486\n",
       "2014-12-01    1532.298325\n",
       "2015-01-01     978.328467\n",
       "2015-02-01     522.395667\n",
       "2015-03-01     781.236437\n",
       "2015-04-01     805.822962\n",
       "2015-05-01     624.996700\n",
       "2015-06-01     428.565500\n",
       "2015-07-01     719.706316\n",
       "2015-08-01     602.412012\n",
       "2015-09-01    1382.790684\n",
       "2015-10-01     632.980184\n",
       "2015-11-01    1286.701354\n",
       "2015-12-01    1049.355418\n",
       "Freq: MS, Name: Sales, dtype: float64"
      ]
     },
     "execution_count": 438,
     "metadata": {},
     "output_type": "execute_result"
    }
   ],
   "source": [
    "y['2014':'2015']"
   ]
  },
  {
   "cell_type": "markdown",
   "id": "d8c0ce31",
   "metadata": {
    "id": "071be5ff"
   },
   "source": [
    "## Learning through articles "
   ]
  },
  {
   "cell_type": "markdown",
   "id": "e1926ecd",
   "metadata": {},
   "source": [
    "https://towardsdatascience.com/python-water-quality-eda-and-potability-analysis-ebc1cf553081"
   ]
  },
  {
   "cell_type": "code",
   "execution_count": 439,
   "id": "87802feb",
   "metadata": {
    "ExecuteTime": {
     "end_time": "2023-07-30T16:46:33.789545Z",
     "start_time": "2023-07-30T16:46:33.785957Z"
    },
    "id": "87802feb"
   },
   "outputs": [],
   "source": [
    "# Water Potability Analysis\n",
    "import sys "
   ]
  },
  {
   "cell_type": "code",
   "execution_count": 444,
   "id": "59bffd9b",
   "metadata": {
    "ExecuteTime": {
     "end_time": "2023-07-30T16:46:40.521305Z",
     "start_time": "2023-07-30T16:46:40.516273Z"
    }
   },
   "outputs": [
    {
     "name": "stdout",
     "output_type": "stream",
     "text": [
      "3.10.9 (main, Mar  1 2023, 12:33:47) [Clang 14.0.6 ]\n"
     ]
    }
   ],
   "source": [
    "print(sys.version)"
   ]
  },
  {
   "cell_type": "code",
   "execution_count": 445,
   "id": "dcefc6b6",
   "metadata": {
    "ExecuteTime": {
     "end_time": "2023-07-30T16:46:40.855881Z",
     "start_time": "2023-07-30T16:46:40.851972Z"
    }
   },
   "outputs": [],
   "source": [
    "# import two modules for data analysis\n",
    "import pandas as pd \n",
    "import numpy as np "
   ]
  },
  {
   "cell_type": "code",
   "execution_count": 446,
   "id": "9bff1e1c",
   "metadata": {
    "ExecuteTime": {
     "end_time": "2023-07-30T16:46:41.135820Z",
     "start_time": "2023-07-30T16:46:41.127938Z"
    }
   },
   "outputs": [],
   "source": [
    "# Dataset - Raw file\n",
    "# DataFrame - Tabular Structure "
   ]
  },
  {
   "cell_type": "code",
   "execution_count": 447,
   "id": "14a1b253",
   "metadata": {
    "ExecuteTime": {
     "end_time": "2023-07-30T16:46:41.409719Z",
     "start_time": "2023-07-30T16:46:41.393425Z"
    }
   },
   "outputs": [],
   "source": [
    "df_water = pd.read_csv('water_potability.csv') # A variable that houses the dataframe "
   ]
  },
  {
   "cell_type": "code",
   "execution_count": 448,
   "id": "e16a78df",
   "metadata": {
    "ExecuteTime": {
     "end_time": "2023-07-30T16:46:41.666303Z",
     "start_time": "2023-07-30T16:46:41.647253Z"
    }
   },
   "outputs": [
    {
     "data": {
      "text/html": [
       "<div>\n",
       "<style scoped>\n",
       "    .dataframe tbody tr th:only-of-type {\n",
       "        vertical-align: middle;\n",
       "    }\n",
       "\n",
       "    .dataframe tbody tr th {\n",
       "        vertical-align: top;\n",
       "    }\n",
       "\n",
       "    .dataframe thead th {\n",
       "        text-align: right;\n",
       "    }\n",
       "</style>\n",
       "<table border=\"1\" class=\"dataframe\">\n",
       "  <thead>\n",
       "    <tr style=\"text-align: right;\">\n",
       "      <th></th>\n",
       "      <th>ph</th>\n",
       "      <th>Hardness</th>\n",
       "      <th>Solids</th>\n",
       "      <th>Chloramines</th>\n",
       "      <th>Sulfate</th>\n",
       "      <th>Conductivity</th>\n",
       "      <th>Organic_carbon</th>\n",
       "      <th>Trihalomethanes</th>\n",
       "      <th>Turbidity</th>\n",
       "      <th>Potability</th>\n",
       "    </tr>\n",
       "  </thead>\n",
       "  <tbody>\n",
       "    <tr>\n",
       "      <th>0</th>\n",
       "      <td>NaN</td>\n",
       "      <td>204.890455</td>\n",
       "      <td>20791.318981</td>\n",
       "      <td>7.300212</td>\n",
       "      <td>368.516441</td>\n",
       "      <td>564.308654</td>\n",
       "      <td>10.379783</td>\n",
       "      <td>86.990970</td>\n",
       "      <td>2.963135</td>\n",
       "      <td>0</td>\n",
       "    </tr>\n",
       "    <tr>\n",
       "      <th>1</th>\n",
       "      <td>3.716080</td>\n",
       "      <td>129.422921</td>\n",
       "      <td>18630.057858</td>\n",
       "      <td>6.635246</td>\n",
       "      <td>NaN</td>\n",
       "      <td>592.885359</td>\n",
       "      <td>15.180013</td>\n",
       "      <td>56.329076</td>\n",
       "      <td>4.500656</td>\n",
       "      <td>0</td>\n",
       "    </tr>\n",
       "    <tr>\n",
       "      <th>2</th>\n",
       "      <td>8.099124</td>\n",
       "      <td>224.236259</td>\n",
       "      <td>19909.541732</td>\n",
       "      <td>9.275884</td>\n",
       "      <td>NaN</td>\n",
       "      <td>418.606213</td>\n",
       "      <td>16.868637</td>\n",
       "      <td>66.420093</td>\n",
       "      <td>3.055934</td>\n",
       "      <td>0</td>\n",
       "    </tr>\n",
       "    <tr>\n",
       "      <th>3</th>\n",
       "      <td>8.316766</td>\n",
       "      <td>214.373394</td>\n",
       "      <td>22018.417441</td>\n",
       "      <td>8.059332</td>\n",
       "      <td>356.886136</td>\n",
       "      <td>363.266516</td>\n",
       "      <td>18.436524</td>\n",
       "      <td>100.341674</td>\n",
       "      <td>4.628771</td>\n",
       "      <td>0</td>\n",
       "    </tr>\n",
       "    <tr>\n",
       "      <th>4</th>\n",
       "      <td>9.092223</td>\n",
       "      <td>181.101509</td>\n",
       "      <td>17978.986339</td>\n",
       "      <td>6.546600</td>\n",
       "      <td>310.135738</td>\n",
       "      <td>398.410813</td>\n",
       "      <td>11.558279</td>\n",
       "      <td>31.997993</td>\n",
       "      <td>4.075075</td>\n",
       "      <td>0</td>\n",
       "    </tr>\n",
       "  </tbody>\n",
       "</table>\n",
       "</div>"
      ],
      "text/plain": [
       "         ph    Hardness        Solids  Chloramines     Sulfate  Conductivity  \\\n",
       "0       NaN  204.890455  20791.318981     7.300212  368.516441    564.308654   \n",
       "1  3.716080  129.422921  18630.057858     6.635246         NaN    592.885359   \n",
       "2  8.099124  224.236259  19909.541732     9.275884         NaN    418.606213   \n",
       "3  8.316766  214.373394  22018.417441     8.059332  356.886136    363.266516   \n",
       "4  9.092223  181.101509  17978.986339     6.546600  310.135738    398.410813   \n",
       "\n",
       "   Organic_carbon  Trihalomethanes  Turbidity  Potability  \n",
       "0       10.379783        86.990970   2.963135           0  \n",
       "1       15.180013        56.329076   4.500656           0  \n",
       "2       16.868637        66.420093   3.055934           0  \n",
       "3       18.436524       100.341674   4.628771           0  \n",
       "4       11.558279        31.997993   4.075075           0  "
      ]
     },
     "execution_count": 448,
     "metadata": {},
     "output_type": "execute_result"
    }
   ],
   "source": [
    "df_water.head() # first 5 observations/rows"
   ]
  },
  {
   "cell_type": "code",
   "execution_count": 464,
   "id": "e17d57b3",
   "metadata": {
    "ExecuteTime": {
     "end_time": "2023-07-30T18:17:36.772011Z",
     "start_time": "2023-07-30T18:17:36.738346Z"
    }
   },
   "outputs": [],
   "source": [
    "name = 'febechukwu'"
   ]
  },
  {
   "cell_type": "code",
   "execution_count": 465,
   "id": "7debde7f",
   "metadata": {
    "ExecuteTime": {
     "end_time": "2023-07-30T18:17:55.188914Z",
     "start_time": "2023-07-30T18:17:55.182719Z"
    }
   },
   "outputs": [
    {
     "data": {
      "text/plain": [
       "'FEBECHUKWU'"
      ]
     },
     "execution_count": 465,
     "metadata": {},
     "output_type": "execute_result"
    }
   ],
   "source": [
    "name.upper()"
   ]
  },
  {
   "cell_type": "code",
   "execution_count": 449,
   "id": "2630bfa1",
   "metadata": {
    "ExecuteTime": {
     "end_time": "2023-07-30T16:46:41.911764Z",
     "start_time": "2023-07-30T16:46:41.897552Z"
    }
   },
   "outputs": [
    {
     "data": {
      "text/html": [
       "<div>\n",
       "<style scoped>\n",
       "    .dataframe tbody tr th:only-of-type {\n",
       "        vertical-align: middle;\n",
       "    }\n",
       "\n",
       "    .dataframe tbody tr th {\n",
       "        vertical-align: top;\n",
       "    }\n",
       "\n",
       "    .dataframe thead th {\n",
       "        text-align: right;\n",
       "    }\n",
       "</style>\n",
       "<table border=\"1\" class=\"dataframe\">\n",
       "  <thead>\n",
       "    <tr style=\"text-align: right;\">\n",
       "      <th></th>\n",
       "      <th>ph</th>\n",
       "      <th>Hardness</th>\n",
       "      <th>Solids</th>\n",
       "      <th>Chloramines</th>\n",
       "      <th>Sulfate</th>\n",
       "      <th>Conductivity</th>\n",
       "      <th>Organic_carbon</th>\n",
       "      <th>Trihalomethanes</th>\n",
       "      <th>Turbidity</th>\n",
       "      <th>Potability</th>\n",
       "    </tr>\n",
       "  </thead>\n",
       "  <tbody>\n",
       "    <tr>\n",
       "      <th>3271</th>\n",
       "      <td>4.668102</td>\n",
       "      <td>193.681735</td>\n",
       "      <td>47580.991603</td>\n",
       "      <td>7.166639</td>\n",
       "      <td>359.948574</td>\n",
       "      <td>526.424171</td>\n",
       "      <td>13.894419</td>\n",
       "      <td>66.687695</td>\n",
       "      <td>4.435821</td>\n",
       "      <td>1</td>\n",
       "    </tr>\n",
       "    <tr>\n",
       "      <th>3272</th>\n",
       "      <td>7.808856</td>\n",
       "      <td>193.553212</td>\n",
       "      <td>17329.802160</td>\n",
       "      <td>8.061362</td>\n",
       "      <td>NaN</td>\n",
       "      <td>392.449580</td>\n",
       "      <td>19.903225</td>\n",
       "      <td>NaN</td>\n",
       "      <td>2.798243</td>\n",
       "      <td>1</td>\n",
       "    </tr>\n",
       "    <tr>\n",
       "      <th>3273</th>\n",
       "      <td>9.419510</td>\n",
       "      <td>175.762646</td>\n",
       "      <td>33155.578218</td>\n",
       "      <td>7.350233</td>\n",
       "      <td>NaN</td>\n",
       "      <td>432.044783</td>\n",
       "      <td>11.039070</td>\n",
       "      <td>69.845400</td>\n",
       "      <td>3.298875</td>\n",
       "      <td>1</td>\n",
       "    </tr>\n",
       "    <tr>\n",
       "      <th>3274</th>\n",
       "      <td>5.126763</td>\n",
       "      <td>230.603758</td>\n",
       "      <td>11983.869376</td>\n",
       "      <td>6.303357</td>\n",
       "      <td>NaN</td>\n",
       "      <td>402.883113</td>\n",
       "      <td>11.168946</td>\n",
       "      <td>77.488213</td>\n",
       "      <td>4.708658</td>\n",
       "      <td>1</td>\n",
       "    </tr>\n",
       "    <tr>\n",
       "      <th>3275</th>\n",
       "      <td>7.874671</td>\n",
       "      <td>195.102299</td>\n",
       "      <td>17404.177061</td>\n",
       "      <td>7.509306</td>\n",
       "      <td>NaN</td>\n",
       "      <td>327.459760</td>\n",
       "      <td>16.140368</td>\n",
       "      <td>78.698446</td>\n",
       "      <td>2.309149</td>\n",
       "      <td>1</td>\n",
       "    </tr>\n",
       "  </tbody>\n",
       "</table>\n",
       "</div>"
      ],
      "text/plain": [
       "            ph    Hardness        Solids  Chloramines     Sulfate  \\\n",
       "3271  4.668102  193.681735  47580.991603     7.166639  359.948574   \n",
       "3272  7.808856  193.553212  17329.802160     8.061362         NaN   \n",
       "3273  9.419510  175.762646  33155.578218     7.350233         NaN   \n",
       "3274  5.126763  230.603758  11983.869376     6.303357         NaN   \n",
       "3275  7.874671  195.102299  17404.177061     7.509306         NaN   \n",
       "\n",
       "      Conductivity  Organic_carbon  Trihalomethanes  Turbidity  Potability  \n",
       "3271    526.424171       13.894419        66.687695   4.435821           1  \n",
       "3272    392.449580       19.903225              NaN   2.798243           1  \n",
       "3273    432.044783       11.039070        69.845400   3.298875           1  \n",
       "3274    402.883113       11.168946        77.488213   4.708658           1  \n",
       "3275    327.459760       16.140368        78.698446   2.309149           1  "
      ]
     },
     "execution_count": 449,
     "metadata": {},
     "output_type": "execute_result"
    }
   ],
   "source": [
    "df_water.tail() # Last 5 observations "
   ]
  },
  {
   "cell_type": "code",
   "execution_count": 450,
   "id": "3c11e786",
   "metadata": {
    "ExecuteTime": {
     "end_time": "2023-07-30T16:46:42.137293Z",
     "start_time": "2023-07-30T16:46:42.129708Z"
    }
   },
   "outputs": [
    {
     "data": {
      "text/plain": [
       "(3276, 10)"
      ]
     },
     "execution_count": 450,
     "metadata": {},
     "output_type": "execute_result"
    }
   ],
   "source": [
    "df_water.shape # Attributes"
   ]
  },
  {
   "cell_type": "code",
   "execution_count": 451,
   "id": "f561cdf4",
   "metadata": {
    "ExecuteTime": {
     "end_time": "2023-07-30T16:46:42.391792Z",
     "start_time": "2023-07-30T16:46:42.380533Z"
    }
   },
   "outputs": [
    {
     "name": "stdout",
     "output_type": "stream",
     "text": [
      "<class 'pandas.core.frame.DataFrame'>\n",
      "RangeIndex: 3276 entries, 0 to 3275\n",
      "Data columns (total 10 columns):\n",
      " #   Column           Non-Null Count  Dtype  \n",
      "---  ------           --------------  -----  \n",
      " 0   ph               2785 non-null   float64\n",
      " 1   Hardness         3276 non-null   float64\n",
      " 2   Solids           3276 non-null   float64\n",
      " 3   Chloramines      3276 non-null   float64\n",
      " 4   Sulfate          2495 non-null   float64\n",
      " 5   Conductivity     3276 non-null   float64\n",
      " 6   Organic_carbon   3276 non-null   float64\n",
      " 7   Trihalomethanes  3114 non-null   float64\n",
      " 8   Turbidity        3276 non-null   float64\n",
      " 9   Potability       3276 non-null   int64  \n",
      "dtypes: float64(9), int64(1)\n",
      "memory usage: 256.1 KB\n"
     ]
    }
   ],
   "source": [
    "df_water.info(memory_usage='deep') # A conscised summary"
   ]
  },
  {
   "cell_type": "code",
   "execution_count": 452,
   "id": "83a0a4f2",
   "metadata": {
    "ExecuteTime": {
     "end_time": "2023-07-30T16:46:43.108146Z",
     "start_time": "2023-07-30T16:46:43.101105Z"
    }
   },
   "outputs": [
    {
     "data": {
      "text/plain": [
       "0         NaN\n",
       "1    3.716080\n",
       "2    8.099124\n",
       "3    8.316766\n",
       "4    9.092223\n",
       "Name: ph, dtype: float64"
      ]
     },
     "execution_count": 452,
     "metadata": {},
     "output_type": "execute_result"
    }
   ],
   "source": [
    "# Checking each dataframe feature \n",
    "df_water['ph'].head() "
   ]
  },
  {
   "cell_type": "code",
   "execution_count": 453,
   "id": "8b3c20e6",
   "metadata": {
    "ExecuteTime": {
     "end_time": "2023-07-30T16:46:43.704374Z",
     "start_time": "2023-07-30T16:46:43.693355Z"
    }
   },
   "outputs": [
    {
     "data": {
      "text/plain": [
       "13.999999999999998"
      ]
     },
     "execution_count": 453,
     "metadata": {},
     "output_type": "execute_result"
    }
   ],
   "source": [
    "df_water['ph'].max() "
   ]
  },
  {
   "cell_type": "code",
   "execution_count": 454,
   "id": "cf25f132",
   "metadata": {
    "ExecuteTime": {
     "end_time": "2023-07-30T16:46:44.504690Z",
     "start_time": "2023-07-30T16:46:44.498100Z"
    }
   },
   "outputs": [
    {
     "data": {
      "text/plain": [
       "0.0"
      ]
     },
     "execution_count": 454,
     "metadata": {},
     "output_type": "execute_result"
    }
   ],
   "source": [
    "df_water['ph'].min() "
   ]
  },
  {
   "cell_type": "code",
   "execution_count": 455,
   "id": "ff93bc01",
   "metadata": {
    "ExecuteTime": {
     "end_time": "2023-07-30T16:46:45.178918Z",
     "start_time": "2023-07-30T16:46:45.161190Z"
    }
   },
   "outputs": [
    {
     "data": {
      "text/html": [
       "<div>\n",
       "<style scoped>\n",
       "    .dataframe tbody tr th:only-of-type {\n",
       "        vertical-align: middle;\n",
       "    }\n",
       "\n",
       "    .dataframe tbody tr th {\n",
       "        vertical-align: top;\n",
       "    }\n",
       "\n",
       "    .dataframe thead th {\n",
       "        text-align: right;\n",
       "    }\n",
       "</style>\n",
       "<table border=\"1\" class=\"dataframe\">\n",
       "  <thead>\n",
       "    <tr style=\"text-align: right;\">\n",
       "      <th></th>\n",
       "      <th>ph</th>\n",
       "      <th>Hardness</th>\n",
       "      <th>Solids</th>\n",
       "      <th>Chloramines</th>\n",
       "      <th>Sulfate</th>\n",
       "      <th>Conductivity</th>\n",
       "      <th>Organic_carbon</th>\n",
       "      <th>Trihalomethanes</th>\n",
       "      <th>Turbidity</th>\n",
       "      <th>Potability</th>\n",
       "    </tr>\n",
       "  </thead>\n",
       "  <tbody>\n",
       "    <tr>\n",
       "      <th>0</th>\n",
       "      <td>NaN</td>\n",
       "      <td>204.890455</td>\n",
       "      <td>20791.318981</td>\n",
       "      <td>7.300212</td>\n",
       "      <td>368.516441</td>\n",
       "      <td>564.308654</td>\n",
       "      <td>10.379783</td>\n",
       "      <td>86.99097</td>\n",
       "      <td>2.963135</td>\n",
       "      <td>0</td>\n",
       "    </tr>\n",
       "  </tbody>\n",
       "</table>\n",
       "</div>"
      ],
      "text/plain": [
       "   ph    Hardness        Solids  Chloramines     Sulfate  Conductivity  \\\n",
       "0 NaN  204.890455  20791.318981     7.300212  368.516441    564.308654   \n",
       "\n",
       "   Organic_carbon  Trihalomethanes  Turbidity  Potability  \n",
       "0       10.379783         86.99097   2.963135           0  "
      ]
     },
     "execution_count": 455,
     "metadata": {},
     "output_type": "execute_result"
    }
   ],
   "source": [
    "df_water.head(1)"
   ]
  },
  {
   "cell_type": "code",
   "execution_count": 466,
   "id": "e73777d3",
   "metadata": {
    "ExecuteTime": {
     "end_time": "2023-07-30T18:21:49.049078Z",
     "start_time": "2023-07-30T18:21:49.015753Z"
    }
   },
   "outputs": [
    {
     "data": {
      "text/plain": [
       "136     6.063355\n",
       "600          NaN\n",
       "1784    9.252857\n",
       "3061    3.989032\n",
       "2779    9.454119\n",
       "1334    5.742533\n",
       "366     4.037288\n",
       "2164    7.038092\n",
       "393     6.775583\n",
       "984          NaN\n",
       "1946    6.628427\n",
       "2387    4.901907\n",
       "1138    8.352635\n",
       "1403    7.721033\n",
       "2295         NaN\n",
       "2049    7.096047\n",
       "203     6.284248\n",
       "3009    9.587895\n",
       "563     6.344095\n",
       "99      9.177870\n",
       "1144    5.744504\n",
       "102     8.526170\n",
       "1299    9.619457\n",
       "2988    5.801571\n",
       "224     9.002583\n",
       "98      7.205559\n",
       "3005    8.210358\n",
       "1988         NaN\n",
       "857     5.018046\n",
       "1141    9.305660\n",
       "Name: ph, dtype: float64"
      ]
     },
     "execution_count": 466,
     "metadata": {},
     "output_type": "execute_result"
    }
   ],
   "source": [
    "# Extract Random elements from our dataframe and or Series \n",
    "df_water['ph'].sample(n=30, random_state=1)"
   ]
  },
  {
   "cell_type": "code",
   "execution_count": 467,
   "id": "4755de06",
   "metadata": {
    "ExecuteTime": {
     "end_time": "2023-07-30T18:21:55.352790Z",
     "start_time": "2023-07-30T18:21:55.307738Z"
    }
   },
   "outputs": [],
   "source": [
    "df_water_sample50 = df_water.sample(n=50, random_state=1)"
   ]
  },
  {
   "cell_type": "code",
   "execution_count": 468,
   "id": "e803bd8e",
   "metadata": {
    "ExecuteTime": {
     "end_time": "2023-07-30T18:21:56.479403Z",
     "start_time": "2023-07-30T18:21:56.440660Z"
    }
   },
   "outputs": [
    {
     "data": {
      "text/html": [
       "<div>\n",
       "<style scoped>\n",
       "    .dataframe tbody tr th:only-of-type {\n",
       "        vertical-align: middle;\n",
       "    }\n",
       "\n",
       "    .dataframe tbody tr th {\n",
       "        vertical-align: top;\n",
       "    }\n",
       "\n",
       "    .dataframe thead th {\n",
       "        text-align: right;\n",
       "    }\n",
       "</style>\n",
       "<table border=\"1\" class=\"dataframe\">\n",
       "  <thead>\n",
       "    <tr style=\"text-align: right;\">\n",
       "      <th></th>\n",
       "      <th>ph</th>\n",
       "      <th>Hardness</th>\n",
       "      <th>Solids</th>\n",
       "      <th>Chloramines</th>\n",
       "      <th>Sulfate</th>\n",
       "      <th>Conductivity</th>\n",
       "      <th>Organic_carbon</th>\n",
       "      <th>Trihalomethanes</th>\n",
       "      <th>Turbidity</th>\n",
       "      <th>Potability</th>\n",
       "    </tr>\n",
       "  </thead>\n",
       "  <tbody>\n",
       "    <tr>\n",
       "      <th>136</th>\n",
       "      <td>6.063355</td>\n",
       "      <td>160.767311</td>\n",
       "      <td>14775.145596</td>\n",
       "      <td>7.484104</td>\n",
       "      <td>305.828553</td>\n",
       "      <td>327.270239</td>\n",
       "      <td>12.309016</td>\n",
       "      <td>69.038454</td>\n",
       "      <td>3.467337</td>\n",
       "      <td>0</td>\n",
       "    </tr>\n",
       "    <tr>\n",
       "      <th>600</th>\n",
       "      <td>NaN</td>\n",
       "      <td>233.020134</td>\n",
       "      <td>27071.118618</td>\n",
       "      <td>6.220936</td>\n",
       "      <td>298.112645</td>\n",
       "      <td>357.119622</td>\n",
       "      <td>16.768945</td>\n",
       "      <td>51.284401</td>\n",
       "      <td>4.284879</td>\n",
       "      <td>0</td>\n",
       "    </tr>\n",
       "    <tr>\n",
       "      <th>1784</th>\n",
       "      <td>9.252857</td>\n",
       "      <td>168.040751</td>\n",
       "      <td>50279.262429</td>\n",
       "      <td>5.905056</td>\n",
       "      <td>415.450810</td>\n",
       "      <td>400.003589</td>\n",
       "      <td>11.949854</td>\n",
       "      <td>62.256881</td>\n",
       "      <td>3.300586</td>\n",
       "      <td>0</td>\n",
       "    </tr>\n",
       "    <tr>\n",
       "      <th>3061</th>\n",
       "      <td>3.989032</td>\n",
       "      <td>216.076138</td>\n",
       "      <td>40175.206091</td>\n",
       "      <td>7.487423</td>\n",
       "      <td>309.800796</td>\n",
       "      <td>399.047181</td>\n",
       "      <td>11.186739</td>\n",
       "      <td>86.957464</td>\n",
       "      <td>4.409414</td>\n",
       "      <td>0</td>\n",
       "    </tr>\n",
       "    <tr>\n",
       "      <th>2779</th>\n",
       "      <td>9.454119</td>\n",
       "      <td>224.817132</td>\n",
       "      <td>21379.963927</td>\n",
       "      <td>5.407692</td>\n",
       "      <td>227.665635</td>\n",
       "      <td>431.613001</td>\n",
       "      <td>15.772334</td>\n",
       "      <td>52.033845</td>\n",
       "      <td>4.058626</td>\n",
       "      <td>1</td>\n",
       "    </tr>\n",
       "    <tr>\n",
       "      <th>1334</th>\n",
       "      <td>5.742533</td>\n",
       "      <td>182.941032</td>\n",
       "      <td>21293.889754</td>\n",
       "      <td>6.826413</td>\n",
       "      <td>306.543072</td>\n",
       "      <td>435.234727</td>\n",
       "      <td>11.144072</td>\n",
       "      <td>68.612391</td>\n",
       "      <td>4.272203</td>\n",
       "      <td>0</td>\n",
       "    </tr>\n",
       "    <tr>\n",
       "      <th>366</th>\n",
       "      <td>4.037288</td>\n",
       "      <td>291.461897</td>\n",
       "      <td>52318.917298</td>\n",
       "      <td>7.779459</td>\n",
       "      <td>NaN</td>\n",
       "      <td>401.204271</td>\n",
       "      <td>16.542921</td>\n",
       "      <td>87.814800</td>\n",
       "      <td>3.045049</td>\n",
       "      <td>1</td>\n",
       "    </tr>\n",
       "    <tr>\n",
       "      <th>2164</th>\n",
       "      <td>7.038092</td>\n",
       "      <td>204.923285</td>\n",
       "      <td>24607.088098</td>\n",
       "      <td>8.080156</td>\n",
       "      <td>280.745623</td>\n",
       "      <td>365.845248</td>\n",
       "      <td>10.807557</td>\n",
       "      <td>59.912442</td>\n",
       "      <td>4.237698</td>\n",
       "      <td>0</td>\n",
       "    </tr>\n",
       "    <tr>\n",
       "      <th>393</th>\n",
       "      <td>6.775583</td>\n",
       "      <td>218.414929</td>\n",
       "      <td>17968.882775</td>\n",
       "      <td>8.254115</td>\n",
       "      <td>NaN</td>\n",
       "      <td>358.717677</td>\n",
       "      <td>10.520161</td>\n",
       "      <td>57.244111</td>\n",
       "      <td>4.333636</td>\n",
       "      <td>1</td>\n",
       "    </tr>\n",
       "    <tr>\n",
       "      <th>984</th>\n",
       "      <td>NaN</td>\n",
       "      <td>238.409598</td>\n",
       "      <td>26493.076207</td>\n",
       "      <td>8.669944</td>\n",
       "      <td>311.553679</td>\n",
       "      <td>369.283864</td>\n",
       "      <td>11.759930</td>\n",
       "      <td>91.239299</td>\n",
       "      <td>3.241267</td>\n",
       "      <td>0</td>\n",
       "    </tr>\n",
       "  </tbody>\n",
       "</table>\n",
       "</div>"
      ],
      "text/plain": [
       "            ph    Hardness        Solids  Chloramines     Sulfate  \\\n",
       "136   6.063355  160.767311  14775.145596     7.484104  305.828553   \n",
       "600        NaN  233.020134  27071.118618     6.220936  298.112645   \n",
       "1784  9.252857  168.040751  50279.262429     5.905056  415.450810   \n",
       "3061  3.989032  216.076138  40175.206091     7.487423  309.800796   \n",
       "2779  9.454119  224.817132  21379.963927     5.407692  227.665635   \n",
       "1334  5.742533  182.941032  21293.889754     6.826413  306.543072   \n",
       "366   4.037288  291.461897  52318.917298     7.779459         NaN   \n",
       "2164  7.038092  204.923285  24607.088098     8.080156  280.745623   \n",
       "393   6.775583  218.414929  17968.882775     8.254115         NaN   \n",
       "984        NaN  238.409598  26493.076207     8.669944  311.553679   \n",
       "\n",
       "      Conductivity  Organic_carbon  Trihalomethanes  Turbidity  Potability  \n",
       "136     327.270239       12.309016        69.038454   3.467337           0  \n",
       "600     357.119622       16.768945        51.284401   4.284879           0  \n",
       "1784    400.003589       11.949854        62.256881   3.300586           0  \n",
       "3061    399.047181       11.186739        86.957464   4.409414           0  \n",
       "2779    431.613001       15.772334        52.033845   4.058626           1  \n",
       "1334    435.234727       11.144072        68.612391   4.272203           0  \n",
       "366     401.204271       16.542921        87.814800   3.045049           1  \n",
       "2164    365.845248       10.807557        59.912442   4.237698           0  \n",
       "393     358.717677       10.520161        57.244111   4.333636           1  \n",
       "984     369.283864       11.759930        91.239299   3.241267           0  "
      ]
     },
     "execution_count": 468,
     "metadata": {},
     "output_type": "execute_result"
    }
   ],
   "source": [
    "df_water_sample50.head(10) "
   ]
  },
  {
   "cell_type": "code",
   "execution_count": 469,
   "id": "59433f8a",
   "metadata": {
    "ExecuteTime": {
     "end_time": "2023-07-30T18:22:00.366781Z",
     "start_time": "2023-07-30T18:22:00.323511Z"
    }
   },
   "outputs": [
    {
     "data": {
      "text/html": [
       "<div>\n",
       "<style scoped>\n",
       "    .dataframe tbody tr th:only-of-type {\n",
       "        vertical-align: middle;\n",
       "    }\n",
       "\n",
       "    .dataframe tbody tr th {\n",
       "        vertical-align: top;\n",
       "    }\n",
       "\n",
       "    .dataframe thead th {\n",
       "        text-align: right;\n",
       "    }\n",
       "</style>\n",
       "<table border=\"1\" class=\"dataframe\">\n",
       "  <thead>\n",
       "    <tr style=\"text-align: right;\">\n",
       "      <th></th>\n",
       "      <th>ph</th>\n",
       "      <th>Hardness</th>\n",
       "      <th>Solids</th>\n",
       "      <th>Chloramines</th>\n",
       "      <th>Sulfate</th>\n",
       "      <th>Conductivity</th>\n",
       "      <th>Organic_carbon</th>\n",
       "      <th>Trihalomethanes</th>\n",
       "      <th>Turbidity</th>\n",
       "      <th>Potability</th>\n",
       "    </tr>\n",
       "  </thead>\n",
       "  <tbody>\n",
       "    <tr>\n",
       "      <th>1200</th>\n",
       "      <td>8.016279</td>\n",
       "      <td>211.029304</td>\n",
       "      <td>14034.485799</td>\n",
       "      <td>9.797000</td>\n",
       "      <td>389.338796</td>\n",
       "      <td>491.079082</td>\n",
       "      <td>14.512991</td>\n",
       "      <td>35.565966</td>\n",
       "      <td>4.308223</td>\n",
       "      <td>1</td>\n",
       "    </tr>\n",
       "    <tr>\n",
       "      <th>825</th>\n",
       "      <td>6.839416</td>\n",
       "      <td>166.866970</td>\n",
       "      <td>28508.637800</td>\n",
       "      <td>7.238829</td>\n",
       "      <td>NaN</td>\n",
       "      <td>460.765994</td>\n",
       "      <td>11.378738</td>\n",
       "      <td>73.465133</td>\n",
       "      <td>2.854527</td>\n",
       "      <td>0</td>\n",
       "    </tr>\n",
       "    <tr>\n",
       "      <th>1781</th>\n",
       "      <td>8.141861</td>\n",
       "      <td>210.376561</td>\n",
       "      <td>25433.465015</td>\n",
       "      <td>8.390812</td>\n",
       "      <td>385.236656</td>\n",
       "      <td>321.867474</td>\n",
       "      <td>11.483524</td>\n",
       "      <td>85.300717</td>\n",
       "      <td>4.136950</td>\n",
       "      <td>0</td>\n",
       "    </tr>\n",
       "    <tr>\n",
       "      <th>2596</th>\n",
       "      <td>NaN</td>\n",
       "      <td>172.968203</td>\n",
       "      <td>24445.987540</td>\n",
       "      <td>7.032643</td>\n",
       "      <td>NaN</td>\n",
       "      <td>571.628892</td>\n",
       "      <td>11.549877</td>\n",
       "      <td>56.499207</td>\n",
       "      <td>4.725347</td>\n",
       "      <td>0</td>\n",
       "    </tr>\n",
       "    <tr>\n",
       "      <th>454</th>\n",
       "      <td>8.534407</td>\n",
       "      <td>248.577482</td>\n",
       "      <td>22372.303267</td>\n",
       "      <td>2.993744</td>\n",
       "      <td>366.146249</td>\n",
       "      <td>341.760198</td>\n",
       "      <td>14.692902</td>\n",
       "      <td>78.708937</td>\n",
       "      <td>2.544734</td>\n",
       "      <td>0</td>\n",
       "    </tr>\n",
       "    <tr>\n",
       "      <th>2612</th>\n",
       "      <td>3.854618</td>\n",
       "      <td>131.396253</td>\n",
       "      <td>19639.796002</td>\n",
       "      <td>7.753502</td>\n",
       "      <td>305.382914</td>\n",
       "      <td>456.512274</td>\n",
       "      <td>16.864722</td>\n",
       "      <td>81.526123</td>\n",
       "      <td>4.290435</td>\n",
       "      <td>0</td>\n",
       "    </tr>\n",
       "    <tr>\n",
       "      <th>42</th>\n",
       "      <td>7.145772</td>\n",
       "      <td>238.689929</td>\n",
       "      <td>28780.340432</td>\n",
       "      <td>6.814029</td>\n",
       "      <td>385.975650</td>\n",
       "      <td>332.032706</td>\n",
       "      <td>11.093163</td>\n",
       "      <td>66.138045</td>\n",
       "      <td>5.182591</td>\n",
       "      <td>0</td>\n",
       "    </tr>\n",
       "    <tr>\n",
       "      <th>1213</th>\n",
       "      <td>7.139428</td>\n",
       "      <td>179.234979</td>\n",
       "      <td>19862.811257</td>\n",
       "      <td>8.111958</td>\n",
       "      <td>337.947095</td>\n",
       "      <td>364.523151</td>\n",
       "      <td>17.384471</td>\n",
       "      <td>88.361846</td>\n",
       "      <td>3.771596</td>\n",
       "      <td>1</td>\n",
       "    </tr>\n",
       "    <tr>\n",
       "      <th>2651</th>\n",
       "      <td>8.775047</td>\n",
       "      <td>191.526874</td>\n",
       "      <td>21768.640744</td>\n",
       "      <td>4.751005</td>\n",
       "      <td>387.245552</td>\n",
       "      <td>435.523398</td>\n",
       "      <td>11.875184</td>\n",
       "      <td>56.029098</td>\n",
       "      <td>3.830699</td>\n",
       "      <td>0</td>\n",
       "    </tr>\n",
       "    <tr>\n",
       "      <th>1080</th>\n",
       "      <td>7.603775</td>\n",
       "      <td>214.682778</td>\n",
       "      <td>11459.622445</td>\n",
       "      <td>10.999995</td>\n",
       "      <td>398.920869</td>\n",
       "      <td>321.069074</td>\n",
       "      <td>12.010676</td>\n",
       "      <td>58.100707</td>\n",
       "      <td>3.584985</td>\n",
       "      <td>1</td>\n",
       "    </tr>\n",
       "  </tbody>\n",
       "</table>\n",
       "</div>"
      ],
      "text/plain": [
       "            ph    Hardness        Solids  Chloramines     Sulfate  \\\n",
       "1200  8.016279  211.029304  14034.485799     9.797000  389.338796   \n",
       "825   6.839416  166.866970  28508.637800     7.238829         NaN   \n",
       "1781  8.141861  210.376561  25433.465015     8.390812  385.236656   \n",
       "2596       NaN  172.968203  24445.987540     7.032643         NaN   \n",
       "454   8.534407  248.577482  22372.303267     2.993744  366.146249   \n",
       "2612  3.854618  131.396253  19639.796002     7.753502  305.382914   \n",
       "42    7.145772  238.689929  28780.340432     6.814029  385.975650   \n",
       "1213  7.139428  179.234979  19862.811257     8.111958  337.947095   \n",
       "2651  8.775047  191.526874  21768.640744     4.751005  387.245552   \n",
       "1080  7.603775  214.682778  11459.622445    10.999995  398.920869   \n",
       "\n",
       "      Conductivity  Organic_carbon  Trihalomethanes  Turbidity  Potability  \n",
       "1200    491.079082       14.512991        35.565966   4.308223           1  \n",
       "825     460.765994       11.378738        73.465133   2.854527           0  \n",
       "1781    321.867474       11.483524        85.300717   4.136950           0  \n",
       "2596    571.628892       11.549877        56.499207   4.725347           0  \n",
       "454     341.760198       14.692902        78.708937   2.544734           0  \n",
       "2612    456.512274       16.864722        81.526123   4.290435           0  \n",
       "42      332.032706       11.093163        66.138045   5.182591           0  \n",
       "1213    364.523151       17.384471        88.361846   3.771596           1  \n",
       "2651    435.523398       11.875184        56.029098   3.830699           0  \n",
       "1080    321.069074       12.010676        58.100707   3.584985           1  "
      ]
     },
     "execution_count": 469,
     "metadata": {},
     "output_type": "execute_result"
    }
   ],
   "source": [
    "df_water.sample(n=10, random_state=10)"
   ]
  },
  {
   "cell_type": "code",
   "execution_count": 470,
   "id": "153aa4c3",
   "metadata": {
    "ExecuteTime": {
     "end_time": "2023-07-30T18:22:05.452454Z",
     "start_time": "2023-07-30T18:22:05.418783Z"
    }
   },
   "outputs": [
    {
     "name": "stdout",
     "output_type": "stream",
     "text": [
      "(3276, 10)\n",
      "3276\n",
      "Number of rows: 3276 \n",
      "Number of columns: 10\n"
     ]
    }
   ],
   "source": [
    "# Shape of the DataFrame - shows tuple of (#Rows, #Columns)\n",
    "print(df_water.shape)\n",
    "# Find the number of rows within a DataFrame\n",
    "print(len(df_water))\n",
    "# Extracting information from the shape tuple\n",
    "print(f'Number of rows: {df_water.shape[0]} \\nNumber of columns: {df_water.shape[1]}')"
   ]
  },
  {
   "cell_type": "code",
   "execution_count": 461,
   "id": "97dba750",
   "metadata": {
    "ExecuteTime": {
     "end_time": "2023-07-30T16:46:49.681914Z",
     "start_time": "2023-07-30T16:46:49.675165Z"
    }
   },
   "outputs": [
    {
     "data": {
      "text/plain": [
       "136     6.063355\n",
       "600          NaN\n",
       "1784    9.252857\n",
       "3061    3.989032\n",
       "2779    9.454119\n",
       "1334    5.742533\n",
       "366     4.037288\n",
       "2164    7.038092\n",
       "393     6.775583\n",
       "984          NaN\n",
       "Name: ph, dtype: float64"
      ]
     },
     "execution_count": 461,
     "metadata": {},
     "output_type": "execute_result"
    }
   ],
   "source": [
    "df_water['ph'].sample(n=10, random_state=1)"
   ]
  },
  {
   "cell_type": "code",
   "execution_count": 471,
   "id": "99d1c2f2",
   "metadata": {
    "ExecuteTime": {
     "end_time": "2023-07-30T18:23:55.458241Z",
     "start_time": "2023-07-30T18:23:55.440262Z"
    }
   },
   "outputs": [
    {
     "data": {
      "text/plain": [
       "2218    5.574756\n",
       "1626    6.505066\n",
       "2701    7.822257\n",
       "914     5.791154\n",
       "2362    7.859490\n",
       "2245    5.166226\n",
       "2507    6.894051\n",
       "874          NaN\n",
       "2793    6.336457\n",
       "2269    7.388292\n",
       "Name: ph, dtype: float64"
      ]
     },
     "execution_count": 471,
     "metadata": {},
     "output_type": "execute_result"
    }
   ],
   "source": [
    "df_water['ph'].sample(n=10, random_state=2)"
   ]
  },
  {
   "cell_type": "code",
   "execution_count": null,
   "id": "84580539",
   "metadata": {},
   "outputs": [],
   "source": [
    "# Summary Statistics \n",
    "# It describes the data/distribution/Spread/Central Tendencies \n",
    "# Mean, Median, Range(IQR), Min, Max \n",
    "# Numerical Data - Levels of measurement "
   ]
  },
  {
   "cell_type": "code",
   "execution_count": 472,
   "id": "3dcae6ed",
   "metadata": {
    "ExecuteTime": {
     "end_time": "2023-07-30T18:29:19.100471Z",
     "start_time": "2023-07-30T18:29:19.002825Z"
    }
   },
   "outputs": [
    {
     "data": {
      "text/html": [
       "<div>\n",
       "<style scoped>\n",
       "    .dataframe tbody tr th:only-of-type {\n",
       "        vertical-align: middle;\n",
       "    }\n",
       "\n",
       "    .dataframe tbody tr th {\n",
       "        vertical-align: top;\n",
       "    }\n",
       "\n",
       "    .dataframe thead th {\n",
       "        text-align: right;\n",
       "    }\n",
       "</style>\n",
       "<table border=\"1\" class=\"dataframe\">\n",
       "  <thead>\n",
       "    <tr style=\"text-align: right;\">\n",
       "      <th></th>\n",
       "      <th>ph</th>\n",
       "      <th>Hardness</th>\n",
       "      <th>Solids</th>\n",
       "      <th>Chloramines</th>\n",
       "      <th>Sulfate</th>\n",
       "      <th>Conductivity</th>\n",
       "      <th>Organic_carbon</th>\n",
       "      <th>Trihalomethanes</th>\n",
       "      <th>Turbidity</th>\n",
       "      <th>Potability</th>\n",
       "    </tr>\n",
       "  </thead>\n",
       "  <tbody>\n",
       "    <tr>\n",
       "      <th>count</th>\n",
       "      <td>2785.000000</td>\n",
       "      <td>3276.000000</td>\n",
       "      <td>3276.000000</td>\n",
       "      <td>3276.000000</td>\n",
       "      <td>2495.000000</td>\n",
       "      <td>3276.000000</td>\n",
       "      <td>3276.000000</td>\n",
       "      <td>3114.000000</td>\n",
       "      <td>3276.000000</td>\n",
       "      <td>3276.000000</td>\n",
       "    </tr>\n",
       "    <tr>\n",
       "      <th>mean</th>\n",
       "      <td>7.080795</td>\n",
       "      <td>196.369496</td>\n",
       "      <td>22014.092526</td>\n",
       "      <td>7.122277</td>\n",
       "      <td>333.775777</td>\n",
       "      <td>426.205111</td>\n",
       "      <td>14.284970</td>\n",
       "      <td>66.396293</td>\n",
       "      <td>3.966786</td>\n",
       "      <td>0.390110</td>\n",
       "    </tr>\n",
       "    <tr>\n",
       "      <th>std</th>\n",
       "      <td>1.594320</td>\n",
       "      <td>32.879761</td>\n",
       "      <td>8768.570828</td>\n",
       "      <td>1.583085</td>\n",
       "      <td>41.416840</td>\n",
       "      <td>80.824064</td>\n",
       "      <td>3.308162</td>\n",
       "      <td>16.175008</td>\n",
       "      <td>0.780382</td>\n",
       "      <td>0.487849</td>\n",
       "    </tr>\n",
       "    <tr>\n",
       "      <th>min</th>\n",
       "      <td>0.000000</td>\n",
       "      <td>47.432000</td>\n",
       "      <td>320.942611</td>\n",
       "      <td>0.352000</td>\n",
       "      <td>129.000000</td>\n",
       "      <td>181.483754</td>\n",
       "      <td>2.200000</td>\n",
       "      <td>0.738000</td>\n",
       "      <td>1.450000</td>\n",
       "      <td>0.000000</td>\n",
       "    </tr>\n",
       "    <tr>\n",
       "      <th>25%</th>\n",
       "      <td>6.093092</td>\n",
       "      <td>176.850538</td>\n",
       "      <td>15666.690297</td>\n",
       "      <td>6.127421</td>\n",
       "      <td>307.699498</td>\n",
       "      <td>365.734414</td>\n",
       "      <td>12.065801</td>\n",
       "      <td>55.844536</td>\n",
       "      <td>3.439711</td>\n",
       "      <td>0.000000</td>\n",
       "    </tr>\n",
       "    <tr>\n",
       "      <th>50%</th>\n",
       "      <td>7.036752</td>\n",
       "      <td>196.967627</td>\n",
       "      <td>20927.833607</td>\n",
       "      <td>7.130299</td>\n",
       "      <td>333.073546</td>\n",
       "      <td>421.884968</td>\n",
       "      <td>14.218338</td>\n",
       "      <td>66.622485</td>\n",
       "      <td>3.955028</td>\n",
       "      <td>0.000000</td>\n",
       "    </tr>\n",
       "    <tr>\n",
       "      <th>75%</th>\n",
       "      <td>8.062066</td>\n",
       "      <td>216.667456</td>\n",
       "      <td>27332.762127</td>\n",
       "      <td>8.114887</td>\n",
       "      <td>359.950170</td>\n",
       "      <td>481.792304</td>\n",
       "      <td>16.557652</td>\n",
       "      <td>77.337473</td>\n",
       "      <td>4.500320</td>\n",
       "      <td>1.000000</td>\n",
       "    </tr>\n",
       "    <tr>\n",
       "      <th>max</th>\n",
       "      <td>14.000000</td>\n",
       "      <td>323.124000</td>\n",
       "      <td>61227.196008</td>\n",
       "      <td>13.127000</td>\n",
       "      <td>481.030642</td>\n",
       "      <td>753.342620</td>\n",
       "      <td>28.300000</td>\n",
       "      <td>124.000000</td>\n",
       "      <td>6.739000</td>\n",
       "      <td>1.000000</td>\n",
       "    </tr>\n",
       "  </tbody>\n",
       "</table>\n",
       "</div>"
      ],
      "text/plain": [
       "                ph     Hardness        Solids  Chloramines      Sulfate  \\\n",
       "count  2785.000000  3276.000000   3276.000000  3276.000000  2495.000000   \n",
       "mean      7.080795   196.369496  22014.092526     7.122277   333.775777   \n",
       "std       1.594320    32.879761   8768.570828     1.583085    41.416840   \n",
       "min       0.000000    47.432000    320.942611     0.352000   129.000000   \n",
       "25%       6.093092   176.850538  15666.690297     6.127421   307.699498   \n",
       "50%       7.036752   196.967627  20927.833607     7.130299   333.073546   \n",
       "75%       8.062066   216.667456  27332.762127     8.114887   359.950170   \n",
       "max      14.000000   323.124000  61227.196008    13.127000   481.030642   \n",
       "\n",
       "       Conductivity  Organic_carbon  Trihalomethanes    Turbidity   Potability  \n",
       "count   3276.000000     3276.000000      3114.000000  3276.000000  3276.000000  \n",
       "mean     426.205111       14.284970        66.396293     3.966786     0.390110  \n",
       "std       80.824064        3.308162        16.175008     0.780382     0.487849  \n",
       "min      181.483754        2.200000         0.738000     1.450000     0.000000  \n",
       "25%      365.734414       12.065801        55.844536     3.439711     0.000000  \n",
       "50%      421.884968       14.218338        66.622485     3.955028     0.000000  \n",
       "75%      481.792304       16.557652        77.337473     4.500320     1.000000  \n",
       "max      753.342620       28.300000       124.000000     6.739000     1.000000  "
      ]
     },
     "execution_count": 472,
     "metadata": {},
     "output_type": "execute_result"
    }
   ],
   "source": [
    "df_water.describe() # Summary stats"
   ]
  },
  {
   "cell_type": "code",
   "execution_count": null,
   "id": "fa0b2a2f",
   "metadata": {},
   "outputs": [],
   "source": [
    "# Mean - 7.080795\n",
    "# Median - 7.036752"
   ]
  },
  {
   "cell_type": "code",
   "execution_count": 473,
   "id": "d8120970",
   "metadata": {
    "ExecuteTime": {
     "end_time": "2023-07-30T18:35:16.155951Z",
     "start_time": "2023-07-30T18:35:16.150730Z"
    }
   },
   "outputs": [],
   "source": [
    "first_group_age = [23, 45, 67, 15, 4] # Mean of this - 31years\n",
    "second_group_age = [40, 43, 52, 39, 47] # Mean of this - 44years"
   ]
  },
  {
   "cell_type": "code",
   "execution_count": 474,
   "id": "1963389c",
   "metadata": {
    "ExecuteTime": {
     "end_time": "2023-07-30T18:36:16.403690Z",
     "start_time": "2023-07-30T18:36:16.262414Z"
    }
   },
   "outputs": [],
   "source": [
    "# import a stats module \n",
    "import statistics as st "
   ]
  },
  {
   "cell_type": "code",
   "execution_count": 475,
   "id": "84a269c3",
   "metadata": {
    "ExecuteTime": {
     "end_time": "2023-07-30T18:36:36.900038Z",
     "start_time": "2023-07-30T18:36:36.876269Z"
    }
   },
   "outputs": [
    {
     "data": {
      "text/plain": [
       "30.8"
      ]
     },
     "execution_count": 475,
     "metadata": {},
     "output_type": "execute_result"
    }
   ],
   "source": [
    "# Mean\n",
    "st.mean(first_group_age) "
   ]
  },
  {
   "cell_type": "code",
   "execution_count": 476,
   "id": "1eea0726",
   "metadata": {
    "ExecuteTime": {
     "end_time": "2023-07-30T18:37:18.820328Z",
     "start_time": "2023-07-30T18:37:18.797988Z"
    }
   },
   "outputs": [
    {
     "data": {
      "text/plain": [
       "44.2"
      ]
     },
     "execution_count": 476,
     "metadata": {},
     "output_type": "execute_result"
    }
   ],
   "source": [
    "# Mean\n",
    "st.mean(second_group_age)"
   ]
  },
  {
   "cell_type": "code",
   "execution_count": 477,
   "id": "1ba38f6d",
   "metadata": {
    "ExecuteTime": {
     "end_time": "2023-07-30T18:41:24.274856Z",
     "start_time": "2023-07-30T18:41:24.197986Z"
    }
   },
   "outputs": [
    {
     "data": {
      "text/plain": [
       "23"
      ]
     },
     "execution_count": 477,
     "metadata": {},
     "output_type": "execute_result"
    }
   ],
   "source": [
    "# Median\n",
    "st.median(first_group_age)"
   ]
  },
  {
   "cell_type": "code",
   "execution_count": 478,
   "id": "c253580f",
   "metadata": {
    "ExecuteTime": {
     "end_time": "2023-07-30T18:42:49.880475Z",
     "start_time": "2023-07-30T18:42:49.872398Z"
    }
   },
   "outputs": [
    {
     "data": {
      "text/plain": [
       "43"
      ]
     },
     "execution_count": 478,
     "metadata": {},
     "output_type": "execute_result"
    }
   ],
   "source": [
    "st.median(second_group_age)"
   ]
  },
  {
   "cell_type": "code",
   "execution_count": 479,
   "id": "f56610c3",
   "metadata": {
    "ExecuteTime": {
     "end_time": "2023-07-30T18:50:48.897571Z",
     "start_time": "2023-07-30T18:50:48.886014Z"
    }
   },
   "outputs": [
    {
     "data": {
      "text/plain": [
       "25.203174403237384"
      ]
     },
     "execution_count": 479,
     "metadata": {},
     "output_type": "execute_result"
    }
   ],
   "source": [
    "# Standard deviation for the two groups \n",
    "st.stdev(first_group_age)"
   ]
  },
  {
   "cell_type": "code",
   "execution_count": 480,
   "id": "a500f51b",
   "metadata": {
    "ExecuteTime": {
     "end_time": "2023-07-30T18:52:02.664353Z",
     "start_time": "2023-07-30T18:52:02.654688Z"
    }
   },
   "outputs": [
    {
     "data": {
      "text/plain": [
       "5.357238094391549"
      ]
     },
     "execution_count": 480,
     "metadata": {},
     "output_type": "execute_result"
    }
   ],
   "source": [
    "st.stdev(second_group_age)"
   ]
  },
  {
   "cell_type": "code",
   "execution_count": null,
   "id": "148e9532",
   "metadata": {},
   "outputs": [],
   "source": [
    "# Variables\n",
    "# Data types\n",
    "# Data Structures"
   ]
  },
  {
   "cell_type": "code",
   "execution_count": 481,
   "id": "2cef2909",
   "metadata": {
    "ExecuteTime": {
     "end_time": "2023-07-30T19:01:45.564130Z",
     "start_time": "2023-07-30T19:01:45.308457Z"
    }
   },
   "outputs": [],
   "source": [
    "import seaborn as sns # Module for visualisation"
   ]
  },
  {
   "cell_type": "code",
   "execution_count": 482,
   "id": "3b50c4ad",
   "metadata": {
    "ExecuteTime": {
     "end_time": "2023-07-30T19:03:06.668936Z",
     "start_time": "2023-07-30T19:03:05.506447Z"
    }
   },
   "outputs": [
    {
     "data": {
      "image/png": "[encoded data removed]",
      "text/plain": [
       "<Figure size 500x500 with 1 Axes>"
      ]
     },
     "metadata": {},
     "output_type": "display_data"
    }
   ],
   "source": [
    "sns.displot(data=df_water, x=\"ph\");"
   ]
  },
  {
   "cell_type": "code",
   "execution_count": 484,
   "id": "addb93c7",
   "metadata": {
    "ExecuteTime": {
     "end_time": "2023-07-30T19:05:50.668366Z",
     "start_time": "2023-07-30T19:05:50.107584Z"
    }
   },
   "outputs": [
    {
     "data": {
      "image/png": "[encoded data removed]",
      "text/plain": [
       "<Figure size 500x500 with 1 Axes>"
      ]
     },
     "metadata": {},
     "output_type": "display_data"
    }
   ],
   "source": [
    "sns.displot(data=df_water, x=\"Solids\");"
   ]
  },
  {
   "cell_type": "code",
   "execution_count": null,
   "id": "fe01307b",
   "metadata": {},
   "outputs": [],
   "source": [
    "# Python - Basic Python \n",
    "# Statistics - Descriptive & Inferential \n",
    "# Data Analysis "
   ]
  },
  {
   "cell_type": "code",
   "execution_count": null,
   "id": "e84ad73c",
   "metadata": {},
   "outputs": [],
   "source": []
  },
  {
   "cell_type": "code",
   "execution_count": null,
   "id": "58153b3f",
   "metadata": {},
   "outputs": [],
   "source": []
  },
  {
   "cell_type": "code",
   "execution_count": null,
   "id": "48410856",
   "metadata": {},
   "outputs": [],
   "source": []
  },
  {
   "cell_type": "code",
   "execution_count": 463,
   "id": "e193b75d",
   "metadata": {
    "ExecuteTime": {
     "end_time": "2023-07-30T16:46:50.493329Z",
     "start_time": "2023-07-30T16:46:50.485669Z"
    }
   },
   "outputs": [],
   "source": [
    "# Recommendation System "
   ]
  },
  {
   "cell_type": "markdown",
   "id": "5f95fed2",
   "metadata": {},
   "source": [
    "## Questions"
   ]
  },
  {
   "cell_type": "code",
   "execution_count": null,
   "id": "4bfce9e6",
   "metadata": {},
   "outputs": [],
   "source": [
    "# Why do we import pandas?\n",
    "# Why use pd(alias)"
   ]
  },
  {
   "cell_type": "code",
   "execution_count": 26,
   "id": "57473a6d",
   "metadata": {},
   "outputs": [],
   "source": [
    "import statistics as st "
   ]
  },
  {
   "cell_type": "code",
   "execution_count": 24,
   "id": "5231e998",
   "metadata": {},
   "outputs": [],
   "source": [
    "list_number = [12,34,56]"
   ]
  },
  {
   "cell_type": "code",
   "execution_count": 27,
   "id": "c6c34dae",
   "metadata": {},
   "outputs": [
    {
     "data": {
      "text/plain": [
       "34"
      ]
     },
     "execution_count": 27,
     "metadata": {},
     "output_type": "execute_result"
    }
   ],
   "source": [
    "st.mean(list_number)"
   ]
  },
  {
   "cell_type": "code",
   "execution_count": null,
   "id": "08ffc158",
   "metadata": {},
   "outputs": [],
   "source": [
    "# Cross joins\n",
    "# importing pandas module\n",
    "import pandas as pd\n",
    "\n",
    "# Define a dictionary with column A\n",
    "data1 = {'A': [1, 2]}\n",
    "\n",
    "# Define another dictionary with column B\n",
    "data2 = {'B': ['a', 'b', 'c']}\n",
    "\n",
    "# Convert the dictionary into DataFrame\n",
    "df = pd.DataFrame(data1, index =[0, 1])\n",
    "\n",
    "# Convert the dictionary into DataFrame\n",
    "df1 = pd.DataFrame(data2, index =[2, 3, 4])\n",
    "\n",
    "# Now to perform cross join, we will create\n",
    "# a key column in both the DataFrames to\n",
    "# merge on that key.\n",
    "df['key'] = 1\n",
    "df1['key'] = 1\n",
    "\n",
    "# to obtain the cross join we will merge\n",
    "# on the key and drop it.\n",
    "result = pd.merge(df, df1, on ='key').drop(\"key\", 1)\n",
    "\n",
    "result\n"
   ]
  },
  {
   "cell_type": "code",
   "execution_count": 28,
   "id": "65eafbfb",
   "metadata": {
    "id": "65eafbfb"
   },
   "outputs": [],
   "source": [
    "# Define a dictionary with column A\n",
    "data1 = {'A': [1, 2]}"
   ]
  },
  {
   "cell_type": "code",
   "execution_count": 29,
   "id": "82990ff3",
   "metadata": {
    "id": "82990ff3"
   },
   "outputs": [
    {
     "data": {
      "text/plain": [
       "{'A': [1, 2]}"
      ]
     },
     "execution_count": 29,
     "metadata": {},
     "output_type": "execute_result"
    }
   ],
   "source": [
    "data1"
   ]
  },
  {
   "cell_type": "code",
   "execution_count": 30,
   "id": "81db0f92",
   "metadata": {
    "id": "81db0f92"
   },
   "outputs": [],
   "source": [
    "# Define another dictionary with column B\n",
    "data2 = {'B': ['a', 'b', 'c']}"
   ]
  },
  {
   "cell_type": "code",
   "execution_count": 31,
   "id": "33ebda5a",
   "metadata": {
    "id": "33ebda5a"
   },
   "outputs": [
    {
     "data": {
      "text/plain": [
       "{'B': ['a', 'b', 'c']}"
      ]
     },
     "execution_count": 31,
     "metadata": {},
     "output_type": "execute_result"
    }
   ],
   "source": [
    "data2"
   ]
  },
  {
   "cell_type": "code",
   "execution_count": 32,
   "id": "b16a9ed4",
   "metadata": {},
   "outputs": [],
   "source": [
    "# Convert the dictionary into DataFrame\n",
    "df = pd.DataFrame(data1, index =[0, 1])\n",
    "\n",
    "# Convert the dictionary into DataFrame\n",
    "df1 = pd.DataFrame(data2, index =[2, 3, 4])\n"
   ]
  },
  {
   "cell_type": "code",
   "execution_count": 33,
   "id": "a48da736",
   "metadata": {},
   "outputs": [
    {
     "data": {
      "text/html": [
       "<div>\n",
       "<style scoped>\n",
       "    .dataframe tbody tr th:only-of-type {\n",
       "        vertical-align: middle;\n",
       "    }\n",
       "\n",
       "    .dataframe tbody tr th {\n",
       "        vertical-align: top;\n",
       "    }\n",
       "\n",
       "    .dataframe thead th {\n",
       "        text-align: right;\n",
       "    }\n",
       "</style>\n",
       "<table border=\"1\" class=\"dataframe\">\n",
       "  <thead>\n",
       "    <tr style=\"text-align: right;\">\n",
       "      <th></th>\n",
       "      <th>A</th>\n",
       "    </tr>\n",
       "  </thead>\n",
       "  <tbody>\n",
       "    <tr>\n",
       "      <th>0</th>\n",
       "      <td>1</td>\n",
       "    </tr>\n",
       "    <tr>\n",
       "      <th>1</th>\n",
       "      <td>2</td>\n",
       "    </tr>\n",
       "  </tbody>\n",
       "</table>\n",
       "</div>"
      ],
      "text/plain": [
       "   A\n",
       "0  1\n",
       "1  2"
      ]
     },
     "execution_count": 33,
     "metadata": {},
     "output_type": "execute_result"
    }
   ],
   "source": [
    "df "
   ]
  },
  {
   "cell_type": "code",
   "execution_count": 34,
   "id": "f6186639",
   "metadata": {},
   "outputs": [
    {
     "data": {
      "text/html": [
       "<div>\n",
       "<style scoped>\n",
       "    .dataframe tbody tr th:only-of-type {\n",
       "        vertical-align: middle;\n",
       "    }\n",
       "\n",
       "    .dataframe tbody tr th {\n",
       "        vertical-align: top;\n",
       "    }\n",
       "\n",
       "    .dataframe thead th {\n",
       "        text-align: right;\n",
       "    }\n",
       "</style>\n",
       "<table border=\"1\" class=\"dataframe\">\n",
       "  <thead>\n",
       "    <tr style=\"text-align: right;\">\n",
       "      <th></th>\n",
       "      <th>B</th>\n",
       "    </tr>\n",
       "  </thead>\n",
       "  <tbody>\n",
       "    <tr>\n",
       "      <th>2</th>\n",
       "      <td>a</td>\n",
       "    </tr>\n",
       "    <tr>\n",
       "      <th>3</th>\n",
       "      <td>b</td>\n",
       "    </tr>\n",
       "    <tr>\n",
       "      <th>4</th>\n",
       "      <td>c</td>\n",
       "    </tr>\n",
       "  </tbody>\n",
       "</table>\n",
       "</div>"
      ],
      "text/plain": [
       "   B\n",
       "2  a\n",
       "3  b\n",
       "4  c"
      ]
     },
     "execution_count": 34,
     "metadata": {},
     "output_type": "execute_result"
    }
   ],
   "source": [
    "df1"
   ]
  },
  {
   "cell_type": "code",
   "execution_count": 35,
   "id": "0d0a88a4",
   "metadata": {},
   "outputs": [],
   "source": [
    "# Now to perform cross join, we will create\n",
    "# a key column in both the DataFrames to\n",
    "# merge on that key.\n",
    "df['key'] = 1\n",
    "df1['key'] = 1"
   ]
  },
  {
   "cell_type": "code",
   "execution_count": 36,
   "id": "cc0f9ac1",
   "metadata": {},
   "outputs": [
    {
     "data": {
      "text/html": [
       "<div>\n",
       "<style scoped>\n",
       "    .dataframe tbody tr th:only-of-type {\n",
       "        vertical-align: middle;\n",
       "    }\n",
       "\n",
       "    .dataframe tbody tr th {\n",
       "        vertical-align: top;\n",
       "    }\n",
       "\n",
       "    .dataframe thead th {\n",
       "        text-align: right;\n",
       "    }\n",
       "</style>\n",
       "<table border=\"1\" class=\"dataframe\">\n",
       "  <thead>\n",
       "    <tr style=\"text-align: right;\">\n",
       "      <th></th>\n",
       "      <th>A</th>\n",
       "      <th>key</th>\n",
       "    </tr>\n",
       "  </thead>\n",
       "  <tbody>\n",
       "    <tr>\n",
       "      <th>0</th>\n",
       "      <td>1</td>\n",
       "      <td>1</td>\n",
       "    </tr>\n",
       "    <tr>\n",
       "      <th>1</th>\n",
       "      <td>2</td>\n",
       "      <td>1</td>\n",
       "    </tr>\n",
       "  </tbody>\n",
       "</table>\n",
       "</div>"
      ],
      "text/plain": [
       "   A  key\n",
       "0  1    1\n",
       "1  2    1"
      ]
     },
     "execution_count": 36,
     "metadata": {},
     "output_type": "execute_result"
    }
   ],
   "source": [
    "df "
   ]
  },
  {
   "cell_type": "code",
   "execution_count": 37,
   "id": "d62ee076",
   "metadata": {},
   "outputs": [
    {
     "data": {
      "text/html": [
       "<div>\n",
       "<style scoped>\n",
       "    .dataframe tbody tr th:only-of-type {\n",
       "        vertical-align: middle;\n",
       "    }\n",
       "\n",
       "    .dataframe tbody tr th {\n",
       "        vertical-align: top;\n",
       "    }\n",
       "\n",
       "    .dataframe thead th {\n",
       "        text-align: right;\n",
       "    }\n",
       "</style>\n",
       "<table border=\"1\" class=\"dataframe\">\n",
       "  <thead>\n",
       "    <tr style=\"text-align: right;\">\n",
       "      <th></th>\n",
       "      <th>B</th>\n",
       "      <th>key</th>\n",
       "    </tr>\n",
       "  </thead>\n",
       "  <tbody>\n",
       "    <tr>\n",
       "      <th>2</th>\n",
       "      <td>a</td>\n",
       "      <td>1</td>\n",
       "    </tr>\n",
       "    <tr>\n",
       "      <th>3</th>\n",
       "      <td>b</td>\n",
       "      <td>1</td>\n",
       "    </tr>\n",
       "    <tr>\n",
       "      <th>4</th>\n",
       "      <td>c</td>\n",
       "      <td>1</td>\n",
       "    </tr>\n",
       "  </tbody>\n",
       "</table>\n",
       "</div>"
      ],
      "text/plain": [
       "   B  key\n",
       "2  a    1\n",
       "3  b    1\n",
       "4  c    1"
      ]
     },
     "execution_count": 37,
     "metadata": {},
     "output_type": "execute_result"
    }
   ],
   "source": [
    "df1 "
   ]
  },
  {
   "cell_type": "code",
   "execution_count": 39,
   "id": "a229419d",
   "metadata": {},
   "outputs": [
    {
     "data": {
      "text/html": [
       "<div>\n",
       "<style scoped>\n",
       "    .dataframe tbody tr th:only-of-type {\n",
       "        vertical-align: middle;\n",
       "    }\n",
       "\n",
       "    .dataframe tbody tr th {\n",
       "        vertical-align: top;\n",
       "    }\n",
       "\n",
       "    .dataframe thead th {\n",
       "        text-align: right;\n",
       "    }\n",
       "</style>\n",
       "<table border=\"1\" class=\"dataframe\">\n",
       "  <thead>\n",
       "    <tr style=\"text-align: right;\">\n",
       "      <th></th>\n",
       "      <th>A</th>\n",
       "      <th>key</th>\n",
       "      <th>B</th>\n",
       "    </tr>\n",
       "  </thead>\n",
       "  <tbody>\n",
       "    <tr>\n",
       "      <th>0</th>\n",
       "      <td>1</td>\n",
       "      <td>1</td>\n",
       "      <td>a</td>\n",
       "    </tr>\n",
       "    <tr>\n",
       "      <th>1</th>\n",
       "      <td>1</td>\n",
       "      <td>1</td>\n",
       "      <td>b</td>\n",
       "    </tr>\n",
       "    <tr>\n",
       "      <th>2</th>\n",
       "      <td>1</td>\n",
       "      <td>1</td>\n",
       "      <td>c</td>\n",
       "    </tr>\n",
       "    <tr>\n",
       "      <th>3</th>\n",
       "      <td>2</td>\n",
       "      <td>1</td>\n",
       "      <td>a</td>\n",
       "    </tr>\n",
       "    <tr>\n",
       "      <th>4</th>\n",
       "      <td>2</td>\n",
       "      <td>1</td>\n",
       "      <td>b</td>\n",
       "    </tr>\n",
       "    <tr>\n",
       "      <th>5</th>\n",
       "      <td>2</td>\n",
       "      <td>1</td>\n",
       "      <td>c</td>\n",
       "    </tr>\n",
       "  </tbody>\n",
       "</table>\n",
       "</div>"
      ],
      "text/plain": [
       "   A  key  B\n",
       "0  1    1  a\n",
       "1  1    1  b\n",
       "2  1    1  c\n",
       "3  2    1  a\n",
       "4  2    1  b\n",
       "5  2    1  c"
      ]
     },
     "execution_count": 39,
     "metadata": {},
     "output_type": "execute_result"
    }
   ],
   "source": [
    "# to obtain the cross join we will merge\n",
    "# on the key and drop it.\n",
    "result = pd.merge(df, df1, on ='key')\n",
    "\n",
    "result"
   ]
  },
  {
   "cell_type": "code",
   "execution_count": 40,
   "id": "b12be59a",
   "metadata": {},
   "outputs": [
    {
     "data": {
      "text/html": [
       "<div>\n",
       "<style scoped>\n",
       "    .dataframe tbody tr th:only-of-type {\n",
       "        vertical-align: middle;\n",
       "    }\n",
       "\n",
       "    .dataframe tbody tr th {\n",
       "        vertical-align: top;\n",
       "    }\n",
       "\n",
       "    .dataframe thead th {\n",
       "        text-align: right;\n",
       "    }\n",
       "</style>\n",
       "<table border=\"1\" class=\"dataframe\">\n",
       "  <thead>\n",
       "    <tr style=\"text-align: right;\">\n",
       "      <th></th>\n",
       "      <th>A</th>\n",
       "      <th>B</th>\n",
       "    </tr>\n",
       "  </thead>\n",
       "  <tbody>\n",
       "    <tr>\n",
       "      <th>0</th>\n",
       "      <td>1</td>\n",
       "      <td>a</td>\n",
       "    </tr>\n",
       "    <tr>\n",
       "      <th>1</th>\n",
       "      <td>1</td>\n",
       "      <td>b</td>\n",
       "    </tr>\n",
       "    <tr>\n",
       "      <th>2</th>\n",
       "      <td>1</td>\n",
       "      <td>c</td>\n",
       "    </tr>\n",
       "    <tr>\n",
       "      <th>3</th>\n",
       "      <td>2</td>\n",
       "      <td>a</td>\n",
       "    </tr>\n",
       "    <tr>\n",
       "      <th>4</th>\n",
       "      <td>2</td>\n",
       "      <td>b</td>\n",
       "    </tr>\n",
       "    <tr>\n",
       "      <th>5</th>\n",
       "      <td>2</td>\n",
       "      <td>c</td>\n",
       "    </tr>\n",
       "  </tbody>\n",
       "</table>\n",
       "</div>"
      ],
      "text/plain": [
       "   A  B\n",
       "0  1  a\n",
       "1  1  b\n",
       "2  1  c\n",
       "3  2  a\n",
       "4  2  b\n",
       "5  2  c"
      ]
     },
     "execution_count": 40,
     "metadata": {},
     "output_type": "execute_result"
    }
   ],
   "source": [
    "result.drop(['key'], axis=1)"
   ]
  },
  {
   "cell_type": "code",
   "execution_count": 41,
   "id": "107f9cf6",
   "metadata": {},
   "outputs": [
    {
     "data": {
      "text/plain": [
       "[12, 34, 56]"
      ]
     },
     "execution_count": 41,
     "metadata": {},
     "output_type": "execute_result"
    }
   ],
   "source": [
    "# What numpy can do \n",
    "list_number"
   ]
  },
  {
   "cell_type": "code",
   "execution_count": 42,
   "id": "820ba03f",
   "metadata": {},
   "outputs": [],
   "source": [
    "list_number1 = [77, 15, 90]"
   ]
  },
  {
   "cell_type": "code",
   "execution_count": 43,
   "id": "148d79b2",
   "metadata": {},
   "outputs": [
    {
     "ename": "TypeError",
     "evalue": "can't multiply sequence by non-int of type 'list'",
     "output_type": "error",
     "traceback": [
      "\u001b[0;31m---------------------------------------------------------------------------\u001b[0m",
      "\u001b[0;31mTypeError\u001b[0m                                 Traceback (most recent call last)",
      "Cell \u001b[0;32mIn[43], line 1\u001b[0m\n\u001b[0;32m----> 1\u001b[0m \u001b[43mlist_number\u001b[49m\u001b[43m \u001b[49m\u001b[38;5;241;43m*\u001b[39;49m\u001b[43m \u001b[49m\u001b[43mlist_number1\u001b[49m\n",
      "\u001b[0;31mTypeError\u001b[0m: can't multiply sequence by non-int of type 'list'"
     ]
    }
   ],
   "source": [
    "list_number * list_number1"
   ]
  },
  {
   "cell_type": "code",
   "execution_count": 44,
   "id": "3c70661c",
   "metadata": {},
   "outputs": [],
   "source": [
    "import numpy as np "
   ]
  },
  {
   "cell_type": "code",
   "execution_count": 45,
   "id": "e1626d07",
   "metadata": {},
   "outputs": [],
   "source": [
    "list_number_array = np.array(list_number)"
   ]
  },
  {
   "cell_type": "code",
   "execution_count": 46,
   "id": "80e7b459",
   "metadata": {},
   "outputs": [
    {
     "data": {
      "text/plain": [
       "list"
      ]
     },
     "execution_count": 46,
     "metadata": {},
     "output_type": "execute_result"
    }
   ],
   "source": [
    "type(list_number)"
   ]
  },
  {
   "cell_type": "code",
   "execution_count": 47,
   "id": "72040a98",
   "metadata": {},
   "outputs": [
    {
     "data": {
      "text/plain": [
       "numpy.ndarray"
      ]
     },
     "execution_count": 47,
     "metadata": {},
     "output_type": "execute_result"
    }
   ],
   "source": [
    "type(list_number_array)"
   ]
  },
  {
   "cell_type": "code",
   "execution_count": 48,
   "id": "3f0b4a11",
   "metadata": {},
   "outputs": [
    {
     "data": {
      "text/plain": [
       "array([12, 34, 56])"
      ]
     },
     "execution_count": 48,
     "metadata": {},
     "output_type": "execute_result"
    }
   ],
   "source": [
    "list_number_array"
   ]
  },
  {
   "cell_type": "code",
   "execution_count": 49,
   "id": "7c46aeb9",
   "metadata": {},
   "outputs": [],
   "source": [
    "list_number_array1 = np.array(list_number1)"
   ]
  },
  {
   "cell_type": "code",
   "execution_count": 50,
   "id": "97ce9679",
   "metadata": {},
   "outputs": [
    {
     "data": {
      "text/plain": [
       "array([77, 15, 90])"
      ]
     },
     "execution_count": 50,
     "metadata": {},
     "output_type": "execute_result"
    }
   ],
   "source": [
    "list_number_array1"
   ]
  },
  {
   "cell_type": "code",
   "execution_count": 51,
   "id": "7454ab85",
   "metadata": {},
   "outputs": [
    {
     "data": {
      "text/plain": [
       "array([ 924,  510, 5040])"
      ]
     },
     "execution_count": 51,
     "metadata": {},
     "output_type": "execute_result"
    }
   ],
   "source": [
    "list_number_array * list_number_array1"
   ]
  },
  {
   "cell_type": "code",
   "execution_count": null,
   "id": "f5937ba5",
   "metadata": {},
   "outputs": [],
   "source": []
  },
  {
   "cell_type": "code",
   "execution_count": null,
   "id": "c6e7f902",
   "metadata": {},
   "outputs": [],
   "source": []
  },
  {
   "cell_type": "code",
   "execution_count": null,
   "id": "f36c8cfe",
   "metadata": {},
   "outputs": [],
   "source": []
  },
  {
   "cell_type": "markdown",
   "id": "8bbdb67c",
   "metadata": {
    "id": "8bbdb67c"
   },
   "source": [
    "## Learning Through Documentations\n",
    "\n",
    "\n"
   ]
  },
  {
   "cell_type": "markdown",
   "id": "_va076jhkk27",
   "metadata": {
    "id": "_va076jhkk27"
   },
   "source": [
    "https://seaborn.pydata.org/index.html \n",
    "\n",
    "https://seaborn.pydata.org/tutorial/introduction.html\n",
    "\n",
    "https://seaborn.pydata.org/api.html\n",
    "\n",
    "https://docs.python.org/3/"
   ]
  },
  {
   "cell_type": "code",
   "execution_count": null,
   "id": "1e2c0175",
   "metadata": {
    "id": "1e2c0175"
   },
   "outputs": [],
   "source": [
    "# Data Types - When deciding a visual/chat/graphic to use "
   ]
  },
  {
   "cell_type": "code",
   "execution_count": 5,
   "id": "114fbd6b",
   "metadata": {
    "colab": {
     "base_uri": "https://localhost:8080/",
     "height": 519
    },
    "executionInfo": {
     "elapsed": 2263,
     "status": "ok",
     "timestamp": 1684692018635,
     "user": {
      "displayName": "Peter “Pablo” Okwukogu",
      "userId": "06396506625920949554"
     },
     "user_tz": -60
    },
    "id": "114fbd6b",
    "outputId": "b6c0ef6b-e356-447e-f9fc-bd62e106c863"
   },
   "outputs": [
    {
     "data": {
      "text/plain": [
       "<seaborn.axisgrid.FacetGrid at 0x7f099dc49e40>"
      ]
     },
     "execution_count": 5,
     "metadata": {},
     "output_type": "execute_result"
    },
    {
     "data": {
      "image/png": "[encoded data removed]",
      "text/plain": [
       "<Figure size 1085.82x500 with 2 Axes>"
      ]
     },
     "metadata": {},
     "output_type": "display_data"
    }
   ],
   "source": [
    "# Import seaborn\n",
    "import seaborn as sns\n",
    "\n",
    "# Apply the default theme\n",
    "sns.set_theme()\n",
    "\n",
    "# Load an example dataset\n",
    "tips = sns.load_dataset(\"tips\")\n",
    "\n",
    "# Create a visualization\n",
    "sns.relplot(\n",
    "    data=tips,\n",
    "    x=\"total_bill\", y=\"tip\", col=\"time\",\n",
    "    hue=\"smoker\", style=\"smoker\", size=\"size\",\n",
    ")"
   ]
  },
  {
   "cell_type": "code",
   "execution_count": 4,
   "id": "4605910c",
   "metadata": {
    "executionInfo": {
     "elapsed": 1067,
     "status": "ok",
     "timestamp": 1684692006820,
     "user": {
      "displayName": "Peter “Pablo” Okwukogu",
      "userId": "06396506625920949554"
     },
     "user_tz": -60
    },
    "id": "4605910c"
   },
   "outputs": [],
   "source": [
    "tips = sns.load_dataset('tips')"
   ]
  },
  {
   "cell_type": "code",
   "execution_count": 3,
   "id": "262a7384",
   "metadata": {
    "colab": {
     "base_uri": "https://localhost:8080/"
    },
    "executionInfo": {
     "elapsed": 1500,
     "status": "ok",
     "timestamp": 1684691968282,
     "user": {
      "displayName": "Peter “Pablo” Okwukogu",
      "userId": "06396506625920949554"
     },
     "user_tz": -60
    },
    "id": "262a7384",
    "outputId": "0cd077bd-615e-42af-f50e-912605f2c6c6"
   },
   "outputs": [
    {
     "data": {
      "text/plain": [
       "['anagrams',\n",
       " 'anscombe',\n",
       " 'attention',\n",
       " 'brain_networks',\n",
       " 'car_crashes',\n",
       " 'diamonds',\n",
       " 'dots',\n",
       " 'dowjones',\n",
       " 'exercise',\n",
       " 'flights',\n",
       " 'fmri',\n",
       " 'geyser',\n",
       " 'glue',\n",
       " 'healthexp',\n",
       " 'iris',\n",
       " 'mpg',\n",
       " 'penguins',\n",
       " 'planets',\n",
       " 'seaice',\n",
       " 'taxis',\n",
       " 'tips',\n",
       " 'titanic']"
      ]
     },
     "execution_count": 3,
     "metadata": {},
     "output_type": "execute_result"
    }
   ],
   "source": [
    "sns.get_dataset_names()"
   ]
  },
  {
   "cell_type": "code",
   "execution_count": 6,
   "id": "8779e47d",
   "metadata": {
    "colab": {
     "base_uri": "https://localhost:8080/",
     "height": 206
    },
    "executionInfo": {
     "elapsed": 86,
     "status": "ok",
     "timestamp": 1684692041126,
     "user": {
      "displayName": "Peter “Pablo” Okwukogu",
      "userId": "06396506625920949554"
     },
     "user_tz": -60
    },
    "id": "8779e47d",
    "outputId": "1a07fca5-0655-4b5a-8751-95a340a8080f"
   },
   "outputs": [
    {
     "data": {
      "text/html": [
       "\n",
       "  <div id=\"df-dd83c7cd-2a9b-445d-8a0e-d3d0d3d800cd\">\n",
       "    <div class=\"colab-df-container\">\n",
       "      <div>\n",
       "<style scoped>\n",
       "    .dataframe tbody tr th:only-of-type {\n",
       "        vertical-align: middle;\n",
       "    }\n",
       "\n",
       "    .dataframe tbody tr th {\n",
       "        vertical-align: top;\n",
       "    }\n",
       "\n",
       "    .dataframe thead th {\n",
       "        text-align: right;\n",
       "    }\n",
       "</style>\n",
       "<table border=\"1\" class=\"dataframe\">\n",
       "  <thead>\n",
       "    <tr style=\"text-align: right;\">\n",
       "      <th></th>\n",
       "      <th>total_bill</th>\n",
       "      <th>tip</th>\n",
       "      <th>sex</th>\n",
       "      <th>smoker</th>\n",
       "      <th>day</th>\n",
       "      <th>time</th>\n",
       "      <th>size</th>\n",
       "    </tr>\n",
       "  </thead>\n",
       "  <tbody>\n",
       "    <tr>\n",
       "      <th>0</th>\n",
       "      <td>16.99</td>\n",
       "      <td>1.01</td>\n",
       "      <td>Female</td>\n",
       "      <td>No</td>\n",
       "      <td>Sun</td>\n",
       "      <td>Dinner</td>\n",
       "      <td>2</td>\n",
       "    </tr>\n",
       "    <tr>\n",
       "      <th>1</th>\n",
       "      <td>10.34</td>\n",
       "      <td>1.66</td>\n",
       "      <td>Male</td>\n",
       "      <td>No</td>\n",
       "      <td>Sun</td>\n",
       "      <td>Dinner</td>\n",
       "      <td>3</td>\n",
       "    </tr>\n",
       "    <tr>\n",
       "      <th>2</th>\n",
       "      <td>21.01</td>\n",
       "      <td>3.50</td>\n",
       "      <td>Male</td>\n",
       "      <td>No</td>\n",
       "      <td>Sun</td>\n",
       "      <td>Dinner</td>\n",
       "      <td>3</td>\n",
       "    </tr>\n",
       "    <tr>\n",
       "      <th>3</th>\n",
       "      <td>23.68</td>\n",
       "      <td>3.31</td>\n",
       "      <td>Male</td>\n",
       "      <td>No</td>\n",
       "      <td>Sun</td>\n",
       "      <td>Dinner</td>\n",
       "      <td>2</td>\n",
       "    </tr>\n",
       "    <tr>\n",
       "      <th>4</th>\n",
       "      <td>24.59</td>\n",
       "      <td>3.61</td>\n",
       "      <td>Female</td>\n",
       "      <td>No</td>\n",
       "      <td>Sun</td>\n",
       "      <td>Dinner</td>\n",
       "      <td>4</td>\n",
       "    </tr>\n",
       "  </tbody>\n",
       "</table>\n",
       "</div>\n",
       "      <button class=\"colab-df-convert\" onclick=\"convertToInteractive('df-dd83c7cd-2a9b-445d-8a0e-d3d0d3d800cd')\"\n",
       "              title=\"Convert this dataframe to an interactive table.\"\n",
       "              style=\"display:none;\">\n",
       "        \n",
       "  <svg xmlns=\"http://www.w3.org/2000/svg\" height=\"24px\"viewBox=\"0 0 24 24\"\n",
       "       width=\"24px\">\n",
       "    <path d=\"M0 0h24v24H0V0z\" fill=\"none\"/>\n",
       "    <path d=\"M18.56 5.44l.94 2.06.94-2.06 2.06-.94-2.06-.94-.94-2.06-.94 2.06-2.06.94zm-11 1L8.5 8.5l.94-2.06 2.06-.94-2.06-.94L8.5 2.5l-.94 2.06-2.06.94zm10 10l.94 2.06.94-2.06 2.06-.94-2.06-.94-.94-2.06-.94 2.06-2.06.94z\"/><path d=\"M17.41 7.96l-1.37-1.37c-.4-.4-.92-.59-1.43-.59-.52 0-1.04.2-1.43.59L10.3 9.45l-7.72 7.72c-.78.78-.78 2.05 0 2.83L4 21.41c.39.39.9.59 1.41.59.51 0 1.02-.2 1.41-.59l7.78-7.78 2.81-2.81c.8-.78.8-2.07 0-2.86zM5.41 20L4 18.59l7.72-7.72 1.47 1.35L5.41 20z\"/>\n",
       "  </svg>\n",
       "      </button>\n",
       "      \n",
       "  <style>\n",
       "    .colab-df-container {\n",
       "      display:flex;\n",
       "      flex-wrap:wrap;\n",
       "      gap: 12px;\n",
       "    }\n",
       "\n",
       "    .colab-df-convert {\n",
       "      background-color: #E8F0FE;\n",
       "      border: none;\n",
       "      border-radius: 50%;\n",
       "      cursor: pointer;\n",
       "      display: none;\n",
       "      fill: #1967D2;\n",
       "      height: 32px;\n",
       "      padding: 0 0 0 0;\n",
       "      width: 32px;\n",
       "    }\n",
       "\n",
       "    .colab-df-convert:hover {\n",
       "      background-color: #E2EBFA;\n",
       "      box-shadow: 0px 1px 2px rgba(60, 64, 67, 0.3), 0px 1px 3px 1px rgba(60, 64, 67, 0.15);\n",
       "      fill: #174EA6;\n",
       "    }\n",
       "\n",
       "    [theme=dark] .colab-df-convert {\n",
       "      background-color: #3B4455;\n",
       "      fill: #D2E3FC;\n",
       "    }\n",
       "\n",
       "    [theme=dark] .colab-df-convert:hover {\n",
       "      background-color: #434B5C;\n",
       "      box-shadow: 0px 1px 3px 1px rgba(0, 0, 0, 0.15);\n",
       "      filter: drop-shadow(0px 1px 2px rgba(0, 0, 0, 0.3));\n",
       "      fill: #FFFFFF;\n",
       "    }\n",
       "  </style>\n",
       "\n",
       "      <script>\n",
       "        const buttonEl =\n",
       "          document.querySelector('#df-dd83c7cd-2a9b-445d-8a0e-d3d0d3d800cd button.colab-df-convert');\n",
       "        buttonEl.style.display =\n",
       "          google.colab.kernel.accessAllowed ? 'block' : 'none';\n",
       "\n",
       "        async function convertToInteractive(key) {\n",
       "          const element = document.querySelector('#df-dd83c7cd-2a9b-445d-8a0e-d3d0d3d800cd');\n",
       "          const dataTable =\n",
       "            await google.colab.kernel.invokeFunction('convertToInteractive',\n",
       "                                                     [key], {});\n",
       "          if (!dataTable) return;\n",
       "\n",
       "          const docLinkHtml = 'Like what you see? Visit the ' +\n",
       "            '<a target=\"_blank\" href=https://colab.research.google.com/notebooks/data_table.ipynb>data table notebook</a>'\n",
       "            + ' to learn more about interactive tables.';\n",
       "          element.innerHTML = '';\n",
       "          dataTable['output_type'] = 'display_data';\n",
       "          await google.colab.output.renderOutput(dataTable, element);\n",
       "          const docLink = document.createElement('div');\n",
       "          docLink.innerHTML = docLinkHtml;\n",
       "          element.appendChild(docLink);\n",
       "        }\n",
       "      </script>\n",
       "    </div>\n",
       "  </div>\n",
       "  "
      ],
      "text/plain": [
       "   total_bill   tip     sex smoker  day    time  size\n",
       "0       16.99  1.01  Female     No  Sun  Dinner     2\n",
       "1       10.34  1.66    Male     No  Sun  Dinner     3\n",
       "2       21.01  3.50    Male     No  Sun  Dinner     3\n",
       "3       23.68  3.31    Male     No  Sun  Dinner     2\n",
       "4       24.59  3.61  Female     No  Sun  Dinner     4"
      ]
     },
     "execution_count": 6,
     "metadata": {},
     "output_type": "execute_result"
    }
   ],
   "source": [
    "tips.head() "
   ]
  },
  {
   "cell_type": "code",
   "execution_count": 7,
   "id": "ab286b17",
   "metadata": {
    "colab": {
     "base_uri": "https://localhost:8080/"
    },
    "executionInfo": {
     "elapsed": 67,
     "status": "ok",
     "timestamp": 1684692072088,
     "user": {
      "displayName": "Peter “Pablo” Okwukogu",
      "userId": "06396506625920949554"
     },
     "user_tz": -60
    },
    "id": "ab286b17",
    "outputId": "64cff618-5dd8-4eb1-b31e-90cb5174c83c"
   },
   "outputs": [
    {
     "data": {
      "text/plain": [
       "(244, 7)"
      ]
     },
     "execution_count": 7,
     "metadata": {},
     "output_type": "execute_result"
    }
   ],
   "source": [
    "tips.shape"
   ]
  },
  {
   "cell_type": "code",
   "execution_count": 8,
   "id": "06c4a28d",
   "metadata": {
    "colab": {
     "base_uri": "https://localhost:8080/"
    },
    "executionInfo": {
     "elapsed": 40,
     "status": "ok",
     "timestamp": 1684692206116,
     "user": {
      "displayName": "Peter “Pablo” Okwukogu",
      "userId": "06396506625920949554"
     },
     "user_tz": -60
    },
    "id": "06c4a28d",
    "outputId": "38fbf86d-8188-4877-cc06-7f870ccf102e"
   },
   "outputs": [
    {
     "name": "stdout",
     "output_type": "stream",
     "text": [
      "<class 'pandas.core.frame.DataFrame'>\n",
      "RangeIndex: 244 entries, 0 to 243\n",
      "Data columns (total 7 columns):\n",
      " #   Column      Non-Null Count  Dtype   \n",
      "---  ------      --------------  -----   \n",
      " 0   total_bill  244 non-null    float64 \n",
      " 1   tip         244 non-null    float64 \n",
      " 2   sex         244 non-null    category\n",
      " 3   smoker      244 non-null    category\n",
      " 4   day         244 non-null    category\n",
      " 5   time        244 non-null    category\n",
      " 6   size        244 non-null    int64   \n",
      "dtypes: category(4), float64(2), int64(1)\n",
      "memory usage: 7.4 KB\n"
     ]
    }
   ],
   "source": [
    "tips.info() # Conscise summary of our dataframe"
   ]
  },
  {
   "cell_type": "code",
   "execution_count": 17,
   "id": "rTPbGKxvfi04",
   "metadata": {
    "colab": {
     "base_uri": "https://localhost:8080/"
    },
    "executionInfo": {
     "elapsed": 376,
     "status": "ok",
     "timestamp": 1684692598643,
     "user": {
      "displayName": "Peter “Pablo” Okwukogu",
      "userId": "06396506625920949554"
     },
     "user_tz": -60
    },
    "id": "rTPbGKxvfi04",
    "outputId": "dc86aa9b-06d4-4c3c-918e-1f3334189ec4"
   },
   "outputs": [
    {
     "data": {
      "text/plain": [
       "array([16.99, 10.34, 21.01, 23.68, 24.59, 25.29,  8.77, 26.88, 15.04,\n",
       "       14.78, 10.27, 35.26, 15.42, 18.43, 14.83, 21.58, 10.33, 16.29,\n",
       "       16.97, 20.65, 17.92, 20.29, 15.77, 39.42, 19.82, 17.81, 13.37,\n",
       "       12.69, 21.7 , 19.65,  9.55, 18.35, 15.06, 20.69, 17.78, 24.06,\n",
       "       16.31, 16.93, 18.69, 31.27, 16.04, 17.46, 13.94,  9.68, 30.4 ,\n",
       "       18.29, 22.23, 32.4 , 28.55, 18.04, 12.54, 10.29, 34.81,  9.94,\n",
       "       25.56, 19.49, 38.01, 26.41, 11.24, 48.27, 13.81, 11.02, 17.59,\n",
       "       20.08, 16.45,  3.07, 20.23, 15.01, 12.02, 17.07, 26.86, 25.28,\n",
       "       14.73, 10.51, 27.2 , 22.76, 17.29, 19.44, 16.66, 10.07, 32.68,\n",
       "       15.98, 34.83, 13.03, 18.28, 24.71, 21.16, 28.97, 22.49,  5.75,\n",
       "       16.32, 22.75, 40.17, 27.28, 12.03, 12.46, 11.35, 15.38, 44.3 ,\n",
       "       22.42, 20.92, 15.36, 20.49, 25.21, 18.24, 14.31, 14.  ,  7.25,\n",
       "       38.07, 23.95, 25.71, 17.31, 29.93, 10.65, 12.43, 24.08, 11.69,\n",
       "       13.42, 14.26, 15.95, 12.48, 29.8 ,  8.52, 14.52, 11.38, 22.82,\n",
       "       19.08, 20.27, 11.17, 12.26, 18.26,  8.51, 14.15, 16.  , 13.16,\n",
       "       17.47, 34.3 , 41.19, 27.05, 16.43,  8.35, 18.64, 11.87,  9.78,\n",
       "        7.51, 14.07, 13.13, 17.26, 24.55, 19.77, 29.85, 48.17, 25.  ,\n",
       "       13.39, 16.49, 21.5 , 12.66, 16.21, 17.51, 24.52, 20.76, 31.71,\n",
       "       10.59, 10.63, 50.81, 15.81, 31.85, 16.82, 32.9 , 17.89, 14.48,\n",
       "        9.6 , 34.63, 34.65, 23.33, 45.35, 23.17, 40.55, 20.9 , 30.46,\n",
       "       18.15, 23.1 , 15.69, 19.81, 28.44, 15.48, 16.58,  7.56, 43.11,\n",
       "       13.  , 13.51, 18.71, 12.74, 16.4 , 20.53, 16.47, 26.59, 38.73,\n",
       "       24.27, 12.76, 30.06, 25.89, 48.33, 13.27, 28.17, 12.9 , 28.15,\n",
       "       11.59,  7.74, 30.14, 12.16,  8.58, 16.27, 10.09, 20.45, 13.28,\n",
       "       22.12, 24.01, 11.61, 10.77, 15.53, 12.6 , 32.83, 35.83, 29.03,\n",
       "       27.18, 22.67, 17.82, 18.78])"
      ]
     },
     "execution_count": 17,
     "metadata": {},
     "output_type": "execute_result"
    }
   ],
   "source": [
    "tips['total_bill'].unique() "
   ]
  },
  {
   "cell_type": "code",
   "execution_count": 20,
   "id": "AtivvSvSgeWK",
   "metadata": {
    "colab": {
     "base_uri": "https://localhost:8080/",
     "height": 501
    },
    "executionInfo": {
     "elapsed": 1402,
     "status": "ok",
     "timestamp": 1684692853001,
     "user": {
      "displayName": "Peter “Pablo” Okwukogu",
      "userId": "06396506625920949554"
     },
     "user_tz": -60
    },
    "id": "AtivvSvSgeWK",
    "outputId": "47e918eb-2118-46e7-aece-0d9594397c50"
   },
   "outputs": [
    {
     "data": {
      "image/png": "[encoded data removed]",
      "text/plain": [
       "<Figure size 610.375x500 with 1 Axes>"
      ]
     },
     "metadata": {},
     "output_type": "display_data"
    }
   ],
   "source": [
    "sns.relplot(data=tips, x=tips['total_bill'], y=tips['tip'], hue=tips['sex']);"
   ]
  },
  {
   "cell_type": "code",
   "execution_count": null,
   "id": "3d95e792",
   "metadata": {},
   "outputs": [],
   "source": [
    "# Data Science - Any Professional domain\n",
    "# Accountant, Health Professional, Lawyers, Public Administration \n",
    "# Mathematics, Engineering "
   ]
  },
  {
   "cell_type": "code",
   "execution_count": null,
   "id": "5858ae00",
   "metadata": {},
   "outputs": [],
   "source": [
    "# Level of measurement: Is the attribute a variable has that lets you the mathematical/Statistical implication\n",
    "# Numerical data: Has mathematical & Statistical implication \n",
    "# Python Packages to optimize your tasks "
   ]
  },
  {
   "cell_type": "code",
   "execution_count": 302,
   "id": "c2315643",
   "metadata": {
    "ExecuteTime": {
     "end_time": "2023-06-18T17:53:01.429144Z",
     "start_time": "2023-06-18T17:53:01.415831Z"
    }
   },
   "outputs": [],
   "source": [
    "# Python, Statistics & Data Analysis \n",
    "# Statistics is hard but simple with Python"
   ]
  },
  {
   "cell_type": "code",
   "execution_count": 303,
   "id": "fe8ca1a5",
   "metadata": {
    "ExecuteTime": {
     "end_time": "2023-06-18T17:53:29.814177Z",
     "start_time": "2023-06-18T17:53:29.804924Z"
    }
   },
   "outputs": [
    {
     "data": {
      "text/plain": [
       "[23, 86, 54, 12, 9, 99, 76, 45]"
      ]
     },
     "execution_count": 303,
     "metadata": {},
     "output_type": "execute_result"
    }
   ],
   "source": [
    "list_numbers"
   ]
  },
  {
   "cell_type": "code",
   "execution_count": null,
   "id": "f4ccc2b7",
   "metadata": {},
   "outputs": [],
   "source": [
    "# What is the standard deviation of the elements in this list"
   ]
  },
  {
   "cell_type": "code",
   "execution_count": 304,
   "id": "f87cf6b0",
   "metadata": {
    "ExecuteTime": {
     "end_time": "2023-06-18T17:54:57.571339Z",
     "start_time": "2023-06-18T17:54:57.552271Z"
    }
   },
   "outputs": [],
   "source": [
    "import statistics as st  "
   ]
  },
  {
   "cell_type": "code",
   "execution_count": 305,
   "id": "2bc4aef5",
   "metadata": {
    "ExecuteTime": {
     "end_time": "2023-06-18T17:55:37.811307Z",
     "start_time": "2023-06-18T17:55:37.784780Z"
    }
   },
   "outputs": [
    {
     "data": {
      "text/plain": [
       "34.36360200644197"
      ]
     },
     "execution_count": 305,
     "metadata": {},
     "output_type": "execute_result"
    }
   ],
   "source": [
    "st.stdev(list_numbers)"
   ]
  },
  {
   "cell_type": "code",
   "execution_count": null,
   "id": "8624de03",
   "metadata": {},
   "outputs": [],
   "source": [
    "# Econometrics - Time Series Analysis - PCA - Dimensionality Reduction"
   ]
  },
  {
   "cell_type": "code",
   "execution_count": null,
   "id": "20e1a8ef",
   "metadata": {},
   "outputs": [],
   "source": []
  },
  {
   "cell_type": "code",
   "execution_count": null,
   "id": "150bf3b8",
   "metadata": {},
   "outputs": [],
   "source": [
    "# Python has different data types \n",
    "# Data types are basically the type of objects you store in a variable "
   ]
  },
  {
   "cell_type": "code",
   "execution_count": 322,
   "id": "b516fde9",
   "metadata": {
    "ExecuteTime": {
     "end_time": "2023-06-18T18:40:18.774423Z",
     "start_time": "2023-06-18T18:40:18.769585Z"
    }
   },
   "outputs": [],
   "source": [
    "name_student = \"Olamide\""
   ]
  },
  {
   "cell_type": "code",
   "execution_count": 323,
   "id": "ad1c0a01",
   "metadata": {
    "ExecuteTime": {
     "end_time": "2023-06-18T18:40:52.666486Z",
     "start_time": "2023-06-18T18:40:52.661592Z"
    }
   },
   "outputs": [
    {
     "name": "stdout",
     "output_type": "stream",
     "text": [
      "Olamide\n"
     ]
    }
   ],
   "source": [
    "print(name_student)"
   ]
  },
  {
   "cell_type": "code",
   "execution_count": 324,
   "id": "2f39ac63",
   "metadata": {
    "ExecuteTime": {
     "end_time": "2023-06-18T18:42:21.978851Z",
     "start_time": "2023-06-18T18:42:21.956508Z"
    }
   },
   "outputs": [
    {
     "data": {
      "text/plain": [
       "140675209490800"
      ]
     },
     "execution_count": 324,
     "metadata": {},
     "output_type": "execute_result"
    }
   ],
   "source": [
    "id(name_student)"
   ]
  },
  {
   "cell_type": "code",
   "execution_count": 325,
   "id": "ad32ccd8",
   "metadata": {
    "ExecuteTime": {
     "end_time": "2023-06-18T18:42:58.162155Z",
     "start_time": "2023-06-18T18:42:58.123381Z"
    }
   },
   "outputs": [],
   "source": [
    "name_student = 'Arithmetician'"
   ]
  },
  {
   "cell_type": "code",
   "execution_count": 326,
   "id": "3024be1a",
   "metadata": {
    "ExecuteTime": {
     "end_time": "2023-06-18T18:43:15.899430Z",
     "start_time": "2023-06-18T18:43:15.886677Z"
    }
   },
   "outputs": [
    {
     "data": {
      "text/plain": [
       "140675205102064"
      ]
     },
     "execution_count": 326,
     "metadata": {},
     "output_type": "execute_result"
    }
   ],
   "source": [
    "id(name_student)"
   ]
  },
  {
   "cell_type": "code",
   "execution_count": 327,
   "id": "9f87a603",
   "metadata": {
    "ExecuteTime": {
     "end_time": "2023-06-18T18:44:38.934712Z",
     "start_time": "2023-06-18T18:44:38.909229Z"
    }
   },
   "outputs": [],
   "source": [
    "v = \"Olamide\""
   ]
  },
  {
   "cell_type": "code",
   "execution_count": 328,
   "id": "5fc1ecff",
   "metadata": {
    "ExecuteTime": {
     "end_time": "2023-06-18T18:44:51.934851Z",
     "start_time": "2023-06-18T18:44:51.916729Z"
    }
   },
   "outputs": [],
   "source": [
    "u = \"Olamide\""
   ]
  },
  {
   "cell_type": "code",
   "execution_count": 329,
   "id": "656ef354",
   "metadata": {
    "ExecuteTime": {
     "end_time": "2023-06-18T18:44:58.574696Z",
     "start_time": "2023-06-18T18:44:58.566586Z"
    }
   },
   "outputs": [
    {
     "data": {
      "text/plain": [
       "140675209490800"
      ]
     },
     "execution_count": 329,
     "metadata": {},
     "output_type": "execute_result"
    }
   ],
   "source": [
    "id(v)"
   ]
  },
  {
   "cell_type": "code",
   "execution_count": 330,
   "id": "a009567c",
   "metadata": {
    "ExecuteTime": {
     "end_time": "2023-06-18T18:45:04.786647Z",
     "start_time": "2023-06-18T18:45:04.779591Z"
    }
   },
   "outputs": [
    {
     "data": {
      "text/plain": [
       "140675209490800"
      ]
     },
     "execution_count": 330,
     "metadata": {},
     "output_type": "execute_result"
    }
   ],
   "source": [
    "id(u)"
   ]
  },
  {
   "cell_type": "code",
   "execution_count": null,
   "id": "2093a3bd",
   "metadata": {},
   "outputs": [],
   "source": [
    "# What is the difference between a set, list & tuple\n",
    "# What are their similarities - Data Structures that store and help for retrieval of data\n",
    "# List is mutable - You can modify what is inside a list\n",
    "# Tuple is immutable - You can't change it when you have created \n",
    "# Set is mutable but it is not ordered "
   ]
  },
  {
   "cell_type": "code",
   "execution_count": 335,
   "id": "d8c2e63b",
   "metadata": {
    "ExecuteTime": {
     "end_time": "2023-06-18T18:53:21.495498Z",
     "start_time": "2023-06-18T18:53:21.455101Z"
    }
   },
   "outputs": [],
   "source": [
    "num_list = [1,2,3,4,5,5,5,6] # list"
   ]
  },
  {
   "cell_type": "code",
   "execution_count": 336,
   "id": "6dd28feb",
   "metadata": {
    "ExecuteTime": {
     "end_time": "2023-06-18T18:53:33.237043Z",
     "start_time": "2023-06-18T18:53:33.230463Z"
    }
   },
   "outputs": [],
   "source": [
    "num_tuple = (1,2,3,4,5,5,5,6) # Tuple"
   ]
  },
  {
   "cell_type": "code",
   "execution_count": 337,
   "id": "68a7e57e",
   "metadata": {
    "ExecuteTime": {
     "end_time": "2023-06-18T18:54:44.580722Z",
     "start_time": "2023-06-18T18:54:44.564838Z"
    }
   },
   "outputs": [],
   "source": [
    "num_set = {1,2,3,4,5,5,5,6} # Set"
   ]
  },
  {
   "cell_type": "code",
   "execution_count": 338,
   "id": "1f450aeb",
   "metadata": {
    "ExecuteTime": {
     "end_time": "2023-06-18T18:54:53.736927Z",
     "start_time": "2023-06-18T18:54:53.729894Z"
    }
   },
   "outputs": [
    {
     "name": "stdout",
     "output_type": "stream",
     "text": [
      "[1, 2, 3, 4, 5, 5, 5, 6]\n"
     ]
    }
   ],
   "source": [
    "print(num_list)"
   ]
  },
  {
   "cell_type": "code",
   "execution_count": 339,
   "id": "ce91f704",
   "metadata": {
    "ExecuteTime": {
     "end_time": "2023-06-18T18:55:02.171376Z",
     "start_time": "2023-06-18T18:55:02.145584Z"
    }
   },
   "outputs": [
    {
     "name": "stdout",
     "output_type": "stream",
     "text": [
      "(1, 2, 3, 4, 5, 5, 5, 6)\n"
     ]
    }
   ],
   "source": [
    "print(num_tuple)"
   ]
  },
  {
   "cell_type": "code",
   "execution_count": 342,
   "id": "a78f95c4",
   "metadata": {
    "ExecuteTime": {
     "end_time": "2023-06-18T18:55:26.217102Z",
     "start_time": "2023-06-18T18:55:26.204936Z"
    }
   },
   "outputs": [
    {
     "name": "stdout",
     "output_type": "stream",
     "text": [
      "{1, 2, 3, 4, 5, 6}\n"
     ]
    }
   ],
   "source": [
    "print(num_set)"
   ]
  },
  {
   "cell_type": "code",
   "execution_count": 343,
   "id": "a6b95002",
   "metadata": {
    "ExecuteTime": {
     "end_time": "2023-06-18T18:55:39.532482Z",
     "start_time": "2023-06-18T18:55:39.509987Z"
    }
   },
   "outputs": [
    {
     "data": {
      "text/plain": [
       "{1, 2, 3, 4, 5, 6}"
      ]
     },
     "execution_count": 343,
     "metadata": {},
     "output_type": "execute_result"
    }
   ],
   "source": [
    "num_set"
   ]
  },
  {
   "cell_type": "code",
   "execution_count": null,
   "id": "efa1a188",
   "metadata": {},
   "outputs": [],
   "source": []
  }
 ],
 "metadata": {
  "colab": {
   "provenance": []
  },
  "kernelspec": {
   "display_name": "Python 3 (ipykernel)",
   "language": "python",
   "name": "python3"
  },
  "language_info": {
   "codemirror_mode": {
    "name": "ipython",
    "version": 3
   },
   "file_extension": ".py",
   "mimetype": "text/x-python",
   "name": "python",
   "nbconvert_exporter": "python",
   "pygments_lexer": "ipython3",
   "version": "3.10.9"
  }
 },
 "nbformat": 4,
 "nbformat_minor": 5
}
